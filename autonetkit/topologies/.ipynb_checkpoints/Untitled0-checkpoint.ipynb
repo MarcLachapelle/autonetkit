{
 "metadata": {
  "name": "",
  "signature": "sha256:a4e3dcc9061b2ee4501b5221065fe951ffb3baeeea9e39226350d8dbf1f5f905"
 },
 "nbformat": 3,
 "nbformat_minor": 0,
 "worksheets": []
}