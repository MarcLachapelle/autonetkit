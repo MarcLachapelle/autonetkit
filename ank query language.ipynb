{
 "metadata": {
  "name": ""
 },
 "nbformat": 3,
 "nbformat_minor": 0,
 "worksheets": [
  {
   "cells": [
    {
     "cell_type": "code",
     "collapsed": false,
     "input": [
      "from pyparsing import Word, alphas, nums, alphanums, Suppress, OneOrMore, Group, ZeroOrMore, Literal\n",
      "\n",
      "# create table overlay (directed False, multi_edge False)\n",
      "overlay = Word(alphas +  \"_\")(\"overlay\")\n",
      "category = (Literal(\"nodes\")(\"nodes\") ^ Literal(\"edges\")(\"edges\") ^ Literal(\"ports\")(\"ports\"))\n",
      "overlay_with_category = (overlay + Suppress(\".\") + category)\n",
      "\n",
      "lbrack = Suppress(\"(\")\n",
      "rbrack = Suppress(\")\")\n",
      "sqoute = Suppress(\"'\")\n",
      "\n",
      "#TODO: look for quoted\n",
      "#TODO: define comma suppressed literal\n",
      "\n",
      "\n",
      "create_overlay = (Suppress(\"CREATE OVERLAY\") + overlay)(\"create_overlay\")\n",
      "\n",
      "value = Word(alphanums + \"_\" + \"-\" + \".\")\n",
      "node_keys = Group(value + ZeroOrMore(Suppress(\",\") + value))(\"keys\")\n",
      "node_values = Group(sqoute + value + sqoute + ZeroOrMore(Suppress(\",\") + sqoute + value + sqoute))(\"values\")\n",
      "\n",
      "insert_node = (Suppress(\"INSERT INTO\") + overlay + Suppress(\".\") + Suppress(\"nodes\") + lbrack \n",
      "               + node_keys + rbrack +  \"VALUES\" + lbrack + node_values + rbrack)(\"query\")\n",
      "\n",
      "\n",
      "\n",
      "#####\n",
      "\n",
      "def fn_insert_edge(strg, loc, toks):\n",
      "    data = toks.asDict()\n",
      "    # data.get(\"query\").get(\"values\")\n",
      "    src = data.get(\"src\")\n",
      "    dst = data.get(\"dst\")\n",
      "    overlay = data.get(\"overlay\")\n",
      "    return {\"action\": \"insert_edge\", \"overlay\": overlay,\n",
      "                \"src\": src, \"dst\": dst}\n",
      "    \n",
      "\n",
      "edge_keys = Suppress(\"src, dst\") # TODO: later allow insert by ports too\n",
      "edge_values = sqoute + value(\"src\") + sqoute + Suppress(\",\") + sqoute + value(\"dst\") + sqoute\n",
      "insert_edge = (Suppress(\"INSERT INTO\") + overlay + Suppress(\".\") + Suppress(\"edges\") \n",
      "               + lbrack + edge_keys + rbrack +  \"VALUES\" + lbrack + edge_values.setResultsName(\"values\") + rbrack)(\"query\").setParseAction(fn_insert_edge)\n",
      "\n",
      "where_or_set_element = Group(value.setResultsName(\"key\") + Suppress(\"=\") + value.setResultsName(\"value\"))\n",
      "where_clause = Group(where_or_set_element + ZeroOrMore(Suppress(\"AND\") + where_or_set_element))(\"where\")\n",
      "\n",
      "set_clause = Group(where_or_set_element + ZeroOrMore(Suppress(\",\") + where_or_set_element))(\"set\")\n",
      "\n",
      "\n",
      "def fn_delete_edge(strg, loc, toks):\n",
      "    data = toks.asDict()\n",
      "    print \"keys\", data.keys()\n",
      "    print data.get(\"where\")\n",
      "    overlay = data.get(\"overlay\")\n",
      "    where = data.get(\"where\")\n",
      "    querystring = {x.get(\"key\"): x.get(\"value\") for x in where}\n",
      "    print querystring\n",
      "    #TODO: extract out src, dst, rest of the query string\n",
      "    return {\"action\": \"delete_edge\", \"overlay\": overlay, \"query\": querystring}\n",
      "\n",
      "def fn_update_edge(strg, loc, toks):\n",
      "    data = toks.asDict()\n",
      "    overlay = data.get(\"overlay\")\n",
      "    where = data.get(\"where\")\n",
      "    querystring = {x.get(\"key\"): x.get(\"value\") for x in where}\n",
      "    set_clause = data.get(\"set\")\n",
      "    setstring = {x.get(\"key\"): x.get(\"value\") for x in set_clause}\n",
      "    #TODO: extract out src, dst, rest of the query string\n",
      "    return {\"action\": \"update_edge\", \"overlay\": overlay, \"query\": querystring, \"set\": setstring}\n",
      "\n",
      "       \n",
      "#TODO: also allow edge sets composed of node queries\n",
      "# TODO: allow the parser to be used inside ANK as well (from Python)\n",
      "delete_edge = (Suppress(\"DELETE FROM\") + overlay + Suppress(\".\") + Suppress(\"edges\") \n",
      "               + \"WHERE\" + lbrack + where_clause + rbrack)(\"query\").setParseAction(fn_delete_edge)\n",
      "\n",
      "update_edge = (Suppress(\"UPDATE\") + overlay + Suppress(\".\") + Suppress(\"edges\") \n",
      "               + \"SET\" + set_clause\n",
      "               + \"WHERE\" + lbrack + where_clause + rbrack)(\"query\").setParseAction(fn_update_edge)\n",
      "\n",
      "\n",
      "query = (create_overlay ^ insert_node ^ insert_edge ^ delete_edge ^ update_edge)\n",
      "\n",
      "queries = [\n",
      "           #\"CREATE OVERLAY ospf\",\n",
      "           #\"CREATE OVERLAY ospf_live\",\n",
      "          #  \"INSERT INTO ospf.nodes (id) VALUES ('a', 'b');\",\n",
      "           #\"INSERT INTO ospf.nodes (id) VALUES ('1');\",\n",
      "            #\"INSERT INTO ospf.nodes (id, asn, area) VALUES ('1','2','3');\"\n",
      "            #\"INSERT INTO ospf.nodes (id) VALUES ('1');\",\n",
      "          \"DELETE FROM ospf.edges WHERE (src=iosv-7) ;\",\n",
      "          \"UPDATE ospf.edges SET abc=123,def=456 WHERE (src=iosv-7) ;\",\n",
      "\n",
      "            \"INSERT INTO ospf.edges (src, dst) VALUES ('iosv-6', 'iosv-7');\",\n",
      "            #\"DELETE FROM ospf.edges WHERE (type=physical) ;\",\n",
      "\n",
      "           ]\n",
      "\n",
      "# set results parse action\n",
      "\n",
      "results = []\n",
      "for q in queries:\n",
      "    import pprint\n",
      "    result = query.parseString(q).asDict()\n",
      "    #pprint.pprint(result)\n",
      "    print\n",
      "    print result\n",
      "    results.append(result)\n"
     ],
     "language": "python",
     "metadata": {},
     "outputs": [
      {
       "output_type": "stream",
       "stream": "stdout",
       "text": [
        "keys ['query', 'where', 'overlay']\n",
        "[['src', 'iosv-7']]\n",
        "{'src': 'iosv-7'}\n",
        "\n",
        "{'query': {'action': 'delete_edge', 'query': {'src': 'iosv-7'}, 'overlay': 'ospf'}}\n",
        "keys ['query', 'set', 'where', 'overlay']\n",
        "[['src', 'iosv-7']]\n",
        "\n",
        "{'query': {'action': 'update_edge', 'query': {'src': 'iosv-7'}, 'set': {'abc': '123', 'def': '456'}, 'overlay': 'ospf'}}\n",
        "\n",
        "{'query': {'action': 'insert_edge', 'src': 'iosv-6', 'dst': 'iosv-7', 'overlay': 'ospf'}}\n"
       ]
      }
     ],
     "prompt_number": 15
    },
    {
     "cell_type": "code",
     "collapsed": false,
     "input": [
      "for result in results:\n",
      "    \n",
      "    query_type = result['query']['action']\n",
      "    if query_type == \"delete_edge\":\n",
      "        print result\n",
      "        overlay = result['query']['overlay']\n",
      "        g_overlay = anm[overlay]\n",
      "        query = result['query']['query']\n",
      "        print query\n",
      "        src = query.get(\"src\")\n",
      "        dst = query.get(\"dst\")\n",
      "        try:\n",
      "            del query['src']\n",
      "        except KeyError:\n",
      "            pass\n",
      "\n",
      "        try:\n",
      "            del query['dst']\n",
      "        except KeyError:\n",
      "            pass\n",
      "        \n",
      "        print src\n",
      "        #TODO: remove this once allow direct string query of edges src_bunch and dst_bunch\n",
      "    \n",
      "        src_nbunch = None\n",
      "        try:\n",
      "            src_node = g_in.node(src)\n",
      "            if src_node:\n",
      "                src_nbunch = [src_node]\n",
      "        except:\n",
      "            pass\n",
      "\n",
      "        dst_nbunch = None\n",
      "        try:\n",
      "            dst_node = g_in.node(dst)\n",
      "            if dst_node:\n",
      "                dst_nbunch = [dst_node]\n",
      "        except:\n",
      "            pass\n",
      "\n",
      "        print dst_nbunch\n",
      "\n",
      "        edges = g_overlay.edges(src_nbunch = src_nbunch, dst_nbunch=dst_nbunch, **query)\n",
      "        if len(edges):\n",
      "            print result\n",
      "            g_overlay.remove_edges_from(edges)\n",
      "\n",
      "    elif query_type == \"insert_edge\":\n",
      "        overlay = result['query']['overlay']\n",
      "        g_overlay = anm[overlay]\n",
      "\n",
      "        src = result['query']['src']\n",
      "        dst = result['query']['dst']\n",
      "        src_node = g_overlay.node(src)\n",
      "        dst_node = g_overlay.node(dst)\n",
      "        print src_node, dst_node\n",
      "        print g_overlay\n",
      "        \n",
      "        g_overlay.add_edge(src_node, dst_node)    \n",
      "        print g_overlay.edges()\n",
      "        print len(g_overlay.edges())\n",
      "\n",
      "\n",
      "\n",
      "\n",
      "\n",
      "\n",
      "    import autonetkit\n",
      "    autonetkit.update_vis(anm)\n"
     ],
     "language": "python",
     "metadata": {},
     "outputs": [
      {
       "ename": "NameError",
       "evalue": "name 'anm' is not defined",
       "output_type": "pyerr",
       "traceback": [
        "\u001b[0;31m---------------------------------------------------------------------------\u001b[0m\n\u001b[0;31mNameError\u001b[0m                                 Traceback (most recent call last)",
        "\u001b[0;32m<ipython-input-6-f56ffaad3843>\u001b[0m in \u001b[0;36m<module>\u001b[0;34m()\u001b[0m\n\u001b[1;32m      5\u001b[0m         \u001b[0;32mprint\u001b[0m \u001b[0mresult\u001b[0m\u001b[0;34m\u001b[0m\u001b[0m\n\u001b[1;32m      6\u001b[0m         \u001b[0moverlay\u001b[0m \u001b[0;34m=\u001b[0m \u001b[0mresult\u001b[0m\u001b[0;34m[\u001b[0m\u001b[0;34m'query'\u001b[0m\u001b[0;34m]\u001b[0m\u001b[0;34m[\u001b[0m\u001b[0;34m'overlay'\u001b[0m\u001b[0;34m]\u001b[0m\u001b[0;34m\u001b[0m\u001b[0m\n\u001b[0;32m----> 7\u001b[0;31m         \u001b[0mg_overlay\u001b[0m \u001b[0;34m=\u001b[0m \u001b[0manm\u001b[0m\u001b[0;34m[\u001b[0m\u001b[0moverlay\u001b[0m\u001b[0;34m]\u001b[0m\u001b[0;34m\u001b[0m\u001b[0m\n\u001b[0m\u001b[1;32m      8\u001b[0m         \u001b[0mquery\u001b[0m \u001b[0;34m=\u001b[0m \u001b[0mresult\u001b[0m\u001b[0;34m[\u001b[0m\u001b[0;34m'query'\u001b[0m\u001b[0;34m]\u001b[0m\u001b[0;34m[\u001b[0m\u001b[0;34m'query'\u001b[0m\u001b[0;34m]\u001b[0m\u001b[0;34m\u001b[0m\u001b[0m\n\u001b[1;32m      9\u001b[0m         \u001b[0;32mprint\u001b[0m \u001b[0mquery\u001b[0m\u001b[0;34m\u001b[0m\u001b[0m\n",
        "\u001b[0;31mNameError\u001b[0m: name 'anm' is not defined"
       ]
      },
      {
       "output_type": "stream",
       "stream": "stdout",
       "text": [
        "{'query': {'action': 'delete_edge', 'query': {'src': 'iosv-7'}, 'overlay': 'ospf'}}\n"
       ]
      }
     ],
     "prompt_number": 6
    },
    {
     "cell_type": "code",
     "collapsed": false,
     "input": [
      "print g_in.edges()"
     ],
     "language": "python",
     "metadata": {},
     "outputs": [
      {
       "output_type": "stream",
       "stream": "stdout",
       "text": [
        "[input: (iosxrv-1, iosv-7), input: (iosxrv-1, iosv-3), input: (iosxrv-1, nx-osv-1), input: (iosxrv-1, iosxrv-2), input: (server-1, nx-osv-2), input: (server-1, csr1000v-1), input: (iosv-6, iosv-1), input: (iosv-6, iosv-4), input: (iosv-6, iosxrv-2), input: (csr1000v-1, nx-osv-1), input: (csr1000v-1, iosxrv-2), input: (iosv-2, iosv-5), input: (iosv-2, iosv-7), input: (iosv-2, iosv-3), input: (iosv-8, iosv-5), input: (iosv-8, iosv-3), input: (iosv-8, iosv-4), input: (iosxrv-2, iosv-1), input: (nx-osv-1, nx-osv-2), input: (iosv-4, iosv-3), input: (iosv-3, iosv-1)]\n"
       ]
      }
     ],
     "prompt_number": 195
    },
    {
     "cell_type": "code",
     "collapsed": false,
     "input": [
      "from autonetkit_cisco.wsgi_client import get_virl_to_anm\n",
      "\n",
      "simulation_id = \"Sample_Topologies@multiplatform-CQM4Jf\"\n",
      "\n",
      "server = \"ank-dev\"\n",
      "auth_data = {\n",
      "    'server': server,\n",
      "    'username': \"guest\",\n",
      "    'password': \"guest\",\n",
      "   'sim_id': simulation_id,\n",
      "}\n",
      "\n",
      "anm = get_virl_to_anm(**auth_data)\n",
      "\n",
      "from autonetkit.build_network import apply_design_rules\n",
      "apply_design_rules(anm)\n",
      "\n",
      "\n",
      "import autonetkit\n",
      "autonetkit.update_vis(anm)"
     ],
     "language": "python",
     "metadata": {},
     "outputs": [
      {
       "output_type": "stream",
       "stream": "stderr",
       "text": [
        "INFO Getting VIRL as ANM\n"
       ]
      },
      {
       "output_type": "stream",
       "stream": "stderr",
       "text": [
        "INFO:ANK:Getting VIRL as ANM\n"
       ]
      },
      {
       "output_type": "stream",
       "stream": "stderr",
       "text": [
        "INFO Getting VIRL file\n"
       ]
      },
      {
       "output_type": "stream",
       "stream": "stderr",
       "text": [
        "INFO:ANK:Getting VIRL file\n"
       ]
      },
      {
       "output_type": "stream",
       "stream": "stderr",
       "text": [
        "INFO Returning VIRL file\n"
       ]
      },
      {
       "output_type": "stream",
       "stream": "stderr",
       "text": [
        "INFO:ANK:Returning VIRL file\n"
       ]
      },
      {
       "output_type": "stream",
       "stream": "stderr",
       "text": [
        "INFO Converting graph input to undirected\n"
       ]
      },
      {
       "output_type": "stream",
       "stream": "stderr",
       "text": [
        "INFO:ANK:Converting graph input to undirected\n"
       ]
      },
      {
       "output_type": "stream",
       "stream": "stderr",
       "text": [
        "INFO Returning VIRL as ANM\n"
       ]
      },
      {
       "output_type": "stream",
       "stream": "stderr",
       "text": [
        "INFO:ANK:Returning VIRL as ANM\n"
       ]
      },
      {
       "output_type": "stream",
       "stream": "stderr",
       "text": [
        "INFO Building overlay topologies\n"
       ]
      },
      {
       "output_type": "stream",
       "stream": "stderr",
       "text": [
        "INFO:ANK:Building overlay topologies\n"
       ]
      },
      {
       "output_type": "stream",
       "stream": "stderr",
       "text": [
        "INFO Building layer2\n"
       ]
      },
      {
       "output_type": "stream",
       "stream": "stderr",
       "text": [
        "INFO:ANK:Building layer2\n"
       ]
      },
      {
       "output_type": "stream",
       "stream": "stderr",
       "text": [
        "INFO Building layer3\n"
       ]
      },
      {
       "output_type": "stream",
       "stream": "stderr",
       "text": [
        "INFO:ANK:Building layer3\n"
       ]
      },
      {
       "output_type": "stream",
       "stream": "stderr",
       "text": [
        "INFO Allocating IP addresses\n"
       ]
      },
      {
       "output_type": "stream",
       "stream": "stderr",
       "text": [
        "INFO:ANK:Allocating IP addresses\n"
       ]
      },
      {
       "output_type": "stream",
       "stream": "stderr",
       "text": [
        "INFO IPv4 allocations: Infrastructure: 10.0.0.0/8, Loopback: 192.168.0.0/16\n"
       ]
      },
      {
       "output_type": "stream",
       "stream": "stderr",
       "text": [
        "INFO:ANK:IPv4 allocations: Infrastructure: 10.0.0.0/8, Loopback: 192.168.0.0/16\n"
       ]
      },
      {
       "output_type": "stream",
       "stream": "stderr",
       "text": [
        "INFO Using specified IPv4 infrastructure allocation\n"
       ]
      },
      {
       "output_type": "stream",
       "stream": "stderr",
       "text": [
        "INFO:ANK:Using specified IPv4 infrastructure allocation\n"
       ]
      },
      {
       "output_type": "stream",
       "stream": "stderr",
       "text": [
        "INFO Building IGP\n"
       ]
      },
      {
       "output_type": "stream",
       "stream": "stderr",
       "text": [
        "INFO:ANK:Building IGP\n"
       ]
      },
      {
       "output_type": "stream",
       "stream": "stderr",
       "text": [
        "INFO Building BGP\n"
       ]
      },
      {
       "output_type": "stream",
       "stream": "stderr",
       "text": [
        "INFO:ANK:Building BGP\n"
       ]
      },
      {
       "output_type": "stream",
       "stream": "stderr",
       "text": [
        "INFO Building eBGP\n"
       ]
      },
      {
       "output_type": "stream",
       "stream": "stderr",
       "text": [
        "INFO:ANK:Building eBGP\n"
       ]
      },
      {
       "output_type": "stream",
       "stream": "stderr",
       "text": [
        "INFO Building iBGP\n"
       ]
      },
      {
       "output_type": "stream",
       "stream": "stderr",
       "text": [
        "INFO:ANK:Building iBGP\n"
       ]
      },
      {
       "output_type": "stream",
       "stream": "stderr",
       "text": [
        "WARNING [Overlay: ibgp_v4]: Not adding edge bgp: (server-1, iosxrv-1), src/dst not in overlay\n"
       ]
      },
      {
       "output_type": "stream",
       "stream": "stderr",
       "text": [
        "WARNING:ANK:[Overlay: ibgp_v4]: Not adding edge bgp: (server-1, iosxrv-1), src/dst not in overlay\n"
       ]
      },
      {
       "output_type": "stream",
       "stream": "stderr",
       "text": [
        "WARNING [Overlay: ibgp_v4]: Not adding edge bgp: (server-1, iosv-6), src/dst not in overlay\n"
       ]
      },
      {
       "output_type": "stream",
       "stream": "stderr",
       "text": [
        "WARNING:ANK:[Overlay: ibgp_v4]: Not adding edge bgp: (server-1, iosv-6), src/dst not in overlay\n"
       ]
      },
      {
       "output_type": "stream",
       "stream": "stderr",
       "text": [
        "WARNING [Overlay: ibgp_v4]: Not adding edge bgp: (server-1, csr1000v-1), src/dst not in overlay\n"
       ]
      },
      {
       "output_type": "stream",
       "stream": "stderr",
       "text": [
        "WARNING:ANK:[Overlay: ibgp_v4]: Not adding edge bgp: (server-1, csr1000v-1), src/dst not in overlay\n"
       ]
      },
      {
       "output_type": "stream",
       "stream": "stderr",
       "text": [
        "WARNING [Overlay: ibgp_v4]: Not adding edge bgp: (server-1, iosv-2), src/dst not in overlay\n"
       ]
      },
      {
       "output_type": "stream",
       "stream": "stderr",
       "text": [
        "WARNING:ANK:[Overlay: ibgp_v4]: Not adding edge bgp: (server-1, iosv-2), src/dst not in overlay\n"
       ]
      },
      {
       "output_type": "stream",
       "stream": "stderr",
       "text": [
        "WARNING [Overlay: ibgp_v4]: Not adding edge bgp: (server-1, iosv-8), src/dst not in overlay\n"
       ]
      },
      {
       "output_type": "stream",
       "stream": "stderr",
       "text": [
        "WARNING:ANK:[Overlay: ibgp_v4]: Not adding edge bgp: (server-1, iosv-8), src/dst not in overlay\n"
       ]
      },
      {
       "output_type": "stream",
       "stream": "stderr",
       "text": [
        "WARNING [Overlay: ibgp_v4]: Not adding edge bgp: (server-1, iosxrv-2), src/dst not in overlay\n"
       ]
      },
      {
       "output_type": "stream",
       "stream": "stderr",
       "text": [
        "WARNING:ANK:[Overlay: ibgp_v4]: Not adding edge bgp: (server-1, iosxrv-2), src/dst not in overlay\n"
       ]
      },
      {
       "output_type": "stream",
       "stream": "stderr",
       "text": [
        "WARNING [Overlay: ibgp_v4]: Not adding edge bgp: (server-1, iosv-7), src/dst not in overlay\n"
       ]
      },
      {
       "output_type": "stream",
       "stream": "stderr",
       "text": [
        "WARNING:ANK:[Overlay: ibgp_v4]: Not adding edge bgp: (server-1, iosv-7), src/dst not in overlay\n"
       ]
      },
      {
       "output_type": "stream",
       "stream": "stderr",
       "text": [
        "WARNING [Overlay: ibgp_v4]: Not adding edge bgp: (server-1, iosv-4), src/dst not in overlay\n"
       ]
      },
      {
       "output_type": "stream",
       "stream": "stderr",
       "text": [
        "WARNING:ANK:[Overlay: ibgp_v4]: Not adding edge bgp: (server-1, iosv-4), src/dst not in overlay\n"
       ]
      },
      {
       "output_type": "stream",
       "stream": "stderr",
       "text": [
        "WARNING [Overlay: ibgp_v4]: Not adding edge bgp: (server-1, iosv-3), src/dst not in overlay\n"
       ]
      },
      {
       "output_type": "stream",
       "stream": "stderr",
       "text": [
        "WARNING:ANK:[Overlay: ibgp_v4]: Not adding edge bgp: (server-1, iosv-3), src/dst not in overlay\n"
       ]
      },
      {
       "output_type": "stream",
       "stream": "stderr",
       "text": [
        "WARNING [Overlay: ibgp_v4]: Not adding edge bgp: (server-1, iosv-5), src/dst not in overlay\n"
       ]
      },
      {
       "output_type": "stream",
       "stream": "stderr",
       "text": [
        "WARNING:ANK:[Overlay: ibgp_v4]: Not adding edge bgp: (server-1, iosv-5), src/dst not in overlay\n"
       ]
      },
      {
       "output_type": "stream",
       "stream": "stderr",
       "text": [
        "WARNING [Overlay: ibgp_v4]: Not adding edge bgp: (server-1, nx-osv-1), src/dst not in overlay\n"
       ]
      },
      {
       "output_type": "stream",
       "stream": "stderr",
       "text": [
        "WARNING:ANK:[Overlay: ibgp_v4]: Not adding edge bgp: (server-1, nx-osv-1), src/dst not in overlay\n"
       ]
      },
      {
       "output_type": "stream",
       "stream": "stderr",
       "text": [
        "WARNING [Overlay: ibgp_v4]: Not adding edge bgp: (server-1, nx-osv-2), src/dst not in overlay\n"
       ]
      },
      {
       "output_type": "stream",
       "stream": "stderr",
       "text": [
        "WARNING:ANK:[Overlay: ibgp_v4]: Not adding edge bgp: (server-1, nx-osv-2), src/dst not in overlay\n"
       ]
      },
      {
       "output_type": "stream",
       "stream": "stderr",
       "text": [
        "WARNING [Overlay: ibgp_v4]: Not adding edge bgp: (server-1, iosv-1), src/dst not in overlay\n"
       ]
      },
      {
       "output_type": "stream",
       "stream": "stderr",
       "text": [
        "WARNING:ANK:[Overlay: ibgp_v4]: Not adding edge bgp: (server-1, iosv-1), src/dst not in overlay\n"
       ]
      },
      {
       "output_type": "stream",
       "stream": "stderr",
       "text": [
        "WARNING [Overlay: ibgp_v4]: Not adding edge bgp: (iosv-6, server-1), src/dst not in overlay\n"
       ]
      },
      {
       "output_type": "stream",
       "stream": "stderr",
       "text": [
        "WARNING:ANK:[Overlay: ibgp_v4]: Not adding edge bgp: (iosv-6, server-1), src/dst not in overlay\n"
       ]
      },
      {
       "output_type": "stream",
       "stream": "stderr",
       "text": [
        "WARNING [Overlay: ibgp_v4]: Not adding edge bgp: (iosv-7, server-1), src/dst not in overlay\n"
       ]
      },
      {
       "output_type": "stream",
       "stream": "stderr",
       "text": [
        "WARNING:ANK:[Overlay: ibgp_v4]: Not adding edge bgp: (iosv-7, server-1), src/dst not in overlay\n"
       ]
      },
      {
       "output_type": "stream",
       "stream": "stderr",
       "text": [
        "WARNING [Overlay: ibgp_v4]: Not adding edge bgp: (csr1000v-1, server-1), src/dst not in overlay\n"
       ]
      },
      {
       "output_type": "stream",
       "stream": "stderr",
       "text": [
        "WARNING:ANK:[Overlay: ibgp_v4]: Not adding edge bgp: (csr1000v-1, server-1), src/dst not in overlay\n"
       ]
      },
      {
       "output_type": "stream",
       "stream": "stderr",
       "text": [
        "WARNING [Overlay: ibgp_v4]: Not adding edge bgp: (iosv-2, server-1), src/dst not in overlay\n"
       ]
      },
      {
       "output_type": "stream",
       "stream": "stderr",
       "text": [
        "WARNING:ANK:[Overlay: ibgp_v4]: Not adding edge bgp: (iosv-2, server-1), src/dst not in overlay\n"
       ]
      },
      {
       "output_type": "stream",
       "stream": "stderr",
       "text": [
        "WARNING [Overlay: ibgp_v4]: Not adding edge bgp: (iosv-8, server-1), src/dst not in overlay\n"
       ]
      },
      {
       "output_type": "stream",
       "stream": "stderr",
       "text": [
        "WARNING:ANK:[Overlay: ibgp_v4]: Not adding edge bgp: (iosv-8, server-1), src/dst not in overlay\n"
       ]
      },
      {
       "output_type": "stream",
       "stream": "stderr",
       "text": [
        "WARNING [Overlay: ibgp_v4]: Not adding edge bgp: (iosxrv-2, server-1), src/dst not in overlay\n"
       ]
      },
      {
       "output_type": "stream",
       "stream": "stderr",
       "text": [
        "WARNING:ANK:[Overlay: ibgp_v4]: Not adding edge bgp: (iosxrv-2, server-1), src/dst not in overlay\n"
       ]
      },
      {
       "output_type": "stream",
       "stream": "stderr",
       "text": [
        "WARNING [Overlay: ibgp_v4]: Not adding edge bgp: (iosxrv-1, server-1), src/dst not in overlay\n"
       ]
      },
      {
       "output_type": "stream",
       "stream": "stderr",
       "text": [
        "WARNING:ANK:[Overlay: ibgp_v4]: Not adding edge bgp: (iosxrv-1, server-1), src/dst not in overlay\n"
       ]
      },
      {
       "output_type": "stream",
       "stream": "stderr",
       "text": [
        "WARNING [Overlay: ibgp_v4]: Not adding edge bgp: (nx-osv-1, server-1), src/dst not in overlay\n"
       ]
      },
      {
       "output_type": "stream",
       "stream": "stderr",
       "text": [
        "WARNING:ANK:[Overlay: ibgp_v4]: Not adding edge bgp: (nx-osv-1, server-1), src/dst not in overlay\n"
       ]
      },
      {
       "output_type": "stream",
       "stream": "stderr",
       "text": [
        "WARNING [Overlay: ibgp_v4]: Not adding edge bgp: (iosv-4, server-1), src/dst not in overlay\n"
       ]
      },
      {
       "output_type": "stream",
       "stream": "stderr",
       "text": [
        "WARNING:ANK:[Overlay: ibgp_v4]: Not adding edge bgp: (iosv-4, server-1), src/dst not in overlay\n"
       ]
      },
      {
       "output_type": "stream",
       "stream": "stderr",
       "text": [
        "WARNING [Overlay: ibgp_v4]: Not adding edge bgp: (iosv-5, server-1), src/dst not in overlay\n"
       ]
      },
      {
       "output_type": "stream",
       "stream": "stderr",
       "text": [
        "WARNING:ANK:[Overlay: ibgp_v4]: Not adding edge bgp: (iosv-5, server-1), src/dst not in overlay\n"
       ]
      },
      {
       "output_type": "stream",
       "stream": "stderr",
       "text": [
        "WARNING [Overlay: ibgp_v4]: Not adding edge bgp: (iosv-3, server-1), src/dst not in overlay\n"
       ]
      },
      {
       "output_type": "stream",
       "stream": "stderr",
       "text": [
        "WARNING:ANK:[Overlay: ibgp_v4]: Not adding edge bgp: (iosv-3, server-1), src/dst not in overlay\n"
       ]
      },
      {
       "output_type": "stream",
       "stream": "stderr",
       "text": [
        "WARNING [Overlay: ibgp_v4]: Not adding edge bgp: (nx-osv-2, server-1), src/dst not in overlay\n"
       ]
      },
      {
       "output_type": "stream",
       "stream": "stderr",
       "text": [
        "WARNING:ANK:[Overlay: ibgp_v4]: Not adding edge bgp: (nx-osv-2, server-1), src/dst not in overlay\n"
       ]
      },
      {
       "output_type": "stream",
       "stream": "stderr",
       "text": [
        "WARNING [Overlay: ibgp_v4]: Not adding edge bgp: (iosv-1, server-1), src/dst not in overlay\n"
       ]
      },
      {
       "output_type": "stream",
       "stream": "stderr",
       "text": [
        "WARNING:ANK:[Overlay: ibgp_v4]: Not adding edge bgp: (iosv-1, server-1), src/dst not in overlay\n"
       ]
      },
      {
       "output_type": "stream",
       "stream": "stderr",
       "text": [
        "INFO Finished building network\n"
       ]
      },
      {
       "output_type": "stream",
       "stream": "stderr",
       "text": [
        "INFO:ANK:Finished building network\n"
       ]
      }
     ],
     "prompt_number": 1
    },
    {
     "cell_type": "code",
     "collapsed": false,
     "input": [],
     "language": "python",
     "metadata": {},
     "outputs": [],
     "prompt_number": 1
    },
    {
     "cell_type": "code",
     "collapsed": false,
     "input": [
      "result"
     ],
     "language": "python",
     "metadata": {},
     "outputs": [
      {
       "ename": "NameError",
       "evalue": "name 'result' is not defined",
       "output_type": "pyerr",
       "traceback": [
        "\u001b[0;31m---------------------------------------------------------------------------\u001b[0m\n\u001b[0;31mNameError\u001b[0m                                 Traceback (most recent call last)",
        "\u001b[0;32m<ipython-input-2-a5b1e83cd027>\u001b[0m in \u001b[0;36m<module>\u001b[0;34m()\u001b[0m\n\u001b[0;32m----> 1\u001b[0;31m \u001b[0mresult\u001b[0m\u001b[0;34m\u001b[0m\u001b[0m\n\u001b[0m",
        "\u001b[0;31mNameError\u001b[0m: name 'result' is not defined"
       ]
      }
     ],
     "prompt_number": 2
    },
    {
     "cell_type": "code",
     "collapsed": false,
     "input": [
      "from autonetkit_cisco.collection import query_lang"
     ],
     "language": "python",
     "metadata": {},
     "outputs": [],
     "prompt_number": 3
    },
    {
     "cell_type": "code",
     "collapsed": false,
     "input": [
      "result = query_lang.process_query(\"UPDATE ospf.edges SET abc=123,def=456 WHERE (src=iosv-7) ;\")\n",
      "print result"
     ],
     "language": "python",
     "metadata": {},
     "outputs": [
      {
       "output_type": "stream",
       "stream": "stdout",
       "text": [
        "{'query': {'action': 'update_edge', 'query': {'src': 'iosv-7'}, 'set': {'abc': '123', 'def': '456'}, 'overlay': 'ospf'}}\n"
       ]
      }
     ],
     "prompt_number": 4
    },
    {
     "cell_type": "code",
     "collapsed": false,
     "input": [
      "query_lang.apply_query(anm, result)"
     ],
     "language": "python",
     "metadata": {},
     "outputs": [
      {
       "output_type": "stream",
       "stream": "stderr",
       "text": [
        "WARNING Unable to find node None in ospf \n"
       ]
      },
      {
       "output_type": "stream",
       "stream": "stderr",
       "text": [
        "WARNING:ANK:Unable to find node None in ospf \n"
       ]
      },
      {
       "output_type": "stream",
       "stream": "stdout",
       "text": [
        "{'query': {'action': 'update_edge', 'query': {'src': 'iosv-7'}, 'set': {'abc': '123', 'def': '456'}, 'overlay': 'ospf'}}\n",
        "{'src': 'iosv-7'}\n",
        "{'abc': '123', 'def': '456'}\n",
        "iosv-7\n",
        "bunch [iosv-7] None\n",
        "edges [ospf: (iosv-7, iosxrv-1), ospf: (iosv-7, iosv-2)]\n"
       ]
      },
      {
       "metadata": {},
       "output_type": "pyout",
       "prompt_number": 5,
       "text": [
        "ANM 20140508_154939"
       ]
      }
     ],
     "prompt_number": 5
    },
    {
     "cell_type": "code",
     "collapsed": false,
     "input": [
      "autonetkit.update_vis(anm)"
     ],
     "language": "python",
     "metadata": {},
     "outputs": [],
     "prompt_number": 8
    },
    {
     "cell_type": "code",
     "collapsed": false,
     "input": [
      "g_ospf = anm['ospf']\n",
      "for edge in g_ospf.edges():\n",
      "    print edge.dump()"
     ],
     "language": "python",
     "metadata": {},
     "outputs": [
      {
       "output_type": "stream",
       "stream": "stdout",
       "text": [
        "{'_ports': {'3430016387549': 2, '3430011387534': 2}, 'cost': 1, 'area': 0}\n",
        "{'_ports': {'3430016387549': 1, '3430010387531': 3}, 'cost': 1, 'area': 0}\n",
        "{'_ports': {'3430013387540': 1, '3430019387558': 1}, 'cost': 1, 'area': 0}\n",
        "{'_ports': {'3430013387540': 2, '3430022387567': 2}, 'cost': 1, 'area': 0}\n",
        "{'_ports': {'3430013387540': 3, '3430012387537': 3}, 'cost': 1, 'area': 0}\n",
        "{'_ports': {'3430024387573': 3, '3430014387543': 1}, 'cost': 1, 'abc': '123', 'def': '456', 'area': 0}\n",
        "{'_ports': {'3430014387543': 2, '3430020387561': 1}, 'cost': 1, 'abc': '123', 'def': '456', 'area': 0}\n",
        "{'_ports': {'3430025387576': 2, '3430010387531': 2}, 'cost': 1, 'area': 0}\n",
        "{'_ports': {'3430010387531': 1, '3430012387537': 2}, 'cost': 1, 'area': 0}\n",
        "{'_ports': {'3430023387570': 1, '3430020387561': 3}, 'cost': 1, 'area': 0}\n",
        "{'_ports': {'3430021387564': 2, '3430020387561': 2}, 'cost': 1, 'area': 0}\n",
        "{'_ports': {'3430023387570': 2, '3430015387546': 1}, 'cost': 1, 'area': 0}\n",
        "{'_ports': {'3430021387564': 3, '3430015387546': 2}, 'cost': 1, 'area': 0}\n",
        "{'_ports': {'3430015387546': 3, '3430022387567': 3}, 'cost': 1, 'area': 0}\n",
        "{'_ports': {'3430024387573': 4, '3430012387537': 4}, 'cost': 1, 'area': 0}\n",
        "{'_ports': {'3430019387558': 2, '3430012387537': 1}, 'cost': 1, 'area': 0}\n",
        "{'_ports': {'3430024387573': 2, '3430021387564': 1}, 'cost': 1, 'area': 0}\n",
        "{'_ports': {'3430024387573': 1, '3430025387576': 3}, 'cost': 1, 'area': 0}\n",
        "{'_ports': {'3430011387534': 1, '3430025387576': 1}, 'cost': 1, 'area': 0}\n",
        "{'_ports': {'3430021387564': 4, '3430022387567': 1}, 'cost': 1, 'area': 0}\n",
        "{'_ports': {'3430021387564': 5, '3430019387558': 3}, 'cost': 1, 'area': 0}\n"
       ]
      }
     ],
     "prompt_number": 7
    },
    {
     "cell_type": "code",
     "collapsed": false,
     "input": [
      "print "
     ],
     "language": "python",
     "metadata": {},
     "outputs": []
    }
   ],
   "metadata": {}
  }
 ]
}