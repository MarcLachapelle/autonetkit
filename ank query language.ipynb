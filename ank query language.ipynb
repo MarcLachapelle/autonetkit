{
 "metadata": {
  "name": ""
 },
 "nbformat": 3,
 "nbformat_minor": 0,
 "worksheets": [
  {
   "cells": [
    {
     "cell_type": "code",
     "collapsed": false,
     "input": [
      "from pyparsing import Word, alphas, nums, alphanums, Suppress, OneOrMore, Group, ZeroOrMore, Literal\n",
      "\n",
      "# create table overlay (directed False, multi_edge False)\n",
      "overlay = Word(alphas +  \"_\")(\"overlay\")\n",
      "category = (Literal(\"nodes\")(\"nodes\") ^ Literal(\"edges\")(\"edges\") ^ Literal(\"ports\")(\"ports\"))\n",
      "overlay_with_category = (overlay + Suppress(\".\") + category)\n",
      "\n",
      "lbrack = Suppress(\"(\")\n",
      "rbrack = Suppress(\")\")\n",
      "sqoute = Suppress(\"'\")\n",
      "\n",
      "#TODO: look for quoted\n",
      "#TODO: define comma suppressed literal\n",
      "\n",
      "\n",
      "create_overlay = (Suppress(\"CREATE OVERLAY\") + overlay)(\"create_overlay\")\n",
      "\n",
      "value = Word(alphanums + \"_\" + \"-\")\n",
      "node_keys = Group(value + ZeroOrMore(Suppress(\",\") + value))(\"keys\")\n",
      "node_values = Group(sqoute + value + sqoute + ZeroOrMore(Suppress(\",\") + sqoute + value + sqoute))(\"values\")\n",
      "\n",
      "insert_node = (Suppress(\"INSERT INTO\") + overlay + Suppress(\".\") + Suppress(\"nodes\") + lbrack \n",
      "               + node_keys + rbrack +  \"VALUES\" + lbrack + node_values + rbrack)(\"query\")\n",
      "\n",
      "\n",
      "\n",
      "#####\n",
      "\n",
      "def fn_insert_edge(strg, loc, toks):\n",
      "    data = toks.asDict()\n",
      "    # data.get(\"query\").get(\"values\")\n",
      "    src = data.get(\"src\")\n",
      "    dst = data.get(\"dst\")\n",
      "    overlay = data.get(\"overlay\")\n",
      "    return {\"action\": \"insert_edge\", \"overlay\": overlay,\n",
      "                \"src\": src, \"dst\": dst}\n",
      "    \n",
      "\n",
      "edge_keys = Suppress(\"src, dst\") # TODO: later allow insert by ports too\n",
      "edge_values = sqoute + value(\"src\") + sqoute + Suppress(\",\") + sqoute + value(\"dst\") + sqoute\n",
      "insert_edge = (Suppress(\"INSERT INTO\") + overlay + Suppress(\".\") + Suppress(\"edges\") \n",
      "               + lbrack + edge_keys + rbrack +  \"VALUES\" + lbrack + edge_values.setResultsName(\"values\") + rbrack)(\"query\").setParseAction(fn_insert_edge)\n",
      "\n",
      "where_element = Group(value.setResultsName(\"key\") + Suppress(\"=\") + value.setResultsName(\"value\"))\n",
      "where_clause = Group(where_element + ZeroOrMore(Suppress(\"AND\") + where_element))(\"where\")\n",
      "\n",
      "def fn_delete_edge(strg, loc, toks):\n",
      "    data = toks.asDict()\n",
      "    print \"keys\", data.keys()\n",
      "    print data.get(\"where\")\n",
      "    overlay = data.get(\"overlay\")\n",
      "    where = data.get(\"where\")\n",
      "    querystring = {x.get(\"key\"): x.get(\"value\") for x in where}\n",
      "    print querystring\n",
      "    #TODO: extract out src, dst, rest of the query string\n",
      "    return {\"action\": \"delete_edge\", \"overlay\": overlay, \"query\": querystring}\n",
      "\n",
      "       \n",
      "#TODO: also allow edge sets composed of node queries\n",
      "# TODO: allow the parser to be used inside ANK as well (from Python)\n",
      "delete_edge = (Suppress(\"DELETE FROM\") + overlay + Suppress(\".\") + Suppress(\"edges\") \n",
      "               + \"WHERE\" + lbrack + where_clause + rbrack)(\"query\").setParseAction(fn_delete_edge)\n",
      "\n",
      "\n",
      "query = (create_overlay ^ insert_node ^ insert_edge ^ delete_edge)\n",
      "\n",
      "queries = [\n",
      "           #\"CREATE OVERLAY ospf\",\n",
      "           #\"CREATE OVERLAY ospf_live\",\n",
      "          #  \"INSERT INTO ospf.nodes (id) VALUES ('a', 'b');\",\n",
      "           #\"INSERT INTO ospf.nodes (id) VALUES ('1');\",\n",
      "            #\"INSERT INTO ospf.nodes (id, asn, area) VALUES ('1','2','3');\"\n",
      "            #\"INSERT INTO ospf.nodes (id) VALUES ('1');\",\n",
      "          \"DELETE FROM ospf.edges WHERE (src=iosv-7) ;\",\n",
      "\n",
      "            \"INSERT INTO ospf.edges (src, dst) VALUES ('iosv-6', 'iosv-7');\",\n",
      "            #\"DELETE FROM ospf.edges WHERE (type=physical) ;\",\n",
      "\n",
      "           ]\n",
      "\n",
      "# set results parse action\n",
      "\n",
      "results = []\n",
      "for q in queries:\n",
      "    import pprint\n",
      "    result = query.parseString(q).asDict()\n",
      "    #pprint.pprint(result)\n",
      "    print\n",
      "    print result\n",
      "    results.append(result)\n"
     ],
     "language": "python",
     "metadata": {},
     "outputs": [
      {
       "output_type": "stream",
       "stream": "stdout",
       "text": [
        "keys ['query', 'where', 'overlay']\n",
        "[['src', 'iosv-7']]\n",
        "{'src': 'iosv-7'}\n",
        "\n",
        "{'query': {'action': 'delete_edge', 'query': {'src': 'iosv-7'}, 'overlay': 'ospf'}}\n",
        "\n",
        "{'query': {'action': 'insert_edge', 'src': 'iosv-6', 'dst': 'iosv-7', 'overlay': 'ospf'}}\n"
       ]
      }
     ],
     "prompt_number": 33
    },
    {
     "cell_type": "code",
     "collapsed": false,
     "input": [
      "for result in results:\n",
      "    \n",
      "    query_type = result['query']['action']\n",
      "    if query_type == \"delete_edge\":\n",
      "        print result\n",
      "        overlay = result['query']['overlay']\n",
      "        g_overlay = anm[overlay]\n",
      "        query = result['query']['query']\n",
      "        print query\n",
      "        src = query.get(\"src\")\n",
      "        dst = query.get(\"dst\")\n",
      "        try:\n",
      "            del query['src']\n",
      "        except KeyError:\n",
      "            pass\n",
      "\n",
      "        try:\n",
      "            del query['dst']\n",
      "        except KeyError:\n",
      "            pass\n",
      "        \n",
      "        print src\n",
      "        #TODO: remove this once allow direct string query of edges src_bunch and dst_bunch\n",
      "    \n",
      "        src_nbunch = None\n",
      "        try:\n",
      "            src_node = g_in.node(src)\n",
      "            if src_node:\n",
      "                src_nbunch = [src_node]\n",
      "        except:\n",
      "            pass\n",
      "\n",
      "        dst_nbunch = None\n",
      "        try:\n",
      "            dst_node = g_in.node(dst)\n",
      "            if dst_node:\n",
      "                dst_nbunch = [dst_node]\n",
      "        except:\n",
      "            pass\n",
      "\n",
      "        print dst_nbunch\n",
      "\n",
      "        edges = g_overlay.edges(src_nbunch = src_nbunch, dst_nbunch=dst_nbunch, **query)\n",
      "        if len(edges):\n",
      "            print result\n",
      "            g_overlay.remove_edges_from(edges)\n",
      "\n",
      "    elif query_type == \"insert_edge\":\n",
      "        overlay = result['query']['overlay']\n",
      "        g_overlay = anm[overlay]\n",
      "\n",
      "        src = result['query']['src']\n",
      "        dst = result['query']['dst']\n",
      "        src_node = g_overlay.node(src)\n",
      "        dst_node = g_overlay.node(dst)\n",
      "        print src_node, dst_node\n",
      "        print g_overlay\n",
      "        \n",
      "        g_overlay.add_edge(src_node, dst_node)    \n",
      "        print g_overlay.edges()\n",
      "        print len(g_overlay.edges())\n",
      "\n",
      "\n",
      "\n",
      "\n",
      "\n",
      "\n",
      "    import autonetkit\n",
      "    autonetkit.update_vis(anm)\n"
     ],
     "language": "python",
     "metadata": {},
     "outputs": [
      {
       "output_type": "stream",
       "stream": "stdout",
       "text": [
        "{'query': {'action': 'delete_edge', 'query': {'src': 'iosv-7'}, 'overlay': 'ospf'}}\n",
        "{'src': 'iosv-7'}\n",
        "iosv-7\n",
        "None\n",
        "{'query': {'action': 'delete_edge', 'query': {}, 'overlay': 'ospf'}}\n",
        "iosv-6"
       ]
      },
      {
       "output_type": "stream",
       "stream": "stdout",
       "text": [
        " iosv-7\n",
        "ospf\n",
        "2\n",
        "inedge (iosv-6, iosv-7)\n",
        "here (iosv-6, iosv-7) iosv-6 iosv-7\n",
        "[ospf: (iosv-6, iosv-7)]\n",
        "1\n"
       ]
      }
     ],
     "prompt_number": 34
    },
    {
     "cell_type": "code",
     "collapsed": false,
     "input": [
      "print g_in.edges()"
     ],
     "language": "python",
     "metadata": {},
     "outputs": [
      {
       "output_type": "stream",
       "stream": "stdout",
       "text": [
        "[input: (iosxrv-1, iosv-7), input: (iosxrv-1, iosv-3), input: (iosxrv-1, nx-osv-1), input: (iosxrv-1, iosxrv-2), input: (server-1, nx-osv-2), input: (server-1, csr1000v-1), input: (iosv-6, iosv-1), input: (iosv-6, iosv-4), input: (iosv-6, iosxrv-2), input: (csr1000v-1, nx-osv-1), input: (csr1000v-1, iosxrv-2), input: (iosv-2, iosv-5), input: (iosv-2, iosv-7), input: (iosv-2, iosv-3), input: (iosv-8, iosv-5), input: (iosv-8, iosv-3), input: (iosv-8, iosv-4), input: (iosxrv-2, iosv-1), input: (nx-osv-1, nx-osv-2), input: (iosv-4, iosv-3), input: (iosv-3, iosv-1)]\n"
       ]
      }
     ],
     "prompt_number": 195
    },
    {
     "cell_type": "code",
     "collapsed": false,
     "input": [
      "from autonetkit_cisco.wsgi_client import get_virl_to_anm\n",
      "\n",
      "simulation_id = \"Sample_Topologies@multiplatform-CQM4Jf\"\n",
      "\n",
      "server = \"ank-dev\"\n",
      "auth_data = {\n",
      "    'server': server,\n",
      "    'username': \"guest\",\n",
      "    'password': \"guest\",\n",
      "   'sim_id': simulation_id,\n",
      "}\n",
      "\n",
      "anm = get_virl_to_anm(**auth_data)\n",
      "\n",
      "from autonetkit.build_network import apply_design_rules\n",
      "apply_design_rules(anm)\n",
      "\n",
      "\n",
      "import autonetkit\n",
      "autonetkit.update_vis(anm)"
     ],
     "language": "python",
     "metadata": {},
     "outputs": [
      {
       "output_type": "stream",
       "stream": "stderr",
       "text": [
        "INFO Getting VIRL as ANM\n"
       ]
      },
      {
       "output_type": "stream",
       "stream": "stderr",
       "text": [
        "INFO:ANK:Getting VIRL as ANM\n"
       ]
      },
      {
       "output_type": "stream",
       "stream": "stderr",
       "text": [
        "INFO Getting VIRL file\n"
       ]
      },
      {
       "output_type": "stream",
       "stream": "stderr",
       "text": [
        "INFO:ANK:Getting VIRL file\n"
       ]
      },
      {
       "output_type": "stream",
       "stream": "stderr",
       "text": [
        "INFO Returning VIRL file\n"
       ]
      },
      {
       "output_type": "stream",
       "stream": "stderr",
       "text": [
        "INFO:ANK:Returning VIRL file\n"
       ]
      },
      {
       "output_type": "stream",
       "stream": "stderr",
       "text": [
        "INFO Converting graph input to undirected\n"
       ]
      },
      {
       "output_type": "stream",
       "stream": "stderr",
       "text": [
        "INFO:ANK:Converting graph input to undirected\n"
       ]
      },
      {
       "output_type": "stream",
       "stream": "stderr",
       "text": [
        "INFO Returning VIRL as ANM\n"
       ]
      },
      {
       "output_type": "stream",
       "stream": "stderr",
       "text": [
        "INFO:ANK:Returning VIRL as ANM\n"
       ]
      },
      {
       "output_type": "stream",
       "stream": "stderr",
       "text": [
        "INFO Building overlay topologies\n"
       ]
      },
      {
       "output_type": "stream",
       "stream": "stderr",
       "text": [
        "INFO:ANK:Building overlay topologies\n"
       ]
      },
      {
       "output_type": "stream",
       "stream": "stderr",
       "text": [
        "INFO Building layer2\n"
       ]
      },
      {
       "output_type": "stream",
       "stream": "stderr",
       "text": [
        "INFO:ANK:Building layer2\n"
       ]
      },
      {
       "output_type": "stream",
       "stream": "stderr",
       "text": [
        "INFO Building layer3\n"
       ]
      },
      {
       "output_type": "stream",
       "stream": "stderr",
       "text": [
        "INFO:ANK:Building layer3\n"
       ]
      },
      {
       "output_type": "stream",
       "stream": "stderr",
       "text": [
        "INFO Allocating IP addresses\n"
       ]
      },
      {
       "output_type": "stream",
       "stream": "stderr",
       "text": [
        "INFO:ANK:Allocating IP addresses\n"
       ]
      },
      {
       "output_type": "stream",
       "stream": "stderr",
       "text": [
        "INFO IPv4 allocations: Infrastructure: 10.0.0.0/8, Loopback: 192.168.0.0/16\n"
       ]
      },
      {
       "output_type": "stream",
       "stream": "stderr",
       "text": [
        "INFO:ANK:IPv4 allocations: Infrastructure: 10.0.0.0/8, Loopback: 192.168.0.0/16\n"
       ]
      },
      {
       "output_type": "stream",
       "stream": "stderr",
       "text": [
        "INFO Using specified IPv4 infrastructure allocation\n"
       ]
      },
      {
       "output_type": "stream",
       "stream": "stderr",
       "text": [
        "INFO:ANK:Using specified IPv4 infrastructure allocation\n"
       ]
      },
      {
       "output_type": "stream",
       "stream": "stdout",
       "text": [
        "2\n",
        "inedge ('input', 'graphics')\n",
        "here ('input', 'graphics') input graphics\n",
        "2\n",
        "inedge ('input', 'phy')\n",
        "here ('input', 'phy') input phy\n",
        "2\n",
        "inedge ('phy', 'layer2')\n",
        "here ('phy', 'layer2') phy layer2\n",
        "2\n",
        "inedge ('layer2', 'layer2_bc')\n",
        "here ('layer2', 'layer2_bc') layer2 layer2_bc\n",
        "3\n",
        "inedge ('3430024387573', 'cd_iosxrv-1_iosv-7', {'_ports': {'3430024387573': 3}, 'split': True})\n",
        "3\n",
        "inedge ('3430014387543', 'cd_iosxrv-1_iosv-7', {'_ports': {'3430014387543': 1}, 'split': True})\n",
        "3\n",
        "inedge ('3430024387573', 'cd_iosxrv-1_iosv-3', {'_ports': {'3430024387573': 2}, 'split': True})\n",
        "3\n",
        "inedge ('3430021387564', 'cd_iosxrv-1_iosv-3', {'_ports': {'3430021387564': 1}, 'split': True})\n",
        "3\n",
        "inedge ('3430024387573', 'cd_iosxrv-1_nx-osv-1', {'_ports': {'3430024387573': 1}, 'split': True})\n",
        "3\n",
        "inedge ('3430025387576', 'cd_iosxrv-1_nx-osv-1', {'_ports': {'3430025387576': 3}, 'split': True})\n",
        "3\n",
        "inedge ('3430024387573', 'cd_iosxrv-1_iosxrv-2', {'_ports': {'3430024387573': 4}, 'split': True})\n",
        "3\n",
        "inedge ('3430012387537', 'cd_iosxrv-1_iosxrv-2', {'_ports': {'3430012387537': 4}, 'split': True})\n",
        "3\n",
        "inedge ('3430013387540', 'cd_iosv-4_iosv-6', {'_ports': {'3430013387540': 2}, 'split': True})\n",
        "3\n",
        "inedge ('3430022387567', 'cd_iosv-4_iosv-6', {'_ports': {'3430022387567': 2}, 'split': True})\n",
        "3\n",
        "inedge ('3430013387540', 'cd_iosv-1_iosv-6', {'_ports': {'3430013387540': 1}, 'split': True})\n",
        "3\n",
        "inedge ('3430019387558', 'cd_iosv-1_iosv-6', {'_ports': {'3430019387558': 1}, 'split': True})\n",
        "3\n",
        "inedge ('3430013387540', 'cd_iosxrv-2_iosv-6', {'_ports': {'3430013387540': 3}, 'split': True})\n",
        "3\n",
        "inedge ('3430012387537', 'cd_iosxrv-2_iosv-6', {'_ports': {'3430012387537': 3}, 'split': True})\n",
        "3\n",
        "inedge ('3430010387531', 'cd_server-1_csr1000v-1', {'_ports': {'3430010387531': 3}, 'split': True})\n",
        "3\n",
        "inedge ('3430016387549', 'cd_server-1_csr1000v-1', {'_ports': {'3430016387549': 1}, 'split': True})\n",
        "3\n",
        "inedge ('3430010387531', 'cd_nx-osv-1_csr1000v-1', {'_ports': {'3430010387531': 2}, 'split': True})\n",
        "3\n",
        "inedge ('3430025387576', 'cd_nx-osv-1_csr1000v-1', {'_ports': {'3430025387576': 2}, 'split': True})\n",
        "3\n",
        "inedge ('3430010387531', 'cd_iosxrv-2_csr1000v-1', {'_ports': {'3430010387531': 1}, 'split': True})\n",
        "3\n",
        "inedge ('3430012387537', 'cd_iosxrv-2_csr1000v-1', {'_ports': {'3430012387537': 2}, 'split': True})\n",
        "3\n",
        "inedge ('3430020387561', 'cd_iosv-2_iosv-7', {'_ports': {'3430020387561': 1}, 'split': True})\n",
        "3\n",
        "inedge ('3430014387543', 'cd_iosv-2_iosv-7', {'_ports': {'3430014387543': 2}, 'split': True})\n",
        "3\n",
        "inedge ('3430020387561', 'cd_iosv-2_iosv-5', {'_ports': {'3430020387561': 3}, 'split': True})\n",
        "3\n",
        "inedge ('3430023387570', 'cd_iosv-2_iosv-5', {'_ports': {'3430023387570': 1}, 'split': True})\n",
        "3\n",
        "inedge ('3430020387561', 'cd_iosv-2_iosv-3', {'_ports': {'3430020387561': 2}, 'split': True})\n",
        "3\n",
        "inedge ('3430021387564', 'cd_iosv-2_iosv-3', {'_ports': {'3430021387564': 2}, 'split': True})\n",
        "3\n",
        "inedge ('3430016387549', 'cd_server-1_nx-osv-2', {'_ports': {'3430016387549': 2}, 'split': True})\n",
        "3\n",
        "inedge ('3430011387534', 'cd_server-1_nx-osv-2', {'_ports': {'3430011387534': 2}, 'split': True})\n",
        "3\n",
        "inedge ('3430015387546', 'cd_iosv-5_iosv-8', {'_ports': {'3430015387546': 1}, 'split': True})\n",
        "3\n",
        "inedge ('3430023387570', 'cd_iosv-5_iosv-8', {'_ports': {'3430023387570': 2}, 'split': True})\n",
        "3\n",
        "inedge ('3430015387546', 'cd_iosv-3_iosv-8', {'_ports': {'3430015387546': 2}, 'split': True})\n",
        "3\n",
        "inedge ('3430021387564', 'cd_iosv-3_iosv-8', {'_ports': {'3430021387564': 3}, 'split': True})\n",
        "3\n",
        "inedge ('3430015387546', 'cd_iosv-4_iosv-8', {'_ports': {'3430015387546': 3}, 'split': True})\n",
        "3\n",
        "inedge ('3430022387567', 'cd_iosv-4_iosv-8', {'_ports': {'3430022387567': 3}, 'split': True})\n",
        "3\n",
        "inedge ('3430012387537', 'cd_iosv-1_iosxrv-2', {'_ports': {'3430012387537': 1}, 'split': True})\n",
        "3\n",
        "inedge ('3430019387558', 'cd_iosv-1_iosxrv-2', {'_ports': {'3430019387558': 2}, 'split': True})\n",
        "3\n",
        "inedge ('3430022387567', 'cd_iosv-3_iosv-4', {'_ports': {'3430022387567': 1}, 'split': True})\n",
        "3\n",
        "inedge ('3430021387564', 'cd_iosv-3_iosv-4', {'_ports': {'3430021387564': 4}, 'split': True})\n",
        "3\n",
        "inedge ('3430021387564', 'cd_iosv-1_iosv-3', {'_ports': {'3430021387564': 5}, 'split': True})\n",
        "3\n",
        "inedge ('3430019387558', 'cd_iosv-1_iosv-3', {'_ports': {'3430019387558': 3}, 'split': True})\n",
        "3\n",
        "inedge ('3430025387576', 'cd_nx-osv-1_nx-osv-2', {'_ports': {'3430025387576': 1}, 'split': True})\n",
        "3\n",
        "inedge ('3430011387534', 'cd_nx-osv-1_nx-osv-2', {'_ports': {'3430011387534': 1}, 'split': True})\n",
        "2\n",
        "inedge ('layer2', 'layer3')\n",
        "here ('layer2', 'layer3') layer2 layer3\n",
        "2\n",
        "inedge ('layer2_bc', 'ip')\n",
        "here ('layer2_bc', 'ip') layer2_bc ip\n",
        "2\n",
        "inedge ('ip', 'ipv4')\n",
        "here ('ip', 'ipv4') ip ipv4\n",
        "2"
       ]
      },
      {
       "output_type": "stream",
       "stream": "stderr",
       "text": [
        "INFO Building IGP\n"
       ]
      },
      {
       "output_type": "stream",
       "stream": "stderr",
       "text": [
        "INFO:ANK:Building IGP\n"
       ]
      },
      {
       "output_type": "stream",
       "stream": "stderr",
       "text": [
        "INFO Building BGP\n"
       ]
      },
      {
       "output_type": "stream",
       "stream": "stderr",
       "text": [
        "INFO:ANK:Building BGP\n"
       ]
      },
      {
       "output_type": "stream",
       "stream": "stderr",
       "text": [
        "INFO Building eBGP\n"
       ]
      },
      {
       "output_type": "stream",
       "stream": "stderr",
       "text": [
        "INFO:ANK:Building eBGP\n"
       ]
      },
      {
       "output_type": "stream",
       "stream": "stderr",
       "text": [
        "INFO Building iBGP\n"
       ]
      },
      {
       "output_type": "stream",
       "stream": "stderr",
       "text": [
        "INFO:ANK:Building iBGP\n"
       ]
      },
      {
       "output_type": "stream",
       "stream": "stdout",
       "text": [
        "\n",
        "inedge ('layer3', 'ext_conn')\n",
        "here ('layer3', 'ext_conn') layer3 ext_conn\n",
        "2\n",
        "inedge ('layer3', 'ospf')\n",
        "here ('layer3', 'ospf') layer3 ospf\n",
        "2\n",
        "inedge ('layer3', 'ebgp')\n",
        "here ('layer3', 'ebgp') layer3 ebgp\n",
        "2\n",
        "inedge ('ebgp', 'ebgp_v4')\n",
        "here ('ebgp', 'ebgp_v4') ebgp ebgp_v4\n",
        "2\n",
        "inedge ('layer3', 'bgp')\n",
        "here ('layer3', 'bgp') layer3 bgp\n",
        "2\n",
        "inedge (server-1, iosv-6)\n",
        "here (server-1, iosv-6) server-1 iosv-6\n",
        "2\n",
        "inedge (server-1, iosv-7)\n",
        "here (server-1, iosv-7) server-1 iosv-7\n",
        "2\n",
        "inedge (server-1, csr1000v-1)\n",
        "here (server-1, csr1000v-1) server-1 csr1000v-1\n",
        "2\n",
        "inedge (server-1, iosv-2)\n",
        "here (server-1, iosv-2) server-1 iosv-2\n",
        "2\n",
        "inedge (server-1, iosv-8)\n",
        "here (server-1, iosv-8) server-1 iosv-8\n",
        "2\n",
        "inedge (server-1, iosxrv-2)\n",
        "here (server-1, iosxrv-2) server-1 iosxrv-2\n",
        "2\n",
        "inedge (server-1, iosxrv-1)\n",
        "here (server-1, iosxrv-1) server-1 iosxrv-1\n",
        "2\n",
        "inedge (server-1, nx-osv-1)\n",
        "here (server-1, nx-osv-1) server-1 nx-osv-1\n",
        "2\n",
        "inedge (server-1, iosv-4)\n",
        "here (server-1, iosv-4) server-1 iosv-4\n",
        "2\n",
        "inedge (server-1, iosv-5)\n",
        "here (server-1, iosv-5) server-1 iosv-5\n",
        "2\n",
        "inedge (server-1, iosv-3)\n",
        "here (server-1, iosv-3) server-1 iosv-3\n",
        "2\n",
        "inedge (server-1, nx-osv-2)\n",
        "here (server-1, nx-osv-2) server-1 nx-osv-2\n",
        "2\n",
        "inedge (server-1, iosv-1)\n",
        "here (server-1, iosv-1) server-1 iosv-1\n",
        "2\n",
        "inedge (iosv-6, server-1)\n",
        "here (iosv-6, server-1) iosv-6 server-1\n",
        "2\n",
        "inedge (iosv-6, iosv-7)\n",
        "here (iosv-6, iosv-7) iosv-6 iosv-7\n",
        "2\n",
        "inedge (iosv-6, csr1000v-1)\n",
        "here (iosv-6, csr1000v-1) iosv-6 csr1000v-1\n",
        "2\n",
        "inedge (iosv-6, iosv-2)\n",
        "here (iosv-6, iosv-2) iosv-6 iosv-2\n",
        "2\n",
        "inedge (iosv-6, iosv-8)\n",
        "here (iosv-6, iosv-8) iosv-6 iosv-8\n",
        "2\n",
        "inedge (iosv-6, iosxrv-2)\n",
        "here (iosv-6, iosxrv-2) iosv-6 iosxrv-2\n",
        "2\n",
        "inedge (iosv-6, iosxrv-1)\n",
        "here (iosv-6, iosxrv-1) iosv-6 iosxrv-1\n",
        "2\n",
        "inedge (iosv-6, nx-osv-1)\n",
        "here (iosv-6, nx-osv-1) iosv-6 nx-osv-1\n",
        "2\n",
        "inedge (iosv-6, iosv-4)\n",
        "here (iosv-6, iosv-4) iosv-6 iosv-4\n",
        "2\n",
        "inedge (iosv-6, iosv-5)\n",
        "here (iosv-6, iosv-5) iosv-6 iosv-5\n",
        "2\n",
        "inedge (iosv-6, iosv-3)\n",
        "here (iosv-6, iosv-3) iosv-6 iosv-3\n",
        "2\n",
        "inedge (iosv-6, nx-osv-2)\n",
        "here (iosv-6, nx-osv-2) iosv-6 nx-osv-2\n",
        "2\n",
        "inedge (iosv-6, iosv-1)\n",
        "here (iosv-6, iosv-1) iosv-6 iosv-1\n",
        "2\n",
        "inedge (iosv-7, server-1)\n",
        "here (iosv-7, server-1) iosv-7 server-1\n",
        "2\n",
        "inedge (iosv-7, iosv-6)\n",
        "here (iosv-7, iosv-6) iosv-7 iosv-6\n",
        "2\n",
        "inedge (iosv-7, csr1000v-1)\n",
        "here (iosv-7, csr1000v-1) iosv-7 csr1000v-1\n",
        "2\n",
        "inedge (iosv-7, iosv-2)\n",
        "here (iosv-7, iosv-2) iosv-7 iosv-2\n",
        "2\n",
        "inedge (iosv-7, iosv-8)\n",
        "here (iosv-7, iosv-8) iosv-7 iosv-8\n",
        "2\n",
        "inedge (iosv-7, iosxrv-2)\n",
        "here (iosv-7, iosxrv-2) iosv-7 iosxrv-2\n",
        "2\n",
        "inedge (iosv-7, iosxrv-1)\n",
        "here (iosv-7, iosxrv-1) iosv-7 iosxrv-1\n",
        "2\n",
        "inedge (iosv-7, nx-osv-1)\n",
        "here (iosv-7, nx-osv-1) iosv-7 nx-osv-1\n",
        "2\n",
        "inedge (iosv-7, iosv-4)\n",
        "here (iosv-7, iosv-4) iosv-7 iosv-4\n",
        "2\n",
        "inedge (iosv-7, iosv-5)\n",
        "here (iosv-7, iosv-5) iosv-7 iosv-5\n",
        "2\n",
        "inedge (iosv-7, iosv-3)\n",
        "here (iosv-7, iosv-3) iosv-7 iosv-3\n",
        "2\n",
        "inedge (iosv-7, nx-osv-2)\n",
        "here (iosv-7, nx-osv-2) iosv-7 nx-osv-2\n",
        "2\n",
        "inedge (iosv-7, iosv-1)\n",
        "here (iosv-7, iosv-1) iosv-7 iosv-1\n",
        "2\n",
        "inedge (csr1000v-1, server-1)\n",
        "here (csr1000v-1, server-1) csr1000v-1 server-1\n",
        "2\n",
        "inedge (csr1000v-1, iosv-6)\n",
        "here (csr1000v-1, iosv-6) csr1000v-1 iosv-6\n",
        "2\n",
        "inedge (csr1000v-1, iosv-7)\n",
        "here (csr1000v-1, iosv-7) csr1000v-1 iosv-7\n",
        "2\n",
        "inedge (csr1000v-1, iosv-2)\n",
        "here (csr1000v-1, iosv-2) csr1000v-1 iosv-2\n",
        "2\n",
        "inedge (csr1000v-1, iosv-8)\n",
        "here (csr1000v-1, iosv-8) csr1000v-1 iosv-8\n",
        "2\n",
        "inedge (csr1000v-1, iosxrv-2)\n",
        "here (csr1000v-1, iosxrv-2) csr1000v-1 iosxrv-2\n",
        "2\n",
        "inedge (csr1000v-1, iosxrv-1)\n",
        "here (csr1000v-1, iosxrv-1) csr1000v-1 iosxrv-1\n",
        "2\n",
        "inedge (csr1000v-1, nx-osv-1)\n",
        "here (csr1000v-1, nx-osv-1) csr1000v-1 nx-osv-1\n",
        "2\n",
        "inedge (csr1000v-1, iosv-4)\n",
        "here (csr1000v-1, iosv-4) csr1000v-1 iosv-4\n",
        "2\n",
        "inedge (csr1000v-1, iosv-5)\n",
        "here (csr1000v-1, iosv-5) csr1000v-1 iosv-5\n",
        "2\n",
        "inedge (csr1000v-1, iosv-3)\n",
        "here (csr1000v-1, iosv-3) csr1000v-1 iosv-3\n",
        "2\n",
        "inedge (csr1000v-1, nx-osv-2)\n",
        "here (csr1000v-1, nx-osv-2) csr1000v-1 nx-osv-2\n",
        "2\n",
        "inedge (csr1000v-1, iosv-1)\n",
        "here (csr1000v-1, iosv-1) csr1000v-1 iosv-1\n",
        "2\n",
        "inedge (iosv-2, server-1)\n",
        "here (iosv-2, server-1) iosv-2 server-1\n",
        "2\n",
        "inedge (iosv-2, iosv-6)\n",
        "here (iosv-2, iosv-6) iosv-2 iosv-6\n",
        "2\n",
        "inedge (iosv-2, iosv-7)\n",
        "here (iosv-2, iosv-7) iosv-2 iosv-7\n",
        "2\n",
        "inedge (iosv-2, csr1000v-1)\n",
        "here (iosv-2, csr1000v-1) iosv-2 csr1000v-1\n",
        "2\n",
        "inedge (iosv-2, iosv-8)\n",
        "here (iosv-2, iosv-8) iosv-2 iosv-8\n",
        "2\n",
        "inedge (iosv-2, iosxrv-2)\n",
        "here (iosv-2, iosxrv-2) iosv-2 iosxrv-2\n",
        "2\n",
        "inedge (iosv-2, iosxrv-1)\n",
        "here (iosv-2, iosxrv-1) iosv-2 iosxrv-1\n",
        "2\n",
        "inedge (iosv-2, nx-osv-1)\n",
        "here (iosv-2, nx-osv-1) iosv-2 nx-osv-1\n",
        "2\n",
        "inedge (iosv-2, iosv-4)\n",
        "here (iosv-2, iosv-4) iosv-2 iosv-4\n",
        "2\n",
        "inedge (iosv-2, iosv-5)\n",
        "here (iosv-2, iosv-5) iosv-2 iosv-5\n",
        "2\n",
        "inedge (iosv-2, iosv-3)\n",
        "here (iosv-2, iosv-3) iosv-2 iosv-3\n",
        "2\n",
        "inedge (iosv-2, nx-osv-2)\n",
        "here (iosv-2, nx-osv-2) iosv-2 nx-osv-2\n",
        "2\n",
        "inedge (iosv-2, iosv-1)\n",
        "here (iosv-2, iosv-1) iosv-2 iosv-1\n",
        "2\n",
        "inedge (iosv-8, server-1)\n",
        "here (iosv-8, server-1) iosv-8 server-1\n",
        "2\n",
        "inedge (iosv-8, iosv-6)\n",
        "here (iosv-8, iosv-6) iosv-8 iosv-6\n",
        "2\n",
        "inedge (iosv-8, iosv-7)\n",
        "here (iosv-8, iosv-7) iosv-8 iosv-7\n",
        "2\n",
        "inedge (iosv-8, csr1000v-1)\n",
        "here (iosv-8, csr1000v-1) iosv-8 csr1000v-1\n",
        "2\n",
        "inedge (iosv-8, iosv-2)\n",
        "here (iosv-8, iosv-2) iosv-8 iosv-2\n",
        "2\n",
        "inedge (iosv-8, iosxrv-2)\n",
        "here (iosv-8, iosxrv-2) iosv-8 iosxrv-2"
       ]
      },
      {
       "output_type": "stream",
       "stream": "stderr",
       "text": [
        "WARNING [Overlay: ibgp_v4]: Not adding edge bgp: (server-1, iosxrv-1), src/dst not in overlay\n"
       ]
      },
      {
       "output_type": "stream",
       "stream": "stderr",
       "text": [
        "WARNING:ANK:[Overlay: ibgp_v4]: Not adding edge bgp: (server-1, iosxrv-1), src/dst not in overlay\n"
       ]
      },
      {
       "output_type": "stream",
       "stream": "stderr",
       "text": [
        "WARNING [Overlay: ibgp_v4]: Not adding edge bgp: (server-1, iosv-6), src/dst not in overlay\n"
       ]
      },
      {
       "output_type": "stream",
       "stream": "stderr",
       "text": [
        "WARNING:ANK:[Overlay: ibgp_v4]: Not adding edge bgp: (server-1, iosv-6), src/dst not in overlay\n"
       ]
      },
      {
       "output_type": "stream",
       "stream": "stderr",
       "text": [
        "WARNING [Overlay: ibgp_v4]: Not adding edge bgp: (server-1, csr1000v-1), src/dst not in overlay\n"
       ]
      },
      {
       "output_type": "stream",
       "stream": "stderr",
       "text": [
        "WARNING:ANK:[Overlay: ibgp_v4]: Not adding edge bgp: (server-1, csr1000v-1), src/dst not in overlay\n"
       ]
      },
      {
       "output_type": "stream",
       "stream": "stderr",
       "text": [
        "WARNING [Overlay: ibgp_v4]: Not adding edge bgp: (server-1, iosv-2), src/dst not in overlay\n"
       ]
      },
      {
       "output_type": "stream",
       "stream": "stderr",
       "text": [
        "WARNING:ANK:[Overlay: ibgp_v4]: Not adding edge bgp: (server-1, iosv-2), src/dst not in overlay\n"
       ]
      },
      {
       "output_type": "stream",
       "stream": "stderr",
       "text": [
        "WARNING [Overlay: ibgp_v4]: Not adding edge bgp: (server-1, iosv-8), src/dst not in overlay\n"
       ]
      },
      {
       "output_type": "stream",
       "stream": "stderr",
       "text": [
        "WARNING:ANK:[Overlay: ibgp_v4]: Not adding edge bgp: (server-1, iosv-8), src/dst not in overlay\n"
       ]
      },
      {
       "output_type": "stream",
       "stream": "stderr",
       "text": [
        "WARNING [Overlay: ibgp_v4]: Not adding edge bgp: (server-1, iosxrv-2), src/dst not in overlay\n"
       ]
      },
      {
       "output_type": "stream",
       "stream": "stderr",
       "text": [
        "WARNING:ANK:[Overlay: ibgp_v4]: Not adding edge bgp: (server-1, iosxrv-2), src/dst not in overlay\n"
       ]
      },
      {
       "output_type": "stream",
       "stream": "stderr",
       "text": [
        "WARNING [Overlay: ibgp_v4]: Not adding edge bgp: (server-1, iosv-7), src/dst not in overlay\n"
       ]
      },
      {
       "output_type": "stream",
       "stream": "stderr",
       "text": [
        "WARNING:ANK:[Overlay: ibgp_v4]: Not adding edge bgp: (server-1, iosv-7), src/dst not in overlay\n"
       ]
      },
      {
       "output_type": "stream",
       "stream": "stderr",
       "text": [
        "WARNING [Overlay: ibgp_v4]: Not adding edge bgp: (server-1, iosv-4), src/dst not in overlay\n"
       ]
      },
      {
       "output_type": "stream",
       "stream": "stderr",
       "text": [
        "WARNING:ANK:[Overlay: ibgp_v4]: Not adding edge bgp: (server-1, iosv-4), src/dst not in overlay\n"
       ]
      },
      {
       "output_type": "stream",
       "stream": "stderr",
       "text": [
        "WARNING [Overlay: ibgp_v4]: Not adding edge bgp: (server-1, iosv-3), src/dst not in overlay\n"
       ]
      },
      {
       "output_type": "stream",
       "stream": "stderr",
       "text": [
        "WARNING:ANK:[Overlay: ibgp_v4]: Not adding edge bgp: (server-1, iosv-3), src/dst not in overlay\n"
       ]
      },
      {
       "output_type": "stream",
       "stream": "stderr",
       "text": [
        "WARNING [Overlay: ibgp_v4]: Not adding edge bgp: (server-1, iosv-5), src/dst not in overlay\n"
       ]
      },
      {
       "output_type": "stream",
       "stream": "stderr",
       "text": [
        "WARNING:ANK:[Overlay: ibgp_v4]: Not adding edge bgp: (server-1, iosv-5), src/dst not in overlay\n"
       ]
      },
      {
       "output_type": "stream",
       "stream": "stderr",
       "text": [
        "WARNING [Overlay: ibgp_v4]: Not adding edge bgp: (server-1, nx-osv-1), src/dst not in overlay\n"
       ]
      },
      {
       "output_type": "stream",
       "stream": "stderr",
       "text": [
        "WARNING:ANK:[Overlay: ibgp_v4]: Not adding edge bgp: (server-1, nx-osv-1), src/dst not in overlay\n"
       ]
      },
      {
       "output_type": "stream",
       "stream": "stderr",
       "text": [
        "WARNING [Overlay: ibgp_v4]: Not adding edge bgp: (server-1, nx-osv-2), src/dst not in overlay\n"
       ]
      },
      {
       "output_type": "stream",
       "stream": "stderr",
       "text": [
        "WARNING:ANK:[Overlay: ibgp_v4]: Not adding edge bgp: (server-1, nx-osv-2), src/dst not in overlay\n"
       ]
      },
      {
       "output_type": "stream",
       "stream": "stderr",
       "text": [
        "WARNING [Overlay: ibgp_v4]: Not adding edge bgp: (server-1, iosv-1), src/dst not in overlay\n"
       ]
      },
      {
       "output_type": "stream",
       "stream": "stderr",
       "text": [
        "WARNING:ANK:[Overlay: ibgp_v4]: Not adding edge bgp: (server-1, iosv-1), src/dst not in overlay\n"
       ]
      },
      {
       "output_type": "stream",
       "stream": "stderr",
       "text": [
        "WARNING [Overlay: ibgp_v4]: Not adding edge bgp: (iosv-6, server-1), src/dst not in overlay\n"
       ]
      },
      {
       "output_type": "stream",
       "stream": "stderr",
       "text": [
        "WARNING:ANK:[Overlay: ibgp_v4]: Not adding edge bgp: (iosv-6, server-1), src/dst not in overlay\n"
       ]
      },
      {
       "output_type": "stream",
       "stream": "stderr",
       "text": [
        "WARNING [Overlay: ibgp_v4]: Not adding edge bgp: (iosv-7, server-1), src/dst not in overlay\n"
       ]
      },
      {
       "output_type": "stream",
       "stream": "stderr",
       "text": [
        "WARNING:ANK:[Overlay: ibgp_v4]: Not adding edge bgp: (iosv-7, server-1), src/dst not in overlay\n"
       ]
      },
      {
       "output_type": "stream",
       "stream": "stderr",
       "text": [
        "WARNING [Overlay: ibgp_v4]: Not adding edge bgp: (csr1000v-1, server-1), src/dst not in overlay\n"
       ]
      },
      {
       "output_type": "stream",
       "stream": "stderr",
       "text": [
        "WARNING:ANK:[Overlay: ibgp_v4]: Not adding edge bgp: (csr1000v-1, server-1), src/dst not in overlay\n"
       ]
      },
      {
       "output_type": "stream",
       "stream": "stderr",
       "text": [
        "WARNING [Overlay: ibgp_v4]: Not adding edge bgp: (iosv-2, server-1), src/dst not in overlay\n"
       ]
      },
      {
       "output_type": "stream",
       "stream": "stderr",
       "text": [
        "WARNING:ANK:[Overlay: ibgp_v4]: Not adding edge bgp: (iosv-2, server-1), src/dst not in overlay\n"
       ]
      },
      {
       "output_type": "stream",
       "stream": "stderr",
       "text": [
        "WARNING [Overlay: ibgp_v4]: Not adding edge bgp: (iosv-8, server-1), src/dst not in overlay\n"
       ]
      },
      {
       "output_type": "stream",
       "stream": "stderr",
       "text": [
        "WARNING:ANK:[Overlay: ibgp_v4]: Not adding edge bgp: (iosv-8, server-1), src/dst not in overlay\n"
       ]
      },
      {
       "output_type": "stream",
       "stream": "stderr",
       "text": [
        "WARNING [Overlay: ibgp_v4]: Not adding edge bgp: (iosxrv-2, server-1), src/dst not in overlay\n"
       ]
      },
      {
       "output_type": "stream",
       "stream": "stderr",
       "text": [
        "WARNING:ANK:[Overlay: ibgp_v4]: Not adding edge bgp: (iosxrv-2, server-1), src/dst not in overlay\n"
       ]
      },
      {
       "output_type": "stream",
       "stream": "stderr",
       "text": [
        "WARNING [Overlay: ibgp_v4]: Not adding edge bgp: (iosxrv-1, server-1), src/dst not in overlay\n"
       ]
      },
      {
       "output_type": "stream",
       "stream": "stderr",
       "text": [
        "WARNING:ANK:[Overlay: ibgp_v4]: Not adding edge bgp: (iosxrv-1, server-1), src/dst not in overlay\n"
       ]
      },
      {
       "output_type": "stream",
       "stream": "stderr",
       "text": [
        "WARNING [Overlay: ibgp_v4]: Not adding edge bgp: (nx-osv-1, server-1), src/dst not in overlay\n"
       ]
      },
      {
       "output_type": "stream",
       "stream": "stderr",
       "text": [
        "WARNING:ANK:[Overlay: ibgp_v4]: Not adding edge bgp: (nx-osv-1, server-1), src/dst not in overlay\n"
       ]
      },
      {
       "output_type": "stream",
       "stream": "stderr",
       "text": [
        "WARNING [Overlay: ibgp_v4]: Not adding edge bgp: (iosv-4, server-1), src/dst not in overlay\n"
       ]
      },
      {
       "output_type": "stream",
       "stream": "stderr",
       "text": [
        "WARNING:ANK:[Overlay: ibgp_v4]: Not adding edge bgp: (iosv-4, server-1), src/dst not in overlay\n"
       ]
      },
      {
       "output_type": "stream",
       "stream": "stdout",
       "text": [
        "\n",
        "2\n",
        "inedge (iosv-8, iosxrv-1)\n",
        "here (iosv-8, iosxrv-1) iosv-8 iosxrv-1\n",
        "2\n",
        "inedge (iosv-8, nx-osv-1)\n",
        "here (iosv-8, nx-osv-1) iosv-8 nx-osv-1\n",
        "2\n",
        "inedge (iosv-8, iosv-4)\n",
        "here (iosv-8, iosv-4) iosv-8 iosv-4\n",
        "2\n",
        "inedge (iosv-8, iosv-5)\n",
        "here (iosv-8, iosv-5) iosv-8 iosv-5\n",
        "2\n",
        "inedge (iosv-8, iosv-3)\n",
        "here (iosv-8, iosv-3) iosv-8 iosv-3\n",
        "2\n",
        "inedge (iosv-8, nx-osv-2)\n",
        "here (iosv-8, nx-osv-2) iosv-8 nx-osv-2\n",
        "2\n",
        "inedge (iosv-8, iosv-1)\n",
        "here (iosv-8, iosv-1) iosv-8 iosv-1\n",
        "2\n",
        "inedge (iosxrv-2, server-1)\n",
        "here (iosxrv-2, server-1) iosxrv-2 server-1\n",
        "2\n",
        "inedge (iosxrv-2, iosv-6)\n",
        "here (iosxrv-2, iosv-6) iosxrv-2 iosv-6\n",
        "2\n",
        "inedge (iosxrv-2, iosv-7)\n",
        "here (iosxrv-2, iosv-7) iosxrv-2 iosv-7\n",
        "2\n",
        "inedge (iosxrv-2, csr1000v-1)\n",
        "here (iosxrv-2, csr1000v-1) iosxrv-2 csr1000v-1\n",
        "2\n",
        "inedge (iosxrv-2, iosv-2)\n",
        "here (iosxrv-2, iosv-2) iosxrv-2 iosv-2\n",
        "2\n",
        "inedge (iosxrv-2, iosv-8)\n",
        "here (iosxrv-2, iosv-8) iosxrv-2 iosv-8\n",
        "2\n",
        "inedge (iosxrv-2, iosxrv-1)\n",
        "here (iosxrv-2, iosxrv-1) iosxrv-2 iosxrv-1\n",
        "2\n",
        "inedge (iosxrv-2, nx-osv-1)\n",
        "here (iosxrv-2, nx-osv-1) iosxrv-2 nx-osv-1\n",
        "2\n",
        "inedge (iosxrv-2, iosv-4)\n",
        "here (iosxrv-2, iosv-4) iosxrv-2 iosv-4\n",
        "2\n",
        "inedge (iosxrv-2, iosv-5)\n",
        "here (iosxrv-2, iosv-5) iosxrv-2 iosv-5\n",
        "2\n",
        "inedge (iosxrv-2, iosv-3)\n",
        "here (iosxrv-2, iosv-3) iosxrv-2 iosv-3\n",
        "2\n",
        "inedge (iosxrv-2, nx-osv-2)\n",
        "here (iosxrv-2, nx-osv-2) iosxrv-2 nx-osv-2\n",
        "2\n",
        "inedge (iosxrv-2, iosv-1)\n",
        "here (iosxrv-2, iosv-1) iosxrv-2 iosv-1\n",
        "2\n",
        "inedge (iosxrv-1, server-1)\n",
        "here (iosxrv-1, server-1) iosxrv-1 server-1\n",
        "2\n",
        "inedge (iosxrv-1, iosv-6)\n",
        "here (iosxrv-1, iosv-6) iosxrv-1 iosv-6\n",
        "2\n",
        "inedge (iosxrv-1, iosv-7)\n",
        "here (iosxrv-1, iosv-7) iosxrv-1 iosv-7\n",
        "2\n",
        "inedge (iosxrv-1, csr1000v-1)\n",
        "here (iosxrv-1, csr1000v-1) iosxrv-1 csr1000v-1\n",
        "2\n",
        "inedge (iosxrv-1, iosv-2)\n",
        "here (iosxrv-1, iosv-2) iosxrv-1 iosv-2\n",
        "2\n",
        "inedge (iosxrv-1, iosv-8)\n",
        "here (iosxrv-1, iosv-8) iosxrv-1 iosv-8\n",
        "2\n",
        "inedge (iosxrv-1, iosxrv-2)\n",
        "here (iosxrv-1, iosxrv-2) iosxrv-1 iosxrv-2\n",
        "2\n",
        "inedge (iosxrv-1, nx-osv-1)\n",
        "here (iosxrv-1, nx-osv-1) iosxrv-1 nx-osv-1\n",
        "2\n",
        "inedge (iosxrv-1, iosv-4)\n",
        "here (iosxrv-1, iosv-4) iosxrv-1 iosv-4\n",
        "2\n",
        "inedge (iosxrv-1, iosv-5)\n",
        "here (iosxrv-1, iosv-5) iosxrv-1 iosv-5\n",
        "2\n",
        "inedge (iosxrv-1, iosv-3)\n",
        "here (iosxrv-1, iosv-3) iosxrv-1 iosv-3\n",
        "2\n",
        "inedge (iosxrv-1, nx-osv-2)\n",
        "here (iosxrv-1, nx-osv-2) iosxrv-1 nx-osv-2\n",
        "2\n",
        "inedge (iosxrv-1, iosv-1)\n",
        "here (iosxrv-1, iosv-1) iosxrv-1 iosv-1\n",
        "2\n",
        "inedge (nx-osv-1, server-1)\n",
        "here (nx-osv-1, server-1) nx-osv-1 server-1\n",
        "2\n",
        "inedge (nx-osv-1, iosv-6)\n",
        "here (nx-osv-1, iosv-6) nx-osv-1 iosv-6\n",
        "2\n",
        "inedge (nx-osv-1, iosv-7)\n",
        "here (nx-osv-1, iosv-7) nx-osv-1 iosv-7\n",
        "2\n",
        "inedge (nx-osv-1, csr1000v-1)\n",
        "here (nx-osv-1, csr1000v-1) nx-osv-1 csr1000v-1\n",
        "2\n",
        "inedge (nx-osv-1, iosv-2)\n",
        "here (nx-osv-1, iosv-2) nx-osv-1 iosv-2\n",
        "2\n",
        "inedge (nx-osv-1, iosv-8)\n",
        "here (nx-osv-1, iosv-8) nx-osv-1 iosv-8\n",
        "2\n",
        "inedge (nx-osv-1, iosxrv-2)\n",
        "here (nx-osv-1, iosxrv-2) nx-osv-1 iosxrv-2\n",
        "2\n",
        "inedge (nx-osv-1, iosxrv-1)\n",
        "here (nx-osv-1, iosxrv-1) nx-osv-1 iosxrv-1\n",
        "2\n",
        "inedge (nx-osv-1, iosv-4)\n",
        "here (nx-osv-1, iosv-4) nx-osv-1 iosv-4\n",
        "2\n",
        "inedge (nx-osv-1, iosv-5)\n",
        "here (nx-osv-1, iosv-5) nx-osv-1 iosv-5\n",
        "2\n",
        "inedge (nx-osv-1, iosv-3)\n",
        "here (nx-osv-1, iosv-3) nx-osv-1 iosv-3\n",
        "2\n",
        "inedge (nx-osv-1, nx-osv-2)\n",
        "here (nx-osv-1, nx-osv-2) nx-osv-1 nx-osv-2\n",
        "2\n",
        "inedge (nx-osv-1, iosv-1)\n",
        "here (nx-osv-1, iosv-1) nx-osv-1 iosv-1\n",
        "2\n",
        "inedge (iosv-4, server-1)\n",
        "here (iosv-4, server-1) iosv-4 server-1\n",
        "2\n",
        "inedge (iosv-4, iosv-6)\n",
        "here (iosv-4, iosv-6) iosv-4 iosv-6\n",
        "2\n",
        "inedge (iosv-4, iosv-7)\n",
        "here (iosv-4, iosv-7) iosv-4 iosv-7\n",
        "2\n",
        "inedge (iosv-4, csr1000v-1)\n",
        "here (iosv-4, csr1000v-1) iosv-4 csr1000v-1\n",
        "2\n",
        "inedge (iosv-4, iosv-2)\n",
        "here (iosv-4, iosv-2) iosv-4 iosv-2\n",
        "2\n",
        "inedge (iosv-4, iosv-8)\n",
        "here (iosv-4, iosv-8) iosv-4 iosv-8\n",
        "2\n",
        "inedge (iosv-4, iosxrv-2)\n",
        "here (iosv-4, iosxrv-2) iosv-4 iosxrv-2\n",
        "2\n",
        "inedge (iosv-4, iosxrv-1)\n",
        "here (iosv-4, iosxrv-1) iosv-4 iosxrv-1\n",
        "2\n",
        "inedge (iosv-4, nx-osv-1)\n",
        "here (iosv-4, nx-osv-1) iosv-4 nx-osv-1\n",
        "2\n",
        "inedge (iosv-4, iosv-5)\n",
        "here (iosv-4, iosv-5) iosv-4 iosv-5\n",
        "2\n",
        "inedge (iosv-4, iosv-3)\n",
        "here (iosv-4, iosv-3) iosv-4 iosv-3\n",
        "2\n",
        "inedge (iosv-4, nx-osv-2)\n",
        "here (iosv-4, nx-osv-2) iosv-4 nx-osv-2\n",
        "2\n",
        "inedge (iosv-4, iosv-1)\n",
        "here (iosv-4, iosv-1) iosv-4 iosv-1\n",
        "2\n",
        "inedge (iosv-5, server-1)\n",
        "here (iosv-5, server-1) iosv-5 server-1\n",
        "2\n",
        "inedge (iosv-5, iosv-6)\n",
        "here (iosv-5, iosv-6) iosv-5 iosv-6\n",
        "2\n",
        "inedge (iosv-5, iosv-7)\n",
        "here (iosv-5, iosv-7) iosv-5 iosv-7\n",
        "2\n",
        "inedge (iosv-5, csr1000v-1)\n",
        "here (iosv-5, csr1000v-1) iosv-5 csr1000v-1\n",
        "2\n",
        "inedge (iosv-5, iosv-2)\n",
        "here (iosv-5, iosv-2) iosv-5 iosv-2\n",
        "2\n",
        "inedge (iosv-5, iosv-8)\n",
        "here (iosv-5, iosv-8) iosv-5 iosv-8\n",
        "2\n",
        "inedge (iosv-5, iosxrv-2)\n",
        "here (iosv-5, iosxrv-2) iosv-5 iosxrv-2\n",
        "2\n",
        "inedge (iosv-5, iosxrv-1)\n",
        "here (iosv-5, iosxrv-1) iosv-5 iosxrv-1\n",
        "2\n",
        "inedge (iosv-5, nx-osv-1)\n",
        "here (iosv-5, nx-osv-1) iosv-5 nx-osv-1\n",
        "2\n",
        "inedge (iosv-5, iosv-4)\n",
        "here (iosv-5, iosv-4) iosv-5 iosv-4\n",
        "2\n",
        "inedge (iosv-5, iosv-3)\n",
        "here (iosv-5, iosv-3) iosv-5 iosv-3\n",
        "2\n",
        "inedge (iosv-5, nx-osv-2)\n",
        "here (iosv-5, nx-osv-2) iosv-5 nx-osv-2\n",
        "2\n",
        "inedge (iosv-5, iosv-1)\n",
        "here (iosv-5, iosv-1) iosv-5 iosv-1\n",
        "2\n",
        "inedge (iosv-3, server-1)\n",
        "here (iosv-3, server-1) iosv-3 server-1\n",
        "2\n",
        "inedge (iosv-3, iosv-6)\n",
        "here (iosv-3, iosv-6) iosv-3 iosv-6\n",
        "2\n",
        "inedge (iosv-3, iosv-7)\n",
        "here (iosv-3, iosv-7) iosv-3 iosv-7\n",
        "2\n",
        "inedge (iosv-3, csr1000v-1)\n",
        "here (iosv-3, csr1000v-1) iosv-3 csr1000v-1\n",
        "2\n",
        "inedge (iosv-3, iosv-2)\n",
        "here (iosv-3, iosv-2) iosv-3 iosv-2\n",
        "2\n",
        "inedge (iosv-3, iosv-8)\n",
        "here (iosv-3, iosv-8) iosv-3 iosv-8\n",
        "2\n",
        "inedge (iosv-3, iosxrv-2)\n",
        "here (iosv-3, iosxrv-2) iosv-3 iosxrv-2\n",
        "2\n",
        "inedge (iosv-3, iosxrv-1)\n",
        "here (iosv-3, iosxrv-1) iosv-3 iosxrv-1\n",
        "2\n",
        "inedge (iosv-3, nx-osv-1)\n",
        "here (iosv-3, nx-osv-1) iosv-3 nx-osv-1\n",
        "2\n",
        "inedge (iosv-3, iosv-4)\n",
        "here (iosv-3, iosv-4) iosv-3 iosv-4\n",
        "2\n",
        "inedge (iosv-3, iosv-5)\n",
        "here (iosv-3, iosv-5) iosv-3 iosv-5\n",
        "2\n",
        "inedge (iosv-3, nx-osv-2)\n",
        "here (iosv-3, nx-osv-2) iosv-3 nx-osv-2\n",
        "2\n",
        "inedge (iosv-3, iosv-1)\n",
        "here (iosv-3, iosv-1) iosv-3 iosv-1\n",
        "2\n",
        "inedge (nx-osv-2, server-1)\n",
        "here (nx-osv-2, server-1) nx-osv-2 server-1\n",
        "2\n",
        "inedge (nx-osv-2, iosv-6)\n",
        "here (nx-osv-2, iosv-6) nx-osv-2 iosv-6\n",
        "2\n",
        "inedge (nx-osv-2, iosv-7)\n",
        "here (nx-osv-2, iosv-7) nx-osv-2 iosv-7\n",
        "2\n",
        "inedge (nx-osv-2, csr1000v-1)\n",
        "here (nx-osv-2, csr1000v-1) nx-osv-2 csr1000v-1\n",
        "2\n",
        "inedge (nx-osv-2, iosv-2)\n",
        "here (nx-osv-2, iosv-2) nx-osv-2 iosv-2\n",
        "2\n",
        "inedge (nx-osv-2, iosv-8)\n",
        "here (nx-osv-2, iosv-8) nx-osv-2 iosv-8\n",
        "2\n",
        "inedge (nx-osv-2, iosxrv-2)\n",
        "here (nx-osv-2, iosxrv-2) nx-osv-2 iosxrv-2\n",
        "2\n",
        "inedge (nx-osv-2, iosxrv-1)\n",
        "here (nx-osv-2, iosxrv-1) nx-osv-2 iosxrv-1\n",
        "2\n",
        "inedge (nx-osv-2, nx-osv-1)\n",
        "here (nx-osv-2, nx-osv-1) nx-osv-2 nx-osv-1\n",
        "2\n",
        "inedge (nx-osv-2, iosv-4)\n",
        "here (nx-osv-2, iosv-4) nx-osv-2 iosv-4\n",
        "2\n",
        "inedge (nx-osv-2, iosv-5)\n",
        "here (nx-osv-2, iosv-5) nx-osv-2 iosv-5\n",
        "2\n",
        "inedge (nx-osv-2, iosv-3)\n",
        "here (nx-osv-2, iosv-3) nx-osv-2 iosv-3\n",
        "2\n",
        "inedge (nx-osv-2, iosv-1)\n",
        "here (nx-osv-2, iosv-1) nx-osv-2 iosv-1\n",
        "2\n",
        "inedge (iosv-1, server-1)\n",
        "here (iosv-1, server-1) iosv-1 server-1\n",
        "2\n",
        "inedge (iosv-1, iosv-6)\n",
        "here (iosv-1, iosv-6) iosv-1 iosv-6\n",
        "2\n",
        "inedge (iosv-1, iosv-7)\n",
        "here (iosv-1, iosv-7) iosv-1 iosv-7\n",
        "2\n",
        "inedge (iosv-1, csr1000v-1)\n",
        "here (iosv-1, csr1000v-1) iosv-1 csr1000v-1\n",
        "2\n",
        "inedge (iosv-1, iosv-2)\n",
        "here (iosv-1, iosv-2) iosv-1 iosv-2\n",
        "2\n",
        "inedge (iosv-1, iosv-8)\n",
        "here (iosv-1, iosv-8) iosv-1 iosv-8\n",
        "2\n",
        "inedge (iosv-1, iosxrv-2)\n",
        "here (iosv-1, iosxrv-2) iosv-1 iosxrv-2\n",
        "2\n",
        "inedge (iosv-1, iosxrv-1)\n",
        "here (iosv-1, iosxrv-1) iosv-1 iosxrv-1\n",
        "2\n",
        "inedge (iosv-1, nx-osv-1)\n",
        "here (iosv-1, nx-osv-1) iosv-1 nx-osv-1\n",
        "2\n",
        "inedge (iosv-1, iosv-4)\n",
        "here (iosv-1, iosv-4) iosv-1 iosv-4\n",
        "2\n",
        "inedge (iosv-1, iosv-5)\n",
        "here (iosv-1, iosv-5) iosv-1 iosv-5\n",
        "2\n",
        "inedge (iosv-1, iosv-3)\n",
        "here (iosv-1, iosv-3) iosv-1 iosv-3\n",
        "2\n",
        "inedge (iosv-1, nx-osv-2)\n",
        "here (iosv-1, nx-osv-2) iosv-1 nx-osv-2\n",
        "2\n",
        "inedge ('bgp', 'ibgp_v4')\n",
        "here ('bgp', 'ibgp_v4') bgp ibgp_v4\n",
        "3430016387549 False 3430024387573 True\n",
        "3430016387549 False 3430013387540 True\n",
        "3430016387549 False 3430010387531 True\n",
        "3430016387549 False 3430020387561 True\n",
        "3430016387549 False 3430015387546 True\n",
        "3430016387549 False 3430012387537 True\n",
        "3430016387549 False 3430014387543 True\n",
        "3430016387549 False 3430022387567 True\n",
        "3430016387549 False 3430021387564 True\n",
        "3430016387549 False 3430023387570 True\n",
        "3430016387549 False 3430025387576 True\n",
        "3430016387549 False 3430011387534 True\n",
        "3430016387549 False 3430019387558 True\n",
        "3430013387540 True 3430016387549 False\n",
        "3430014387543 True 3430016387549 False\n",
        "3430010387531 True 3430016387549 False\n",
        "3430020387561 True 3430016387549 False\n",
        "3430015387546 True 3430016387549 False\n",
        "3430012387537 True 3430016387549 False\n",
        "3430024387573 True 3430016387549 False\n",
        "3430025387576 True 3430016387549 False\n",
        "3430022387567 True 3430016387549 False\n",
        "3430023387570"
       ]
      },
      {
       "output_type": "stream",
       "stream": "stderr",
       "text": [
        "WARNING [Overlay: ibgp_v4]: Not adding edge bgp: (iosv-5, server-1), src/dst not in overlay\n"
       ]
      },
      {
       "output_type": "stream",
       "stream": "stderr",
       "text": [
        "WARNING:ANK:[Overlay: ibgp_v4]: Not adding edge bgp: (iosv-5, server-1), src/dst not in overlay\n"
       ]
      },
      {
       "output_type": "stream",
       "stream": "stderr",
       "text": [
        "WARNING [Overlay: ibgp_v4]: Not adding edge bgp: (iosv-3, server-1), src/dst not in overlay\n"
       ]
      },
      {
       "output_type": "stream",
       "stream": "stderr",
       "text": [
        "WARNING:ANK:[Overlay: ibgp_v4]: Not adding edge bgp: (iosv-3, server-1), src/dst not in overlay\n"
       ]
      },
      {
       "output_type": "stream",
       "stream": "stderr",
       "text": [
        "WARNING [Overlay: ibgp_v4]: Not adding edge bgp: (nx-osv-2, server-1), src/dst not in overlay\n"
       ]
      },
      {
       "output_type": "stream",
       "stream": "stderr",
       "text": [
        "WARNING:ANK:[Overlay: ibgp_v4]: Not adding edge bgp: (nx-osv-2, server-1), src/dst not in overlay\n"
       ]
      },
      {
       "output_type": "stream",
       "stream": "stderr",
       "text": [
        "WARNING [Overlay: ibgp_v4]: Not adding edge bgp: (iosv-1, server-1), src/dst not in overlay\n"
       ]
      },
      {
       "output_type": "stream",
       "stream": "stderr",
       "text": [
        "WARNING:ANK:[Overlay: ibgp_v4]: Not adding edge bgp: (iosv-1, server-1), src/dst not in overlay\n"
       ]
      },
      {
       "output_type": "stream",
       "stream": "stderr",
       "text": [
        "INFO Finished building network\n"
       ]
      },
      {
       "output_type": "stream",
       "stream": "stderr",
       "text": [
        "INFO:ANK:Finished building network\n"
       ]
      },
      {
       "output_type": "stream",
       "stream": "stdout",
       "text": [
        " True 3430016387549 False\n",
        "3430021387564 True 3430016387549 False\n",
        "3430011387534 True 3430016387549 False\n",
        "3430019387558 True 3430016387549 False\n"
       ]
      }
     ],
     "prompt_number": 32
    },
    {
     "cell_type": "code",
     "collapsed": false,
     "input": [],
     "language": "python",
     "metadata": {},
     "outputs": [],
     "prompt_number": 210
    },
    {
     "cell_type": "code",
     "collapsed": false,
     "input": [
      "result"
     ],
     "language": "python",
     "metadata": {},
     "outputs": [
      {
       "metadata": {},
       "output_type": "pyout",
       "prompt_number": 176,
       "text": [
        "{'delete_edge': {'action': 'delete_edge',\n",
        "  'overlay': 'ospf',\n",
        "  'query': {'dst': 'r2', 'src': 'r1'}}}"
       ]
      }
     ],
     "prompt_number": 176
    },
    {
     "cell_type": "code",
     "collapsed": false,
     "input": [],
     "language": "python",
     "metadata": {},
     "outputs": []
    }
   ],
   "metadata": {}
  }
 ]
}