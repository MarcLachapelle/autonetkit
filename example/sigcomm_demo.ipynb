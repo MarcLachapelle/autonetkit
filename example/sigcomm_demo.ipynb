{
 "metadata": {
  "name": "sigcomm_demo"
 },
 "nbformat": 3,
 "nbformat_minor": 0,
 "worksheets": [
  {
   "cells": [
    {
     "cell_type": "heading",
     "level": 3,
     "metadata": {},
     "source": [
      "Creating ANM from topology graph"
     ]
    },
    {
     "cell_type": "code",
     "collapsed": false,
     "input": [
      "import autonetkit\n",
      "import autonetkit.load.graphml as graphml\n",
      "\n",
      "anm =  autonetkit.ANM()\n",
      "input_graph = graphml.load_graphml(\"sigcomm_demo.graphml\")\n",
      "\n",
      "import autonetkit.build_network as build_network\n",
      "anm = build_network.initialise(input_graph)\n",
      "autonetkit.update_http(anm)"
     ],
     "language": "python",
     "metadata": {},
     "outputs": []
    },
    {
     "cell_type": "heading",
     "level": 3,
     "metadata": {},
     "source": [
      "Applying network design rules"
     ]
    },
    {
     "cell_type": "code",
     "collapsed": false,
     "input": [
      "anm = build_network.apply_design_rules(anm)\n",
      "autonetkit.update_http(anm)"
     ],
     "language": "python",
     "metadata": {},
     "outputs": []
    },
    {
     "cell_type": "heading",
     "level": 3,
     "metadata": {},
     "source": [
      "Modifying Network using API"
     ]
    },
    {
     "cell_type": "code",
     "collapsed": false,
     "input": [
      "e1_8 = anm['ospf'].edge('1', '8')\n",
      "e1_8.cost = 10\n",
      "e1_8.apply_to_interfaces(\"cost\")\n",
      "\n",
      "autonetkit.update_http(anm)"
     ],
     "language": "python",
     "metadata": {},
     "outputs": []
    },
    {
     "cell_type": "heading",
     "level": 3,
     "metadata": {},
     "source": [
      "Compiling ANM to NIDB"
     ]
    },
    {
     "cell_type": "code",
     "collapsed": false,
     "input": [
      "import autonetkit.console_script as console_script\n",
      "render_hostname = \"localhost\"\n",
      "\n",
      "nidb = console_script.create_nidb(anm)\n",
      "nk_compiler = autonetkit.compiler.NetkitCompiler(nidb, anm, render_hostname)\n",
      "nk_compiler.compile()\n",
      "autonetkit.update_http(anm, nidb)"
     ],
     "language": "python",
     "metadata": {},
     "outputs": []
    },
    {
     "cell_type": "heading",
     "level": 3,
     "metadata": {},
     "source": [
      "Viewing NIDB Attributes"
     ]
    },
    {
     "cell_type": "code",
     "collapsed": false,
     "input": [
      "router = nidb.node(\"1\")\n",
      "router.dump()"
     ],
     "language": "python",
     "metadata": {},
     "outputs": []
    },
    {
     "cell_type": "heading",
     "level": 3,
     "metadata": {},
     "source": [
      "Rendering NIDB to Configuration Files"
     ]
    },
    {
     "cell_type": "code",
     "collapsed": false,
     "input": [
      "import autonetkit.render\n",
      "autonetkit.render.render(nidb)"
     ],
     "language": "python",
     "metadata": {},
     "outputs": []
    },
    {
     "cell_type": "heading",
     "level": 3,
     "metadata": {},
     "source": [
      "Viewing Output Configurations"
     ]
    },
    {
     "cell_type": "code",
     "collapsed": false,
     "input": [
      "import os\n",
      "dst_folder = nidb.topology['localhost'].render_dst_folder\n",
      "for path, dirs, files in os.walk(dst_folder):\n",
      "  print path\n",
      "  for f in files:\n",
      "    print \"\\t\", f"
     ],
     "language": "python",
     "metadata": {},
     "outputs": []
    },
    {
     "cell_type": "heading",
     "level": 3,
     "metadata": {},
     "source": [
      "Viewing Configuration Files: OSPF"
     ]
    },
    {
     "cell_type": "code",
     "collapsed": false,
     "input": [
      "router = nidb.routers().next() # choose a router\n",
      "router = nidb.node(\"1\")\n",
      "zebra_dir = os.path.join(router.render.base_dst_folder, \"etc\", \"zebra\")\n",
      "\n",
      "ospfd_conf = os.path.join(zebra_dir, \"ospfd.conf\")\n",
      "with open(ospfd_conf, \"r\") as fh:\n",
      "    print fh.read()"
     ],
     "language": "python",
     "metadata": {},
     "outputs": []
    },
    {
     "cell_type": "heading",
     "level": 3,
     "metadata": {},
     "source": [
      "Viewing Configuration Files: BGP"
     ]
    },
    {
     "cell_type": "code",
     "collapsed": false,
     "input": [
      "bgpd_conf = os.path.join(zebra_dir, \"bgpd.conf\")\n",
      "with open(bgpd_conf, \"r\") as fh:\n",
      "    print fh.read()"
     ],
     "language": "python",
     "metadata": {},
     "outputs": []
    },
    {
     "cell_type": "heading",
     "level": 3,
     "metadata": {},
     "source": [
      "Deploying Netkit Lab"
     ]
    },
    {
     "cell_type": "code",
     "collapsed": false,
     "input": [
      "import autonetkit.deploy.netkit as nk_deploy\n",
      "username = \"sk2\"\n",
      "host = \"192.168.255.129\"\n",
      "dst_folder = nidb.topology['localhost'].render_dst_folder\n",
      "nk_deploy.deploy(host, username, dst_folder)"
     ],
     "language": "python",
     "metadata": {},
     "outputs": []
    },
    {
     "cell_type": "heading",
     "level": 3,
     "metadata": {},
     "source": [
      "Analysis"
     ]
    },
    {
     "cell_type": "code",
     "collapsed": false,
     "input": [
      "from autonetkit.ank_utils import unwrap_graph, unwrap_nodes\n",
      "import autonetkit.ank_messaging as msg\n",
      "import networkx as nx\n",
      "\n",
      "graph = unwrap_graph(anm['ospf'])\n",
      "\n",
      "path = nx.shortest_path(graph, \"1\", \"8\", \n",
      "    weight = 'cost')\n",
      "\n",
      "print path\n",
      "msg.highlight([], [], [])"
     ],
     "language": "python",
     "metadata": {},
     "outputs": [
      {
       "output_type": "stream",
       "stream": "stdout",
       "text": [
        "['1', '5', '8']\n"
       ]
      }
     ],
     "prompt_number": 36
    },
    {
     "cell_type": "heading",
     "level": 3,
     "metadata": {},
     "source": [
      "Measuring Results"
     ]
    },
    {
     "cell_type": "code",
     "collapsed": false,
     "input": [
      "import autonetkit.measure as measure\n",
      "remote_hosts = [nidb.node(\"1\").tap.ip]\n",
      "command = 'vtysh -c \"show ip ro\"'\n",
      "measure.send(nidb, command, remote_hosts)"
     ],
     "language": "python",
     "metadata": {},
     "outputs": []
    },
    {
     "cell_type": "code",
     "collapsed": false,
     "input": [
      "import autonetkit.measure as measure\n",
      "remote_hosts = [nidb.node(\"2\").tap.ip]\n",
      "command = 'vtysh -c \"show ip ro\"'\n",
      "measure.send(nidb, command, remote_hosts)"
     ],
     "language": "python",
     "metadata": {},
     "outputs": []
    },
    {
     "cell_type": "code",
     "collapsed": false,
     "input": [
      "remote_hosts = [nidb.node(\"1\").tap.ip]\n",
      "\n",
      "dest_ip = nidb.node(\"7\").interfaces[0].ipv4_address\n",
      "command = \"traceroute -n -a -U -w 0.5 %s\" % dest_ip\n",
      "measure.send(nidb, command, remote_hosts)"
     ],
     "language": "python",
     "metadata": {},
     "outputs": [
      {
       "output_type": "stream",
       "stream": "stderr",
       "text": [
        "\u001b[1;37mINFO\u001b[0m Trace from 1 to 7\n"
       ]
      },
      {
       "output_type": "stream",
       "stream": "stderr",
       "text": [
        "\u001b[1;37mINFO\u001b[0m:ANK:Trace from 1 to 7\n"
       ]
      },
      {
       "output_type": "stream",
       "stream": "stderr",
       "text": [
        "\u001b[1;37mINFO\u001b[0m 'traceroute -n -a -U -w 0.5 10.0.0.3\n",
        "traceroute to 10.0.0.3 (10.0.0.3), 64 hops max, 40 byte packets\n",
        " 1  10.2.0.22  1 ms\n",
        " 2  10.2.0.6  1 ms\n",
        " 3  10.0.0.3  2 ms\n",
        "r1:~# '\n"
       ]
      },
      {
       "output_type": "stream",
       "stream": "stderr",
       "text": [
        "\u001b[1;37mINFO\u001b[0m:ANK:'traceroute -n -a -U -w 0.5 10.0.0.3\n",
        "traceroute to 10.0.0.3 (10.0.0.3), 64 hops max, 40 byte packets\n",
        " 1  10.2.0.22  1 ms\n",
        " 2  10.2.0.6  1 ms\n",
        " 3  10.0.0.3  2 ms\n",
        "r1:~# '\n"
       ]
      },
      {
       "output_type": "stream",
       "stream": "stderr",
       "text": [
        "\u001b[1;37mINFO\u001b[0m [1, 5, 8, 7]\n"
       ]
      },
      {
       "output_type": "stream",
       "stream": "stderr",
       "text": [
        "\u001b[1;37mINFO\u001b[0m:ANK:[1, 5, 8, 7]\n"
       ]
      },
      {
       "output_type": "pyout",
       "prompt_number": 24,
       "text": [
        "[[1, 5, 8, 7]]"
       ]
      }
     ],
     "prompt_number": 24
    },
    {
     "cell_type": "code",
     "collapsed": false,
     "input": [
      "dest_ip = nidb.node(\"9\").interfaces[0].ipv4_address\n",
      "command = \"traceroute -n -a -U -w 0.5 %s\" % dest_ip\n",
      "measure.send(nidb, command, remote_hosts)"
     ],
     "language": "python",
     "metadata": {},
     "outputs": [
      {
       "output_type": "stream",
       "stream": "stderr",
       "text": [
        "\u001b[1;37mINFO\u001b[0m Trace from 1 to 9\n"
       ]
      },
      {
       "output_type": "stream",
       "stream": "stderr",
       "text": [
        "\u001b[1;37mINFO\u001b[0m:ANK:Trace from 1 to 9\n"
       ]
      },
      {
       "output_type": "stream",
       "stream": "stderr",
       "text": [
        "\u001b[1;37mINFO\u001b[0m 'traceroute -n -a -U -w 0.5 10.0.0.5\n",
        "traceroute to 10.0.0.5 (10.0.0.5), 64 hops max, 40 byte packets\n",
        " 1  10.2.0.22  2 ms\n",
        " 2  10.2.0.2  2 ms\n",
        " 3  10.0.0.5  2 ms\n",
        "r1:~# '\n"
       ]
      },
      {
       "output_type": "stream",
       "stream": "stderr",
       "text": [
        "\u001b[1;37mINFO\u001b[0m:ANK:'traceroute -n -a -U -w 0.5 10.0.0.5\n",
        "traceroute to 10.0.0.5 (10.0.0.5), 64 hops max, 40 byte packets\n",
        " 1  10.2.0.22  2 ms\n",
        " 2  10.2.0.2  2 ms\n",
        " 3  10.0.0.5  2 ms\n",
        "r1:~# '\n"
       ]
      },
      {
       "output_type": "stream",
       "stream": "stderr",
       "text": [
        "\u001b[1;37mINFO\u001b[0m [1, 5, 6, 9]\n"
       ]
      },
      {
       "output_type": "stream",
       "stream": "stderr",
       "text": [
        "\u001b[1;37mINFO\u001b[0m:ANK:[1, 5, 6, 9]\n"
       ]
      },
      {
       "output_type": "pyout",
       "prompt_number": 25,
       "text": [
        "[[1, 5, 6, 9]]"
       ]
      }
     ],
     "prompt_number": 25
    },
    {
     "cell_type": "code",
     "collapsed": false,
     "input": [
      "dest_ip = nidb.node(\"4\").interfaces[0].ipv4_address\n",
      "command = \"traceroute -n -a -U -w 0.5 %s\" % dest_ip\n",
      "measure.send(nidb, command, remote_hosts)"
     ],
     "language": "python",
     "metadata": {},
     "outputs": [
      {
       "output_type": "stream",
       "stream": "stderr",
       "text": [
        "\u001b[1;37mINFO\u001b[0m Trace from 1 to 4\n"
       ]
      },
      {
       "output_type": "stream",
       "stream": "stderr",
       "text": [
        "\u001b[1;37mINFO\u001b[0m:ANK:Trace from 1 to 4\n"
       ]
      },
      {
       "output_type": "stream",
       "stream": "stderr",
       "text": [
        "\u001b[1;37mINFO\u001b[0m 'traceroute -n -a -U -w 0.5 10.0.0.19\n",
        "traceroute to 10.0.0.19 (10.0.0.19), 64 hops max, 40 byte packets\n",
        " 1  10.2.0.14  0 ms\n",
        " 2  10.0.0.19  1 ms\n",
        "r1:~# '\n"
       ]
      },
      {
       "output_type": "stream",
       "stream": "stderr",
       "text": [
        "\u001b[1;37mINFO\u001b[0m:ANK:'traceroute -n -a -U -w 0.5 10.0.0.19\n",
        "traceroute to 10.0.0.19 (10.0.0.19), 64 hops max, 40 byte packets\n",
        " 1  10.2.0.14  0 ms\n",
        " 2  10.0.0.19  1 ms\n",
        "r1:~# '\n"
       ]
      },
      {
       "output_type": "stream",
       "stream": "stderr",
       "text": [
        "\u001b[1;37mINFO\u001b[0m [1, 3, 4]\n"
       ]
      },
      {
       "output_type": "stream",
       "stream": "stderr",
       "text": [
        "\u001b[1;37mINFO\u001b[0m:ANK:[1, 3, 4]\n"
       ]
      },
      {
       "output_type": "pyout",
       "prompt_number": 28,
       "text": [
        "[[1, 3, 4]]"
       ]
      }
     ],
     "prompt_number": 28
    },
    {
     "cell_type": "code",
     "collapsed": false,
     "input": [
      "dest_ip = nidb.node(\"8\").interfaces[2].ipv4_address\n",
      "command = \"traceroute -n -a -U -w 0.5 %s\" % dest_ip\n",
      "measure.send(nidb, command, remote_hosts)"
     ],
     "language": "python",
     "metadata": {},
     "outputs": [
      {
       "output_type": "stream",
       "stream": "stderr",
       "text": [
        "\u001b[1;37mINFO\u001b[0m Trace from 1 to 8\n"
       ]
      },
      {
       "output_type": "stream",
       "stream": "stderr",
       "text": [
        "\u001b[1;37mINFO\u001b[0m:ANK:Trace from 1 to 8\n"
       ]
      },
      {
       "output_type": "stream",
       "stream": "stderr",
       "text": [
        "\u001b[1;37mINFO\u001b[0m 'traceroute -n -a -U -w 0.5 10.2.0.6\n",
        "traceroute to 10.2.0.6 (10.2.0.6), 64 hops max, 40 byte packets\n",
        " 1  10.2.0.22  2 ms\n",
        " 2  10.2.0.6  2 ms\n",
        "r1:~# '\n"
       ]
      },
      {
       "output_type": "stream",
       "stream": "stderr",
       "text": [
        "\u001b[1;37mINFO\u001b[0m:ANK:'traceroute -n -a -U -w 0.5 10.2.0.6\n",
        "traceroute to 10.2.0.6 (10.2.0.6), 64 hops max, 40 byte packets\n",
        " 1  10.2.0.22  2 ms\n",
        " 2  10.2.0.6  2 ms\n",
        "r1:~# '\n"
       ]
      },
      {
       "output_type": "stream",
       "stream": "stderr",
       "text": [
        "\u001b[1;37mINFO\u001b[0m [1, 5, 8]\n"
       ]
      },
      {
       "output_type": "stream",
       "stream": "stderr",
       "text": [
        "\u001b[1;37mINFO\u001b[0m:ANK:[1, 5, 8]\n"
       ]
      },
      {
       "output_type": "pyout",
       "prompt_number": 34,
       "text": [
        "[[1, 5, 8]]"
       ]
      }
     ],
     "prompt_number": 34
    },
    {
     "cell_type": "code",
     "collapsed": false,
     "input": [],
     "language": "python",
     "metadata": {},
     "outputs": []
    }
   ],
   "metadata": {}
  }
 ]
}