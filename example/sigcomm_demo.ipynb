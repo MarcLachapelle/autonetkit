{
 "metadata": {
  "name": "sigcomm_demo"
 },
 "nbformat": 3,
 "nbformat_minor": 0,
 "worksheets": [
  {
   "cells": [
    {
     "cell_type": "heading",
     "level": 3,
     "metadata": {},
     "source": [
      "Creating ANM from topology graph"
     ]
    },
    {
     "cell_type": "code",
     "collapsed": false,
     "input": [
      "import autonetkit\n",
      "import autonetkit.load.graphml as graphml\n",
      "\n",
      "anm =  autonetkit.ANM()\n",
      "input_graph = graphml.load_graphml(\"sigcomm_demo.graphml\")\n",
      "\n",
      "import autonetkit.build_network as build_network\n",
      "anm = build_network.initialise(input_graph)\n",
      "autonetkit.update_http(anm)"
     ],
     "language": "python",
     "metadata": {},
     "outputs": [],
     "prompt_number": 16
    },
    {
     "cell_type": "heading",
     "level": 3,
     "metadata": {},
     "source": [
      "Applying network design rules"
     ]
    },
    {
     "cell_type": "code",
     "collapsed": false,
     "input": [
      "anm = build_network.apply_design_rules(anm)\n",
      "autonetkit.update_http(anm)"
     ],
     "language": "python",
     "metadata": {},
     "outputs": [
      {
       "output_type": "stream",
       "stream": "stderr",
       "text": [
        "\u001b[1;37mINFO\u001b[0m Allocating v4 Infrastructure IPs\n"
       ]
      },
      {
       "output_type": "stream",
       "stream": "stderr",
       "text": [
        "\u001b[1;37mINFO\u001b[0m:ANK:Allocating v4 Infrastructure IPs\n"
       ]
      },
      {
       "output_type": "stream",
       "stream": "stderr",
       "text": [
        "\u001b[1;37mINFO\u001b[0m Allocating v4 Primary Host loopback IPs\n"
       ]
      },
      {
       "output_type": "stream",
       "stream": "stderr",
       "text": [
        "\u001b[1;37mINFO\u001b[0m:ANK:Allocating v4 Primary Host loopback IPs\n"
       ]
      },
      {
       "output_type": "stream",
       "stream": "stderr",
       "text": [
        "\u001b[1;37mINFO\u001b[0m Allocating v4 Secondary Host loopback IPs\n"
       ]
      },
      {
       "output_type": "stream",
       "stream": "stderr",
       "text": [
        "\u001b[1;37mINFO\u001b[0m:ANK:Allocating v4 Secondary Host loopback IPs\n"
       ]
      }
     ],
     "prompt_number": 17
    },
    {
     "cell_type": "heading",
     "level": 3,
     "metadata": {},
     "source": [
      "Modifying Network using API"
     ]
    },
    {
     "cell_type": "code",
     "collapsed": false,
     "input": [
      "e1_8 = anm['ospf'].edge('1', '8')\n",
      "e1_8.cost = 10\n",
      "e1_8.apply_to_interfaces(\"cost\")\n",
      "\n",
      "autonetkit.update_http(anm)"
     ],
     "language": "python",
     "metadata": {},
     "outputs": [],
     "prompt_number": 18
    },
    {
     "cell_type": "heading",
     "level": 3,
     "metadata": {},
     "source": [
      "Compiling ANM to NIDB"
     ]
    },
    {
     "cell_type": "code",
     "collapsed": false,
     "input": [
      "import autonetkit.console_script as console_script\n",
      "render_hostname = \"localhost\"\n",
      "\n",
      "nidb = console_script.create_nidb(anm)\n",
      "nk_compiler = autonetkit.compiler.NetkitCompiler(nidb, anm, render_hostname)\n",
      "nk_compiler.compile()\n",
      "autonetkit.update_http(anm, nidb)"
     ],
     "language": "python",
     "metadata": {},
     "outputs": [
      {
       "output_type": "stream",
       "stream": "stderr",
       "text": [
        "\u001b[1;37mINFO\u001b[0m Compiling Netkit for localhost\n"
       ]
      },
      {
       "output_type": "stream",
       "stream": "stderr",
       "text": [
        "\u001b[1;37mINFO\u001b[0m:ANK:Compiling Netkit for localhost\n"
       ]
      }
     ],
     "prompt_number": 19
    },
    {
     "cell_type": "heading",
     "level": 3,
     "metadata": {},
     "source": [
      "Viewing NIDB Attributes"
     ]
    },
    {
     "cell_type": "code",
     "collapsed": false,
     "input": [
      "router = nidb.routers().next() # choose a router\n",
      "router.dump()"
     ],
     "language": "python",
     "metadata": {},
     "outputs": [
      {
       "output_type": "stream",
       "stream": "stdout",
       "text": [
        "{'Network': None,\n",
        " '_interfaces': {0: {'description': 'Loopback',\n",
        "                     'id': 'lo0:1',\n",
        "                     'id_brief': 'lo0:1',\n",
        "                     'ipv4_address': IPAddress('10.0.0.1'),\n",
        "                     'ipv4_subnet': IPNetwork('10.0.0.1/32'),\n",
        "                     'type': 'loopback'},\n",
        "                 1: {'description': '1 to 8',\n",
        "                     'id': 'eth0',\n",
        "                     'id_brief': 'eth0',\n",
        "                     'ipv4_address': IPAddress('10.2.0.25'),\n",
        "                     'ipv4_cidr': IPNetwork('10.2.0.25/30'),\n",
        "                     'ipv4_subnet': IPNetwork('10.2.0.24/30'),\n",
        "                     'numeric_id': 0,\n",
        "                     'ospf_cost': 10,\n",
        "                     'physical': True,\n",
        "                     'type': 'physical'},\n",
        "                 2: {'description': '1 to 3',\n",
        "                     'id': 'eth1',\n",
        "                     'id_brief': 'eth1',\n",
        "                     'ipv4_address': IPAddress('10.2.0.13'),\n",
        "                     'ipv4_cidr': IPNetwork('10.2.0.13/30'),\n",
        "                     'ipv4_subnet': IPNetwork('10.2.0.12/30'),\n",
        "                     'numeric_id': 1,\n",
        "                     'physical': True,\n",
        "                     'type': 'physical'},\n",
        "                 3: {'description': '1 to 4',\n",
        "                     'id': 'eth2',\n",
        "                     'id_brief': 'eth2',\n",
        "                     'ipv4_address': IPAddress('10.2.0.17'),\n",
        "                     'ipv4_cidr': IPNetwork('10.2.0.17/30'),\n",
        "                     'ipv4_subnet': IPNetwork('10.2.0.16/30'),\n",
        "                     'numeric_id': 2,\n",
        "                     'physical': True,\n",
        "                     'type': 'physical'},\n",
        "                 4: {'description': '1 to 2',\n",
        "                     'id': 'eth3',\n",
        "                     'id_brief': 'eth3',\n",
        "                     'ipv4_address': IPAddress('10.2.0.9'),\n",
        "                     'ipv4_cidr': IPNetwork('10.2.0.9/30'),\n",
        "                     'ipv4_subnet': IPNetwork('10.2.0.8/30'),\n",
        "                     'numeric_id': 3,\n",
        "                     'physical': True,\n",
        "                     'type': 'physical'},\n",
        "                 5: {'description': '1 to 5',\n",
        "                     'id': 'eth4',\n",
        "                     'id_brief': 'eth4',\n",
        "                     'ipv4_address': IPAddress('10.2.0.21'),\n",
        "                     'ipv4_cidr': IPNetwork('10.2.0.21/30'),\n",
        "                     'ipv4_subnet': IPNetwork('10.2.0.20/30'),\n",
        "                     'numeric_id': 4,\n",
        "                     'ospf_cost': 1,\n",
        "                     'physical': True,\n",
        "                     'type': 'physical'}},\n",
        " 'asn': 1,\n",
        " 'bgp': {'debug': True,\n",
        "         'ebgp_neighbors': [{'asn': 2,\n",
        "                             'dst_int_ip': IPAddress('10.2.0.14'),\n",
        "                             'local_int_ip': IPAddress('10.2.0.13'),\n",
        "                             'loopback': IPAddress('10.0.0.17'),\n",
        "                             'neighbor': '3',\n",
        "                             'update_source': None,\n",
        "                             'use_ipv4': True,\n",
        "                             'use_ipv6': False},\n",
        "                            {'asn': 2,\n",
        "                             'dst_int_ip': IPAddress('10.2.0.10'),\n",
        "                             'local_int_ip': IPAddress('10.2.0.9'),\n",
        "                             'loopback': IPAddress('10.0.0.18'),\n",
        "                             'neighbor': '2',\n",
        "                             'update_source': None,\n",
        "                             'use_ipv4': True,\n",
        "                             'use_ipv6': False},\n",
        "                            {'asn': 2,\n",
        "                             'dst_int_ip': IPAddress('10.2.0.18'),\n",
        "                             'local_int_ip': IPAddress('10.2.0.17'),\n",
        "                             'loopback': IPAddress('10.0.0.19'),\n",
        "                             'neighbor': '4',\n",
        "                             'update_source': None,\n",
        "                             'use_ipv4': True,\n",
        "                             'use_ipv6': False}],\n",
        "         'ibgp_neighbors': [{'asn': 1,\n",
        "                             'loopback': IPAddress('10.0.0.5'),\n",
        "                             'neighbor': '9',\n",
        "                             'update_source': None,\n",
        "                             'use_ipv4': True,\n",
        "                             'use_ipv6': False},\n",
        "                            {'asn': 1,\n",
        "                             'loopback': IPAddress('10.0.0.6'),\n",
        "                             'neighbor': '8',\n",
        "                             'update_source': None,\n",
        "                             'use_ipv4': True,\n",
        "                             'use_ipv6': False},\n",
        "                            {'asn': 1,\n",
        "                             'loopback': IPAddress('10.0.0.2'),\n",
        "                             'neighbor': '5',\n",
        "                             'update_source': None,\n",
        "                             'use_ipv4': True,\n",
        "                             'use_ipv6': False},\n",
        "                            {'asn': 1,\n",
        "                             'loopback': IPAddress('10.0.0.3'),\n",
        "                             'neighbor': '7',\n",
        "                             'update_source': None,\n",
        "                             'use_ipv4': True,\n",
        "                             'use_ipv6': False},\n",
        "                            {'asn': 1,\n",
        "                             'loopback': IPAddress('10.0.0.4'),\n",
        "                             'neighbor': '6',\n",
        "                             'update_source': None,\n",
        "                             'use_ipv4': True,\n",
        "                             'use_ipv6': False}],\n",
        "         'ibgp_rr_clients': [],\n",
        "         'ibgp_rr_parents': [],\n",
        "         'ipv4_advertise_subnets': [IPNetwork('10.2.0.0/16')],\n",
        "         'ipv6_advertise_subnets': []},\n",
        " 'device_subtype': None,\n",
        " 'device_type': 'router',\n",
        " 'graphics': {'device_subtype': None,\n",
        "              'device_type': 'router',\n",
        "              'x': -119.09449897766115,\n",
        "              'y': 83.07769916534423},\n",
        " 'host': 'localhost',\n",
        " 'hostname': 'r1',\n",
        " 'input_label': '1',\n",
        " 'interfaces': [],\n",
        " 'ip': {'use_ipv4': True, 'use_ipv6': False},\n",
        " 'label': '1',\n",
        " 'loopback': IPAddress('10.0.0.1'),\n",
        " 'loopback_subnet': IPNetwork('10.0.0.1/32'),\n",
        " 'ospf': {'lo_interface': 'lo0:1',\n",
        "          'loopback_area': 0,\n",
        "          'ospf_links': [{'area': 0, 'network': IPNetwork('10.2.0.24/30')},\n",
        "                         {'area': 0, 'network': IPNetwork('10.2.0.20/30')},\n",
        "                         {'area': 0, 'network': IPNetwork('10.2.0.12/30')},\n",
        "                         {'area': 0, 'network': IPNetwork('10.2.0.16/30')},\n",
        "                         {'area': 0, 'network': IPNetwork('10.2.0.8/30')}],\n",
        "          'passive_interfaces': [{'id': 'eth1'},\n",
        "                                 {'id': 'eth2'},\n",
        "                                 {'id': 'eth3'}],\n",
        "          'process_id': 1},\n",
        " 'platform': 'netkit',\n",
        " 'render': {'base': 'templates/quagga',\n",
        "            'base_dst_folder': 'rendered/localhost/netkit/1',\n",
        "            'dst_file': '1.startup',\n",
        "            'dst_folder': 'rendered/localhost/netkit',\n",
        "            'template': 'templates/netkit_startup.mako'},\n",
        " 'ssh': {'use_key': True},\n",
        " 'tap': {'id': 'eth5', 'ip': IPAddress('172.16.0.3')},\n",
        " 'update': None,\n",
        " 'x': 95.35999999999999,\n",
        " 'y': 196.48,\n",
        " 'zebra': {'password': '1234', 'static_routes': []}}\n"
       ]
      }
     ],
     "prompt_number": 20
    },
    {
     "cell_type": "heading",
     "level": 3,
     "metadata": {},
     "source": [
      "Rendering NIDB to Configuration Files"
     ]
    },
    {
     "cell_type": "code",
     "collapsed": false,
     "input": [
      "import autonetkit.render\n",
      "autonetkit.render.render(nidb)"
     ],
     "language": "python",
     "metadata": {},
     "outputs": [
      {
       "output_type": "stream",
       "stream": "stderr",
       "text": [
        "\u001b[1;37mINFO\u001b[0m Rendering Network\n"
       ]
      },
      {
       "output_type": "stream",
       "stream": "stderr",
       "text": [
        "\u001b[1;37mINFO\u001b[0m:ANK:Rendering Network\n"
       ]
      }
     ],
     "prompt_number": 21
    },
    {
     "cell_type": "heading",
     "level": 3,
     "metadata": {},
     "source": [
      "Viewing Output Configurations"
     ]
    },
    {
     "cell_type": "code",
     "collapsed": false,
     "input": [
      "import os\n",
      "dst_folder = nidb.topology['localhost'].render_dst_folder\n",
      "for path, dirs, files in os.walk(dst_folder):\n",
      "  print path\n",
      "  for f in files:\n",
      "    print \"\\t\", f"
     ],
     "language": "python",
     "metadata": {},
     "outputs": [
      {
       "output_type": "stream",
       "stream": "stdout",
       "text": [
        "rendered/localhost/netkit\n",
        "\t.DS_Store\n",
        "\t1.startup\n",
        "\t10.startup\n",
        "\t11.startup\n",
        "\t12.startup\n",
        "\t13.startup\n",
        "\t14.startup\n",
        "\t15.startup\n",
        "\t16.startup\n",
        "\t17.startup\n",
        "\t2.startup\n",
        "\t3.startup\n",
        "\t4.startup\n",
        "\t5.startup\n",
        "\t6.startup\n",
        "\t7.startup\n",
        "\t8.startup\n",
        "\t9.startup\n",
        "\tAtlanta.startup\n",
        "\tChicago.startup\n",
        "\tDenver.startup\n",
        "\tHouston.startup\n",
        "\tIndianapolis.startup\n",
        "\tKansas_City.startup\n",
        "\tlab.conf\n",
        "\tLos_Angeles.startup\n",
        "\tNew_York.startup\n",
        "\tSeattle.startup\n",
        "\tSunnyvale.startup\n",
        "\tWashington_DC.startup\n",
        "rendered/localhost/netkit/1\n",
        "rendered/localhost/netkit/1/etc\n",
        "\thostname\n",
        "\tshadow\n",
        "rendered/localhost/netkit/1/etc/ssh\n",
        "\tsshd_config\n",
        "rendered/localhost/netkit/1/etc/zebra\n",
        "\tbgpd.conf\n",
        "\tdaemons\n",
        "\tisisd.conf\n",
        "\tmotd.txt\n",
        "\tospfd.conf\n",
        "\tzebra.conf\n",
        "rendered/localhost/netkit/1/root\n",
        "rendered/localhost/netkit/1/root/.ssh\n",
        "\tauthorized_keys\n",
        "rendered/localhost/netkit/10\n",
        "rendered/localhost/netkit/10/etc\n",
        "\thostname\n",
        "\tshadow\n",
        "rendered/localhost/netkit/10/etc/ssh\n",
        "\tsshd_config\n",
        "rendered/localhost/netkit/10/etc/zebra\n",
        "\tbgpd.conf\n",
        "\tdaemons\n",
        "\tisisd.conf\n",
        "\tmotd.txt\n",
        "\tospfd.conf\n",
        "\tzebra.conf\n",
        "rendered/localhost/netkit/10/root\n",
        "rendered/localhost/netkit/10/root/.ssh\n",
        "\tauthorized_keys\n",
        "rendered/localhost/netkit/11\n",
        "rendered/localhost/netkit/11/etc\n",
        "\thostname\n",
        "\tshadow\n",
        "rendered/localhost/netkit/11/etc/ssh\n",
        "\tsshd_config\n",
        "rendered/localhost/netkit/11/etc/zebra\n",
        "\tbgpd.conf\n",
        "\tdaemons\n",
        "\tisisd.conf\n",
        "\tmotd.txt\n",
        "\tospfd.conf\n",
        "\tzebra.conf\n",
        "rendered/localhost/netkit/11/root\n",
        "rendered/localhost/netkit/11/root/.ssh\n",
        "\tauthorized_keys\n",
        "rendered/localhost/netkit/12\n",
        "rendered/localhost/netkit/12/etc\n",
        "\thostname\n",
        "\tshadow\n",
        "rendered/localhost/netkit/12/etc/ssh\n",
        "\tsshd_config\n",
        "rendered/localhost/netkit/12/etc/zebra\n",
        "\tbgpd.conf\n",
        "\tdaemons\n",
        "\tisisd.conf\n",
        "\tmotd.txt\n",
        "\tospfd.conf\n",
        "\tzebra.conf\n",
        "rendered/localhost/netkit/12/root\n",
        "rendered/localhost/netkit/12/root/.ssh\n",
        "\tauthorized_keys\n",
        "rendered/localhost/netkit/13\n",
        "rendered/localhost/netkit/13/etc\n",
        "\thostname\n",
        "\tshadow\n",
        "rendered/localhost/netkit/13/etc/ssh\n",
        "\tsshd_config\n",
        "rendered/localhost/netkit/13/etc/zebra\n",
        "\tbgpd.conf\n",
        "\tdaemons\n",
        "\tisisd.conf\n",
        "\tmotd.txt\n",
        "\tospfd.conf\n",
        "\tzebra.conf\n",
        "rendered/localhost/netkit/13/root\n",
        "rendered/localhost/netkit/13/root/.ssh\n",
        "\tauthorized_keys\n",
        "rendered/localhost/netkit/14\n",
        "rendered/localhost/netkit/14/etc\n",
        "\thostname\n",
        "\tshadow\n",
        "rendered/localhost/netkit/14/etc/ssh\n",
        "\tsshd_config\n",
        "rendered/localhost/netkit/14/etc/zebra\n",
        "\tbgpd.conf\n",
        "\tdaemons\n",
        "\tisisd.conf\n",
        "\tmotd.txt\n",
        "\tospfd.conf\n",
        "\tzebra.conf\n",
        "rendered/localhost/netkit/14/root\n",
        "rendered/localhost/netkit/14/root/.ssh\n",
        "\tauthorized_keys\n",
        "rendered/localhost/netkit/15\n",
        "rendered/localhost/netkit/15/etc\n",
        "\thostname\n",
        "\tshadow\n",
        "rendered/localhost/netkit/15/etc/ssh\n",
        "\tsshd_config\n",
        "rendered/localhost/netkit/15/etc/zebra\n",
        "\tbgpd.conf\n",
        "\tdaemons\n",
        "\tisisd.conf\n",
        "\tmotd.txt\n",
        "\tospfd.conf\n",
        "\tzebra.conf\n",
        "rendered/localhost/netkit/15/root\n",
        "rendered/localhost/netkit/15/root/.ssh\n",
        "\tauthorized_keys\n",
        "rendered/localhost/netkit/16\n",
        "rendered/localhost/netkit/16/etc\n",
        "\thostname\n",
        "\tshadow\n",
        "rendered/localhost/netkit/16/etc/ssh\n",
        "\tsshd_config\n",
        "rendered/localhost/netkit/16/etc/zebra\n",
        "\tbgpd.conf\n",
        "\tdaemons\n",
        "\tisisd.conf\n",
        "\tmotd.txt\n",
        "\tospfd.conf\n",
        "\tzebra.conf\n",
        "rendered/localhost/netkit/16/root\n",
        "rendered/localhost/netkit/16/root/.ssh\n",
        "\tauthorized_keys\n",
        "rendered/localhost/netkit/17\n",
        "rendered/localhost/netkit/17/etc\n",
        "\thostname\n",
        "\tshadow\n",
        "rendered/localhost/netkit/17/etc/ssh\n",
        "\tsshd_config\n",
        "rendered/localhost/netkit/17/etc/zebra\n",
        "\tbgpd.conf\n",
        "\tdaemons\n",
        "\tisisd.conf\n",
        "\tmotd.txt\n",
        "\tospfd.conf\n",
        "\tzebra.conf\n",
        "rendered/localhost/netkit/17/root\n",
        "rendered/localhost/netkit/17/root/.ssh\n",
        "\tauthorized_keys\n",
        "rendered/localhost/netkit/2\n",
        "rendered/localhost/netkit/2/etc\n",
        "\thostname\n",
        "\tshadow\n",
        "rendered/localhost/netkit/2/etc/ssh\n",
        "\tsshd_config\n",
        "rendered/localhost/netkit/2/etc/zebra\n",
        "\tbgpd.conf\n",
        "\tdaemons\n",
        "\tisisd.conf\n",
        "\tmotd.txt\n",
        "\tospfd.conf\n",
        "\tzebra.conf\n",
        "rendered/localhost/netkit/2/root\n",
        "rendered/localhost/netkit/2/root/.ssh\n",
        "\tauthorized_keys\n",
        "rendered/localhost/netkit/3\n",
        "rendered/localhost/netkit/3/etc\n",
        "\thostname\n",
        "\tshadow\n",
        "rendered/localhost/netkit/3/etc/ssh\n",
        "\tsshd_config\n",
        "rendered/localhost/netkit/3/etc/zebra\n",
        "\tbgpd.conf\n",
        "\tdaemons\n",
        "\tisisd.conf\n",
        "\tmotd.txt\n",
        "\tospfd.conf\n",
        "\tzebra.conf\n",
        "rendered/localhost/netkit/3/root\n",
        "rendered/localhost/netkit/3/root/.ssh\n",
        "\tauthorized_keys\n",
        "rendered/localhost/netkit/4\n",
        "rendered/localhost/netkit/4/etc\n",
        "\thostname\n",
        "\tshadow\n",
        "rendered/localhost/netkit/4/etc/ssh\n",
        "\tsshd_config\n",
        "rendered/localhost/netkit/4/etc/zebra\n",
        "\tbgpd.conf\n",
        "\tdaemons\n",
        "\tisisd.conf\n",
        "\tmotd.txt\n",
        "\tospfd.conf\n",
        "\tzebra.conf\n",
        "rendered/localhost/netkit/4/root\n",
        "rendered/localhost/netkit/4/root/.ssh\n",
        "\tauthorized_keys\n",
        "rendered/localhost/netkit/5\n",
        "rendered/localhost/netkit/5/etc\n",
        "\thostname\n",
        "\tshadow\n",
        "rendered/localhost/netkit/5/etc/ssh\n",
        "\tsshd_config\n",
        "rendered/localhost/netkit/5/etc/zebra\n",
        "\tbgpd.conf\n",
        "\tdaemons\n",
        "\tisisd.conf\n",
        "\tmotd.txt\n",
        "\tospfd.conf\n",
        "\tzebra.conf\n",
        "rendered/localhost/netkit/5/root\n",
        "rendered/localhost/netkit/5/root/.ssh\n",
        "\tauthorized_keys\n",
        "rendered/localhost/netkit/6\n",
        "rendered/localhost/netkit/6/etc\n",
        "\thostname\n",
        "\tshadow\n",
        "rendered/localhost/netkit/6/etc/ssh\n",
        "\tsshd_config\n",
        "rendered/localhost/netkit/6/etc/zebra\n",
        "\tbgpd.conf\n",
        "\tdaemons\n",
        "\tisisd.conf\n",
        "\tmotd.txt\n",
        "\tospfd.conf\n",
        "\tzebra.conf\n",
        "rendered/localhost/netkit/6/root\n",
        "rendered/localhost/netkit/6/root/.ssh\n",
        "\tauthorized_keys\n",
        "rendered/localhost/netkit/7\n",
        "rendered/localhost/netkit/7/etc\n",
        "\thostname\n",
        "\tshadow\n",
        "rendered/localhost/netkit/7/etc/ssh\n",
        "\tsshd_config\n",
        "rendered/localhost/netkit/7/etc/zebra\n",
        "\tbgpd.conf\n",
        "\tdaemons\n",
        "\tisisd.conf\n",
        "\tmotd.txt\n",
        "\tospfd.conf\n",
        "\tzebra.conf\n",
        "rendered/localhost/netkit/7/root\n",
        "rendered/localhost/netkit/7/root/.ssh\n",
        "\tauthorized_keys\n",
        "rendered/localhost/netkit/8\n",
        "rendered/localhost/netkit/8/etc\n",
        "\thostname\n",
        "\tshadow\n",
        "rendered/localhost/netkit/8/etc/ssh\n",
        "\tsshd_config\n",
        "rendered/localhost/netkit/8/etc/zebra\n",
        "\tbgpd.conf\n",
        "\tdaemons\n",
        "\tisisd.conf\n",
        "\tmotd.txt\n",
        "\tospfd.conf\n",
        "\tzebra.conf\n",
        "rendered/localhost/netkit/8/root\n",
        "rendered/localhost/netkit/8/root/.ssh\n",
        "\tauthorized_keys\n",
        "rendered/localhost/netkit/9\n",
        "rendered/localhost/netkit/9/etc\n",
        "\thostname\n",
        "\tshadow\n",
        "rendered/localhost/netkit/9/etc/ssh\n",
        "\tsshd_config\n",
        "rendered/localhost/netkit/9/etc/zebra\n",
        "\tbgpd.conf\n",
        "\tdaemons\n",
        "\tisisd.conf\n",
        "\tmotd.txt\n",
        "\tospfd.conf\n",
        "\tzebra.conf\n",
        "rendered/localhost/netkit/9/root\n",
        "rendered/localhost/netkit/9/root/.ssh\n",
        "\tauthorized_keys\n",
        "rendered/localhost/netkit/Atlanta\n",
        "\t.DS_Store\n",
        "rendered/localhost/netkit/Atlanta/etc\n",
        "\t.DS_Store\n",
        "\thostname\n",
        "\tshadow\n",
        "rendered/localhost/netkit/Atlanta/etc/ssh\n",
        "\tsshd_config\n",
        "rendered/localhost/netkit/Atlanta/etc/zebra\n",
        "\tbgpd.conf\n",
        "\tdaemons\n",
        "\tisisd.conf\n",
        "\tmotd.txt\n",
        "\tospfd.conf\n",
        "\tzebra.conf\n",
        "rendered/localhost/netkit/Atlanta/root\n",
        "rendered/localhost/netkit/Atlanta/root/.ssh\n",
        "\tauthorized_keys\n",
        "rendered/localhost/netkit/Chicago\n",
        "\t.DS_Store\n",
        "rendered/localhost/netkit/Chicago/etc\n",
        "\t.DS_Store\n",
        "\thostname\n",
        "\tshadow\n",
        "rendered/localhost/netkit/Chicago/etc/ssh\n",
        "\tsshd_config\n",
        "rendered/localhost/netkit/Chicago/etc/zebra\n",
        "\tbgpd.conf\n",
        "\tdaemons\n",
        "\tisisd.conf\n",
        "\tmotd.txt\n",
        "\tospfd.conf\n",
        "\tzebra.conf\n",
        "rendered/localhost/netkit/Chicago/root\n",
        "rendered/localhost/netkit/Chicago/root/.ssh\n",
        "\tauthorized_keys\n",
        "rendered/localhost/netkit/Denver\n",
        "\t.DS_Store\n",
        "rendered/localhost/netkit/Denver/etc\n",
        "\t.DS_Store\n",
        "\thostname\n",
        "\tshadow\n",
        "rendered/localhost/netkit/Denver/etc/ssh\n",
        "\tsshd_config\n",
        "rendered/localhost/netkit/Denver/etc/zebra\n",
        "\tbgpd.conf\n",
        "\tdaemons\n",
        "\tisisd.conf\n",
        "\tmotd.txt\n",
        "\tospfd.conf\n",
        "\tzebra.conf\n",
        "rendered/localhost/netkit/Denver/root\n",
        "rendered/localhost/netkit/Denver/root/.ssh\n",
        "\tauthorized_keys\n",
        "rendered/localhost/netkit/Houston\n",
        "\t.DS_Store\n",
        "rendered/localhost/netkit/Houston/etc\n",
        "\t.DS_Store\n",
        "\thostname\n",
        "\tshadow\n",
        "rendered/localhost/netkit/Houston/etc/ssh\n",
        "\tsshd_config\n",
        "rendered/localhost/netkit/Houston/etc/zebra\n",
        "\tbgpd.conf\n",
        "\tdaemons\n",
        "\tisisd.conf\n",
        "\tmotd.txt\n",
        "\tospfd.conf\n",
        "\tzebra.conf\n",
        "rendered/localhost/netkit/Houston/root\n",
        "rendered/localhost/netkit/Houston/root/.ssh\n",
        "\tauthorized_keys\n",
        "rendered/localhost/netkit/Indianapolis\n",
        "\t.DS_Store\n",
        "rendered/localhost/netkit/Indianapolis/etc\n",
        "\t.DS_Store\n",
        "\thostname\n",
        "\tshadow\n",
        "rendered/localhost/netkit/Indianapolis/etc/ssh\n",
        "\tsshd_config\n",
        "rendered/localhost/netkit/Indianapolis/etc/zebra\n",
        "\tbgpd.conf\n",
        "\tdaemons\n",
        "\tisisd.conf\n",
        "\tmotd.txt\n",
        "\tospfd.conf\n",
        "\tzebra.conf\n",
        "rendered/localhost/netkit/Indianapolis/root\n",
        "rendered/localhost/netkit/Indianapolis/root/.ssh\n",
        "\tauthorized_keys\n",
        "rendered/localhost/netkit/Kansas_City\n",
        "\t.DS_Store\n",
        "rendered/localhost/netkit/Kansas_City/etc\n",
        "\t.DS_Store\n",
        "\thostname\n",
        "\tshadow\n",
        "rendered/localhost/netkit/Kansas_City/etc/ssh\n",
        "\tsshd_config\n",
        "rendered/localhost/netkit/Kansas_City/etc/zebra\n",
        "\tbgpd.conf\n",
        "\tdaemons\n",
        "\tisisd.conf\n",
        "\tmotd.txt\n",
        "\tospfd.conf\n",
        "\tzebra.conf\n",
        "rendered/localhost/netkit/Kansas_City/root\n",
        "rendered/localhost/netkit/Kansas_City/root/.ssh\n",
        "\tauthorized_keys\n",
        "rendered/localhost/netkit/Los_Angeles\n",
        "\t.DS_Store\n",
        "rendered/localhost/netkit/Los_Angeles/etc\n",
        "\t.DS_Store\n",
        "\thostname\n",
        "\tshadow\n",
        "rendered/localhost/netkit/Los_Angeles/etc/ssh\n",
        "\tsshd_config\n",
        "rendered/localhost/netkit/Los_Angeles/etc/zebra\n",
        "\tbgpd.conf\n",
        "\tdaemons\n",
        "\tisisd.conf\n",
        "\tmotd.txt\n",
        "\tospfd.conf\n",
        "\tzebra.conf\n",
        "rendered/localhost/netkit/Los_Angeles/root\n",
        "rendered/localhost/netkit/Los_Angeles/root/.ssh\n",
        "\tauthorized_keys\n",
        "rendered/localhost/netkit/New_York\n",
        "\t.DS_Store\n",
        "rendered/localhost/netkit/New_York/etc\n",
        "\t.DS_Store\n",
        "\thostname\n",
        "\tshadow\n",
        "rendered/localhost/netkit/New_York/etc/ssh\n",
        "\tsshd_config\n",
        "rendered/localhost/netkit/New_York/etc/zebra\n",
        "\tbgpd.conf\n",
        "\tdaemons\n",
        "\tisisd.conf\n",
        "\tmotd.txt\n",
        "\tospfd.conf\n",
        "\tzebra.conf\n",
        "rendered/localhost/netkit/New_York/root\n",
        "rendered/localhost/netkit/New_York/root/.ssh\n",
        "\tauthorized_keys\n",
        "rendered/localhost/netkit/Seattle\n",
        "\t.DS_Store\n",
        "rendered/localhost/netkit/Seattle/etc\n",
        "\t.DS_Store\n",
        "\thostname\n",
        "\tshadow\n",
        "rendered/localhost/netkit/Seattle/etc/ssh\n",
        "\tsshd_config\n",
        "rendered/localhost/netkit/Seattle/etc/zebra\n",
        "\tbgpd.conf\n",
        "\tdaemons\n",
        "\tisisd.conf\n",
        "\tmotd.txt\n",
        "\tospfd.conf\n",
        "\tzebra.conf\n",
        "rendered/localhost/netkit/Seattle/root\n",
        "rendered/localhost/netkit/Seattle/root/.ssh\n",
        "\tauthorized_keys\n",
        "rendered/localhost/netkit/Sunnyvale\n",
        "\t.DS_Store\n",
        "rendered/localhost/netkit/Sunnyvale/etc\n",
        "\t.DS_Store\n",
        "\thostname\n",
        "\tshadow\n",
        "rendered/localhost/netkit/Sunnyvale/etc/ssh\n",
        "\tsshd_config\n",
        "rendered/localhost/netkit/Sunnyvale/etc/zebra\n",
        "\tbgpd.conf\n",
        "\tdaemons\n",
        "\tisisd.conf\n",
        "\tmotd.txt\n",
        "\tospfd.conf\n",
        "\tzebra.conf\n",
        "rendered/localhost/netkit/Sunnyvale/root\n",
        "rendered/localhost/netkit/Sunnyvale/root/.ssh\n",
        "\tauthorized_keys\n",
        "rendered/localhost/netkit/Washington_DC\n",
        "\t.DS_Store\n",
        "rendered/localhost/netkit/Washington_DC/etc\n",
        "\t.DS_Store\n",
        "\thostname\n",
        "\tshadow\n",
        "rendered/localhost/netkit/Washington_DC/etc/ssh\n",
        "\tsshd_config\n",
        "rendered/localhost/netkit/Washington_DC/etc/zebra\n",
        "\tbgpd.conf\n",
        "\tdaemons\n",
        "\tisisd.conf\n",
        "\tmotd.txt\n",
        "\tospfd.conf\n",
        "\tzebra.conf\n",
        "rendered/localhost/netkit/Washington_DC/root\n",
        "rendered/localhost/netkit/Washington_DC/root/.ssh\n",
        "\tauthorized_keys\n"
       ]
      }
     ],
     "prompt_number": 22
    },
    {
     "cell_type": "heading",
     "level": 3,
     "metadata": {},
     "source": [
      "Viewing Configuration Files: OSPF"
     ]
    },
    {
     "cell_type": "code",
     "collapsed": false,
     "input": [
      "router = nidb.routers().next() # choose a router\n",
      "router = nidb.node(\"1\")\n",
      "zebra_dir = os.path.join(router.render.base_dst_folder, \"etc\", \"zebra\")\n",
      "\n",
      "ospfd_conf = os.path.join(zebra_dir, \"ospfd.conf\")\n",
      "with open(ospfd_conf, \"r\") as fh:\n",
      "    print fh.read()"
     ],
     "language": "python",
     "metadata": {},
     "outputs": [
      {
       "output_type": "stream",
       "stream": "stdout",
       "text": [
        "hostname r1\n",
        "password 1234   \n",
        "banner motd file /etc/quagga/motd.txt\n",
        "!\n",
        "  interface eth0\n",
        "  #Link to 1 to 8\n",
        "  ip ospf cost 10\n",
        "  !\n",
        "  interface eth4\n",
        "  #Link to 1 to 5\n",
        "  ip ospf cost 1\n",
        "  !\n",
        "!\n",
        "router ospf\n",
        "  network 10.2.0.24/30 area 0 \n",
        "  network 10.2.0.20/30 area 0 \n",
        "  network 10.2.0.12/30 area 0 \n",
        "  network 10.2.0.16/30 area 0 \n",
        "  network 10.2.0.8/30 area 0 \n",
        "  !\n",
        "  passive-interface eth1\n",
        "  passive-interface eth2\n",
        "  passive-interface eth3\n",
        "  !\n",
        "  network 10.0.0.1/32 area 0\n",
        "!\n",
        "\n"
       ]
      }
     ],
     "prompt_number": 24
    },
    {
     "cell_type": "heading",
     "level": 3,
     "metadata": {},
     "source": [
      "Viewing Configuration Files: BGP"
     ]
    },
    {
     "cell_type": "code",
     "collapsed": false,
     "input": [
      "bgpd_conf = os.path.join(zebra_dir, \"bgpd.conf\")\n",
      "with open(bgpd_conf, \"r\") as fh:\n",
      "    print fh.read()"
     ],
     "language": "python",
     "metadata": {},
     "outputs": [
      {
       "output_type": "stream",
       "stream": "stdout",
       "text": [
        "!\n",
        "hostname r2\n",
        "password 1234              \n",
        "banner motd file /etc/quagga/motd.txt\n",
        "!enable password 1234\n",
        "!\n",
        "  router bgp 2   \n",
        "  bgp router-id 10.0.0.18\n",
        "  no synchronization\n",
        "  network 10.0.0.0/16\n",
        "! ibgp\n",
        "  ! ibgp peers\n",
        "  ! 3\n",
        "  neighbor 10.0.0.17 remote-as 2\n",
        "  neighbor 10.0.0.17 update-source 10.0.0.18                                                     \n",
        "  neighbor 10.0.0.17 send-community      \n",
        "  neighbor 10.0.0.17 next-hop-self\n",
        "  ! 4\n",
        "  neighbor 10.0.0.19 remote-as 2\n",
        "  neighbor 10.0.0.19 update-source 10.0.0.18                                                     \n",
        "  neighbor 10.0.0.19 send-community      \n",
        "  neighbor 10.0.0.19 next-hop-self\n",
        "! ebgp\n",
        "  ! 1 \n",
        "  neighbor 10.2.0.9 remote-as 1\n",
        "  neighbor 10.2.0.9 update-source 10.2.0.10                                                     \n",
        "  neighbor 10.2.0.9 send-community\n",
        "  ! 10 \n",
        "  neighbor 10.1.128.9 remote-as 3\n",
        "  neighbor 10.1.128.9 update-source 10.1.128.10                                                     \n",
        "  neighbor 10.1.128.9 send-community\n",
        "\n",
        "debug bgp\n",
        "debug bgp events\n",
        "debug bgp filters\n",
        "debug bgp fsm\n",
        "debug bgp keepalives\n",
        "debug bgp updates \n",
        "log file /var/log/zebra/bgpd.log\n",
        "\n"
       ]
      }
     ],
     "prompt_number": 111
    },
    {
     "cell_type": "heading",
     "level": 3,
     "metadata": {},
     "source": [
      "Deploying Netkit Lab"
     ]
    },
    {
     "cell_type": "code",
     "collapsed": false,
     "input": [
      "import autonetkit.deploy.netkit as nk_deploy\n",
      "username = \"sk2\"\n",
      "host = \"192.168.255.129\"\n",
      "dst_folder = nidb.topology['localhost'].render_dst_folder\n",
      "nk_deploy.deploy(host, username, dst_folder)"
     ],
     "language": "python",
     "metadata": {},
     "outputs": [
      {
       "output_type": "stream",
       "stream": "stderr",
       "text": [
        "\u001b[1;37mINFO\u001b[0m Packaging rendered/localhost/netkit\n"
       ]
      },
      {
       "output_type": "stream",
       "stream": "stderr",
       "text": [
        "\u001b[1;37mINFO\u001b[0m:ANK:Packaging rendered/localhost/netkit\n"
       ]
      },
      {
       "output_type": "stream",
       "stream": "stderr",
       "text": [
        "\u001b[1;37mINFO\u001b[0m Transferring Netkit lab\n"
       ]
      },
      {
       "output_type": "stream",
       "stream": "stderr",
       "text": [
        "\u001b[1;37mINFO\u001b[0m:ANK:Transferring Netkit lab\n"
       ]
      },
      {
       "output_type": "stream",
       "stream": "stderr",
       "text": [
        "\u001b[1;37mINFO\u001b[0m Connecting to 192.168.255.129 with sk2\n"
       ]
      },
      {
       "output_type": "stream",
       "stream": "stderr",
       "text": [
        "\u001b[1;37mINFO\u001b[0m:ANK:Connecting to 192.168.255.129 with sk2\n"
       ]
      },
      {
       "output_type": "stream",
       "stream": "stderr",
       "text": [
        "\u001b[1;37mINFO\u001b[0m Extracting and starting Netkit lab\n"
       ]
      },
      {
       "output_type": "stream",
       "stream": "stderr",
       "text": [
        "\u001b[1;37mINFO\u001b[0m:ANK:Extracting and starting Netkit lab\n"
       ]
      },
      {
       "output_type": "stream",
       "stream": "stderr",
       "text": [
        "\u001b[1;37mINFO\u001b[0m Starting lab\n"
       ]
      },
      {
       "output_type": "stream",
       "stream": "stderr",
       "text": [
        "\u001b[1;37mINFO\u001b[0m:ANK:Starting lab\n"
       ]
      },
      {
       "output_type": "stream",
       "stream": "stderr",
       "text": [
        "\u001b[1;37mINFO\u001b[0m Starting \"2\"...\u001b[0m\n"
       ]
      },
      {
       "output_type": "stream",
       "stream": "stderr",
       "text": [
        "\u001b[1;37mINFO\u001b[0m:ANK:Starting \"2\"...\u001b[0m\n"
       ]
      },
      {
       "output_type": "stream",
       "stream": "stderr",
       "text": [
        "\u001b[1;37mINFO\u001b[0m Starting \"1\"...\u001b[0m\n"
       ]
      },
      {
       "output_type": "stream",
       "stream": "stderr",
       "text": [
        "\u001b[1;37mINFO\u001b[0m:ANK:Starting \"1\"...\u001b[0m\n"
       ]
      },
      {
       "output_type": "stream",
       "stream": "stderr",
       "text": [
        "\u001b[1;37mINFO\u001b[0m Starting \"4\"...\u001b[0m\n"
       ]
      },
      {
       "output_type": "stream",
       "stream": "stderr",
       "text": [
        "\u001b[1;37mINFO\u001b[0m:ANK:Starting \"4\"...\u001b[0m\n"
       ]
      },
      {
       "output_type": "stream",
       "stream": "stderr",
       "text": [
        "\u001b[1;37mINFO\u001b[0m Starting \"3\"...\u001b[0m\n"
       ]
      },
      {
       "output_type": "stream",
       "stream": "stderr",
       "text": [
        "\u001b[1;37mINFO\u001b[0m:ANK:Starting \"3\"...\u001b[0m\n"
       ]
      },
      {
       "output_type": "stream",
       "stream": "stderr",
       "text": [
        "\u001b[1;37mINFO\u001b[0m Starting \"5\"...\u001b[0m\n"
       ]
      },
      {
       "output_type": "stream",
       "stream": "stderr",
       "text": [
        "\u001b[1;37mINFO\u001b[0m:ANK:Starting \"5\"...\u001b[0m\n"
       ]
      },
      {
       "output_type": "stream",
       "stream": "stderr",
       "text": [
        "\u001b[1;37mINFO\u001b[0m Starting \"6\"...\u001b[0m\n"
       ]
      },
      {
       "output_type": "stream",
       "stream": "stderr",
       "text": [
        "\u001b[1;37mINFO\u001b[0m:ANK:Starting \"6\"...\u001b[0m\n"
       ]
      },
      {
       "output_type": "stream",
       "stream": "stderr",
       "text": [
        "\u001b[1;37mINFO\u001b[0m Starting \"7\"...\u001b[0m\n"
       ]
      },
      {
       "output_type": "stream",
       "stream": "stderr",
       "text": [
        "\u001b[1;37mINFO\u001b[0m:ANK:Starting \"7\"...\u001b[0m\n"
       ]
      },
      {
       "output_type": "stream",
       "stream": "stderr",
       "text": [
        "\u001b[1;37mINFO\u001b[0m Starting \"8\"...\u001b[0m\n"
       ]
      },
      {
       "output_type": "stream",
       "stream": "stderr",
       "text": [
        "\u001b[1;37mINFO\u001b[0m:ANK:Starting \"8\"...\u001b[0m\n"
       ]
      },
      {
       "output_type": "stream",
       "stream": "stderr",
       "text": [
        "\u001b[1;37mINFO\u001b[0m Starting \"9\"...\u001b[0m\n"
       ]
      },
      {
       "output_type": "stream",
       "stream": "stderr",
       "text": [
        "\u001b[1;37mINFO\u001b[0m:ANK:Starting \"9\"...\u001b[0m\n"
       ]
      },
      {
       "output_type": "stream",
       "stream": "stderr",
       "text": [
        "\u001b[1;37mINFO\u001b[0m Starting \"10\"...\u001b[0m\n"
       ]
      },
      {
       "output_type": "stream",
       "stream": "stderr",
       "text": [
        "\u001b[1;37mINFO\u001b[0m:ANK:Starting \"10\"...\u001b[0m\n"
       ]
      },
      {
       "output_type": "stream",
       "stream": "stderr",
       "text": [
        "\u001b[1;37mINFO\u001b[0m Starting \"11\"...\u001b[0m\n"
       ]
      },
      {
       "output_type": "stream",
       "stream": "stderr",
       "text": [
        "\u001b[1;37mINFO\u001b[0m:ANK:Starting \"11\"...\u001b[0m\n"
       ]
      },
      {
       "output_type": "stream",
       "stream": "stderr",
       "text": [
        "\u001b[1;37mINFO\u001b[0m Starting \"12\"...\u001b[0m\n"
       ]
      },
      {
       "output_type": "stream",
       "stream": "stderr",
       "text": [
        "\u001b[1;37mINFO\u001b[0m:ANK:Starting \"12\"...\u001b[0m\n"
       ]
      },
      {
       "output_type": "stream",
       "stream": "stderr",
       "text": [
        "\u001b[1;37mINFO\u001b[0m Starting \"13\"...\u001b[0m\n"
       ]
      },
      {
       "output_type": "stream",
       "stream": "stderr",
       "text": [
        "\u001b[1;37mINFO\u001b[0m:ANK:Starting \"13\"...\u001b[0m\n"
       ]
      },
      {
       "output_type": "stream",
       "stream": "stderr",
       "text": [
        "\u001b[1;37mINFO\u001b[0m Starting \"14\"...\u001b[0m\n"
       ]
      },
      {
       "output_type": "stream",
       "stream": "stderr",
       "text": [
        "\u001b[1;37mINFO\u001b[0m:ANK:Starting \"14\"...\u001b[0m\n"
       ]
      },
      {
       "output_type": "stream",
       "stream": "stderr",
       "text": [
        "\u001b[1;37mINFO\u001b[0m Lab started on 192.168.255.129\n"
       ]
      },
      {
       "output_type": "stream",
       "stream": "stderr",
       "text": [
        "\u001b[1;37mINFO\u001b[0m:ANK:Lab started on 192.168.255.129\n"
       ]
      }
     ],
     "prompt_number": 112
    },
    {
     "cell_type": "heading",
     "level": 3,
     "metadata": {},
     "source": [
      "Analysis"
     ]
    },
    {
     "cell_type": "code",
     "collapsed": false,
     "input": [
      "from autonetkit.ank_utils import unwrap_graph, unwrap_nodes\n",
      "import autonetkit.ank_messaging as msg\n",
      "import networkx as nx\n",
      "\n",
      "graph = unwrap_graph(anm['ospf'])\n",
      "\n",
      "path = nx.shortest_path(graph, \"1\", \"8\", \n",
      "    weight = 'cost')\n",
      "\n",
      "print path\n",
      "msg.highlight([], [], [path])"
     ],
     "language": "python",
     "metadata": {},
     "outputs": []
    },
    {
     "cell_type": "heading",
     "level": 3,
     "metadata": {},
     "source": [
      "Measuring Results"
     ]
    },
    {
     "cell_type": "code",
     "collapsed": false,
     "input": [
      "import autonetkit.measure as measure\n",
      "remote_hosts = [nidb.node(\"1\").tap.ip]\n",
      "command = 'vtysh -c \"show ip ro\"'\n",
      "measure.send(nidb, command, remote_hosts)"
     ],
     "language": "python",
     "metadata": {},
     "outputs": [
      {
       "output_type": "stream",
       "stream": "stdout",
       "text": [
        "No parser defined for command vtysh -c \"show ip ro\"\n",
        "Raw output:\n",
        "'vtysh -c \"show ip ro\"\n",
        "Codes: K - kernel route, C - connected, S - static, R - RIP, O - OSPF,\n",
        "       I - ISIS, B - BGP, > - selected route, * - FIB route\n",
        "\n",
        "B>* 10.0.0.0/16 [20/0] via 10.2.0.14, eth1, 00:00:43\n",
        "O   10.0.0.1/32 [110/10] is directly connected, lo, 00:00:52\n",
        "C>* 10.0.0.1/32 is directly connected, lo\n",
        "O>* 10.0.0.2/32 [110/11] via 10.2.0.22, eth4, 00:00:05\n",
        "B>* 10.1.0.0/16 [20/0] via 10.2.0.18, eth2, 00:00:13\n",
        "O>* 10.2.0.0/30 [110/2] via 10.2.0.22, eth4, 00:00:05\n",
        "O>* 10.2.0.4/30 [110/2] via 10.2.0.22, eth4, 00:00:05\n",
        "O   10.2.0.8/30 [110/10] is directly connected, eth3, 00:00:52\n",
        "C>* 10.2.0.8/30 is directly connected, eth3\n",
        "O   10.2.0.12/30 [110/10] is directly connected, eth1, 00:00:52\n",
        "C>* 10.2.0.12/30 is directly connected, eth1\n",
        "O   10.2.0.16/30 [110/10] is directly connected, eth2, 00:00:52\n",
        "C>* 10.2.0.16/30 is directly connected, eth2\n",
        "O   10.2.0.20/30 [110/1] is directly connected, eth4, 00:00:52\n",
        "C>* 10.2.0.20/30 is directly connected, eth4\n",
        "O   10.2.0.24/30 [110/1] is directly connected, eth0, 00:00:52\n",
        "C>* 10.2.0.24/30 is directly connected, eth0\n",
        "C>* 127.0.0.0/8 is directly connected, lo\n",
        "C>* 172.16.0.0/16 is directly connected, eth5\n",
        "r1:~# '\n"
       ]
      },
      {
       "output_type": "pyout",
       "prompt_number": 113,
       "text": [
        "[]"
       ]
      }
     ],
     "prompt_number": 113
    },
    {
     "cell_type": "code",
     "collapsed": false,
     "input": [
      "import autonetkit.measure as measure\n",
      "remote_hosts = [nidb.node(\"2\").tap.ip]\n",
      "command = 'vtysh -c \"show ip ro\"'\n",
      "measure.send(nidb, command, remote_hosts)"
     ],
     "language": "python",
     "metadata": {},
     "outputs": []
    },
    {
     "cell_type": "code",
     "collapsed": false,
     "input": [
      "remote_hosts = [nidb.node(\"1\").tap.ip]\n",
      "\n",
      "dest_ip = nidb.node(\"7\").interfaces[0].ipv4_address\n",
      "command = \"traceroute -n -a -U -w 0.5 %s\" % dest_ip\n",
      "measure.send(nidb, command, remote_hosts)"
     ],
     "language": "python",
     "metadata": {},
     "outputs": [
      {
       "output_type": "stream",
       "stream": "stderr",
       "text": [
        "\u001b[1;37mINFO\u001b[0m Trace from 1 to 7\n"
       ]
      },
      {
       "output_type": "stream",
       "stream": "stderr",
       "text": [
        "\u001b[1;37mINFO\u001b[0m:ANK:Trace from 1 to 7\n"
       ]
      },
      {
       "output_type": "stream",
       "stream": "stderr",
       "text": [
        "\u001b[1;37mINFO\u001b[0m 'traceroute -n -a -U -w 0.5 10.0.0.3\n",
        "traceroute to 10.0.0.3 (10.0.0.3), 64 hops max, 40 byte packets\n",
        " 1  10.2.0.26  2 ms\n",
        " 2  10.0.0.3  2 ms\n",
        "r1:~# '\n"
       ]
      },
      {
       "output_type": "stream",
       "stream": "stderr",
       "text": [
        "\u001b[1;37mINFO\u001b[0m:ANK:'traceroute -n -a -U -w 0.5 10.0.0.3\n",
        "traceroute to 10.0.0.3 (10.0.0.3), 64 hops max, 40 byte packets\n",
        " 1  10.2.0.26  2 ms\n",
        " 2  10.0.0.3  2 ms\n",
        "r1:~# '\n"
       ]
      },
      {
       "output_type": "stream",
       "stream": "stderr",
       "text": [
        "\u001b[1;37mINFO\u001b[0m [1, 8, 7]\n"
       ]
      },
      {
       "output_type": "stream",
       "stream": "stderr",
       "text": [
        "\u001b[1;37mINFO\u001b[0m:ANK:[1, 8, 7]\n"
       ]
      },
      {
       "output_type": "pyout",
       "prompt_number": 116,
       "text": [
        "[[1, 8, 7]]"
       ]
      }
     ],
     "prompt_number": 116
    },
    {
     "cell_type": "code",
     "collapsed": false,
     "input": [
      "dest_ip = nidb.node(\"9\").interfaces[0].ipv4_address\n",
      "command = \"traceroute -n -a -U -w 0.5 %s\" % dest_ip\n",
      "measure.send(nidb, command, remote_hosts)"
     ],
     "language": "python",
     "metadata": {},
     "outputs": [
      {
       "output_type": "stream",
       "stream": "stderr",
       "text": [
        "\u001b[1;37mINFO\u001b[0m Trace from 1 to 9\n"
       ]
      },
      {
       "output_type": "stream",
       "stream": "stderr",
       "text": [
        "\u001b[1;37mINFO\u001b[0m:ANK:Trace from 1 to 9\n"
       ]
      },
      {
       "output_type": "stream",
       "stream": "stderr",
       "text": [
        "\u001b[1;37mINFO\u001b[0m 'traceroute -n -a -U -w 0.5 10.0.0.5\n",
        "traceroute to 10.0.0.5 (10.0.0.5), 64 hops max, 40 byte packets\n",
        " 1  10.2.0.26  1 ms\n",
        " 2  10.2.0.29  1 ms\n",
        " 3  10.0.0.5  1 ms\n",
        "r1:~# '\n"
       ]
      },
      {
       "output_type": "stream",
       "stream": "stderr",
       "text": [
        "\u001b[1;37mINFO\u001b[0m:ANK:'traceroute -n -a -U -w 0.5 10.0.0.5\n",
        "traceroute to 10.0.0.5 (10.0.0.5), 64 hops max, 40 byte packets\n",
        " 1  10.2.0.26  1 ms\n",
        " 2  10.2.0.29  1 ms\n",
        " 3  10.0.0.5  1 ms\n",
        "r1:~# '\n"
       ]
      },
      {
       "output_type": "stream",
       "stream": "stderr",
       "text": [
        "\u001b[1;37mINFO\u001b[0m [1, 8, 7, 9]\n"
       ]
      },
      {
       "output_type": "stream",
       "stream": "stderr",
       "text": [
        "\u001b[1;37mINFO\u001b[0m:ANK:[1, 8, 7, 9]\n"
       ]
      },
      {
       "output_type": "pyout",
       "prompt_number": 94,
       "text": [
        "[[1, 8, 7, 9]]"
       ]
      }
     ],
     "prompt_number": 94
    },
    {
     "cell_type": "code",
     "collapsed": false,
     "input": [
      "dest_ip = nidb.node(\"4\").interfaces[0].ipv4_address\n",
      "command = \"traceroute -n -a -U -w 0.5 %s\" % dest_ip\n",
      "measure.send(nidb, command, remote_hosts)"
     ],
     "language": "python",
     "metadata": {},
     "outputs": [
      {
       "output_type": "stream",
       "stream": "stderr",
       "text": [
        "\u001b[1;37mINFO\u001b[0m Trace from 1 to 4\n"
       ]
      },
      {
       "output_type": "stream",
       "stream": "stderr",
       "text": [
        "\u001b[1;37mINFO\u001b[0m:ANK:Trace from 1 to 4\n"
       ]
      },
      {
       "output_type": "stream",
       "stream": "stderr",
       "text": [
        "\u001b[1;37mINFO\u001b[0m 'traceroute -n -a -U -w 0.5 10.0.0.19\n",
        "traceroute to 10.0.0.19 (10.0.0.19), 64 hops max, 40 byte packets\n",
        " 1  10.2.0.14  1 ms\n",
        " 2  10.0.0.19  1 ms\n",
        "r1:~# '\n"
       ]
      },
      {
       "output_type": "stream",
       "stream": "stderr",
       "text": [
        "\u001b[1;37mINFO\u001b[0m:ANK:'traceroute -n -a -U -w 0.5 10.0.0.19\n",
        "traceroute to 10.0.0.19 (10.0.0.19), 64 hops max, 40 byte packets\n",
        " 1  10.2.0.14  1 ms\n",
        " 2  10.0.0.19  1 ms\n",
        "r1:~# '\n"
       ]
      },
      {
       "output_type": "stream",
       "stream": "stderr",
       "text": [
        "\u001b[1;37mINFO\u001b[0m [1, 3, 4]\n"
       ]
      },
      {
       "output_type": "stream",
       "stream": "stderr",
       "text": [
        "\u001b[1;37mINFO\u001b[0m:ANK:[1, 3, 4]\n"
       ]
      },
      {
       "output_type": "pyout",
       "prompt_number": 95,
       "text": [
        "[[1, 3, 4]]"
       ]
      }
     ],
     "prompt_number": 95
    },
    {
     "cell_type": "code",
     "collapsed": false,
     "input": [
      "dest_ip = nidb.node(\"2\").interfaces[0].ipv4_address\n",
      "command = \"traceroute -n -a -U -w 0.5 %s\" % dest_ip\n",
      "measure.send(nidb, command, remote_hosts)"
     ],
     "language": "python",
     "metadata": {},
     "outputs": [
      {
       "output_type": "stream",
       "stream": "stderr",
       "text": [
        "\u001b[1;37mINFO\u001b[0m Trace from 1 to 2\n"
       ]
      },
      {
       "output_type": "stream",
       "stream": "stderr",
       "text": [
        "\u001b[1;37mINFO\u001b[0m:ANK:Trace from 1 to 2\n"
       ]
      },
      {
       "output_type": "stream",
       "stream": "stderr",
       "text": [
        "\u001b[1;37mINFO\u001b[0m 'traceroute -n -a -U -w 0.5 10.0.0.18\n",
        "traceroute to 10.0.0.18 (10.0.0.18), 64 hops max, 40 byte packets\n",
        " 1  10.2.0.14  0 ms\n",
        " 2  10.0.0.2  2 ms\n",
        " 3  10.0.0.18  1 ms\n",
        "r1:~# '\n"
       ]
      },
      {
       "output_type": "stream",
       "stream": "stderr",
       "text": [
        "\u001b[1;37mINFO\u001b[0m:ANK:'traceroute -n -a -U -w 0.5 10.0.0.18\n",
        "traceroute to 10.0.0.18 (10.0.0.18), 64 hops max, 40 byte packets\n",
        " 1  10.2.0.14  0 ms\n",
        " 2  10.0.0.2  2 ms\n",
        " 3  10.0.0.18  1 ms\n",
        "r1:~# '\n"
       ]
      },
      {
       "output_type": "stream",
       "stream": "stderr",
       "text": [
        "\u001b[1;37mINFO\u001b[0m [1, 3, 5, 2]\n"
       ]
      },
      {
       "output_type": "stream",
       "stream": "stderr",
       "text": [
        "\u001b[1;37mINFO\u001b[0m:ANK:[1, 3, 5, 2]\n"
       ]
      },
      {
       "output_type": "pyout",
       "prompt_number": 101,
       "text": [
        "[[1, 3, 5, 2]]"
       ]
      }
     ],
     "prompt_number": 101
    },
    {
     "cell_type": "code",
     "collapsed": false,
     "input": [],
     "language": "python",
     "metadata": {},
     "outputs": []
    }
   ],
   "metadata": {}
  }
 ]
}