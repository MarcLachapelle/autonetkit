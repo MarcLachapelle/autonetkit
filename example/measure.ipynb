{
 "metadata": {
  "name": "measure"
 },
 "nbformat": 3,
 "nbformat_minor": 0,
 "worksheets": [
  {
   "cells": [
    {
     "cell_type": "code",
     "collapsed": false,
     "input": [
      "import zmq\n",
      "import json\n",
      "\n",
      "cmd = \"sh ip route\"\n",
      "vtysh = 1\n",
      "server = \"54.252.204.52\"\n",
      "port = \"5559\"\n",
      "context = zmq.Context()\n",
      "socket = context.socket(zmq.REQ)\n",
      "socket.connect (\"tcp://%s:%s\" % (server, port))\n",
      "data = {\"host\": \"172.16.0.3\", \"username\": \"root\", \"password\": \"1234\", \"command\": cmd, \"vtysh\": vtysh}\n",
      "message = json.dumps(data)\n",
      "socket.send (message)\n",
      "print \"waiting for response for %s\" % message\n",
      "message = socket.recv()\n",
      "data = json.loads(message)\n",
      "print data"
     ],
     "language": "python",
     "metadata": {},
     "outputs": [
      {
       "output_type": "stream",
       "stream": "stdout",
       "text": [
        "waiting for response for {\"username\": \"root\", \"host\": \"172.16.0.3\", \"password\": \"1234\", \"command\": \"sh ip route ospf\", \"vtysh\": 1}\n",
        " sh ip route ospf\r\n",
        "Codes: K - kernel route, C - connected, S - static, R - RIP, O - OSPF,\r\n",
        "       I - ISIS, B - BGP, > - selected route, * - FIB route\r\n",
        "\r\n",
        "O   10.0.0.0/17 [110/10] is directly connected, eth1, 03:36:29\r\n",
        "O   10.0.0.17/32 [110/10] is directly connected, lo, 03:36:29\r\n",
        "O   10.1.0.0/16 [110/10] is directly connected, eth2, 03:36:29\r\n",
        "O   10.4.0.0/30 [110/10] is directly connected, eth0, 03:36:29\r\n",
        "as1r1#"
       ]
      },
      {
       "output_type": "stream",
       "stream": "stdout",
       "text": [
        "\n"
       ]
      }
     ],
     "prompt_number": 6
    },
    {
     "cell_type": "code",
     "collapsed": false,
     "input": [],
     "language": "python",
     "metadata": {},
     "outputs": [],
     "prompt_number": 2
    },
    {
     "cell_type": "code",
     "collapsed": false,
     "input": [],
     "language": "python",
     "metadata": {},
     "outputs": []
    }
   ],
   "metadata": {}
  }
 ]
}