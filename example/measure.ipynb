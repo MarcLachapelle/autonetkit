{
 "metadata": {
  "name": "measure"
 },
 "nbformat": 3,
 "nbformat_minor": 0,
 "worksheets": [
  {
   "cells": [
    {
     "cell_type": "code",
     "collapsed": false,
     "input": [
      "from autonetkit.collection.utils import get_results\n",
      "server = \"115.146.93.18\"\n",
      "commands = [{\"host\": \"172.16.0.3\", \"username\": \"root\", \n",
      "\"password\": \"1234\",\"connector\": \"netkit\", \n",
      "\"command\": \"show ip route\", \"vtysh\": True}]\n",
      "for response in get_results(server, commands):\n",
      "        print response[\"result\"]"
     ],
     "language": "python",
     "metadata": {},
     "outputs": [
      {
       "output_type": "stream",
       "stream": "stderr",
       "text": [
        "INFO Collecting results\n"
       ]
      },
      {
       "output_type": "stream",
       "stream": "stderr",
       "text": [
        "INFO:ANK:Collecting results\n"
       ]
      },
      {
       "output_type": "stream",
       "stream": "stdout",
       "text": [
        " sh ip route\r\n",
        "Codes: K - kernel route, C - connected, S - static, R - RIP, O - OSPF,\r\n",
        "       I - ISIS, B - BGP, > - selected route, * - FIB route\r\n",
        "\r\n",
        "B>* 10.0.0.0/16 [20/0] via 10.0.0.1, eth1, 3d15h00m\r\n",
        "O   10.0.0.0/17 [110/10] is directly connected, eth1, 3d15h00m\r\n",
        "C>* 10.0.0.0/17 is directly connected, eth1\r\n",
        "O   10.0.0.17/32 [110/10] is directly connected, lo, 3d15h00m\r\n",
        "C>* 10.0.0.17/32 is directly connected, lo\r\n",
        "B   10.1.0.0/16 [20/0] via 10.1.0.2 inactive, 3d15h00m\r\n",
        "O   10.1.0.0/16 [110/10] is directly connected, eth2, 3d15h00m\r\n",
        "C>* 10.1.0.0/16 is directly connected, eth2\r\n",
        "B>* 10.2.0.0/16 [20/0] via 10.4.0.2, eth0, 3d11h28m\r\n",
        "B>* 10.3.0.0/16 [20/0] via 10.4.0.2, eth0, 3d11h28m\r\n",
        "B>* 10.4.0.0/16 [20/0] via 10.4.0.2, eth0, 3d11h28m\r\n",
        "O   10.4.0.0/30 [110/10] is directly connected, eth0, 3d15h00m\r\n",
        "C>* 10.4.0.0/30 is directly connected, eth0\r\n",
        "C>* 127.0.0.0/8 is directly connected, lo\r\n",
        "C>* 172.16.0.0/16 is directly connected, eth3\r\n",
        "as1r1#\n"
       ]
      }
     ],
     "prompt_number": 16
    },
    {
     "cell_type": "code",
     "collapsed": false,
     "input": [],
     "language": "python",
     "metadata": {},
     "outputs": []
    },
    {
     "cell_type": "code",
     "collapsed": false,
     "input": [],
     "language": "python",
     "metadata": {},
     "outputs": [],
     "prompt_number": 5
    },
    {
     "cell_type": "code",
     "collapsed": false,
     "input": [],
     "language": "python",
     "metadata": {},
     "outputs": []
    }
   ],
   "metadata": {}
  }
 ]
}