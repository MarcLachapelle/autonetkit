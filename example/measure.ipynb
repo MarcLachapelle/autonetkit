{
 "metadata": {
  "name": "measure"
 },
 "nbformat": 3,
 "nbformat_minor": 0,
 "worksheets": [
  {
   "cells": [
    {
     "cell_type": "code",
     "collapsed": false,
     "input": [
      "import zmq\n",
      "import json\n",
      "\n",
      "cmd = \"sh ip route\"\n",
      "vtysh = 1\n",
      "server = \"54.252.205.75\"\n",
      "socket = context.socket(zmq.REQ)\n",
      "socket.connect (\"tcp://%s:%s\" % (server, port))\n",
      "data = {\"host\": \"172.16.0.3\", \"username\": \"root\", \"password\": \"1234\", \"command\": cmd, \"vtysh\": vtysh}\n",
      "print \"waiting for response for %s\" % message\n",
      "message = socket.recv()\n",
      "data = json.loads(message)\n",
      "print data"
     ],
     "language": "python",
     "metadata": {},
     "outputs": [
      {
       "output_type": "stream",
       "stream": "stdout",
       "text": [
        "waiting for response for {\"username\": \"cisco\", \"connector\": \"ios_xr\", \"host\": \"172.16.1.52\", \"password\": \"cisco\", \"command\": \"show ip route bgp\"}\n",
        "show ip route bgp\r\n",
        "\r",
        "Fri Aug  2 09:24:16.115 UTC\r\n",
        "\r\n",
        "B    192.168.0.65/32 [200/0] via 192.168.0.6, 2d00h\r\n",
        "B    192.168.0.66/32 [200/0] via 192.168.0.6, 2d00h\r\n",
        "B    192.168.0.67/32 [200/0] via 192.168.0.6, 2d00h\r\n",
        "B    192.168.0.68/32 [200/0] via 192.168.0.6, 2d00h\r\n",
        "B    192.168.0.69/32 [200/0] via 192.168.0.6, 2d00h\r\n",
        "B    192.168.0.70/32 [200/0] via 192.168.0.6, 2d00h\r\n",
        "B    192.168.0.71/32 [200/0] via 192.168.0.6, 2d00h\r\n",
        "B    192.168.0.72/32 [200/0] via 192.168.0.6, 2d00h\r\n",
        "RP/0/0/CPU0:xrvr-4#"
       ]
      },
      {
       "output_type": "stream",
       "stream": "stdout",
       "text": [
        "\n"
       ]
      }
     ],
     "prompt_number": 23
    },
    {
     "cell_type": "code",
     "collapsed": false,
     "input": [],
     "language": "python",
     "metadata": {},
     "outputs": [],
     "prompt_number": 21
    },
    {
     "cell_type": "code",
     "collapsed": false,
     "input": [],
     "language": "python",
     "metadata": {},
     "outputs": [],
     "prompt_number": 5
    },
    {
     "cell_type": "code",
     "collapsed": false,
     "input": [],
     "language": "python",
     "metadata": {},
     "outputs": []
    }
   ],
   "metadata": {}
  }
 ]
}