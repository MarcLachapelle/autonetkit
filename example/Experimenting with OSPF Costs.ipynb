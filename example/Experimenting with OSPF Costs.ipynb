{
 "metadata": {
  "name": "Experimenting with OSPF Costs"
 },
 "nbformat": 3,
 "nbformat_minor": 0,
 "worksheets": [
  {
   "cells": [
    {
     "cell_type": "heading",
     "level": 3,
     "metadata": {},
     "source": [
      "Loading topology from the Internet Topology Zoo"
     ]
    },
    {
     "cell_type": "code",
     "collapsed": false,
     "input": [
      "import urllib\n",
      "url = \"http://www.topology-zoo.org/files/Abilene.graphml\"\n",
      "f = urllib.urlopen(url)\n",
      "abilene_data = f.read()\n",
      "f.close()"
     ],
     "language": "python",
     "metadata": {},
     "outputs": [],
     "prompt_number": 1
    },
    {
     "cell_type": "heading",
     "level": 3,
     "metadata": {},
     "source": [
      "Creating ANM from topology graph"
     ]
    },
    {
     "cell_type": "code",
     "collapsed": false,
     "input": [
      "import autonetkit\n",
      "import autonetkit.load.graphml as graphml\n",
      "\n",
      "anm =  autonetkit.ANM()\n",
      "input_graph = graphml.load_graphml(abilene_data)\n",
      "\n",
      "import autonetkit.build_network as build_network\n",
      "anm = build_network.initialise(input_graph)\n",
      "autonetkit.update_http(anm)"
     ],
     "language": "python",
     "metadata": {},
     "outputs": [],
     "prompt_number": 4
    },
    {
     "cell_type": "heading",
     "level": 3,
     "metadata": {},
     "source": [
      "Applying network design rules"
     ]
    },
    {
     "cell_type": "code",
     "collapsed": false,
     "input": [
      "anm = build_network.apply_design_rules(anm)\n",
      "autonetkit.update_http(anm)"
     ],
     "language": "python",
     "metadata": {},
     "outputs": [
      {
       "output_type": "stream",
       "stream": "stderr",
       "text": [
        "\u001b[1;37mINFO\u001b[0m Allocating v4 Infrastructure IPs\n"
       ]
      },
      {
       "output_type": "stream",
       "stream": "stderr",
       "text": [
        "\u001b[1;37mINFO\u001b[0m Allocating v4 Primary Host loopback IPs\n"
       ]
      },
      {
       "output_type": "stream",
       "stream": "stderr",
       "text": [
        "\u001b[1;37mINFO\u001b[0m Allocating v4 Secondary Host loopback IPs\n"
       ]
      }
     ],
     "prompt_number": 5
    },
    {
     "cell_type": "heading",
     "level": 3,
     "metadata": {},
     "source": [
      "Manually modifying costs"
     ]
    },
    {
     "cell_type": "code",
     "collapsed": false,
     "input": [
      "g_in = anm['input']\n",
      "g_phy = anm['phy']\n",
      "seattle = g_phy.node(\"Seattle\")\n",
      "\n",
      "denver = g_phy.node(\"Denver\")\n",
      "\n",
      "seattle_to_denver = g_phy.edge(seattle, denver)\n",
      "print seattle_to_denver\n",
      "seattle_to_denver['ospf'].cost = 20\n",
      "seattle_to_denver.src_int['ospf'].cost = 20\n",
      "seattle_to_denver.dst_int['ospf'].cost = 20\n",
      "\n",
      "autonetkit.update_http(anm)\n",
      "\n",
      "#edge = anm.edge\n",
      "\n"
     ],
     "language": "python",
     "metadata": {},
     "outputs": [
      {
       "output_type": "stream",
       "stream": "stdout",
       "text": [
        "phy: (Seattle, Denver)\n"
       ]
      }
     ],
     "prompt_number": 6
    },
    {
     "cell_type": "heading",
     "level": 3,
     "metadata": {},
     "source": [
      "Compiling ANM to NIDB"
     ]
    },
    {
     "cell_type": "code",
     "collapsed": false,
     "input": [
      "import autonetkit.console_script as console_script\n",
      "render_hostname = \"localhost\"\n",
      "\n",
      "nidb = console_script.create_nidb(anm)\n",
      "nk_compiler = autonetkit.compiler.NetkitCompiler(nidb, anm, render_hostname)\n",
      "nk_compiler.compile()\n",
      "autonetkit.update_http(anm, nidb)\n",
      "\n",
      "nidb_a = nidb # store for later comparison"
     ],
     "language": "python",
     "metadata": {},
     "outputs": [
      {
       "output_type": "stream",
       "stream": "stderr",
       "text": [
        "\u001b[1;37mINFO\u001b[0m Compiling Netkit for localhost\n"
       ]
      }
     ],
     "prompt_number": 7
    },
    {
     "cell_type": "heading",
     "level": 3,
     "metadata": {},
     "source": [
      "Rendering NIDB to Configuration Files"
     ]
    },
    {
     "cell_type": "code",
     "collapsed": false,
     "input": [
      "import autonetkit.render\n",
      "autonetkit.render.render(nidb)"
     ],
     "language": "python",
     "metadata": {},
     "outputs": [
      {
       "output_type": "stream",
       "stream": "stderr",
       "text": [
        "\u001b[1;37mINFO\u001b[0m Rendering Network\n"
       ]
      }
     ],
     "prompt_number": 8
    },
    {
     "cell_type": "heading",
     "level": 3,
     "metadata": {},
     "source": [
      "Deploying Netkit Lab"
     ]
    },
    {
     "cell_type": "code",
     "collapsed": false,
     "input": [
      "import autonetkit.deploy.netkit as nk_deploy\n",
      "username = \"sk2\"\n",
      "host = \"192.168.255.129\"\n",
      "dst_folder = nidb.topology['localhost'].render_dst_folder\n",
      "nk_deploy.deploy(host, username, dst_folder)"
     ],
     "language": "python",
     "metadata": {},
     "outputs": [
      {
       "output_type": "stream",
       "stream": "stderr",
       "text": [
        "\u001b[1;37mINFO\u001b[0m Packaging rendered/localhost/netkit\n"
       ]
      },
      {
       "output_type": "stream",
       "stream": "stderr",
       "text": [
        "\u001b[1;37mINFO\u001b[0m Transferring Netkit lab\n"
       ]
      },
      {
       "output_type": "stream",
       "stream": "stderr",
       "text": [
        "\u001b[1;37mINFO\u001b[0m Connecting to 192.168.255.129 with sk2\n"
       ]
      },
      {
       "output_type": "stream",
       "stream": "stderr",
       "text": [
        "\u001b[1;37mINFO\u001b[0m Extracting and starting Netkit lab\n"
       ]
      },
      {
       "output_type": "stream",
       "stream": "stderr",
       "text": [
        "\u001b[1;37mINFO\u001b[0m Starting lab\n"
       ]
      },
      {
       "output_type": "stream",
       "stream": "stderr",
       "text": [
        "\u001b[1;37mINFO\u001b[0m Starting \"Chicago\"...\u001b[0m\n"
       ]
      },
      {
       "output_type": "stream",
       "stream": "stderr",
       "text": [
        "\u001b[1;37mINFO\u001b[0m Starting \"Atlanta\"...\u001b[0m\n"
       ]
      },
      {
       "output_type": "stream",
       "stream": "stderr",
       "text": [
        "\u001b[1;37mINFO\u001b[0m Starting \"Indianapolis\"...\u001b[0m\n"
       ]
      },
      {
       "output_type": "stream",
       "stream": "stderr",
       "text": [
        "\u001b[1;37mINFO\u001b[0m Starting \"Houston\"...\u001b[0m\n"
       ]
      },
      {
       "output_type": "stream",
       "stream": "stderr",
       "text": [
        "\u001b[1;37mINFO\u001b[0m Starting \"Denver\"...\u001b[0m\n"
       ]
      },
      {
       "output_type": "stream",
       "stream": "stderr",
       "text": [
        "\u001b[1;37mINFO\u001b[0m Starting \"Kansas_City\"...\u001b[0m\n"
       ]
      },
      {
       "output_type": "stream",
       "stream": "stderr",
       "text": [
        "\u001b[1;37mINFO\u001b[0m Starting \"New_York\"...\u001b[0m\n"
       ]
      },
      {
       "output_type": "stream",
       "stream": "stderr",
       "text": [
        "\u001b[1;37mINFO\u001b[0m Starting \"Los_Angeles\"...\u001b[0m\n"
       ]
      },
      {
       "output_type": "stream",
       "stream": "stderr",
       "text": [
        "\u001b[1;37mINFO\u001b[0m Starting \"Seattle\"...\u001b[0m\n"
       ]
      },
      {
       "output_type": "stream",
       "stream": "stderr",
       "text": [
        "\u001b[1;37mINFO\u001b[0m Starting \"Sunnyvale\"...\u001b[0m\n"
       ]
      },
      {
       "output_type": "stream",
       "stream": "stderr",
       "text": [
        "\u001b[1;37mINFO\u001b[0m Starting \"Washington_DC\"...\u001b[0m\n"
       ]
      },
      {
       "output_type": "stream",
       "stream": "stderr",
       "text": [
        "\u001b[1;37mINFO\u001b[0m Lab started on 192.168.255.129\n"
       ]
      }
     ],
     "prompt_number": 10
    },
    {
     "cell_type": "heading",
     "level": 3,
     "metadata": {},
     "source": [
      "Measuring Results"
     ]
    },
    {
     "cell_type": "code",
     "collapsed": false,
     "input": [
      "import autonetkit.console_script as console_script\n",
      "source_node = nidb.node(\"Denver\")\n",
      "console_script.collect_sh_ip_route(anm, nidb, source_node)"
     ],
     "language": "python",
     "metadata": {},
     "outputs": [
      {
       "output_type": "stream",
       "stream": "stderr",
       "text": [
        "\u001b[1;37mINFO\u001b[0m 172.16.0.4 vtysh -c \"show ip route\"\n"
       ]
      },
      {
       "output_type": "stream",
       "stream": "stderr",
       "text": [
        "\u001b[1;37mINFO\u001b[0m Verifying IGP routes\n"
       ]
      },
      {
       "output_type": "stream",
       "stream": "stderr",
       "text": [
        "\u001b[1;37mINFO\u001b[0m 100.0% verification rate\n"
       ]
      }
     ],
     "prompt_number": 13
    },
    {
     "cell_type": "code",
     "collapsed": false,
     "input": [
      "import autonetkit.console_script as console_script\n",
      "source_node = nidb.node(\"Sunnyvale\")\n",
      "console_script.collect_sh_ip_route(anm, nidb, source_node)"
     ],
     "language": "python",
     "metadata": {},
     "outputs": [
      {
       "output_type": "stream",
       "stream": "stderr",
       "text": [
        "\u001b[1;37mINFO\u001b[0m 172.16.0.10 vtysh -c \"show ip route\"\n"
       ]
      },
      {
       "output_type": "stream",
       "stream": "stderr",
       "text": [
        "\u001b[1;37mINFO\u001b[0m Verifying IGP routes\n"
       ]
      },
      {
       "output_type": "stream",
       "stream": "stderr",
       "text": [
        "\u001b[1;37mINFO\u001b[0m 100.0% verification rate\n"
       ]
      }
     ],
     "prompt_number": 21
    },
    {
     "cell_type": "heading",
     "level": 2,
     "metadata": {},
     "source": [
      "Calculating Geographic Distances"
     ]
    },
    {
     "cell_type": "heading",
     "level": 3,
     "metadata": {},
     "source": [
      "Copying Latitude and Longitude to physical graph"
     ]
    },
    {
     "cell_type": "code",
     "collapsed": false,
     "input": [
      "import autonetkit.ank as ank_utils\n",
      "ank_utils.copy_attr_from(g_in, g_phy, \"Latitude\")\n",
      "ank_utils.copy_attr_from(g_in, g_phy, \"Longitude\")\n",
      "\n",
      "for node in g_phy:\n",
      "    print node, node.Latitude, node.Longitude"
     ],
     "language": "python",
     "metadata": {},
     "outputs": [
      {
       "output_type": "stream",
       "stream": "stdout",
       "text": [
        "Houston 29.76328 -95.36327\n",
        "Indianapolis 39.76838 -86.15804\n",
        "Los Angeles 34.05223 -118.24368\n",
        "Chicago 41.85003 -87.65005\n",
        "Kansas City 39.11417 -94.62746\n",
        "Denver 39.73915 -104.9847\n",
        "New York 40.71427 -74.00597\n",
        "Sunnyvale 37.36883 -122.03635\n",
        "Washington DC 38.89511 -77.03637\n",
        "Atlanta 33.749 -84.38798\n",
        "Seattle 47.60621 -122.33207\n"
       ]
      }
     ],
     "prompt_number": 22
    },
    {
     "cell_type": "heading",
     "level": 3,
     "metadata": {},
     "source": [
      "Calculating distances using geopy package"
     ]
    },
    {
     "cell_type": "code",
     "collapsed": false,
     "input": [
      "from geopy import distance\n",
      "from geopy.point import Point\n",
      "\n",
      "for edge in g_phy.edges():\n",
      "    p_src = Point(edge.src.Latitude, edge.src.Longitude)\n",
      "    p_dst = Point(edge.dst.Latitude, edge.dst.Longitude)\n",
      "\n",
      "    km = distance.distance(p_src, p_dst).km\n",
      "    edge.distance = int(km)\n",
      "\n",
      "autonetkit.update_http(anm)"
     ],
     "language": "python",
     "metadata": {},
     "outputs": [],
     "prompt_number": 23
    },
    {
     "cell_type": "heading",
     "level": 3,
     "metadata": {},
     "source": [
      "Scaling distances to OSPF Costs"
     ]
    },
    {
     "cell_type": "code",
     "collapsed": false,
     "input": [
      "max_distance = max(e.distance for e in g_phy.edges())\n",
      "\n",
      "# scale by this edge distance\n",
      "for edge in g_phy.edges():\n",
      "    cost = 1000*edge.distance/max_distance\n",
      "    edge['ospf'].cost = cost\n",
      "    \n",
      "g_ospf = anm['ospf']\n",
      "# apply edge cost to ospf interfaces for configuration\n",
      "for edge in g_ospf.edges():\n",
      "    edge.src_int.cost = edge.cost\n",
      "    edge.dst_int.cost = edge.cost\n",
      "\n",
      "autonetkit.update_http(anm, nidb)"
     ],
     "language": "python",
     "metadata": {},
     "outputs": [],
     "prompt_number": 24
    },
    {
     "cell_type": "heading",
     "level": 3,
     "metadata": {},
     "source": [
      "Recompiling ANM"
     ]
    },
    {
     "cell_type": "code",
     "collapsed": false,
     "input": [
      "nidb_b = console_script.create_nidb(anm)\n",
      "render_hostname = \"localhost\"\n",
      "\n",
      "nk_compiler = autonetkit.compiler.NetkitCompiler(nidb_b, anm, render_hostname)\n",
      "nk_compiler.compile()\n",
      "\n",
      "autonetkit.update_http(anm, nidb_b)"
     ],
     "language": "python",
     "metadata": {},
     "outputs": [
      {
       "output_type": "stream",
       "stream": "stderr",
       "text": [
        "\u001b[1;37mINFO\u001b[0m Compiling Netkit for localhost\n"
       ]
      }
     ],
     "prompt_number": 25
    },
    {
     "cell_type": "heading",
     "level": 3,
     "metadata": {},
     "source": [
      "Calculating NIDB Differences"
     ]
    },
    {
     "cell_type": "code",
     "collapsed": false,
     "input": [
      "import autonetkit.diff\n",
      "diffs = autonetkit.diff.compare_nidb(nidb_a, nidb_b)\n",
      "diffs"
     ],
     "language": "python",
     "metadata": {},
     "outputs": [
      {
       "output_type": "pyout",
       "prompt_number": 26,
       "text": [
        "{'graph': {'timestamp': {1: '20130414_172822', 2: '20130414_174031'}},\n",
        " 'nodes': {'m': {u'Atlanta': {'_interfaces': {1: {'ospf_cost': {1: 1, 2: 510}},\n",
        "     2: {'ospf_cost': {1: 1, 2: 310}},\n",
        "     3: {'ospf_cost': {1: 1, 2: 394}}}},\n",
        "   u'Chicago': {'_interfaces': {1: {'ospf_cost': {1: 1, 2: 519}},\n",
        "     2: {'ospf_cost': {1: 1, 2: 119}}}},\n",
        "   u'Denver': {'_interfaces': {1: {'ospf_cost': {1: 20, 2: 743}},\n",
        "     2: {'ospf_cost': {1: 1, 2: 404}},\n",
        "     3: {'ospf_cost': {1: 1, 2: 681}}}},\n",
        "   u'Houston': {'_interfaces': {1: {'ospf_cost': {1: 1, 2: 510}},\n",
        "     2: {'ospf_cost': {1: 1, 2: 470}},\n",
        "     3: {'ospf_cost': {1: 1, 2: 1000}}}},\n",
        "   u'Indianapolis': {'_interfaces': {1: {'ospf_cost': {1: 1, 2: 310}},\n",
        "     2: {'ospf_cost': {1: 1, 2: 119}},\n",
        "     3: {'ospf_cost': {1: 1, 2: 331}}}},\n",
        "   u'Kansas City': {'_interfaces': {1: {'ospf_cost': {1: 1, 2: 470}},\n",
        "     2: {'ospf_cost': {1: 1, 2: 331}},\n",
        "     3: {'ospf_cost': {1: 1, 2: 404}}}},\n",
        "   u'Los Angeles': {'_interfaces': {1: {'ospf_cost': {1: 1, 2: 1000}},\n",
        "     2: {'ospf_cost': {1: 1, 2: 227}}}},\n",
        "   u'New York': {'_interfaces': {1: {'ospf_cost': {1: 1, 2: 519}},\n",
        "     2: {'ospf_cost': {1: 1, 2: 148}}}},\n",
        "   u'Seattle': {'_interfaces': {1: {'ospf_cost': {1: 20, 2: 743}},\n",
        "     2: {'ospf_cost': {1: 1, 2: 514}}}},\n",
        "   u'Sunnyvale': {'_interfaces': {1: {'ospf_cost': {1: 1, 2: 681}},\n",
        "     2: {'ospf_cost': {1: 1, 2: 227}},\n",
        "     3: {'ospf_cost': {1: 1, 2: 514}}}},\n",
        "   u'Washington DC': {'_interfaces': {1: {'ospf_cost': {1: 1, 2: 148}},\n",
        "     2: {'ospf_cost': {1: 1, 2: 394}}}}}}}"
       ]
      }
     ],
     "prompt_number": 26
    },
    {
     "cell_type": "heading",
     "level": 3,
     "metadata": {},
     "source": [
      "Pushing changes to emulated network"
     ]
    },
    {
     "cell_type": "code",
     "collapsed": false,
     "input": [
      "import autonetkit.push_changes\n",
      "autonetkit.push_changes.apply_difference(nidb_a, diffs)"
     ],
     "language": "python",
     "metadata": {},
     "outputs": [
      {
       "output_type": "stream",
       "stream": "stdout",
       "text": [
        "'vtysh -c \"conf t\n",
        "> interface eth0\n",
        "> ip ospf cost 510 \"\n",
        "Houston:~# '\n",
        "'vtysh -c \"show ip ospf interface eth0\"\n",
        "eth0 is up\n",
        "  ifindex 3, MTU 1500 bytes, BW 0 Kbit <UP,BROADCAST,RUNNING,MULTICAST>\n",
        "  Internet Address 10.0.0.14/30, Broadcast 10.0.0.15, Area 0.0.0.0\n",
        "  MTU mismatch detection:enabled\n",
        "  Router ID 192.168.1.9, Network Type BROADCAST, Cost: 510\n",
        "  Transmit Delay is 1 sec, State DR, Priority 1\n",
        "  Designated Router (ID) 192.168.1.9, Interface Address 10.0.0.14\n",
        "  Backup Designated Router (ID) 192.168.1.5, Interface Address 10.0.0.13\n",
        "  Multicast group memberships: OSPFAllRouters OSPFDesignatedRouters\n",
        "  Timer intervals configured, Hello 10s, Dead 40s, Wait 40s, Retransmit 5\n",
        "    Hello due in 4.593s\n",
        "  Neighbor Count is 1, Adjacent neighbor count is 1\n",
        "Houston:~# '"
       ]
      },
      {
       "output_type": "stream",
       "stream": "stdout",
       "text": [
        "\n",
        "'vtysh -c \"conf t\n",
        "> interface eth1\n",
        "> ip ospf cost 470 \"\n",
        "Houston:~# '"
       ]
      },
      {
       "output_type": "stream",
       "stream": "stdout",
       "text": [
        "\n",
        "'vtysh -c \"show ip ospf interface eth1\"\n",
        "eth1 is up\n",
        "  ifindex 4, MTU 1500 bytes, BW 0 Kbit <UP,BROADCAST,RUNNING,MULTICAST>\n",
        "  Internet Address 10.0.0.17/30, Broadcast 10.0.0.19, Area 0.0.0.0\n",
        "  MTU mismatch detection:enabled\n",
        "  Router ID 192.168.1.9, Network Type BROADCAST, Cost: 470\n",
        "  Transmit Delay is 1 sec, State DR, Priority 1\n",
        "  Designated Router (ID) 192.168.1.9, Interface Address 10.0.0.17\n",
        "  Backup Designated Router (ID) 192.168.1.7, Interface Address 10.0.0.18\n",
        "  Multicast group memberships: OSPFAllRouters OSPFDesignatedRouters\n",
        "  Timer intervals configured, Hello 10s, Dead 40s, Wait 40s, Retransmit 5\n",
        "    Hello due in 3.608s\n",
        "  Neighbor Count is 1, Adjacent neighbor count is 1\n",
        "Houston:~# '"
       ]
      },
      {
       "output_type": "stream",
       "stream": "stdout",
       "text": [
        "\n",
        "'vtysh -c \"conf t\n",
        "> interface eth2\n",
        "> ip ospf cost 1000 \"\n",
        "Houston:~# '"
       ]
      },
      {
       "output_type": "stream",
       "stream": "stdout",
       "text": [
        "\n",
        "'vtysh -c \"show ip ospf interface eth2\"\n",
        "eth2 is up\n",
        "  ifindex 5, MTU 1500 bytes, BW 0 Kbit <UP,BROADCAST,RUNNING,MULTICAST>\n",
        "  Internet Address 10.0.128.6/30, Broadcast 10.0.128.7, Area 0.0.0.0\n",
        "  MTU mismatch detection:enabled\n",
        "  Router ID 192.168.1.9, Network Type BROADCAST, Cost: 1000\n",
        "  Transmit Delay is 1 sec, State DR, Priority 1\n",
        "  Designated Router (ID) 192.168.1.9, Interface Address 10.0.128.6\n",
        "  Backup Designated Router (ID) 192.168.1.6, Interface Address 10.0.128.5\n",
        "  Multicast group memberships: OSPFAllRouters OSPFDesignatedRouters\n",
        "  Timer intervals configured, Hello 10s, Dead 40s, Wait 40s, Retransmit 5\n",
        "    Hello due in 1.381s\n",
        "  Neighbor Count is 1, Adjacent neighbor count is 1\n",
        "Houston:~# '"
       ]
      },
      {
       "output_type": "stream",
       "stream": "stdout",
       "text": [
        "\n",
        "'vtysh -c \"conf t\n",
        "> interface eth0\n",
        "> ip ospf cost 310 \"\n",
        "Indianapolis:~# '"
       ]
      },
      {
       "output_type": "stream",
       "stream": "stdout",
       "text": [
        "\n",
        "'vtysh -c \"show ip ospf interface eth0\"\n",
        "eth0 is up\n",
        "  ifindex 3, MTU 1500 bytes, BW 0 Kbit <UP,BROADCAST,RUNNING,MULTICAST>\n",
        "  Internet Address 10.0.128.2/30, Broadcast 10.0.128.3, Area 0.0.0.0\n",
        "  MTU mismatch detection:enabled\n",
        "  Router ID 192.168.1.4, Network Type BROADCAST, Cost: 310\n",
        "  Transmit Delay is 1 sec, State Backup, Priority 1\n",
        "  Designated Router (ID) 192.168.1.5, Interface Address 10.0.128.1\n",
        "  Backup Designated Router (ID) 192.168.1.4, Interface Address 10.0.128.2\n",
        "  Multicast group memberships: OSPFAllRouters OSPFDesignatedRouters\n",
        "  Timer intervals configured, Hello 10s, Dead 40s, Wait 40s, Retransmit 5\n",
        "    Hello due in 9.023s\n",
        "  Neighbor Count is 1, Adjacent neighbor count is 1\n",
        "Indianapolis:~# '"
       ]
      },
      {
       "output_type": "stream",
       "stream": "stdout",
       "text": [
        "\n",
        "'vtysh -c \"conf t\n",
        "> interface eth1\n",
        "> ip ospf cost 119 \"\n",
        "Indianapolis:~# '"
       ]
      },
      {
       "output_type": "stream",
       "stream": "stdout",
       "text": [
        "\n",
        "'vtysh -c \"show ip ospf interface eth1\"\n",
        "eth1 is up\n",
        "  ifindex 4, MTU 1500 bytes, BW 0 Kbit <UP,BROADCAST,RUNNING,MULTICAST>\n",
        "  Internet Address 10.0.128.14/30, Broadcast 10.0.128.15, Area 0.0.0.0\n",
        "  MTU mismatch detection:enabled\n",
        "  Router ID 192.168.1.4, Network Type BROADCAST, Cost: 119\n",
        "  Transmit Delay is 1 sec, State DR, Priority 1\n",
        "  Designated Router (ID) 192.168.1.4, Interface Address 10.0.128.14\n",
        "  Backup Designated Router (ID) 192.168.1.1, Interface Address 10.0.128.13\n",
        "  Multicast group memberships: OSPFAllRouters OSPFDesignatedRouters\n",
        "  Timer intervals configured, Hello 10s, Dead 40s, Wait 40s, Retransmit 5\n",
        "    Hello due in 6.981s\n",
        "  Neighbor Count is 1, Adjacent neighbor count is 1\n",
        "Indianapolis:~# '"
       ]
      },
      {
       "output_type": "stream",
       "stream": "stdout",
       "text": [
        "\n",
        "'vtysh -c \"conf t\n",
        "> interface eth2\n",
        "> ip ospf cost 331 \"\n",
        "Indianapolis:~# '"
       ]
      },
      {
       "output_type": "stream",
       "stream": "stdout",
       "text": [
        "\n",
        "'vtysh -c \"show ip ospf interface eth2\"\n",
        "eth2 is up\n",
        "  ifindex 5, MTU 1500 bytes, BW 0 Kbit <UP,BROADCAST,RUNNING,MULTICAST>\n",
        "  Internet Address 10.0.128.25/30, Broadcast 10.0.128.27, Area 0.0.0.0\n",
        "  MTU mismatch detection:enabled\n",
        "  Router ID 192.168.1.4, Network Type BROADCAST, Cost: 331\n",
        "  Transmit Delay is 1 sec, State Backup, Priority 1\n",
        "  Designated Router (ID) 192.168.1.7, Interface Address 10.0.128.26\n",
        "  Backup Designated Router (ID) 192.168.1.4, Interface Address 10.0.128.25\n",
        "  Multicast group memberships: OSPFAllRouters OSPFDesignatedRouters\n",
        "  Timer intervals configured, Hello 10s, Dead 40s, Wait 40s, Retransmit 5\n",
        "    Hello due in 2.679s\n",
        "  Neighbor Count is 1, Adjacent neighbor count is 1\n",
        "Indianapolis:~# '"
       ]
      },
      {
       "output_type": "stream",
       "stream": "stdout",
       "text": [
        "\n",
        "'vtysh -c \"conf t\n",
        "> interface eth0\n",
        "> ip ospf cost 681 \"\n",
        "Sunnyvale:~# '"
       ]
      },
      {
       "output_type": "stream",
       "stream": "stdout",
       "text": [
        "\n",
        "'vtysh -c \"show ip ospf interface eth0\"\n",
        "eth0 is up\n",
        "  ifindex 3, MTU 1500 bytes, BW 0 Kbit <UP,BROADCAST,RUNNING,MULTICAST>\n",
        "  Internet Address 10.0.0.21/30, Broadcast 10.0.0.23, Area 0.0.0.0\n",
        "  MTU mismatch detection:enabled\n",
        "  Router ID 192.168.1.8, Network Type BROADCAST, Cost: 681\n",
        "  Transmit Delay is 1 sec, State DR, Priority 1\n",
        "  Designated Router (ID) 192.168.1.8, Interface Address 10.0.0.21\n",
        "  Backup Designated Router (ID) 192.168.1.2, Interface Address 10.0.0.22\n",
        "  Multicast group memberships: OSPFAllRouters OSPFDesignatedRouters\n",
        "  Timer intervals configured, Hello 10s, Dead 40s, Wait 40s, Retransmit 5\n",
        "    Hello due in 2.770s\n",
        "  Neighbor Count is 1, Adjacent neighbor count is 1\n",
        "Sunnyvale:~# '"
       ]
      },
      {
       "output_type": "stream",
       "stream": "stdout",
       "text": [
        "\n",
        "'vtysh -c \"conf t\n",
        "> interface eth1\n",
        "> ip ospf cost 227 \"\n",
        "Sunnyvale:~# '"
       ]
      },
      {
       "output_type": "stream",
       "stream": "stdout",
       "text": [
        "\n",
        "'vtysh -c \"show ip ospf interface eth1\"\n",
        "eth1 is up\n",
        "  ifindex 4, MTU 1500 bytes, BW 0 Kbit <UP,BROADCAST,RUNNING,MULTICAST>\n",
        "  Internet Address 10.0.0.5/30, Broadcast 10.0.0.7, Area 0.0.0.0\n",
        "  MTU mismatch detection:enabled\n",
        "  Router ID 192.168.1.8, Network Type BROADCAST, Cost: 227\n",
        "  Transmit Delay is 1 sec, State DR, Priority 1\n",
        "  Designated Router (ID) 192.168.1.8, Interface Address 10.0.0.5\n",
        "  Backup Designated Router (ID) 192.168.1.6, Interface Address 10.0.0.6\n",
        "  Multicast group memberships: OSPFAllRouters OSPFDesignatedRouters\n",
        "  Timer intervals configured, Hello 10s, Dead 40s, Wait 40s, Retransmit 5\n",
        "    Hello due in 0.976s\n",
        "  Neighbor Count is 1, Adjacent neighbor count is 1\n",
        "Sunnyvale:~# '"
       ]
      },
      {
       "output_type": "stream",
       "stream": "stdout",
       "text": [
        "\n",
        "'vtysh -c \"conf t\n",
        "> interface eth2\n",
        "> ip ospf cost 514 \"\n",
        "Sunnyvale:~# '"
       ]
      },
      {
       "output_type": "stream",
       "stream": "stdout",
       "text": [
        "\n",
        "'vtysh -c \"show ip ospf interface eth2\"\n",
        "eth2 is up\n",
        "  ifindex 5, MTU 1500 bytes, BW 0 Kbit <UP,BROADCAST,RUNNING,MULTICAST>\n",
        "  Internet Address 10.0.0.10/30, Broadcast 10.0.0.11, Area 0.0.0.0\n",
        "  MTU mismatch detection:enabled\n",
        "  Router ID 192.168.1.8, Network Type BROADCAST, Cost: 514\n",
        "  Transmit Delay is 1 sec, State Backup, Priority 1\n",
        "  Designated Router (ID) 192.168.1.11, Interface Address 10.0.0.9\n",
        "  Backup Designated Router (ID) 192.168.1.8, Interface Address 10.0.0.10\n",
        "  Multicast group memberships: OSPFAllRouters OSPFDesignatedRouters\n",
        "  Timer intervals configured, Hello 10s, Dead 40s, Wait 40s, Retransmit 5\n",
        "    Hello due in 9.347s\n",
        "  Neighbor Count is 1, Adjacent neighbor count is 1\n",
        "Sunnyvale:~# '"
       ]
      },
      {
       "output_type": "stream",
       "stream": "stdout",
       "text": [
        "\n",
        "'vtysh -c \"conf t\n",
        "> interface eth0\n",
        "> ip ospf cost 519 \"\n",
        "Chicago:~# '"
       ]
      },
      {
       "output_type": "stream",
       "stream": "stdout",
       "text": [
        "\n",
        "'vtysh -c \"show ip ospf interface eth0\"\n",
        "eth0 is up\n",
        "  ifindex 3, MTU 1500 bytes, BW 0 Kbit <UP,BROADCAST,RUNNING,MULTICAST>\n",
        "  Internet Address 10.0.128.29/30, Broadcast 10.0.128.31, Area 0.0.0.0\n",
        "  MTU mismatch detection:enabled\n",
        "  Router ID 192.168.1.1, Network Type BROADCAST, Cost: 519\n",
        "  Transmit Delay is 1 sec, State Backup, Priority 1\n",
        "  Designated Router (ID) 192.168.1.10, Interface Address 10.0.128.30\n",
        "  Backup Designated Router (ID) 192.168.1.1, Interface Address 10.0.128.29\n",
        "  Multicast group memberships: OSPFAllRouters OSPFDesignatedRouters\n",
        "  Timer intervals configured, Hello 10s, Dead 40s, Wait 40s, Retransmit 5\n",
        "    Hello due in 4.914s\n",
        "  Neighbor Count is 1, Adjacent neighbor count is 1\n",
        "Chicago:~# '"
       ]
      },
      {
       "output_type": "stream",
       "stream": "stdout",
       "text": [
        "\n",
        "'vtysh -c \"conf t\n",
        "> interface eth1\n",
        "> ip ospf cost 119 \"\n",
        "Chicago:~# '"
       ]
      },
      {
       "output_type": "stream",
       "stream": "stdout",
       "text": [
        "\n",
        "'vtysh -c \"show ip ospf interface eth1\"\n",
        "eth1 is up\n",
        "  ifindex 4, MTU 1500 bytes, BW 0 Kbit <UP,BROADCAST,RUNNING,MULTICAST>\n",
        "  Internet Address 10.0.128.13/30, Broadcast 10.0.128.15, Area 0.0.0.0\n",
        "  MTU mismatch detection:enabled\n",
        "  Router ID 192.168.1.1, Network Type BROADCAST, Cost: 119\n",
        "  Transmit Delay is 1 sec, State Backup, Priority 1\n",
        "  Designated Router (ID) 192.168.1.4, Interface Address 10.0.128.14\n",
        "  Backup Designated Router (ID) 192.168.1.1, Interface Address 10.0.128.13\n",
        "  Multicast group memberships: OSPFAllRouters OSPFDesignatedRouters\n",
        "  Timer intervals configured, Hello 10s, Dead 40s, Wait 40s, Retransmit 5\n",
        "    Hello due in 2.732s\n",
        "  Neighbor Count is 1, Adjacent neighbor count is 1\n",
        "Chicago:~# '"
       ]
      },
      {
       "output_type": "stream",
       "stream": "stdout",
       "text": [
        "\n",
        "'vtysh -c \"conf t\n",
        "> interface eth0\n",
        "> ip ospf cost 470 \"\n",
        "Kansas_City:~# '"
       ]
      },
      {
       "output_type": "stream",
       "stream": "stdout",
       "text": [
        "\n",
        "'vtysh -c \"show ip ospf interface eth0\"\n",
        "eth0 is up\n",
        "  ifindex 3, MTU 1500 bytes, BW 0 Kbit <UP,BROADCAST,RUNNING,MULTICAST>\n",
        "  Internet Address 10.0.0.18/30, Broadcast 10.0.0.19, Area 0.0.0.0\n",
        "  MTU mismatch detection:enabled\n",
        "  Router ID 192.168.1.7, Network Type BROADCAST, Cost: 470\n",
        "  Transmit Delay is 1 sec, State Backup, Priority 1\n",
        "  Designated Router (ID) 192.168.1.9, Interface Address 10.0.0.17\n",
        "  Backup Designated Router (ID) 192.168.1.7, Interface Address 10.0.0.18\n",
        "  Multicast group memberships: OSPFAllRouters OSPFDesignatedRouters\n",
        "  Timer intervals configured, Hello 10s, Dead 40s, Wait 40s, Retransmit 5\n",
        "    Hello due in 0.718s\n",
        "  Neighbor Count is 1, Adjacent neighbor count is 1\n",
        "Kansas_City:~# '"
       ]
      },
      {
       "output_type": "stream",
       "stream": "stdout",
       "text": [
        "\n",
        "'vtysh -c \"conf t\n",
        "> interface eth1\n",
        "> ip ospf cost 331 \"\n",
        "Kansas_City:~# '"
       ]
      },
      {
       "output_type": "stream",
       "stream": "stdout",
       "text": [
        "\n",
        "'vtysh -c \"show ip ospf interface eth1\"\n",
        "eth1 is up\n",
        "  ifindex 4, MTU 1500 bytes, BW 0 Kbit <UP,BROADCAST,RUNNING,MULTICAST>\n",
        "  Internet Address 10.0.128.26/30, Broadcast 10.0.128.27, Area 0.0.0.0\n",
        "  MTU mismatch detection:enabled\n",
        "  Router ID 192.168.1.7, Network Type BROADCAST, Cost: 331\n",
        "  Transmit Delay is 1 sec, State DR, Priority 1\n",
        "  Designated Router (ID) 192.168.1.7, Interface Address 10.0.128.26\n",
        "  Backup Designated Router (ID) 192.168.1.4, Interface Address 10.0.128.25\n",
        "  Multicast group memberships: OSPFAllRouters OSPFDesignatedRouters\n",
        "  Timer intervals configured, Hello 10s, Dead 40s, Wait 40s, Retransmit 5\n",
        "    Hello due in 8.123s\n",
        "  Neighbor Count is 1, Adjacent neighbor count is 1\n",
        "Kansas_City:~# '"
       ]
      },
      {
       "output_type": "stream",
       "stream": "stdout",
       "text": [
        "\n",
        "'vtysh -c \"conf t\n",
        "> interface eth2\n",
        "> ip ospf cost 404 \"\n",
        "Kansas_City:~# '"
       ]
      },
      {
       "output_type": "stream",
       "stream": "stdout",
       "text": [
        "\n",
        "'vtysh -c \"show ip ospf interface eth2\"\n",
        "eth2 is up\n",
        "  ifindex 5, MTU 1500 bytes, BW 0 Kbit <UP,BROADCAST,RUNNING,MULTICAST>\n",
        "  Internet Address 10.0.0.2/30, Broadcast 10.0.0.3, Area 0.0.0.0\n",
        "  MTU mismatch detection:enabled\n",
        "  Router ID 192.168.1.7, Network Type BROADCAST, Cost: 404\n",
        "  Transmit Delay is 1 sec, State DR, Priority 1\n",
        "  Designated Router (ID) 192.168.1.7, Interface Address 10.0.0.2\n",
        "  Backup Designated Router (ID) 192.168.1.2, Interface Address 10.0.0.1\n",
        "  Multicast group memberships: OSPFAllRouters OSPFDesignatedRouters\n",
        "  Timer intervals configured, Hello 10s, Dead 40s, Wait 40s, Retransmit 5\n",
        "    Hello due in 5.824s\n",
        "  Neighbor Count is 1, Adjacent neighbor count is 1\n",
        "Kansas_City:~# '"
       ]
      },
      {
       "output_type": "stream",
       "stream": "stdout",
       "text": [
        "\n",
        "'vtysh -c \"conf t\n",
        "> interface eth0\n",
        "> ip ospf cost 743 \"\n",
        "Denver:~# '"
       ]
      },
      {
       "output_type": "stream",
       "stream": "stdout",
       "text": [
        "\n",
        "'vtysh -c \"show ip ospf interface eth0\"\n",
        "eth0 is up\n",
        "  ifindex 3, MTU 1500 bytes, BW 0 Kbit <UP,BROADCAST,RUNNING,MULTICAST>\n",
        "  Internet Address 10.0.128.22/30, Broadcast 10.0.128.23, Area 0.0.0.0\n",
        "  MTU mismatch detection:enabled\n",
        "  Router ID 192.168.1.2, Network Type BROADCAST, Cost: 743\n",
        "  Transmit Delay is 1 sec, State Backup, Priority 1\n",
        "  Designated Router (ID) 192.168.1.11, Interface Address 10.0.128.21\n",
        "  Backup Designated Router (ID) 192.168.1.2, Interface Address 10.0.128.22\n",
        "  Multicast group memberships: OSPFAllRouters OSPFDesignatedRouters\n",
        "  Timer intervals configured, Hello 10s, Dead 40s, Wait 40s, Retransmit 5\n",
        "    Hello due in 3.812s\n",
        "  Neighbor Count is 1, Adjacent neighbor count is 1\n",
        "Denver:~# '"
       ]
      },
      {
       "output_type": "stream",
       "stream": "stdout",
       "text": [
        "\n",
        "'vtysh -c \"conf t\n",
        "> interface eth1\n",
        "> ip ospf cost 404 \"\n",
        "Denver:~# '"
       ]
      },
      {
       "output_type": "stream",
       "stream": "stdout",
       "text": [
        "\n",
        "'vtysh -c \"show ip ospf interface eth1\"\n",
        "eth1 is up\n",
        "  ifindex 4, MTU 1500 bytes, BW 0 Kbit <UP,BROADCAST,RUNNING,MULTICAST>\n",
        "  Internet Address 10.0.0.1/30, Broadcast 10.0.0.3, Area 0.0.0.0\n",
        "  MTU mismatch detection:enabled\n",
        "  Router ID 192.168.1.2, Network Type BROADCAST, Cost: 404\n",
        "  Transmit Delay is 1 sec, State Backup, Priority 1\n",
        "  Designated Router (ID) 192.168.1.7, Interface Address 10.0.0.2\n",
        "  Backup Designated Router (ID) 192.168.1.2, Interface Address 10.0.0.1\n",
        "  Multicast group memberships: OSPFAllRouters OSPFDesignatedRouters\n",
        "  Timer intervals configured, Hello 10s, Dead 40s, Wait 40s, Retransmit 5\n",
        "    Hello due in 0.470s\n",
        "  Neighbor Count is 1, Adjacent neighbor count is 1\n",
        "Denver:~# '"
       ]
      },
      {
       "output_type": "stream",
       "stream": "stdout",
       "text": [
        "\n",
        "'vtysh -c \"conf t\n",
        "> interface eth2\n",
        "> ip ospf cost 681 \"\n",
        "Denver:~# '"
       ]
      },
      {
       "output_type": "stream",
       "stream": "stdout",
       "text": [
        "\n",
        "'vtysh -c \"show ip ospf interface eth2\"\n",
        "eth2 is up\n",
        "  ifindex 5, MTU 1500 bytes, BW 0 Kbit <UP,BROADCAST,RUNNING,MULTICAST>\n",
        "  Internet Address 10.0.0.22/30, Broadcast 10.0.0.23, Area 0.0.0.0\n",
        "  MTU mismatch detection:enabled\n",
        "  Router ID 192.168.1.2, Network Type BROADCAST, Cost: 681\n",
        "  Transmit Delay is 1 sec, State Backup, Priority 1\n",
        "  Designated Router (ID) 192.168.1.8, Interface Address 10.0.0.21\n",
        "  Backup Designated Router (ID) 192.168.1.2, Interface Address 10.0.0.22\n",
        "  Multicast group memberships: OSPFAllRouters OSPFDesignatedRouters\n",
        "  Timer intervals configured, Hello 10s, Dead 40s, Wait 40s, Retransmit 5\n",
        "    Hello due in 0.104s\n",
        "  Neighbor Count is 1, Adjacent neighbor count is 1\n",
        "Denver:~# '"
       ]
      },
      {
       "output_type": "stream",
       "stream": "stdout",
       "text": [
        "\n",
        "'vtysh -c \"conf t\n",
        "> interface eth0\n",
        "> ip ospf cost 519 \"\n",
        "New_York:~# '"
       ]
      },
      {
       "output_type": "stream",
       "stream": "stdout",
       "text": [
        "\n",
        "'vtysh -c \"show ip ospf interface eth0\"\n",
        "eth0 is up\n",
        "  ifindex 3, MTU 1500 bytes, BW 0 Kbit <UP,BROADCAST,RUNNING,MULTICAST>\n",
        "  Internet Address 10.0.128.30/30, Broadcast 10.0.128.31, Area 0.0.0.0\n",
        "  MTU mismatch detection:enabled\n",
        "  Router ID 192.168.1.10, Network Type BROADCAST, Cost: 519\n",
        "  Transmit Delay is 1 sec, State DR, Priority 1\n",
        "  Designated Router (ID) 192.168.1.10, Interface Address 10.0.128.30\n",
        "  Backup Designated Router (ID) 192.168.1.1, Interface Address 10.0.128.29\n",
        "  Multicast group memberships: OSPFAllRouters OSPFDesignatedRouters\n",
        "  Timer intervals configured, Hello 10s, Dead 40s, Wait 40s, Retransmit 5\n",
        "    Hello due in 7.269s\n",
        "  Neighbor Count is 1, Adjacent neighbor count is 1\n",
        "New_York:~# '"
       ]
      },
      {
       "output_type": "stream",
       "stream": "stdout",
       "text": [
        "\n",
        "'vtysh -c \"conf t\n",
        "> interface eth1\n",
        "> ip ospf cost 148 \"\n",
        "New_York:~# '"
       ]
      },
      {
       "output_type": "stream",
       "stream": "stdout",
       "text": [
        "\n",
        "'vtysh -c \"show ip ospf interface eth1\"\n",
        "eth1 is up\n",
        "  ifindex 4, MTU 1500 bytes, BW 0 Kbit <UP,BROADCAST,RUNNING,MULTICAST>\n",
        "  Internet Address 10.0.128.17/30, Broadcast 10.0.128.19, Area 0.0.0.0\n",
        "  MTU mismatch detection:enabled\n",
        "  Router ID 192.168.1.10, Network Type BROADCAST, Cost: 148\n",
        "  Transmit Delay is 1 sec, State DR, Priority 1\n",
        "  Designated Router (ID) 192.168.1.10, Interface Address 10.0.128.17\n",
        "  Backup Designated Router (ID) 192.168.1.3, Interface Address 10.0.128.18\n",
        "  Multicast group memberships: OSPFAllRouters OSPFDesignatedRouters\n",
        "  Timer intervals configured, Hello 10s, Dead 40s, Wait 40s, Retransmit 5\n",
        "    Hello due in 1.334s\n",
        "  Neighbor Count is 1, Adjacent neighbor count is 1\n",
        "New_York:~# '"
       ]
      },
      {
       "output_type": "stream",
       "stream": "stdout",
       "text": [
        "\n",
        "'vtysh -c \"conf t\n",
        "> interface eth0\n",
        "> ip ospf cost 1000 \"\n",
        "Los_Angeles:~# '"
       ]
      },
      {
       "output_type": "stream",
       "stream": "stdout",
       "text": [
        "\n",
        "'vtysh -c \"show ip ospf interface eth0\"\n",
        "eth0 is up\n",
        "  ifindex 3, MTU 1500 bytes, BW 0 Kbit <UP,BROADCAST,RUNNING,MULTICAST>\n",
        "  Internet Address 10.0.128.5/30, Broadcast 10.0.128.7, Area 0.0.0.0\n",
        "  MTU mismatch detection:enabled\n",
        "  Router ID 192.168.1.6, Network Type BROADCAST, Cost: 1000\n",
        "  Transmit Delay is 1 sec, State Backup, Priority 1\n",
        "  Designated Router (ID) 192.168.1.9, Interface Address 10.0.128.6\n",
        "  Backup Designated Router (ID) 192.168.1.6, Interface Address 10.0.128.5\n",
        "  Multicast group memberships: OSPFAllRouters OSPFDesignatedRouters\n",
        "  Timer intervals configured, Hello 10s, Dead 40s, Wait 40s, Retransmit 5\n",
        "    Hello due in 3.063s\n",
        "  Neighbor Count is 1, Adjacent neighbor count is 1\n",
        "Los_Angeles:~# '"
       ]
      },
      {
       "output_type": "stream",
       "stream": "stdout",
       "text": [
        "\n",
        "'vtysh -c \"conf t\n",
        "> interface eth1\n",
        "> ip ospf cost 227 \"\n",
        "Los_Angeles:~# '"
       ]
      },
      {
       "output_type": "stream",
       "stream": "stdout",
       "text": [
        "\n",
        "'vtysh -c \"show ip ospf interface eth1\"\n",
        "eth1 is up\n",
        "  ifindex 4, MTU 1500 bytes, BW 0 Kbit <UP,BROADCAST,RUNNING,MULTICAST>\n",
        "  Internet Address 10.0.0.6/30, Broadcast 10.0.0.7, Area 0.0.0.0\n",
        "  MTU mismatch detection:enabled\n",
        "  Router ID 192.168.1.6, Network Type BROADCAST, Cost: 227\n",
        "  Transmit Delay is 1 sec, State Backup, Priority 1\n",
        "  Designated Router (ID) 192.168.1.8, Interface Address 10.0.0.5\n",
        "  Backup Designated Router (ID) 192.168.1.6, Interface Address 10.0.0.6\n",
        "  Multicast group memberships: OSPFAllRouters OSPFDesignatedRouters\n",
        "  Timer intervals configured, Hello 10s, Dead 40s, Wait 40s, Retransmit 5\n",
        "    Hello due in 1.226s\n",
        "  Neighbor Count is 1, Adjacent neighbor count is 1\n",
        "Los_Angeles:~# '"
       ]
      },
      {
       "output_type": "stream",
       "stream": "stdout",
       "text": [
        "\n",
        "'vtysh -c \"conf t\n",
        "> interface eth0\n",
        "> ip ospf cost 148 \"\n",
        "Washington_DC:~# '"
       ]
      },
      {
       "output_type": "stream",
       "stream": "stdout",
       "text": [
        "\n",
        "'vtysh -c \"show ip ospf interface eth0\"\n",
        "eth0 is up\n",
        "  ifindex 3, MTU 1500 bytes, BW 0 Kbit <UP,BROADCAST,RUNNING,MULTICAST>\n",
        "  Internet Address 10.0.128.18/30, Broadcast 10.0.128.19, Area 0.0.0.0\n",
        "  MTU mismatch detection:enabled\n",
        "  Router ID 192.168.1.3, Network Type BROADCAST, Cost: 148\n",
        "  Transmit Delay is 1 sec, State Backup, Priority 1\n",
        "  Designated Router (ID) 192.168.1.10, Interface Address 10.0.128.17\n",
        "  Backup Designated Router (ID) 192.168.1.3, Interface Address 10.0.128.18\n",
        "  Multicast group memberships: OSPFAllRouters OSPFDesignatedRouters\n",
        "  Timer intervals configured, Hello 10s, Dead 40s, Wait 40s, Retransmit 5\n",
        "    Hello due in 3.966s\n",
        "  Neighbor Count is 1, Adjacent neighbor count is 1\n",
        "Washington_DC:~# '"
       ]
      },
      {
       "output_type": "stream",
       "stream": "stdout",
       "text": [
        "\n",
        "'vtysh -c \"conf t\n",
        "> interface eth1\n",
        "> ip ospf cost 394 \"\n",
        "Washington_DC:~# '"
       ]
      },
      {
       "output_type": "stream",
       "stream": "stdout",
       "text": [
        "\n",
        "'vtysh -c \"show ip ospf interface eth1\"\n",
        "eth1 is up\n",
        "  ifindex 4, MTU 1500 bytes, BW 0 Kbit <UP,BROADCAST,RUNNING,MULTICAST>\n",
        "  Internet Address 10.0.128.10/30, Broadcast 10.0.128.11, Area 0.0.0.0\n",
        "  MTU mismatch detection:enabled\n",
        "  Router ID 192.168.1.3, Network Type BROADCAST, Cost: 394\n",
        "  Transmit Delay is 1 sec, State Backup, Priority 1\n",
        "  Designated Router (ID) 192.168.1.5, Interface Address 10.0.128.9\n",
        "  Backup Designated Router (ID) 192.168.1.3, Interface Address 10.0.128.10\n",
        "  Multicast group memberships: OSPFAllRouters OSPFDesignatedRouters\n",
        "  Timer intervals configured, Hello 10s, Dead 40s, Wait 40s, Retransmit 5\n",
        "    Hello due in 1.957s\n",
        "  Neighbor Count is 1, Adjacent neighbor count is 1\n",
        "Washington_DC:~# '"
       ]
      },
      {
       "output_type": "stream",
       "stream": "stdout",
       "text": [
        "\n",
        "'vtysh -c \"conf t\n",
        "> interface eth0\n",
        "> ip ospf cost 510 \"\n",
        "Atlanta:~# '"
       ]
      },
      {
       "output_type": "stream",
       "stream": "stdout",
       "text": [
        "\n",
        "'vtysh -c \"show ip ospf interface eth0\"\n",
        "eth0 is up\n",
        "  ifindex 3, MTU 1500 bytes, BW 0 Kbit <UP,BROADCAST,RUNNING,MULTICAST>\n",
        "  Internet Address 10.0.0.13/30, Broadcast 10.0.0.15, Area 0.0.0.0\n",
        "  MTU mismatch detection:enabled\n",
        "  Router ID 192.168.1.5, Network Type BROADCAST, Cost: 510\n",
        "  Transmit Delay is 1 sec, State Backup, Priority 1\n",
        "  Designated Router (ID) 192.168.1.9, Interface Address 10.0.0.14\n",
        "  Backup Designated Router (ID) 192.168.1.5, Interface Address 10.0.0.13\n",
        "  Multicast group memberships: OSPFAllRouters OSPFDesignatedRouters\n",
        "  Timer intervals configured, Hello 10s, Dead 40s, Wait 40s, Retransmit 5\n",
        "    Hello due in 0.552s\n",
        "  Neighbor Count is 1, Adjacent neighbor count is 1\n",
        "Atlanta:~# '"
       ]
      },
      {
       "output_type": "stream",
       "stream": "stdout",
       "text": [
        "\n",
        "'vtysh -c \"conf t\n",
        "> interface eth1\n",
        "> ip ospf cost 310 \"\n",
        "Atlanta:~# '"
       ]
      },
      {
       "output_type": "stream",
       "stream": "stdout",
       "text": [
        "\n",
        "'vtysh -c \"show ip ospf interface eth1\"\n",
        "eth1 is up\n",
        "  ifindex 4, MTU 1500 bytes, BW 0 Kbit <UP,BROADCAST,RUNNING,MULTICAST>\n",
        "  Internet Address 10.0.128.1/30, Broadcast 10.0.128.3, Area 0.0.0.0\n",
        "  MTU mismatch detection:enabled\n",
        "  Router ID 192.168.1.5, Network Type BROADCAST, Cost: 310\n",
        "  Transmit Delay is 1 sec, State DR, Priority 1\n",
        "  Designated Router (ID) 192.168.1.5, Interface Address 10.0.128.1\n",
        "  Backup Designated Router (ID) 192.168.1.4, Interface Address 10.0.128.2\n",
        "  Multicast group memberships: OSPFAllRouters OSPFDesignatedRouters\n",
        "  Timer intervals configured, Hello 10s, Dead 40s, Wait 40s, Retransmit 5\n",
        "    Hello due in 0.070s\n",
        "  Neighbor Count is 1, Adjacent neighbor count is 1\n",
        "Atlanta:~# '"
       ]
      },
      {
       "output_type": "stream",
       "stream": "stdout",
       "text": [
        "\n",
        "'vtysh -c \"conf t\n",
        "> interface eth2\n",
        "> ip ospf cost 394 \"\n",
        "Atlanta:~# '"
       ]
      },
      {
       "output_type": "stream",
       "stream": "stdout",
       "text": [
        "\n",
        "'vtysh -c \"show ip ospf interface eth2\"\n",
        "eth2 is up\n",
        "  ifindex 5, MTU 1500 bytes, BW 0 Kbit <UP,BROADCAST,RUNNING,MULTICAST>\n",
        "  Internet Address 10.0.128.9/30, Broadcast 10.0.128.11, Area 0.0.0.0\n",
        "  MTU mismatch detection:enabled\n",
        "  Router ID 192.168.1.5, Network Type BROADCAST, Cost: 394\n",
        "  Transmit Delay is 1 sec, State DR, Priority 1\n",
        "  Designated Router (ID) 192.168.1.5, Interface Address 10.0.128.9\n",
        "  Backup Designated Router (ID) 192.168.1.3, Interface Address 10.0.128.10\n",
        "  Multicast group memberships: OSPFAllRouters OSPFDesignatedRouters\n",
        "  Timer intervals configured, Hello 10s, Dead 40s, Wait 40s, Retransmit 5\n",
        "    Hello due in 4.780s\n",
        "  Neighbor Count is 1, Adjacent neighbor count is 1\n",
        "Atlanta:~# '"
       ]
      },
      {
       "output_type": "stream",
       "stream": "stdout",
       "text": [
        "\n",
        "'vtysh -c \"conf t\n",
        "> interface eth0\n",
        "> ip ospf cost 743 \"\n",
        "Seattle:~# '"
       ]
      },
      {
       "output_type": "stream",
       "stream": "stdout",
       "text": [
        "\n",
        "'vtysh -c \"show ip ospf interface eth0\"\n",
        "eth0 is up\n",
        "  ifindex 3, MTU 1500 bytes, BW 0 Kbit <UP,BROADCAST,RUNNING,MULTICAST>\n",
        "  Internet Address 10.0.128.21/30, Broadcast 10.0.128.23, Area 0.0.0.0\n",
        "  MTU mismatch detection:enabled\n",
        "  Router ID 192.168.1.11, Network Type BROADCAST, Cost: 743\n",
        "  Transmit Delay is 1 sec, State DR, Priority 1\n",
        "  Designated Router (ID) 192.168.1.11, Interface Address 10.0.128.21\n",
        "  Backup Designated Router (ID) 192.168.1.2, Interface Address 10.0.128.22\n",
        "  Multicast group memberships: OSPFAllRouters OSPFDesignatedRouters\n",
        "  Timer intervals configured, Hello 10s, Dead 40s, Wait 40s, Retransmit 5\n",
        "    Hello due in 6.532s\n",
        "  Neighbor Count is 1, Adjacent neighbor count is 1\n",
        "Seattle:~# '"
       ]
      },
      {
       "output_type": "stream",
       "stream": "stdout",
       "text": [
        "\n",
        "'vtysh -c \"conf t\n",
        "> interface eth1\n",
        "> ip ospf cost 514 \"\n",
        "Seattle:~# '"
       ]
      },
      {
       "output_type": "stream",
       "stream": "stdout",
       "text": [
        "\n",
        "'vtysh -c \"show ip ospf interface eth1\"\n",
        "eth1 is up\n",
        "  ifindex 4, MTU 1500 bytes, BW 0 Kbit <UP,BROADCAST,RUNNING,MULTICAST>\n",
        "  Internet Address 10.0.0.9/30, Broadcast 10.0.0.11, Area 0.0.0.0\n",
        "  MTU mismatch detection:enabled\n",
        "  Router ID 192.168.1.11, Network Type BROADCAST, Cost: 514\n",
        "  Transmit Delay is 1 sec, State DR, Priority 1\n",
        "  Designated Router (ID) 192.168.1.11, Interface Address 10.0.0.9\n",
        "  Backup Designated Router (ID) 192.168.1.8, Interface Address 10.0.0.10\n",
        "  Multicast group memberships: OSPFAllRouters OSPFDesignatedRouters\n",
        "  Timer intervals configured, Hello 10s, Dead 40s, Wait 40s, Retransmit 5\n",
        "    Hello due in 5.049s\n",
        "  Neighbor Count is 1, Adjacent neighbor count is 1\n",
        "Seattle:~# '"
       ]
      },
      {
       "output_type": "stream",
       "stream": "stdout",
       "text": [
        "\n"
       ]
      }
     ],
     "prompt_number": 27
    },
    {
     "cell_type": "heading",
     "level": 3,
     "metadata": {},
     "source": [
      "Measuring changes from emulated network"
     ]
    },
    {
     "cell_type": "code",
     "collapsed": false,
     "input": [
      "import autonetkit.console_script as console_script\n",
      "\n",
      "source_node = nidb_b.node(\"Denver\")\n",
      "print source_node\n",
      "console_script.collect_sh_ip_route(anm, nidb_b, source_node)"
     ],
     "language": "python",
     "metadata": {},
     "outputs": [
      {
       "output_type": "stream",
       "stream": "stderr",
       "text": [
        "\u001b[1;37mINFO\u001b[0m 172.16.0.4 vtysh -c \"show ip route\"\n"
       ]
      },
      {
       "output_type": "stream",
       "stream": "stderr",
       "text": [
        "\u001b[1;37mINFO\u001b[0m Verifying IGP routes\n"
       ]
      },
      {
       "output_type": "stream",
       "stream": "stderr",
       "text": [
        "\u001b[1;37mINFO\u001b[0m 100.0% verification rate\n"
       ]
      },
      {
       "output_type": "stream",
       "stream": "stdout",
       "text": [
        "Denver\n"
       ]
      }
     ],
     "prompt_number": 29
    },
    {
     "cell_type": "code",
     "collapsed": false,
     "input": [
      "import autonetkit.console_script as console_script\n",
      "source_node = nidb.node(\"Sunnyvale\")\n",
      "console_script.collect_sh_ip_route(anm, nidb_b, source_node)"
     ],
     "language": "python",
     "metadata": {},
     "outputs": [
      {
       "output_type": "stream",
       "stream": "stderr",
       "text": [
        "\u001b[1;37mINFO\u001b[0m 172.16.0.10 vtysh -c \"show ip route\"\n"
       ]
      },
      {
       "output_type": "stream",
       "stream": "stderr",
       "text": [
        "\u001b[1;37mINFO\u001b[0m Verifying IGP routes\n"
       ]
      },
      {
       "output_type": "stream",
       "stream": "stderr",
       "text": [
        "\u001b[1;37mINFO\u001b[0m 100.0% verification rate\n"
       ]
      }
     ],
     "prompt_number": 30
    }
   ],
   "metadata": {}
  }
 ]
}