{
 "metadata": {
  "name": "ANK Test"
 },
 "nbformat": 3,
 "nbformat_minor": 0,
 "worksheets": [
  {
   "cells": [
    {
     "cell_type": "code",
     "collapsed": false,
     "input": [
      "import autonetkit\n",
      "import autonetkit.anm\n",
      "import autonetkit.load.graphml as graphml\n",
      "\n",
      "anm =  autonetkit.ANM()\n",
      "input_graph = graphml.load_graphml(\"autonetkit/topologies/small_internet.graphml\")\n",
      "g_in = anm.initialise_graph(input_graph)\n",
      "autonetkit.update_http(anm)"
     ],
     "language": "python",
     "metadata": {},
     "outputs": [],
     "prompt_number": 2
    },
    {
     "cell_type": "markdown",
     "metadata": {},
     "source": [
      "Create the Physical Graph"
     ]
    },
    {
     "cell_type": "code",
     "collapsed": false,
     "input": [
      "g_phy = anm['phy']\n",
      "g_phy.add_nodes_from(g_in, retain=['label', 'device_type', 'asn', 'platform', 'host', 'syntax'])\n",
      "g_phy.add_edges_from(g_in.edges(type=\"physical\"))\n",
      "g_phy.update(g_phy, syntax=\"quagga\")\n",
      "autonetkit.update_http(anm)"
     ],
     "language": "python",
     "metadata": {},
     "outputs": [],
     "prompt_number": 3
    },
    {
     "cell_type": "markdown",
     "metadata": {},
     "source": []
    },
    {
     "cell_type": "code",
     "collapsed": false,
     "input": [
      "g_ospf = anm.add_overlay(\"ospf\", g_in.routers())\n",
      "g_ospf.add_edges_from(e for e in g_in.edges() if e.src.asn == e.dst.asn)\n",
      "g_ospf.update(area=0) # set defaults\n",
      "g_ospf.update_edges(area=0)\n",
      "autonetkit.update_http(anm)"
     ],
     "language": "python",
     "metadata": {},
     "outputs": [],
     "prompt_number": 4
    },
    {
     "cell_type": "markdown",
     "metadata": {},
     "source": []
    },
    {
     "cell_type": "code",
     "collapsed": false,
     "input": [
      "g_bgp = anm.add_overlay(\"bgp\", g_in.routers(), directed = True)\n",
      "autonetkit.update_http(anm)"
     ],
     "language": "python",
     "metadata": {},
     "outputs": [],
     "prompt_number": 5
    },
    {
     "cell_type": "code",
     "collapsed": false,
     "input": [],
     "language": "python",
     "metadata": {},
     "outputs": [],
     "prompt_number": 5
    },
    {
     "cell_type": "code",
     "collapsed": false,
     "input": [
      "g_bgp.add_edges_from((e for e in g_in.edges() if e.src.asn != e.dst.asn), \n",
      "    bidirectional = True, type = 'ebgp')\n",
      "autonetkit.update_http(anm)"
     ],
     "language": "python",
     "metadata": {},
     "outputs": [],
     "prompt_number": 6
    },
    {
     "cell_type": "code",
     "collapsed": false,
     "input": [],
     "language": "python",
     "metadata": {},
     "outputs": [],
     "prompt_number": 6
    },
    {
     "cell_type": "code",
     "collapsed": false,
     "input": [
      "g_bgp.add_edges_from(((s, t) for s in g_bgp for t in g_bgp \n",
      "    if s.asn == t.asn and s is not t), type = 'ibgp')\n",
      "autonetkit.update_http(anm)"
     ],
     "language": "python",
     "metadata": {},
     "outputs": [],
     "prompt_number": 7
    },
    {
     "cell_type": "code",
     "collapsed": false,
     "input": [],
     "language": "python",
     "metadata": {},
     "outputs": []
    },
    {
     "cell_type": "code",
     "collapsed": false,
     "input": [
      "import autonetkit.ank_messaging as ank_messaging\n"
     ],
     "language": "python",
     "metadata": {},
     "outputs": [],
     "prompt_number": 7
    },
    {
     "cell_type": "markdown",
     "metadata": {},
     "source": [
      "We can use the highlight function to highlight nodes and edges in the visualization.\n"
     ]
    },
    {
     "cell_type": "code",
     "collapsed": false,
     "input": [
      "nodes = [n for n in g_bgp if n.asn == 20]\n",
      "edges = [e for e in g_bgp.edges() if e.dst.asn == 20 and e.type == 'ebgp']\n",
      "ank_messaging.highlight(nodes, edges)"
     ],
     "language": "python",
     "metadata": {},
     "outputs": [],
     "prompt_number": 56
    },
    {
     "cell_type": "code",
     "collapsed": false,
     "input": [
      "from autonetkit.ank_utils import unwrap_graph\n",
      "\n",
      "\n",
      "import networkx as nx\n",
      "graph = unwrap_graph(g_phy)\n",
      "\n",
      "nodes = [n for n in graph]\n",
      "from random import choice\n",
      "\n",
      "src = choice(nodes)\n",
      "dst = choice(nodes)\n",
      "path = nx.shortest_path(graph, src, dst)\n",
      "\n",
      "t = [g_phy.node(n) for n in path]\n",
      "\n",
      "ebunch = zip(path[0:-1], path[1:])\n",
      "edges = [g_phy.edge(s, t) for (s, t) in ebunch]\n",
      "nodes = [src, dst]\n",
      "ank_messaging.highlight(nodes, edges)\n"
     ],
     "language": "python",
     "metadata": {},
     "outputs": [],
     "prompt_number": 53
    }
   ],
   "metadata": {}
  }
 ]
}