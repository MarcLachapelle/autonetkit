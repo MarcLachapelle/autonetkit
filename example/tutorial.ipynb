{
 "metadata": {
  "name": "ank"
 },
 "nbformat": 3,
 "nbformat_minor": 0,
 "worksheets": [
  {
   "cells": [
    {
     "cell_type": "code",
     "collapsed": false,
     "input": [
      "import autonetkit\n",
      "import autonetkit.anm\n",
      "import autonetkit.load.graphml as graphml\n",
      "\n",
      "anm =  autonetkit.ANM()\n",
      "input_graph = graphml.load_graphml(\"../topologies/small_internet.graphml\")\n",
      "g_in = anm.initialise_graph(input_graph)\n",
      "autonetkit.update_http(anm)"
     ],
     "language": "python",
     "metadata": {},
     "outputs": [],
     "prompt_number": 105
    },
    {
     "cell_type": "markdown",
     "metadata": {},
     "source": [
      "Create the Physical Graph"
     ]
    },
    {
     "cell_type": "code",
     "collapsed": false,
     "input": [
      "g_phy = anm['phy']\n",
      "g_phy.add_nodes_from(g_in, retain=['label', 'device_type', 'asn', 'platform', 'host', 'syntax'])\n",
      "g_phy.add_edges_from(g_in.edges(type=\"physical\"))\n",
      "g_phy.update(g_phy, syntax=\"quagga\")\n",
      "autonetkit.update_http(anm)"
     ],
     "language": "python",
     "metadata": {},
     "outputs": [],
     "prompt_number": 106
    },
    {
     "cell_type": "markdown",
     "metadata": {},
     "source": []
    },
    {
     "cell_type": "code",
     "collapsed": false,
     "input": [
      "g_ospf = anm.add_overlay(\"ospf\", g_in.routers())\n",
      "g_ospf.add_edges_from(e for e in g_in.edges() if e.src.asn == e.dst.asn)\n",
      "g_ospf.update(area=0) # set defaults\n",
      "g_ospf.update_edges(area=0)\n",
      "autonetkit.update_http(anm)"
     ],
     "language": "python",
     "metadata": {},
     "outputs": [],
     "prompt_number": 109
    },
    {
     "cell_type": "markdown",
     "metadata": {},
     "source": []
    },
    {
     "cell_type": "code",
     "collapsed": false,
     "input": [
      "g_bgp = anm.add_overlay(\"bgp\", g_in.routers(), directed = True)\n",
      "autonetkit.update_http(anm)"
     ],
     "language": "python",
     "metadata": {},
     "outputs": [],
     "prompt_number": 111
    },
    {
     "cell_type": "code",
     "collapsed": false,
     "input": [],
     "language": "python",
     "metadata": {},
     "outputs": [],
     "prompt_number": 111
    },
    {
     "cell_type": "code",
     "collapsed": false,
     "input": [
      "g_bgp.add_edges_from((e for e in g_in.edges() if e.src.asn != e.dst.asn), \n",
      "    bidirectional = True, type = 'ebgp')\n",
      "autonetkit.update_http(anm)"
     ],
     "language": "python",
     "metadata": {},
     "outputs": [],
     "prompt_number": 112
    },
    {
     "cell_type": "code",
     "collapsed": false,
     "input": [],
     "language": "python",
     "metadata": {},
     "outputs": [],
     "prompt_number": 112
    },
    {
     "cell_type": "code",
     "collapsed": false,
     "input": [
      "g_bgp.add_edges_from(((s, t) for s in g_bgp for t in g_bgp \n",
      "    if s.asn == t.asn and s is not t), type = 'ibgp')\n",
      "autonetkit.update_http(anm)"
     ],
     "language": "python",
     "metadata": {},
     "outputs": [],
     "prompt_number": 113
    },
    {
     "cell_type": "code",
     "collapsed": false,
     "input": [],
     "language": "python",
     "metadata": {},
     "outputs": [],
     "prompt_number": 113
    },
    {
     "cell_type": "code",
     "collapsed": false,
     "input": [
      "import autonetkit.ank_messaging as ank_messaging\n"
     ],
     "language": "python",
     "metadata": {},
     "outputs": [],
     "prompt_number": 114
    },
    {
     "cell_type": "heading",
     "level": 2,
     "metadata": {},
     "source": [
      "Highlighting nodes and edges"
     ]
    },
    {
     "cell_type": "markdown",
     "metadata": {},
     "source": [
      "We can use the highlight function to highlight nodes and edges in the visualization.\n"
     ]
    },
    {
     "cell_type": "code",
     "collapsed": false,
     "input": [
      "asn = 30 # change me\n",
      "nodes = [n for n in g_bgp if n.asn == asn]\n",
      "edges = [e for e in g_bgp.edges() if e.dst.asn == asn and e.type == 'ebgp']\n",
      "ank_messaging.highlight(nodes, edges)"
     ],
     "language": "python",
     "metadata": {},
     "outputs": [],
     "prompt_number": 115
    },
    {
     "cell_type": "heading",
     "level": 2,
     "metadata": {},
     "source": [
      "Using NetworkX for Graph Analysis"
     ]
    },
    {
     "cell_type": "markdown",
     "metadata": {},
     "source": [
      "We can use NetworkX Algorithms such as shortest path. \n",
      "\n",
      "1. First we need to unwrap the graph to access the underlying NetworkX graph. \n",
      "2. We can then perform functions, which return a list of nodes.\n",
      "3. We turn this list of nodes on the path into a list of edges, eg [a, b, c, d] -> [(a, b), (b, c), (c, d)]\n",
      "4. We then use the ANK selection function to convert this list to edges\n",
      "5. We use the highlight function of the messaging module to send it to the webservice."
     ]
    },
    {
     "cell_type": "code",
     "collapsed": false,
     "input": [
      "from autonetkit.ank_utils import unwrap_graph\n",
      "\n",
      "\n",
      "import networkx as nx\n",
      "graph = unwrap_graph(g_phy)\n",
      "\n",
      "nodes = [n for n in graph]\n",
      "from random import choice\n",
      "\n",
      "src = choice(nodes)\n",
      "dst = choice(nodes)\n",
      "#(src, dst) = ('as100r1', 'as1r1')\n",
      "path = nx.shortest_path(graph, src, dst)\n",
      "\n",
      "t = [g_phy.node(n) for n in path]\n",
      "\n",
      "ebunch = zip(path[0:-1], path[1:])\n",
      "edges = [g_phy.edge(s, t) for (s, t) in ebunch]\n",
      "nodes = [src, dst]\n",
      "ank_messaging.highlight(nodes, edges)\n"
     ],
     "language": "python",
     "metadata": {},
     "outputs": [],
     "prompt_number": 116
    },
    {
     "cell_type": "markdown",
     "metadata": {},
     "source": [
      "We can also use other graph algorithms, such as the Minimum Spanning Tree."
     ]
    },
    {
     "cell_type": "code",
     "collapsed": false,
     "input": [
      "graph = unwrap_graph(g_ospf)\n",
      "T = nx.minimum_spanning_tree(graph)\n",
      "edges = [g_phy.edge(s, t) for (s, t) in  T.edges()]\n",
      "ank_messaging.highlight([], edges)"
     ],
     "language": "python",
     "metadata": {},
     "outputs": [],
     "prompt_number": 118
    },
    {
     "cell_type": "markdown",
     "metadata": {},
     "source": [
      "Now let's perform using the edge weight.\n",
      "\n",
      "Since we are using an iBGP graph, it makes sense to use a larger network than the small_internet, which has at most 4 nodes per AS.\n",
      "\n",
      "Another network to use would be singleas.graphml to do so, change the first cell above, and rerun the code.\n",
      "\n",
      "We want to copy across the edge attribute *ospf_cost* from the input graph, and store it as the *cost* attribute on the ospf graph.\n",
      "\n",
      "Since the underlying data structure is NetworkX, these attributes will be present when we unwrap the graph.\n",
      "\n",
      "We can now add the 'weight' parameter to the MST function call. The rest of the code proceeds are before."
     ]
    },
    {
     "cell_type": "code",
     "collapsed": false,
     "input": [
      "import autonetkit.ank as ank_utils\n",
      "ank_utils.copy_edge_attr_from(g_in, g_ospf, \"ospf_cost\", dst_attr=\"cost\")\n",
      "autonetkit.update_http(anm)\n",
      "\n",
      "graph = unwrap_graph(g_ospf)\n",
      "T = nx.minimum_spanning_tree(graph, weight = 'cost')\n",
      "edges = [g_phy.edge(s, t) for (s, t) in  T.edges()]\n",
      "ank_messaging.highlight([], edges)"
     ],
     "language": "python",
     "metadata": {},
     "outputs": [],
     "prompt_number": 90
    },
    {
     "cell_type": "code",
     "collapsed": false,
     "input": [],
     "language": "python",
     "metadata": {},
     "outputs": []
    }
   ],
   "metadata": {}
  }
 ]
}


