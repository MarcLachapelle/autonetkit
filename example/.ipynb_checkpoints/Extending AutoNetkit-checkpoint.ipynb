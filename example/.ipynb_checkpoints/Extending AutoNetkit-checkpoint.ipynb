{
 "metadata": {
  "name": ""
 },
 "nbformat": 3,
 "nbformat_minor": 0,
 "worksheets": [
  {
   "cells": [
    {
     "cell_type": "heading",
     "level": 1,
     "metadata": {},
     "source": [
      "AutoNetkit API tutorial"
     ]
    },
    {
     "cell_type": "markdown",
     "metadata": {},
     "source": [
      "Written for AutoNetkit 0.8"
     ]
    },
    {
     "cell_type": "markdown",
     "metadata": {},
     "source": [
      "Create Network"
     ]
    },
    {
     "cell_type": "code",
     "collapsed": false,
     "input": [
      "import autonetkit\n",
      "anm = autonetkit.ANM()"
     ],
     "language": "python",
     "metadata": {},
     "outputs": [],
     "prompt_number": 1
    },
    {
     "cell_type": "code",
     "collapsed": false,
     "input": [
      "g_in = anm.add_overlay(\"input\")\n",
      "nodes = ['r1', 'r2', 'r3', 'r4', 'r5']\n",
      "\n",
      "g_in.add_nodes_from(nodes)\n",
      "g_in.update(device_type = \"router\", asn=1)\n",
      "g_in.update([\"r1\", \"r2\", \"r3\"], asn = 1)\n"
     ],
     "language": "python",
     "metadata": {},
     "outputs": [],
     "prompt_number": 27
    },
    {
     "cell_type": "code",
     "collapsed": false,
     "input": [
      "positions = {'r1': (10, 79),\n",
      " 'r2': (226, 25),\n",
      " 'r3': (172, 295),\n",
      " 'r4': (334, 187),\n",
      " 'r5': (496, 349)}\n",
      "\n",
      "for n in g_in:\n",
      "    n.x, n.y = positions[n]\n",
      "\n",
      "autonetkit.update_http(anm)"
     ],
     "language": "python",
     "metadata": {},
     "outputs": [],
     "prompt_number": 61
    },
    {
     "cell_type": "code",
     "collapsed": false,
     "input": [
      "edges = [(\"r1\", \"r2\"), (\"r2\", \"r4\"), (\"r1\", \"r3\"), \n",
      "         (\"r3\", \"r4\"), (\"r3\", \"r5\"), (\"r4\", \"r5\")]\n",
      "g_in.add_edges_from(edges)\n",
      "g_in.allocate_interfaces()"
     ],
     "language": "python",
     "metadata": {},
     "outputs": [
      {
       "output_type": "stream",
       "stream": "stderr",
       "text": [
        "INFO Automatically assigning input interfaces\n"
       ]
      },
      {
       "output_type": "stream",
       "stream": "stderr",
       "text": [
        "INFO:ANK:Automatically assigning input interfaces\n"
       ]
      }
     ],
     "prompt_number": 62
    },
    {
     "cell_type": "code",
     "collapsed": false,
     "input": [
      "autonetkit.update_http(anm)"
     ],
     "language": "python",
     "metadata": {},
     "outputs": [],
     "prompt_number": 67
    },
    {
     "cell_type": "code",
     "collapsed": false,
     "input": [
      "g_phy = anm['phy']\n",
      "g_phy.add_nodes_from(g_in, retain=[\"asn\", \"device_type\"])\n",
      "\n",
      "g_phy.add_edges_from(g_in.edges())\n",
      "autonetkit.update_http(anm)\n",
      "\n",
      "for n in g_in:\n",
      "    print n.get(\"device_type\")\n",
      "print\n",
      "for n in g_phy:\n",
      "    print n.device_type, n.asn\n",
      "    print n.dump()"
     ],
     "language": "python",
     "metadata": {},
     "outputs": [
      {
       "output_type": "stream",
       "stream": "stdout",
       "text": [
        "router\n",
        "router\n",
        "router\n",
        "router\n",
        "router\n",
        "\n",
        "None None\n",
        "{'label': 'r4'}\n",
        "None None\n",
        "{'label': 'r5'}\n",
        "None None\n",
        "{'label': 'r1'}\n",
        "None None\n",
        "{'label': 'r2'}\n",
        "None None\n",
        "{'label': 'r3'}\n"
       ]
      }
     ],
     "prompt_number": 84
    },
    {
     "cell_type": "code",
     "collapsed": false,
     "input": [],
     "language": "python",
     "metadata": {},
     "outputs": [
      {
       "ename": "AttributeError",
       "evalue": "'OverlayGraph' object has no attribute 'add_nodes'",
       "output_type": "pyerr",
       "traceback": [
        "\u001b[0;31m---------------------------------------------------------------------------\u001b[0m\n\u001b[0;31mAttributeError\u001b[0m                            Traceback (most recent call last)",
        "\u001b[0;32m<ipython-input-80-f7a46c1a076a>\u001b[0m in \u001b[0;36m<module>\u001b[0;34m()\u001b[0m\n\u001b[1;32m      1\u001b[0m \u001b[0mg_ospf\u001b[0m \u001b[0;34m=\u001b[0m \u001b[0manm\u001b[0m\u001b[0;34m.\u001b[0m\u001b[0madd_overlay\u001b[0m\u001b[0;34m(\u001b[0m\u001b[0;34m\"ospf\"\u001b[0m\u001b[0;34m)\u001b[0m\u001b[0;34m\u001b[0m\u001b[0m\n\u001b[0;32m----> 2\u001b[0;31m \u001b[0mg_ospf\u001b[0m\u001b[0;34m.\u001b[0m\u001b[0madd_nodes\u001b[0m\u001b[0;34m\u001b[0m\u001b[0m\n\u001b[0m",
        "\u001b[0;31mAttributeError\u001b[0m: 'OverlayGraph' object has no attribute 'add_nodes'"
       ]
      }
     ],
     "prompt_number": 80
    },
    {
     "cell_type": "code",
     "collapsed": false,
     "input": [],
     "language": "python",
     "metadata": {},
     "outputs": [],
     "prompt_number": 39
    },
    {
     "cell_type": "code",
     "collapsed": false,
     "input": [],
     "language": "python",
     "metadata": {},
     "outputs": []
    }
   ],
   "metadata": {}
  }
 ]
}