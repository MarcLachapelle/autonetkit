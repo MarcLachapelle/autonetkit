{
 "metadata": {
  "name": "demo"
 },
 "nbformat": 3,
 "nbformat_minor": 0,
 "worksheets": [
  {
   "cells": [
    {
     "cell_type": "heading",
     "level": 3,
     "metadata": {},
     "source": [
      "Creating ANM from topology graph"
     ]
    },
    {
     "cell_type": "code",
     "collapsed": false,
     "input": [
      "import autonetkit\n",
      "import autonetkit.load.graphml as graphml\n",
      "\n",
      "anm =  autonetkit.ANM()\n",
      "input_graph = graphml.load_graphml(\"demo_r_prepended.graphml\")\n",
      "\n",
      "import autonetkit.build_network as build_network\n",
      "anm = build_network.initialise(input_graph)\n",
      "autonetkit.update_http(anm)"
     ],
     "language": "python",
     "metadata": {},
     "outputs": [],
     "prompt_number": 52
    },
    {
     "cell_type": "code",
     "collapsed": false,
     "input": [
      "g_test = anm.add_overlay(\"test\")\n",
      "g_in = anm['input']\n",
      "autonetkit.update_http(anm)"
     ],
     "language": "python",
     "metadata": {},
     "outputs": [],
     "prompt_number": 53
    },
    {
     "cell_type": "code",
     "collapsed": false,
     "input": [
      "g_test.add_nodes_from(g_in, retain = \"asn\")\n",
      "autonetkit.update_http(anm)"
     ],
     "language": "python",
     "metadata": {},
     "outputs": [],
     "prompt_number": 54
    },
    {
     "cell_type": "code",
     "collapsed": false,
     "input": [
      "ebgp_edges = (e for e in g_in.edges() if e.src.asn != e.dst.asn)\n",
      "g_test.add_edges_from(ebgp_edges, type = \"ebgp\")\n",
      "\n",
      "autonetkit.update_http(anm)"
     ],
     "language": "python",
     "metadata": {},
     "outputs": [],
     "prompt_number": 55
    },
    {
     "cell_type": "code",
     "collapsed": false,
     "input": [
      "g_in = anm['input']\n",
      "g_test = anm.add_overlay(\"test\")\n",
      "\n",
      "g_test.add_nodes_from(g_in, retain = \"asn\")\n",
      "\n",
      "new_edges = [e for e in g_in.edges() if e.src.asn != e.dst.asn]\n",
      "print new_edges\n",
      "g_test.add_edges_from(new_edges, label = \"ebgp\")\n",
      "\n",
      "for node in g_test:\n",
      "    if node['input'].degree() > 2:\n",
      "        node.role = \"rr\"\n",
      "    else:\n",
      "        node.role = \"client\"\n",
      "        \n",
      "for asn, devices in g_test.groupby(\"asn\").items():\n",
      "    new_edges = [(s, t) for s in devices for t in devices\n",
      "                 if s.role == \"client\" and t.role == \"rr\"]\n",
      "    g_test.add_edges_from(new_edges, label = \"up\")\n",
      "    \n",
      "\n",
      "autonetkit.update_http(anm)"
     ],
     "language": "python",
     "metadata": {},
     "outputs": [
      {
       "output_type": "stream",
       "stream": "stdout",
       "text": [
        "[input: (r4, r1), input: (r1, r3), input: (r8, r2)]\n"
       ]
      }
     ],
     "prompt_number": 56
    },
    {
     "cell_type": "heading",
     "level": 3,
     "metadata": {},
     "source": [
      "Applying network design rules"
     ]
    },
    {
     "cell_type": "code",
     "collapsed": false,
     "input": [
      "anm = build_network.apply_design_rules(anm)\n",
      "autonetkit.update_http(anm)"
     ],
     "language": "python",
     "metadata": {},
     "outputs": [
      {
       "output_type": "stream",
       "stream": "stderr",
       "text": [
        "\u001b[1;37mINFO\u001b[0m Allocating v4 Infrastructure IPs\n"
       ]
      },
      {
       "output_type": "stream",
       "stream": "stderr",
       "text": [
        "\u001b[1;37mINFO\u001b[0m:ANK:Allocating v4 Infrastructure IPs\n"
       ]
      },
      {
       "output_type": "stream",
       "stream": "stderr",
       "text": [
        "\u001b[1;37mINFO\u001b[0m Allocating v4 Primary Host loopback IPs\n"
       ]
      },
      {
       "output_type": "stream",
       "stream": "stderr",
       "text": [
        "\u001b[1;37mINFO\u001b[0m:ANK:Allocating v4 Primary Host loopback IPs\n"
       ]
      },
      {
       "output_type": "stream",
       "stream": "stderr",
       "text": [
        "\u001b[1;37mINFO\u001b[0m Allocating v4 Secondary Host loopback IPs\n"
       ]
      },
      {
       "output_type": "stream",
       "stream": "stderr",
       "text": [
        "\u001b[1;37mINFO\u001b[0m:ANK:Allocating v4 Secondary Host loopback IPs\n"
       ]
      }
     ],
     "prompt_number": 57
    },
    {
     "cell_type": "heading",
     "level": 3,
     "metadata": {},
     "source": [
      "Modifying Network using API"
     ]
    },
    {
     "cell_type": "code",
     "collapsed": false,
     "input": [
      "import autonetkit.ank_messaging as msg\n",
      "msg.highlight([], [(\"r1\",\"r8\")], [])"
     ],
     "language": "python",
     "metadata": {},
     "outputs": [],
     "prompt_number": 58
    },
    {
     "cell_type": "markdown",
     "metadata": {},
     "source": [
      "Look at the OSPF overlay: set \"cost\" to be the edge attribute displayed"
     ]
    },
    {
     "cell_type": "code",
     "collapsed": false,
     "input": [
      "e1_8 = anm['ospf'].edge('r1', 'r8')\n",
      "print \"before:\", e1_8.cost\n",
      "\n",
      "e1_8.cost = 1000\n",
      "e1_8.apply_to_interfaces(\"cost\")\n",
      "print \"after:\", e1_8.cost\n",
      "\n",
      "autonetkit.update_http(anm)"
     ],
     "language": "python",
     "metadata": {},
     "outputs": [
      {
       "output_type": "stream",
       "stream": "stdout",
       "text": [
        "before: 10\n",
        "after: 1000\n"
       ]
      }
     ],
     "prompt_number": 67
    },
    {
     "cell_type": "markdown",
     "metadata": {},
     "source": [
      "View the result on the OSPF overlay"
     ]
    },
    {
     "cell_type": "heading",
     "level": 3,
     "metadata": {},
     "source": [
      "Compiling ANM to NIDB"
     ]
    },
    {
     "cell_type": "code",
     "collapsed": false,
     "input": [
      "import autonetkit.console_script as console_script\n",
      "render_hostname = \"localhost\"\n",
      "\n",
      "nidb = console_script.create_nidb(anm)\n",
      "nidb_a = nidb # store for diffing\n",
      "nk_compiler = autonetkit.compiler.NetkitCompiler(nidb, anm, render_hostname)\n",
      "nk_compiler.compile()\n",
      "autonetkit.update_http(anm, nidb)"
     ],
     "language": "python",
     "metadata": {},
     "outputs": [
      {
       "output_type": "stream",
       "stream": "stderr",
       "text": [
        "\u001b[1;37mINFO\u001b[0m Compiling Netkit for localhost\n"
       ]
      },
      {
       "output_type": "stream",
       "stream": "stderr",
       "text": [
        "\u001b[1;37mINFO\u001b[0m:ANK:Compiling Netkit for localhost\n"
       ]
      }
     ],
     "prompt_number": 68
    },
    {
     "cell_type": "heading",
     "level": 3,
     "metadata": {},
     "source": [
      "Viewing NIDB Attributes"
     ]
    },
    {
     "cell_type": "code",
     "collapsed": false,
     "input": [
      "router = nidb.node(\"r1\")\n",
      "router.dump()"
     ],
     "language": "python",
     "metadata": {},
     "outputs": [
      {
       "output_type": "stream",
       "stream": "stdout",
       "text": [
        "{'Network': None,\n",
        " '_interfaces': {0: {'description': 'Loopback',\n",
        "                     'id': 'lo0:1',\n",
        "                     'id_brief': 'lo0:1',\n",
        "                     'ipv4_address': IPAddress('10.0.0.6'),\n",
        "                     'ipv4_subnet': IPNetwork('10.0.0.6/32'),\n",
        "                     'type': 'loopback'},\n",
        "                 1: {'description': 'r1 to r3',\n",
        "                     'id': 'eth0',\n",
        "                     'id_brief': 'eth0',\n",
        "                     'ipv4_address': IPAddress('10.1.128.1'),\n",
        "                     'ipv4_cidr': IPNetwork('10.1.128.1/30'),\n",
        "                     'ipv4_subnet': IPNetwork('10.1.128.0/30'),\n",
        "                     'numeric_id': 0,\n",
        "                     'physical': True,\n",
        "                     'type': 'physical'},\n",
        "                 2: {'description': 'r1 to r8',\n",
        "                     'id': 'eth1',\n",
        "                     'id_brief': 'eth1',\n",
        "                     'ipv4_address': IPAddress('10.1.128.13'),\n",
        "                     'ipv4_cidr': IPNetwork('10.1.128.13/30'),\n",
        "                     'ipv4_subnet': IPNetwork('10.1.128.12/30'),\n",
        "                     'numeric_id': 1,\n",
        "                     'ospf_cost': 1000,\n",
        "                     'physical': True,\n",
        "                     'type': 'physical'},\n",
        "                 3: {'description': 'r1 to r4',\n",
        "                     'id': 'eth2',\n",
        "                     'id_brief': 'eth2',\n",
        "                     'ipv4_address': IPAddress('10.0.0.1'),\n",
        "                     'ipv4_cidr': IPNetwork('10.0.0.1/30'),\n",
        "                     'ipv4_subnet': IPNetwork('10.0.0.0/30'),\n",
        "                     'numeric_id': 2,\n",
        "                     'physical': True,\n",
        "                     'type': 'physical'},\n",
        "                 4: {'description': 'r1 to r5',\n",
        "                     'id': 'eth3',\n",
        "                     'id_brief': 'eth3',\n",
        "                     'ipv4_address': IPAddress('10.1.128.6'),\n",
        "                     'ipv4_cidr': IPNetwork('10.1.128.6/30'),\n",
        "                     'ipv4_subnet': IPNetwork('10.1.128.4/30'),\n",
        "                     'numeric_id': 3,\n",
        "                     'ospf_cost': 1,\n",
        "                     'physical': True,\n",
        "                     'type': 'physical'},\n",
        "                 5: {'description': 'r1 to r7',\n",
        "                     'id': 'eth4',\n",
        "                     'id_brief': 'eth4',\n",
        "                     'ipv4_address': IPAddress('10.1.128.9'),\n",
        "                     'ipv4_cidr': IPNetwork('10.1.128.9/30'),\n",
        "                     'ipv4_subnet': IPNetwork('10.1.128.8/30'),\n",
        "                     'numeric_id': 4,\n",
        "                     'ospf_cost': 1,\n",
        "                     'physical': True,\n",
        "                     'type': 'physical'}},\n",
        " 'asn': 2,\n",
        " 'bgp': {'debug': True,\n",
        "         'ebgp_neighbors': [{'asn': 1,\n",
        "                             'dst_int_ip': IPAddress('10.0.0.2'),\n",
        "                             'local_int_ip': IPAddress('10.0.0.1'),\n",
        "                             'loopback': IPAddress('10.0.0.17'),\n",
        "                             'neighbor': 'r4',\n",
        "                             'update_source': None,\n",
        "                             'use_ipv4': True,\n",
        "                             'use_ipv6': False},\n",
        "                            {'asn': 1,\n",
        "                             'dst_int_ip': IPAddress('10.1.128.2'),\n",
        "                             'local_int_ip': IPAddress('10.1.128.1'),\n",
        "                             'loopback': IPAddress('10.0.0.19'),\n",
        "                             'neighbor': 'r3',\n",
        "                             'update_source': None,\n",
        "                             'use_ipv4': True,\n",
        "                             'use_ipv6': False}],\n",
        "         'ibgp_neighbors': [{'asn': 2,\n",
        "                             'loopback': IPAddress('10.0.0.4'),\n",
        "                             'neighbor': 'r5',\n",
        "                             'update_source': None,\n",
        "                             'use_ipv4': True,\n",
        "                             'use_ipv6': False},\n",
        "                            {'asn': 2,\n",
        "                             'loopback': IPAddress('10.0.0.3'),\n",
        "                             'neighbor': 'r6',\n",
        "                             'update_source': None,\n",
        "                             'use_ipv4': True,\n",
        "                             'use_ipv6': False},\n",
        "                            {'asn': 2,\n",
        "                             'loopback': IPAddress('10.0.0.5'),\n",
        "                             'neighbor': 'r7',\n",
        "                             'update_source': None,\n",
        "                             'use_ipv4': True,\n",
        "                             'use_ipv6': False},\n",
        "                            {'asn': 2,\n",
        "                             'loopback': IPAddress('10.0.0.1'),\n",
        "                             'neighbor': 'r10',\n",
        "                             'update_source': None,\n",
        "                             'use_ipv4': True,\n",
        "                             'use_ipv6': False},\n",
        "                            {'asn': 2,\n",
        "                             'loopback': IPAddress('10.0.0.2'),\n",
        "                             'neighbor': 'r11',\n",
        "                             'update_source': None,\n",
        "                             'use_ipv4': True,\n",
        "                             'use_ipv6': False},\n",
        "                            {'asn': 2,\n",
        "                             'loopback': IPAddress('10.0.0.7'),\n",
        "                             'neighbor': 'r8',\n",
        "                             'update_source': None,\n",
        "                             'use_ipv4': True,\n",
        "                             'use_ipv6': False},\n",
        "                            {'asn': 2,\n",
        "                             'loopback': IPAddress('10.0.0.8'),\n",
        "                             'neighbor': 'r9',\n",
        "                             'update_source': None,\n",
        "                             'use_ipv4': True,\n",
        "                             'use_ipv6': False}],\n",
        "         'ibgp_rr_clients': [],\n",
        "         'ibgp_rr_parents': [],\n",
        "         'ipv4_advertise_subnets': [IPNetwork('10.1.0.0/16')],\n",
        "         'ipv6_advertise_subnets': []},\n",
        " 'device_subtype': None,\n",
        " 'device_type': 'router',\n",
        " 'graphics': {'device_subtype': None,\n",
        "              'device_type': 'router',\n",
        "              'x': 542.6405010223389,\n",
        "              'y': 415.17582416534424},\n",
        " 'host': 'localhost',\n",
        " 'hostname': 'r1',\n",
        " 'input_label': 'r1',\n",
        " 'interfaces': [],\n",
        " 'ip': {'use_ipv4': True, 'use_ipv6': False},\n",
        " 'label': 'r1',\n",
        " 'loopback': IPAddress('10.0.0.6'),\n",
        " 'loopback_subnet': IPNetwork('10.0.0.6/32'),\n",
        " 'ospf': {'lo_interface': 'lo0:1',\n",
        "          'loopback_area': 0,\n",
        "          'ospf_links': [{'area': 0, 'network': IPNetwork('10.1.128.12/30')},\n",
        "                         {'area': 0, 'network': IPNetwork('10.1.128.4/30')},\n",
        "                         {'area': 0, 'network': IPNetwork('10.1.128.8/30')},\n",
        "                         {'area': 0, 'network': IPNetwork('10.1.128.0/30')},\n",
        "                         {'area': 0, 'network': IPNetwork('10.0.0.0/30')}],\n",
        "          'passive_interfaces': [{'id': 'eth0'}, {'id': 'eth2'}],\n",
        "          'process_id': 1},\n",
        " 'platform': 'netkit',\n",
        " 'render': {'base': 'templates/quagga',\n",
        "            'base_dst_folder': 'rendered/localhost/netkit/r1',\n",
        "            'dst_file': 'r1.startup',\n",
        "            'dst_folder': 'rendered/localhost/netkit',\n",
        "            'template': 'templates/netkit_startup.mako'},\n",
        " 'ssh': {'use_key': True},\n",
        " 'tap': {'id': 'eth5', 'ip': IPAddress('172.16.0.6')},\n",
        " 'update': None,\n",
        " 'x': 274.0,\n",
        " 'y': 210.0,\n",
        " 'zebra': {'password': '1234', 'static_routes': []}}\n"
       ]
      }
     ],
     "prompt_number": 69
    },
    {
     "cell_type": "heading",
     "level": 3,
     "metadata": {},
     "source": [
      "Rendering NIDB to Configuration Files"
     ]
    },
    {
     "cell_type": "code",
     "collapsed": false,
     "input": [
      "import autonetkit.render`\n",
      "autonetkit.render.render(nidb)"
     ],
     "language": "python",
     "metadata": {},
     "outputs": [
      {
       "output_type": "stream",
       "stream": "stderr",
       "text": [
        "\u001b[1;37mINFO\u001b[0m Rendering Network\n"
       ]
      },
      {
       "output_type": "stream",
       "stream": "stderr",
       "text": [
        "\u001b[1;37mINFO\u001b[0m:ANK:Rendering Network\n"
       ]
      }
     ],
     "prompt_number": 70
    },
    {
     "cell_type": "heading",
     "level": 3,
     "metadata": {},
     "source": [
      "Viewing Output Configurations"
     ]
    },
    {
     "cell_type": "code",
     "collapsed": false,
     "input": [
      "import os\n",
      "dst_folder = nidb.topology['localhost'].render_dst_folder\n",
      "for path, dirs, files in os.walk(dst_folder):\n",
      "  print path\n",
      "  for f in files:\n",
      "    print \"\\t\", f"
     ],
     "language": "python",
     "metadata": {},
     "outputs": [
      {
       "output_type": "stream",
       "stream": "stdout",
       "text": [
        "rendered/localhost/netkit\n",
        "\t.DS_Store\n",
        "\t1.startup\n",
        "\t10.startup\n",
        "\t11.startup\n",
        "\t12.startup\n",
        "\t13.startup\n",
        "\t14.startup\n",
        "\t2.startup\n",
        "\t3.startup\n",
        "\t4.startup\n",
        "\t5.startup\n",
        "\t6.startup\n",
        "\t7.startup\n",
        "\t8.startup\n",
        "\t9.startup\n",
        "\tlab.conf\n",
        "\tr1.startup\n",
        "\tr10.startup\n",
        "\tr11.startup\n",
        "\tr2.startup\n",
        "\tr3.startup\n",
        "\tr4.startup\n",
        "\tr5.startup\n",
        "\tr6.startup\n",
        "\tr7.startup\n",
        "\tr8.startup\n",
        "\tr9.startup\n",
        "rendered/localhost/netkit/1\n",
        "rendered/localhost/netkit/1/etc\n",
        "\thostname\n",
        "\tshadow\n",
        "rendered/localhost/netkit/1/etc/ssh\n",
        "\tsshd_config\n",
        "rendered/localhost/netkit/1/etc/zebra\n",
        "\tbgpd.conf\n",
        "\tdaemons\n",
        "\tisisd.conf\n",
        "\tmotd.txt\n",
        "\tospfd.conf\n",
        "\tzebra.conf\n",
        "rendered/localhost/netkit/1/root\n",
        "rendered/localhost/netkit/1/root/.ssh\n",
        "\tauthorized_keys\n",
        "rendered/localhost/netkit/10\n",
        "rendered/localhost/netkit/10/etc\n",
        "\thostname\n",
        "\tshadow\n",
        "rendered/localhost/netkit/10/etc/ssh\n",
        "\tsshd_config\n",
        "rendered/localhost/netkit/10/etc/zebra\n",
        "\tbgpd.conf\n",
        "\tdaemons\n",
        "\tisisd.conf\n",
        "\tmotd.txt\n",
        "\tospfd.conf\n",
        "\tzebra.conf\n",
        "rendered/localhost/netkit/10/root\n",
        "rendered/localhost/netkit/10/root/.ssh\n",
        "\tauthorized_keys\n",
        "rendered/localhost/netkit/11\n",
        "rendered/localhost/netkit/11/etc\n",
        "\thostname\n",
        "\tshadow\n",
        "rendered/localhost/netkit/11/etc/ssh\n",
        "\tsshd_config\n",
        "rendered/localhost/netkit/11/etc/zebra\n",
        "\tbgpd.conf\n",
        "\tdaemons\n",
        "\tisisd.conf\n",
        "\tmotd.txt\n",
        "\tospfd.conf\n",
        "\tzebra.conf\n",
        "rendered/localhost/netkit/11/root\n",
        "rendered/localhost/netkit/11/root/.ssh\n",
        "\tauthorized_keys\n",
        "rendered/localhost/netkit/12\n",
        "rendered/localhost/netkit/12/etc\n",
        "\thostname\n",
        "\tshadow\n",
        "rendered/localhost/netkit/12/etc/ssh\n",
        "\tsshd_config\n",
        "rendered/localhost/netkit/12/etc/zebra\n",
        "\tbgpd.conf\n",
        "\tdaemons\n",
        "\tisisd.conf\n",
        "\tmotd.txt\n",
        "\tospfd.conf\n",
        "\tzebra.conf\n",
        "rendered/localhost/netkit/12/root\n",
        "rendered/localhost/netkit/12/root/.ssh\n",
        "\tauthorized_keys\n",
        "rendered/localhost/netkit/13\n",
        "rendered/localhost/netkit/13/etc\n",
        "\thostname\n",
        "\tshadow\n",
        "rendered/localhost/netkit/13/etc/ssh\n",
        "\tsshd_config\n",
        "rendered/localhost/netkit/13/etc/zebra\n",
        "\tbgpd.conf\n",
        "\tdaemons\n",
        "\tisisd.conf\n",
        "\tmotd.txt\n",
        "\tospfd.conf\n",
        "\tzebra.conf\n",
        "rendered/localhost/netkit/13/root\n",
        "rendered/localhost/netkit/13/root/.ssh\n",
        "\tauthorized_keys\n",
        "rendered/localhost/netkit/14\n",
        "rendered/localhost/netkit/14/etc\n",
        "\thostname\n",
        "\tshadow\n",
        "rendered/localhost/netkit/14/etc/ssh\n",
        "\tsshd_config\n",
        "rendered/localhost/netkit/14/etc/zebra\n",
        "\tbgpd.conf\n",
        "\tdaemons\n",
        "\tisisd.conf\n",
        "\tmotd.txt\n",
        "\tospfd.conf\n",
        "\tzebra.conf\n",
        "rendered/localhost/netkit/14/root\n",
        "rendered/localhost/netkit/14/root/.ssh\n",
        "\tauthorized_keys\n",
        "rendered/localhost/netkit/2\n",
        "rendered/localhost/netkit/2/etc\n",
        "\thostname\n",
        "\tshadow\n",
        "rendered/localhost/netkit/2/etc/ssh\n",
        "\tsshd_config\n",
        "rendered/localhost/netkit/2/etc/zebra\n",
        "\tbgpd.conf\n",
        "\tdaemons\n",
        "\tisisd.conf\n",
        "\tmotd.txt\n",
        "\tospfd.conf\n",
        "\tzebra.conf\n",
        "rendered/localhost/netkit/2/root\n",
        "rendered/localhost/netkit/2/root/.ssh\n",
        "\tauthorized_keys\n",
        "rendered/localhost/netkit/3\n",
        "rendered/localhost/netkit/3/etc\n",
        "\thostname\n",
        "\tshadow\n",
        "rendered/localhost/netkit/3/etc/ssh\n",
        "\tsshd_config\n",
        "rendered/localhost/netkit/3/etc/zebra\n",
        "\tbgpd.conf\n",
        "\tdaemons\n",
        "\tisisd.conf\n",
        "\tmotd.txt\n",
        "\tospfd.conf\n",
        "\tzebra.conf\n",
        "rendered/localhost/netkit/3/root\n",
        "rendered/localhost/netkit/3/root/.ssh\n",
        "\tauthorized_keys\n",
        "rendered/localhost/netkit/4\n",
        "rendered/localhost/netkit/4/etc\n",
        "\thostname\n",
        "\tshadow\n",
        "rendered/localhost/netkit/4/etc/ssh\n",
        "\tsshd_config\n",
        "rendered/localhost/netkit/4/etc/zebra\n",
        "\tbgpd.conf\n",
        "\tdaemons\n",
        "\tisisd.conf\n",
        "\tmotd.txt\n",
        "\tospfd.conf\n",
        "\tzebra.conf\n",
        "rendered/localhost/netkit/4/root\n",
        "rendered/localhost/netkit/4/root/.ssh\n",
        "\tauthorized_keys\n",
        "rendered/localhost/netkit/5\n",
        "rendered/localhost/netkit/5/etc\n",
        "\thostname\n",
        "\tshadow\n",
        "rendered/localhost/netkit/5/etc/ssh\n",
        "\tsshd_config\n",
        "rendered/localhost/netkit/5/etc/zebra\n",
        "\tbgpd.conf\n",
        "\tdaemons\n",
        "\tisisd.conf\n",
        "\tmotd.txt\n",
        "\tospfd.conf\n",
        "\tzebra.conf\n",
        "rendered/localhost/netkit/5/root\n",
        "rendered/localhost/netkit/5/root/.ssh\n",
        "\tauthorized_keys\n",
        "rendered/localhost/netkit/6\n",
        "rendered/localhost/netkit/6/etc\n",
        "\thostname\n",
        "\tshadow\n",
        "rendered/localhost/netkit/6/etc/ssh\n",
        "\tsshd_config\n",
        "rendered/localhost/netkit/6/etc/zebra\n",
        "\tbgpd.conf\n",
        "\tdaemons\n",
        "\tisisd.conf\n",
        "\tmotd.txt\n",
        "\tospfd.conf\n",
        "\tzebra.conf\n",
        "rendered/localhost/netkit/6/root\n",
        "rendered/localhost/netkit/6/root/.ssh\n",
        "\tauthorized_keys\n",
        "rendered/localhost/netkit/7\n",
        "rendered/localhost/netkit/7/etc\n",
        "\thostname\n",
        "\tshadow\n",
        "rendered/localhost/netkit/7/etc/ssh\n",
        "\tsshd_config\n",
        "rendered/localhost/netkit/7/etc/zebra\n",
        "\tbgpd.conf\n",
        "\tdaemons\n",
        "\tisisd.conf\n",
        "\tmotd.txt\n",
        "\tospfd.conf\n",
        "\tzebra.conf\n",
        "rendered/localhost/netkit/7/root\n",
        "rendered/localhost/netkit/7/root/.ssh\n",
        "\tauthorized_keys\n",
        "rendered/localhost/netkit/8\n",
        "rendered/localhost/netkit/8/etc\n",
        "\thostname\n",
        "\tshadow\n",
        "rendered/localhost/netkit/8/etc/ssh\n",
        "\tsshd_config\n",
        "rendered/localhost/netkit/8/etc/zebra\n",
        "\tbgpd.conf\n",
        "\tdaemons\n",
        "\tisisd.conf\n",
        "\tmotd.txt\n",
        "\tospfd.conf\n",
        "\tzebra.conf\n",
        "rendered/localhost/netkit/8/root\n",
        "rendered/localhost/netkit/8/root/.ssh\n",
        "\tauthorized_keys\n",
        "rendered/localhost/netkit/9\n",
        "rendered/localhost/netkit/9/etc\n",
        "\thostname\n",
        "\tshadow\n",
        "rendered/localhost/netkit/9/etc/ssh\n",
        "\tsshd_config\n",
        "rendered/localhost/netkit/9/etc/zebra\n",
        "\tbgpd.conf\n",
        "\tdaemons\n",
        "\tisisd.conf\n",
        "\tmotd.txt\n",
        "\tospfd.conf\n",
        "\tzebra.conf\n",
        "rendered/localhost/netkit/9/root\n",
        "rendered/localhost/netkit/9/root/.ssh\n",
        "\tauthorized_keys\n",
        "rendered/localhost/netkit/r1\n",
        "rendered/localhost/netkit/r1/etc\n",
        "\thostname\n",
        "\tshadow\n",
        "rendered/localhost/netkit/r1/etc/ssh\n",
        "\tsshd_config\n",
        "rendered/localhost/netkit/r1/etc/zebra\n",
        "\tbgpd.conf\n",
        "\tdaemons\n",
        "\tisisd.conf\n",
        "\tmotd.txt\n",
        "\tospfd.conf\n",
        "\tzebra.conf\n",
        "rendered/localhost/netkit/r1/root\n",
        "rendered/localhost/netkit/r1/root/.ssh\n",
        "\tauthorized_keys\n",
        "rendered/localhost/netkit/r10\n",
        "rendered/localhost/netkit/r10/etc\n",
        "\thostname\n",
        "\tshadow\n",
        "rendered/localhost/netkit/r10/etc/ssh\n",
        "\tsshd_config\n",
        "rendered/localhost/netkit/r10/etc/zebra\n",
        "\tbgpd.conf\n",
        "\tdaemons\n",
        "\tisisd.conf\n",
        "\tmotd.txt\n",
        "\tospfd.conf\n",
        "\tzebra.conf\n",
        "rendered/localhost/netkit/r10/root\n",
        "rendered/localhost/netkit/r10/root/.ssh\n",
        "\tauthorized_keys\n",
        "rendered/localhost/netkit/r11\n",
        "rendered/localhost/netkit/r11/etc\n",
        "\thostname\n",
        "\tshadow\n",
        "rendered/localhost/netkit/r11/etc/ssh\n",
        "\tsshd_config\n",
        "rendered/localhost/netkit/r11/etc/zebra\n",
        "\tbgpd.conf\n",
        "\tdaemons\n",
        "\tisisd.conf\n",
        "\tmotd.txt\n",
        "\tospfd.conf\n",
        "\tzebra.conf\n",
        "rendered/localhost/netkit/r11/root\n",
        "rendered/localhost/netkit/r11/root/.ssh\n",
        "\tauthorized_keys\n",
        "rendered/localhost/netkit/r2\n",
        "rendered/localhost/netkit/r2/etc\n",
        "\thostname\n",
        "\tshadow\n",
        "rendered/localhost/netkit/r2/etc/ssh\n",
        "\tsshd_config\n",
        "rendered/localhost/netkit/r2/etc/zebra\n",
        "\tbgpd.conf\n",
        "\tdaemons\n",
        "\tisisd.conf\n",
        "\tmotd.txt\n",
        "\tospfd.conf\n",
        "\tzebra.conf\n",
        "rendered/localhost/netkit/r2/root\n",
        "rendered/localhost/netkit/r2/root/.ssh\n",
        "\tauthorized_keys\n",
        "rendered/localhost/netkit/r3\n",
        "rendered/localhost/netkit/r3/etc\n",
        "\thostname\n",
        "\tshadow\n",
        "rendered/localhost/netkit/r3/etc/ssh\n",
        "\tsshd_config\n",
        "rendered/localhost/netkit/r3/etc/zebra\n",
        "\tbgpd.conf\n",
        "\tdaemons\n",
        "\tisisd.conf\n",
        "\tmotd.txt\n",
        "\tospfd.conf\n",
        "\tzebra.conf\n",
        "rendered/localhost/netkit/r3/root\n",
        "rendered/localhost/netkit/r3/root/.ssh\n",
        "\tauthorized_keys\n",
        "rendered/localhost/netkit/r4\n",
        "rendered/localhost/netkit/r4/etc\n",
        "\thostname\n",
        "\tshadow\n",
        "rendered/localhost/netkit/r4/etc/ssh\n",
        "\tsshd_config\n",
        "rendered/localhost/netkit/r4/etc/zebra\n",
        "\tbgpd.conf\n",
        "\tdaemons\n",
        "\tisisd.conf\n",
        "\tmotd.txt\n",
        "\tospfd.conf\n",
        "\tzebra.conf\n",
        "rendered/localhost/netkit/r4/root\n",
        "rendered/localhost/netkit/r4/root/.ssh\n",
        "\tauthorized_keys\n",
        "rendered/localhost/netkit/r5\n",
        "rendered/localhost/netkit/r5/etc\n",
        "\thostname\n",
        "\tshadow\n",
        "rendered/localhost/netkit/r5/etc/ssh\n",
        "\tsshd_config\n",
        "rendered/localhost/netkit/r5/etc/zebra\n",
        "\tbgpd.conf\n",
        "\tdaemons\n",
        "\tisisd.conf\n",
        "\tmotd.txt\n",
        "\tospfd.conf\n",
        "\tzebra.conf\n",
        "rendered/localhost/netkit/r5/root\n",
        "rendered/localhost/netkit/r5/root/.ssh\n",
        "\tauthorized_keys\n",
        "rendered/localhost/netkit/r6\n",
        "rendered/localhost/netkit/r6/etc\n",
        "\thostname\n",
        "\tshadow\n",
        "rendered/localhost/netkit/r6/etc/ssh\n",
        "\tsshd_config\n",
        "rendered/localhost/netkit/r6/etc/zebra\n",
        "\tbgpd.conf\n",
        "\tdaemons\n",
        "\tisisd.conf\n",
        "\tmotd.txt\n",
        "\tospfd.conf\n",
        "\tzebra.conf\n",
        "rendered/localhost/netkit/r6/root\n",
        "rendered/localhost/netkit/r6/root/.ssh\n",
        "\tauthorized_keys\n",
        "rendered/localhost/netkit/r7\n",
        "rendered/localhost/netkit/r7/etc\n",
        "\thostname\n",
        "\tshadow\n",
        "rendered/localhost/netkit/r7/etc/ssh\n",
        "\tsshd_config\n",
        "rendered/localhost/netkit/r7/etc/zebra\n",
        "\tbgpd.conf\n",
        "\tdaemons\n",
        "\tisisd.conf\n",
        "\tmotd.txt\n",
        "\tospfd.conf\n",
        "\tzebra.conf\n",
        "rendered/localhost/netkit/r7/root\n",
        "rendered/localhost/netkit/r7/root/.ssh\n",
        "\tauthorized_keys\n",
        "rendered/localhost/netkit/r8\n",
        "rendered/localhost/netkit/r8/etc\n",
        "\thostname\n",
        "\tshadow\n",
        "rendered/localhost/netkit/r8/etc/ssh\n",
        "\tsshd_config\n",
        "rendered/localhost/netkit/r8/etc/zebra\n",
        "\tbgpd.conf\n",
        "\tdaemons\n",
        "\tisisd.conf\n",
        "\tmotd.txt\n",
        "\tospfd.conf\n",
        "\tzebra.conf\n",
        "rendered/localhost/netkit/r8/root\n",
        "rendered/localhost/netkit/r8/root/.ssh\n",
        "\tauthorized_keys\n",
        "rendered/localhost/netkit/r9\n",
        "rendered/localhost/netkit/r9/etc\n",
        "\thostname\n",
        "\tshadow\n",
        "rendered/localhost/netkit/r9/etc/ssh\n",
        "\tsshd_config\n",
        "rendered/localhost/netkit/r9/etc/zebra\n",
        "\tbgpd.conf\n",
        "\tdaemons\n",
        "\tisisd.conf\n",
        "\tmotd.txt\n",
        "\tospfd.conf\n",
        "\tzebra.conf\n",
        "rendered/localhost/netkit/r9/root\n",
        "rendered/localhost/netkit/r9/root/.ssh\n",
        "\tauthorized_keys\n"
       ]
      }
     ],
     "prompt_number": 71
    },
    {
     "cell_type": "heading",
     "level": 3,
     "metadata": {},
     "source": [
      "Viewing Configuration Files: OSPF"
     ]
    },
    {
     "cell_type": "code",
     "collapsed": false,
     "input": [
      "router = nidb.routers().next() # choose a router\n",
      "router = nidb.node(\"r1\")\n",
      "zebra_dir = os.path.join(router.render.base_dst_folder, \"etc\", \"zebra\")\n",
      "\n",
      "ospfd_conf = os.path.join(zebra_dir, \"ospfd.conf\")\n",
      "with open(ospfd_conf, \"r\") as fh:\n",
      "    print fh.read()"
     ],
     "language": "python",
     "metadata": {},
     "outputs": [
      {
       "output_type": "stream",
       "stream": "stdout",
       "text": [
        "hostname r1\n",
        "password 1234   \n",
        "banner motd file /etc/quagga/motd.txt\n",
        "!\n",
        "  interface eth1\n",
        "  #Link to r1 to r8\n",
        "  ip ospf cost 1000\n",
        "  !\n",
        "  interface eth3\n",
        "  #Link to r1 to r5\n",
        "  ip ospf cost 1\n",
        "  !\n",
        "  interface eth4\n",
        "  #Link to r1 to r7\n",
        "  ip ospf cost 1\n",
        "  !\n",
        "!\n",
        "router ospf\n",
        "  network 10.1.128.12/30 area 0 \n",
        "  network 10.1.128.4/30 area 0 \n",
        "  network 10.1.128.8/30 area 0 \n",
        "  network 10.1.128.0/30 area 0 \n",
        "  network 10.0.0.0/30 area 0 \n",
        "  !\n",
        "  passive-interface eth0\n",
        "  passive-interface eth2\n",
        "  !\n",
        "  network 10.0.0.6/32 area 0\n",
        "!\n",
        "\n"
       ]
      }
     ],
     "prompt_number": 72
    },
    {
     "cell_type": "heading",
     "level": 3,
     "metadata": {},
     "source": [
      "Viewing Configuration Files: BGP"
     ]
    },
    {
     "cell_type": "code",
     "collapsed": false,
     "input": [
      "bgpd_conf = os.path.join(zebra_dir, \"bgpd.conf\")\n",
      "with open(bgpd_conf, \"r\") as fh:\n",
      "    print fh.read()"
     ],
     "language": "python",
     "metadata": {},
     "outputs": [
      {
       "output_type": "stream",
       "stream": "stdout",
       "text": [
        "!\n",
        "hostname r1\n",
        "password 1234              \n",
        "banner motd file /etc/quagga/motd.txt\n",
        "!enable password 1234\n",
        "!\n",
        "  router bgp 2   \n",
        "  bgp router-id 10.0.0.6\n",
        "  no synchronization\n",
        "  network 10.1.0.0/16\n",
        "! ibgp\n",
        "  ! ibgp peers\n",
        "  ! r5\n",
        "  neighbor 10.0.0.4 remote-as 2\n",
        "  neighbor 10.0.0.4 update-source 10.0.0.6                                                     \n",
        "  neighbor 10.0.0.4 send-community      \n",
        "  neighbor 10.0.0.4 next-hop-self\n",
        "  ! r6\n",
        "  neighbor 10.0.0.3 remote-as 2\n",
        "  neighbor 10.0.0.3 update-source 10.0.0.6                                                     \n",
        "  neighbor 10.0.0.3 send-community      \n",
        "  neighbor 10.0.0.3 next-hop-self\n",
        "  ! r7\n",
        "  neighbor 10.0.0.5 remote-as 2\n",
        "  neighbor 10.0.0.5 update-source 10.0.0.6                                                     \n",
        "  neighbor 10.0.0.5 send-community      \n",
        "  neighbor 10.0.0.5 next-hop-self\n",
        "  ! r10\n",
        "  neighbor 10.0.0.1 remote-as 2\n",
        "  neighbor 10.0.0.1 update-source 10.0.0.6                                                     \n",
        "  neighbor 10.0.0.1 send-community      \n",
        "  neighbor 10.0.0.1 next-hop-self\n",
        "  ! r11\n",
        "  neighbor 10.0.0.2 remote-as 2\n",
        "  neighbor 10.0.0.2 update-source 10.0.0.6                                                     \n",
        "  neighbor 10.0.0.2 send-community      \n",
        "  neighbor 10.0.0.2 next-hop-self\n",
        "  ! r8\n",
        "  neighbor 10.0.0.7 remote-as 2\n",
        "  neighbor 10.0.0.7 update-source 10.0.0.6                                                     \n",
        "  neighbor 10.0.0.7 send-community      \n",
        "  neighbor 10.0.0.7 next-hop-self\n",
        "  ! r9\n",
        "  neighbor 10.0.0.8 remote-as 2\n",
        "  neighbor 10.0.0.8 update-source 10.0.0.6                                                     \n",
        "  neighbor 10.0.0.8 send-community      \n",
        "  neighbor 10.0.0.8 next-hop-self\n",
        "! ebgp\n",
        "  ! r4 \n",
        "  neighbor 10.0.0.2 remote-as 1\n",
        "  neighbor 10.0.0.2 update-source 10.0.0.1                                                     \n",
        "  neighbor 10.0.0.2 send-community\n",
        "  ! r3 \n",
        "  neighbor 10.1.128.2 remote-as 1\n",
        "  neighbor 10.1.128.2 update-source 10.1.128.1                                                     \n",
        "  neighbor 10.1.128.2 send-community\n",
        "\n",
        "debug bgp\n",
        "debug bgp events\n",
        "debug bgp filters\n",
        "debug bgp fsm\n",
        "debug bgp keepalives\n",
        "debug bgp updates \n",
        "log file /var/log/zebra/bgpd.log\n",
        "\n"
       ]
      }
     ],
     "prompt_number": 46
    },
    {
     "cell_type": "heading",
     "level": 3,
     "metadata": {},
     "source": [
      "Deploying Netkit Lab"
     ]
    },
    {
     "cell_type": "code",
     "collapsed": false,
     "input": [
      "import autonetkit.deploy.netkit as nk_deploy\n",
      "username = \"sk2\"\n",
      "host = \"192.168.255.129\"\n",
      "dst_folder = nidb.topology['localhost'].render_dst_folder\n",
      "\n",
      "do_deploy = True\n",
      "if do_deploy:\n",
      "    nk_deploy.deploy(host, username, dst_folder)"
     ],
     "language": "python",
     "metadata": {},
     "outputs": [
      {
       "output_type": "stream",
       "stream": "stderr",
       "text": [
        "\u001b[1;37mINFO\u001b[0m Packaging rendered/localhost/netkit\n"
       ]
      },
      {
       "output_type": "stream",
       "stream": "stderr",
       "text": [
        "\u001b[1;37mINFO\u001b[0m:ANK:Packaging rendered/localhost/netkit\n"
       ]
      },
      {
       "output_type": "stream",
       "stream": "stderr",
       "text": [
        "\u001b[1;37mINFO\u001b[0m Transferring Netkit lab\n"
       ]
      },
      {
       "output_type": "stream",
       "stream": "stderr",
       "text": [
        "\u001b[1;37mINFO\u001b[0m:ANK:Transferring Netkit lab\n"
       ]
      },
      {
       "output_type": "stream",
       "stream": "stderr",
       "text": [
        "\u001b[1;37mINFO\u001b[0m Connecting to 192.168.255.129 with sk2\n"
       ]
      },
      {
       "output_type": "stream",
       "stream": "stderr",
       "text": [
        "\u001b[1;37mINFO\u001b[0m:ANK:Connecting to 192.168.255.129 with sk2\n"
       ]
      },
      {
       "ename": "error",
       "evalue": "[Errno 60] Operation timed out",
       "output_type": "pyerr",
       "traceback": [
        "\u001b[0;31m---------------------------------------------------------------------------\u001b[0m\n\u001b[0;31merror\u001b[0m                                     Traceback (most recent call last)",
        "\u001b[0;32m<ipython-input-51-2472d4755c5f>\u001b[0m in \u001b[0;36m<module>\u001b[0;34m()\u001b[0m\n\u001b[1;32m      6\u001b[0m \u001b[0mdo_deploy\u001b[0m \u001b[0;34m=\u001b[0m \u001b[0mTrue\u001b[0m\u001b[0;34m\u001b[0m\u001b[0m\n\u001b[1;32m      7\u001b[0m \u001b[0;32mif\u001b[0m \u001b[0mdo_deploy\u001b[0m\u001b[0;34m:\u001b[0m\u001b[0;34m\u001b[0m\u001b[0m\n\u001b[0;32m----> 8\u001b[0;31m     \u001b[0mnk_deploy\u001b[0m\u001b[0;34m.\u001b[0m\u001b[0mdeploy\u001b[0m\u001b[0;34m(\u001b[0m\u001b[0mhost\u001b[0m\u001b[0;34m,\u001b[0m \u001b[0musername\u001b[0m\u001b[0;34m,\u001b[0m \u001b[0mdst_folder\u001b[0m\u001b[0;34m)\u001b[0m\u001b[0;34m\u001b[0m\u001b[0m\n\u001b[0m",
        "\u001b[0;32m/Users/simonknight/Dropbox/PhD/Dev/autonetkit/autonetkit/deploy/netkit.pyc\u001b[0m in \u001b[0;36mdeploy\u001b[0;34m(host, username, dst_folder)\u001b[0m\n\u001b[1;32m     13\u001b[0m \u001b[0;32mdef\u001b[0m \u001b[0mdeploy\u001b[0m\u001b[0;34m(\u001b[0m\u001b[0mhost\u001b[0m\u001b[0;34m,\u001b[0m \u001b[0musername\u001b[0m\u001b[0;34m,\u001b[0m \u001b[0mdst_folder\u001b[0m\u001b[0;34m)\u001b[0m\u001b[0;34m:\u001b[0m\u001b[0;34m\u001b[0m\u001b[0m\n\u001b[1;32m     14\u001b[0m     \u001b[0mtar_file\u001b[0m \u001b[0;34m=\u001b[0m \u001b[0mpackage\u001b[0m\u001b[0;34m(\u001b[0m\u001b[0mdst_folder\u001b[0m\u001b[0;34m)\u001b[0m\u001b[0;34m\u001b[0m\u001b[0m\n\u001b[0;32m---> 15\u001b[0;31m     \u001b[0mtransfer\u001b[0m\u001b[0;34m(\u001b[0m\u001b[0mhost\u001b[0m\u001b[0;34m,\u001b[0m \u001b[0musername\u001b[0m\u001b[0;34m,\u001b[0m \u001b[0mtar_file\u001b[0m\u001b[0;34m)\u001b[0m\u001b[0;34m\u001b[0m\u001b[0m\n\u001b[0m\u001b[1;32m     16\u001b[0m     \u001b[0mextract\u001b[0m\u001b[0;34m(\u001b[0m\u001b[0mhost\u001b[0m\u001b[0;34m,\u001b[0m \u001b[0musername\u001b[0m\u001b[0;34m,\u001b[0m \u001b[0mtar_file\u001b[0m\u001b[0;34m,\u001b[0m \u001b[0mdst_folder\u001b[0m\u001b[0;34m)\u001b[0m\u001b[0;34m\u001b[0m\u001b[0m\n\u001b[1;32m     17\u001b[0m \u001b[0;34m\u001b[0m\u001b[0m\n",
        "\u001b[0;32m/Users/simonknight/Dropbox/PhD/Dev/autonetkit/autonetkit/deploy/netkit.pyc\u001b[0m in \u001b[0;36mtransfer\u001b[0;34m(host, username, local, remote, key_filename)\u001b[0m\n\u001b[1;32m     39\u001b[0m     \u001b[0;32melse\u001b[0m\u001b[0;34m:\u001b[0m\u001b[0;34m\u001b[0m\u001b[0m\n\u001b[1;32m     40\u001b[0m         \u001b[0mlog\u001b[0m\u001b[0;34m.\u001b[0m\u001b[0minfo\u001b[0m\u001b[0;34m(\u001b[0m\u001b[0;34m\"Connecting to %s with %s\"\u001b[0m \u001b[0;34m%\u001b[0m \u001b[0;34m(\u001b[0m\u001b[0mhost\u001b[0m\u001b[0;34m,\u001b[0m \u001b[0musername\u001b[0m\u001b[0;34m)\u001b[0m\u001b[0;34m)\u001b[0m\u001b[0;34m\u001b[0m\u001b[0m\n\u001b[0;32m---> 41\u001b[0;31m         \u001b[0mssh\u001b[0m\u001b[0;34m.\u001b[0m\u001b[0mconnect\u001b[0m\u001b[0;34m(\u001b[0m\u001b[0mhost\u001b[0m\u001b[0;34m,\u001b[0m \u001b[0musername\u001b[0m \u001b[0;34m=\u001b[0m \u001b[0musername\u001b[0m\u001b[0;34m)\u001b[0m\u001b[0;34m\u001b[0m\u001b[0m\n\u001b[0m\u001b[1;32m     42\u001b[0m     \u001b[0mlog\u001b[0m\u001b[0;34m.\u001b[0m\u001b[0mdebug\u001b[0m\u001b[0;34m(\u001b[0m\u001b[0;34m\"Opening SSH for SFTP\"\u001b[0m\u001b[0;34m)\u001b[0m\u001b[0;34m\u001b[0m\u001b[0m\n\u001b[1;32m     43\u001b[0m     \u001b[0mftp\u001b[0m \u001b[0;34m=\u001b[0m \u001b[0mssh\u001b[0m\u001b[0;34m.\u001b[0m\u001b[0mopen_sftp\u001b[0m\u001b[0;34m(\u001b[0m\u001b[0;34m)\u001b[0m\u001b[0;34m\u001b[0m\u001b[0m\n",
        "\u001b[0;32m/Library/Python/2.7/site-packages/paramiko/client.pyc\u001b[0m in \u001b[0;36mconnect\u001b[0;34m(self, hostname, port, username, password, pkey, key_filename, timeout, allow_agent, look_for_keys, compress, sock)\u001b[0m\n\u001b[1;32m    299\u001b[0m                 \u001b[0;32mexcept\u001b[0m\u001b[0;34m:\u001b[0m\u001b[0;34m\u001b[0m\u001b[0m\n\u001b[1;32m    300\u001b[0m                     \u001b[0;32mpass\u001b[0m\u001b[0;34m\u001b[0m\u001b[0m\n\u001b[0;32m--> 301\u001b[0;31m             \u001b[0mretry_on_signal\u001b[0m\u001b[0;34m(\u001b[0m\u001b[0;32mlambda\u001b[0m\u001b[0;34m:\u001b[0m \u001b[0msock\u001b[0m\u001b[0;34m.\u001b[0m\u001b[0mconnect\u001b[0m\u001b[0;34m(\u001b[0m\u001b[0maddr\u001b[0m\u001b[0;34m)\u001b[0m\u001b[0;34m)\u001b[0m\u001b[0;34m\u001b[0m\u001b[0m\n\u001b[0m\u001b[1;32m    302\u001b[0m \u001b[0;34m\u001b[0m\u001b[0m\n\u001b[1;32m    303\u001b[0m         \u001b[0mt\u001b[0m \u001b[0;34m=\u001b[0m \u001b[0mself\u001b[0m\u001b[0;34m.\u001b[0m\u001b[0m_transport\u001b[0m \u001b[0;34m=\u001b[0m \u001b[0mTransport\u001b[0m\u001b[0;34m(\u001b[0m\u001b[0msock\u001b[0m\u001b[0;34m)\u001b[0m\u001b[0;34m\u001b[0m\u001b[0m\n",
        "\u001b[0;32m/Library/Python/2.7/site-packages/paramiko/util.pyc\u001b[0m in \u001b[0;36mretry_on_signal\u001b[0;34m(function)\u001b[0m\n\u001b[1;32m    276\u001b[0m     \u001b[0;32mwhile\u001b[0m \u001b[0mTrue\u001b[0m\u001b[0;34m:\u001b[0m\u001b[0;34m\u001b[0m\u001b[0m\n\u001b[1;32m    277\u001b[0m         \u001b[0;32mtry\u001b[0m\u001b[0;34m:\u001b[0m\u001b[0;34m\u001b[0m\u001b[0m\n\u001b[0;32m--> 278\u001b[0;31m             \u001b[0;32mreturn\u001b[0m \u001b[0mfunction\u001b[0m\u001b[0;34m(\u001b[0m\u001b[0;34m)\u001b[0m\u001b[0;34m\u001b[0m\u001b[0m\n\u001b[0m\u001b[1;32m    279\u001b[0m         \u001b[0;32mexcept\u001b[0m \u001b[0mEnvironmentError\u001b[0m\u001b[0;34m,\u001b[0m \u001b[0me\u001b[0m\u001b[0;34m:\u001b[0m\u001b[0;34m\u001b[0m\u001b[0m\n\u001b[1;32m    280\u001b[0m             \u001b[0;32mif\u001b[0m \u001b[0me\u001b[0m\u001b[0;34m.\u001b[0m\u001b[0merrno\u001b[0m \u001b[0;34m!=\u001b[0m \u001b[0merrno\u001b[0m\u001b[0;34m.\u001b[0m\u001b[0mEINTR\u001b[0m\u001b[0;34m:\u001b[0m\u001b[0;34m\u001b[0m\u001b[0m\n",
        "\u001b[0;32m/Library/Python/2.7/site-packages/paramiko/client.pyc\u001b[0m in \u001b[0;36m<lambda>\u001b[0;34m()\u001b[0m\n\u001b[1;32m    299\u001b[0m                 \u001b[0;32mexcept\u001b[0m\u001b[0;34m:\u001b[0m\u001b[0;34m\u001b[0m\u001b[0m\n\u001b[1;32m    300\u001b[0m                     \u001b[0;32mpass\u001b[0m\u001b[0;34m\u001b[0m\u001b[0m\n\u001b[0;32m--> 301\u001b[0;31m             \u001b[0mretry_on_signal\u001b[0m\u001b[0;34m(\u001b[0m\u001b[0;32mlambda\u001b[0m\u001b[0;34m:\u001b[0m \u001b[0msock\u001b[0m\u001b[0;34m.\u001b[0m\u001b[0mconnect\u001b[0m\u001b[0;34m(\u001b[0m\u001b[0maddr\u001b[0m\u001b[0;34m)\u001b[0m\u001b[0;34m)\u001b[0m\u001b[0;34m\u001b[0m\u001b[0m\n\u001b[0m\u001b[1;32m    302\u001b[0m \u001b[0;34m\u001b[0m\u001b[0m\n\u001b[1;32m    303\u001b[0m         \u001b[0mt\u001b[0m \u001b[0;34m=\u001b[0m \u001b[0mself\u001b[0m\u001b[0;34m.\u001b[0m\u001b[0m_transport\u001b[0m \u001b[0;34m=\u001b[0m \u001b[0mTransport\u001b[0m\u001b[0;34m(\u001b[0m\u001b[0msock\u001b[0m\u001b[0;34m)\u001b[0m\u001b[0;34m\u001b[0m\u001b[0m\n",
        "\u001b[0;32m/System/Library/Frameworks/Python.framework/Versions/2.7/lib/python2.7/socket.pyc\u001b[0m in \u001b[0;36mmeth\u001b[0;34m(name, self, *args)\u001b[0m\n\u001b[1;32m    222\u001b[0m \u001b[0;34m\u001b[0m\u001b[0m\n\u001b[1;32m    223\u001b[0m \u001b[0;32mdef\u001b[0m \u001b[0mmeth\u001b[0m\u001b[0;34m(\u001b[0m\u001b[0mname\u001b[0m\u001b[0;34m,\u001b[0m\u001b[0mself\u001b[0m\u001b[0;34m,\u001b[0m\u001b[0;34m*\u001b[0m\u001b[0margs\u001b[0m\u001b[0;34m)\u001b[0m\u001b[0;34m:\u001b[0m\u001b[0;34m\u001b[0m\u001b[0m\n\u001b[0;32m--> 224\u001b[0;31m     \u001b[0;32mreturn\u001b[0m \u001b[0mgetattr\u001b[0m\u001b[0;34m(\u001b[0m\u001b[0mself\u001b[0m\u001b[0;34m.\u001b[0m\u001b[0m_sock\u001b[0m\u001b[0;34m,\u001b[0m\u001b[0mname\u001b[0m\u001b[0;34m)\u001b[0m\u001b[0;34m(\u001b[0m\u001b[0;34m*\u001b[0m\u001b[0margs\u001b[0m\u001b[0;34m)\u001b[0m\u001b[0;34m\u001b[0m\u001b[0m\n\u001b[0m\u001b[1;32m    225\u001b[0m \u001b[0;34m\u001b[0m\u001b[0m\n\u001b[1;32m    226\u001b[0m \u001b[0;32mfor\u001b[0m \u001b[0m_m\u001b[0m \u001b[0;32min\u001b[0m \u001b[0m_socketmethods\u001b[0m\u001b[0;34m:\u001b[0m\u001b[0;34m\u001b[0m\u001b[0m\n",
        "\u001b[0;31merror\u001b[0m: [Errno 60] Operation timed out"
       ]
      }
     ],
     "prompt_number": 51
    },
    {
     "cell_type": "heading",
     "level": 3,
     "metadata": {},
     "source": [
      "Analysis"
     ]
    },
    {
     "cell_type": "code",
     "collapsed": false,
     "input": [
      "from autonetkit.ank_utils import unwrap_graph, unwrap_nodes\n",
      "import autonetkit.ank_messaging as msg\n",
      "import networkx as nx\n",
      "\n",
      "graph = unwrap_graph(anm['ospf'])\n",
      "\n",
      "path = nx.shortest_path(graph, \"r1\", \"r8\", weight = 'cost')\n",
      "print path\n",
      "msg.highlight([], [], [path])"
     ],
     "language": "python",
     "metadata": {},
     "outputs": [
      {
       "output_type": "stream",
       "stream": "stdout",
       "text": [
        "['r1', 'r7', 'r9', 'r8']\n"
       ]
      }
     ],
     "prompt_number": 48
    },
    {
     "cell_type": "code",
     "collapsed": false,
     "input": [
      "path = nx.shortest_path(graph, \"r1\", \"r11\", weight = 'cost')\n",
      "print path\n",
      "msg.highlight([], [], [path])"
     ],
     "language": "python",
     "metadata": {},
     "outputs": [
      {
       "output_type": "stream",
       "stream": "stdout",
       "text": [
        "['r1', 'r7', 'r10', 'r11']\n"
       ]
      }
     ],
     "prompt_number": 49
    },
    {
     "cell_type": "code",
     "collapsed": false,
     "input": [
      "edge = anm['ospf'].edge('r1', 'r7')\n",
      "edge.cost = 10\n",
      "edge.apply_to_interfaces(\"cost\")\n",
      "autonetkit.update_http(anm)"
     ],
     "language": "python",
     "metadata": {},
     "outputs": [],
     "prompt_number": 27
    },
    {
     "cell_type": "code",
     "collapsed": false,
     "input": [
      "path = nx.shortest_path(graph, \"r1\", \"r11\", weight = 'cost')\n",
      "print path\n",
      "msg.highlight([], [], [path])"
     ],
     "language": "python",
     "metadata": {},
     "outputs": [
      {
       "output_type": "stream",
       "stream": "stdout",
       "text": [
        "['r1', 'r5', 'r6', 'r11']\n"
       ]
      }
     ],
     "prompt_number": 28
    },
    {
     "cell_type": "markdown",
     "metadata": {},
     "source": [
      "Let's use the API to modify the cost of the link from 1->7"
     ]
    },
    {
     "cell_type": "code",
     "collapsed": false,
     "input": [
      "edge = anm['ospf'].edge('r6', 'r11')\n",
      "edge.cost = 10\n",
      "edge.apply_to_interfaces(\"cost\")\n",
      "autonetkit.update_http(anm)"
     ],
     "language": "python",
     "metadata": {},
     "outputs": [],
     "prompt_number": 29
    },
    {
     "cell_type": "code",
     "collapsed": false,
     "input": [
      "path = nx.shortest_path(graph, \"r1\", \"r11\", weight = 'cost')\n",
      "print path\n",
      "msg.highlight([], [], [path])"
     ],
     "language": "python",
     "metadata": {},
     "outputs": [
      {
       "output_type": "stream",
       "stream": "stdout",
       "text": [
        "['r1', 'r5', 'r6', 'r7', 'r10', 'r11']\n"
       ]
      }
     ],
     "prompt_number": 30
    },
    {
     "cell_type": "markdown",
     "metadata": {},
     "source": [
      "We can see that the path has now changed to avoid the expensive 1->7 link"
     ]
    },
    {
     "cell_type": "heading",
     "level": 3,
     "metadata": {},
     "source": [
      "Measuring Results"
     ]
    },
    {
     "cell_type": "markdown",
     "metadata": {},
     "source": [
      "We can also collect data from the running network"
     ]
    },
    {
     "cell_type": "code",
     "collapsed": false,
     "input": [
      "import autonetkit.measure as measure\n",
      "remote_hosts = [nidb.node(\"r1\").tap.ip]\n",
      "command = 'vtysh -c \"show ip ro\"'\n",
      "measure.send(nidb, command, remote_hosts)"
     ],
     "language": "python",
     "metadata": {},
     "outputs": [
      {
       "output_type": "stream",
       "stream": "stderr",
       "text": [
        "\u001b[1;31mERROR\u001b[0m Read empty data, calling disconnect\n"
       ]
      },
      {
       "output_type": "stream",
       "stream": "stderr",
       "text": [
        "\u001b[1;31mERROR\u001b[0m:pika.adapters.base_connection:Read empty data, calling disconnect\n"
       ]
      },
      {
       "output_type": "stream",
       "stream": "stderr",
       "text": [
        "\u001b[1;33mWARNING\u001b[0m Received Channel.Close, closing: None\n"
       ]
      },
      {
       "output_type": "stream",
       "stream": "stderr",
       "text": [
        "\u001b[1;33mWARNING\u001b[0m:pika.adapters.blocking_connection:Received Channel.Close, closing: None\n"
       ]
      },
      {
       "ename": "ConnectionClosed",
       "evalue": "",
       "output_type": "pyerr",
       "traceback": [
        "\u001b[0;31m---------------------------------------------------------------------------\u001b[0m\n\u001b[0;31mConnectionClosed\u001b[0m                          Traceback (most recent call last)",
        "\u001b[0;32m<ipython-input-32-108c24164f89>\u001b[0m in \u001b[0;36m<module>\u001b[0;34m()\u001b[0m\n\u001b[1;32m      2\u001b[0m \u001b[0mremote_hosts\u001b[0m \u001b[0;34m=\u001b[0m \u001b[0;34m[\u001b[0m\u001b[0mnidb\u001b[0m\u001b[0;34m.\u001b[0m\u001b[0mnode\u001b[0m\u001b[0;34m(\u001b[0m\u001b[0;34m\"r1\"\u001b[0m\u001b[0;34m)\u001b[0m\u001b[0;34m.\u001b[0m\u001b[0mtap\u001b[0m\u001b[0;34m.\u001b[0m\u001b[0mip\u001b[0m\u001b[0;34m]\u001b[0m\u001b[0;34m\u001b[0m\u001b[0m\n\u001b[1;32m      3\u001b[0m \u001b[0mcommand\u001b[0m \u001b[0;34m=\u001b[0m \u001b[0;34m'vtysh -c \"show ip ro\"'\u001b[0m\u001b[0;34m\u001b[0m\u001b[0m\n\u001b[0;32m----> 4\u001b[0;31m \u001b[0mmeasure\u001b[0m\u001b[0;34m.\u001b[0m\u001b[0msend\u001b[0m\u001b[0;34m(\u001b[0m\u001b[0mnidb\u001b[0m\u001b[0;34m,\u001b[0m \u001b[0mcommand\u001b[0m\u001b[0;34m,\u001b[0m \u001b[0mremote_hosts\u001b[0m\u001b[0;34m)\u001b[0m\u001b[0;34m\u001b[0m\u001b[0m\n\u001b[0m",
        "\u001b[0;32m/Users/simonknight/Dropbox/PhD/Dev/autonetkit/autonetkit/measure.pyc\u001b[0m in \u001b[0;36msend\u001b[0;34m(nidb, command, hosts, server, threads)\u001b[0m\n\u001b[1;32m     56\u001b[0m                        routing_key=\"result\")\n\u001b[1;32m     57\u001b[0m \u001b[0;34m\u001b[0m\u001b[0m\n\u001b[0;32m---> 58\u001b[0;31m     \u001b[0;32mfor\u001b[0m \u001b[0mmethod_frame\u001b[0m\u001b[0;34m,\u001b[0m \u001b[0mproperties\u001b[0m\u001b[0;34m,\u001b[0m \u001b[0mbody\u001b[0m \u001b[0;32min\u001b[0m \u001b[0mchannel\u001b[0m\u001b[0;34m.\u001b[0m\u001b[0mconsume\u001b[0m\u001b[0;34m(\u001b[0m\u001b[0mqueue_name\u001b[0m\u001b[0;34m)\u001b[0m\u001b[0;34m:\u001b[0m\u001b[0;34m\u001b[0m\u001b[0m\n\u001b[0m\u001b[1;32m     59\u001b[0m         \u001b[0mdata\u001b[0m \u001b[0;34m=\u001b[0m \u001b[0mjson\u001b[0m\u001b[0;34m.\u001b[0m\u001b[0mloads\u001b[0m\u001b[0;34m(\u001b[0m\u001b[0mbody\u001b[0m\u001b[0;34m)\u001b[0m\u001b[0;34m\u001b[0m\u001b[0m\n\u001b[1;32m     60\u001b[0m         \u001b[0mcompleted\u001b[0m \u001b[0;34m=\u001b[0m \u001b[0mFalse\u001b[0m\u001b[0;34m\u001b[0m\u001b[0m\n",
        "\u001b[0;32m/Library/Python/2.7/site-packages/pika/adapters/blocking_connection.pyc\u001b[0m in \u001b[0;36mconsume\u001b[0;34m(self, queue)\u001b[0m\n\u001b[1;32m    496\u001b[0m             \u001b[0;32mif\u001b[0m \u001b[0mself\u001b[0m\u001b[0;34m.\u001b[0m\u001b[0m_generator_messages\u001b[0m\u001b[0;34m:\u001b[0m\u001b[0;34m\u001b[0m\u001b[0m\n\u001b[1;32m    497\u001b[0m                 \u001b[0;32myield\u001b[0m \u001b[0mself\u001b[0m\u001b[0;34m.\u001b[0m\u001b[0m_generator_messages\u001b[0m\u001b[0;34m.\u001b[0m\u001b[0mpop\u001b[0m\u001b[0;34m(\u001b[0m\u001b[0;36m0\u001b[0m\u001b[0;34m)\u001b[0m\u001b[0;34m\u001b[0m\u001b[0m\n\u001b[0;32m--> 498\u001b[0;31m             \u001b[0mself\u001b[0m\u001b[0;34m.\u001b[0m\u001b[0mconnection\u001b[0m\u001b[0;34m.\u001b[0m\u001b[0mprocess_data_events\u001b[0m\u001b[0;34m(\u001b[0m\u001b[0;34m)\u001b[0m\u001b[0;34m\u001b[0m\u001b[0m\n\u001b[0m\u001b[1;32m    499\u001b[0m \u001b[0;34m\u001b[0m\u001b[0m\n\u001b[1;32m    500\u001b[0m     \u001b[0;32mdef\u001b[0m \u001b[0mforce_data_events\u001b[0m\u001b[0;34m(\u001b[0m\u001b[0mself\u001b[0m\u001b[0;34m,\u001b[0m \u001b[0menable\u001b[0m\u001b[0;34m)\u001b[0m\u001b[0;34m:\u001b[0m\u001b[0;34m\u001b[0m\u001b[0m\n",
        "\u001b[0;32m/Library/Python/2.7/site-packages/pika/adapters/blocking_connection.pyc\u001b[0m in \u001b[0;36mprocess_data_events\u001b[0;34m(self)\u001b[0m\n\u001b[1;32m     86\u001b[0m         \"\"\"\n\u001b[1;32m     87\u001b[0m         \u001b[0;32mtry\u001b[0m\u001b[0;34m:\u001b[0m\u001b[0;34m\u001b[0m\u001b[0m\n\u001b[0;32m---> 88\u001b[0;31m             \u001b[0;32mif\u001b[0m \u001b[0mself\u001b[0m\u001b[0;34m.\u001b[0m\u001b[0m_handle_read\u001b[0m\u001b[0;34m(\u001b[0m\u001b[0;34m)\u001b[0m\u001b[0;34m:\u001b[0m\u001b[0;34m\u001b[0m\u001b[0m\n\u001b[0m\u001b[1;32m     89\u001b[0m                 \u001b[0mself\u001b[0m\u001b[0;34m.\u001b[0m\u001b[0m_socket_timeouts\u001b[0m \u001b[0;34m=\u001b[0m \u001b[0;36m0\u001b[0m\u001b[0;34m\u001b[0m\u001b[0m\n\u001b[1;32m     90\u001b[0m         \u001b[0;32mexcept\u001b[0m \u001b[0msocket\u001b[0m\u001b[0;34m.\u001b[0m\u001b[0mtimeout\u001b[0m\u001b[0;34m:\u001b[0m\u001b[0;34m\u001b[0m\u001b[0m\n",
        "\u001b[0;32m/Library/Python/2.7/site-packages/pika/adapters/blocking_connection.pyc\u001b[0m in \u001b[0;36m_handle_read\u001b[0;34m(self)\u001b[0m\n\u001b[1;32m    182\u001b[0m \u001b[0;34m\u001b[0m\u001b[0m\n\u001b[1;32m    183\u001b[0m     \u001b[0;32mdef\u001b[0m \u001b[0m_handle_read\u001b[0m\u001b[0;34m(\u001b[0m\u001b[0mself\u001b[0m\u001b[0;34m)\u001b[0m\u001b[0;34m:\u001b[0m\u001b[0;34m\u001b[0m\u001b[0m\n\u001b[0;32m--> 184\u001b[0;31m         \u001b[0msuper\u001b[0m\u001b[0;34m(\u001b[0m\u001b[0mBlockingConnection\u001b[0m\u001b[0;34m,\u001b[0m \u001b[0mself\u001b[0m\u001b[0;34m)\u001b[0m\u001b[0;34m.\u001b[0m\u001b[0m_handle_read\u001b[0m\u001b[0;34m(\u001b[0m\u001b[0;34m)\u001b[0m\u001b[0;34m\u001b[0m\u001b[0m\n\u001b[0m\u001b[1;32m    185\u001b[0m         \u001b[0mself\u001b[0m\u001b[0;34m.\u001b[0m\u001b[0m_frames_written_without_read\u001b[0m \u001b[0;34m=\u001b[0m \u001b[0;36m0\u001b[0m\u001b[0;34m\u001b[0m\u001b[0m\n\u001b[1;32m    186\u001b[0m \u001b[0;34m\u001b[0m\u001b[0m\n",
        "\u001b[0;32m/Library/Python/2.7/site-packages/pika/adapters/base_connection.pyc\u001b[0m in \u001b[0;36m_handle_read\u001b[0;34m(self)\u001b[0m\n\u001b[1;32m    303\u001b[0m         \u001b[0;32mif\u001b[0m \u001b[0;32mnot\u001b[0m \u001b[0mdata\u001b[0m \u001b[0;32mor\u001b[0m \u001b[0mdata\u001b[0m \u001b[0;34m==\u001b[0m \u001b[0;36m0\u001b[0m\u001b[0;34m:\u001b[0m\u001b[0;34m\u001b[0m\u001b[0m\n\u001b[1;32m    304\u001b[0m             \u001b[0mLOGGER\u001b[0m\u001b[0;34m.\u001b[0m\u001b[0merror\u001b[0m\u001b[0;34m(\u001b[0m\u001b[0;34m'Read empty data, calling disconnect'\u001b[0m\u001b[0;34m)\u001b[0m\u001b[0;34m\u001b[0m\u001b[0m\n\u001b[0;32m--> 305\u001b[0;31m             \u001b[0;32mreturn\u001b[0m \u001b[0mself\u001b[0m\u001b[0;34m.\u001b[0m\u001b[0m_handle_disconnect\u001b[0m\u001b[0;34m(\u001b[0m\u001b[0;34m)\u001b[0m\u001b[0;34m\u001b[0m\u001b[0m\n\u001b[0m\u001b[1;32m    306\u001b[0m \u001b[0;34m\u001b[0m\u001b[0m\n\u001b[1;32m    307\u001b[0m         \u001b[0;31m# Pass the data into our top level frame dispatching method\u001b[0m\u001b[0;34m\u001b[0m\u001b[0;34m\u001b[0m\u001b[0m\n",
        "\u001b[0;32m/Library/Python/2.7/site-packages/pika/adapters/blocking_connection.pyc\u001b[0m in \u001b[0;36m_handle_disconnect\u001b[0;34m(self)\u001b[0m\n\u001b[1;32m    179\u001b[0m         \u001b[0mLOGGER\u001b[0m\u001b[0;34m.\u001b[0m\u001b[0mdebug\u001b[0m\u001b[0;34m(\u001b[0m\u001b[0;34m'Handling disconnect'\u001b[0m\u001b[0;34m)\u001b[0m\u001b[0;34m\u001b[0m\u001b[0m\n\u001b[1;32m    180\u001b[0m         \u001b[0mself\u001b[0m\u001b[0;34m.\u001b[0m\u001b[0mdisconnect\u001b[0m\u001b[0;34m(\u001b[0m\u001b[0;34m)\u001b[0m\u001b[0;34m\u001b[0m\u001b[0m\n\u001b[0;32m--> 181\u001b[0;31m         \u001b[0mself\u001b[0m\u001b[0;34m.\u001b[0m\u001b[0m_on_connection_closed\u001b[0m\u001b[0;34m(\u001b[0m\u001b[0mNone\u001b[0m\u001b[0;34m,\u001b[0m \u001b[0mTrue\u001b[0m\u001b[0;34m)\u001b[0m\u001b[0;34m\u001b[0m\u001b[0m\n\u001b[0m\u001b[1;32m    182\u001b[0m \u001b[0;34m\u001b[0m\u001b[0m\n\u001b[1;32m    183\u001b[0m     \u001b[0;32mdef\u001b[0m \u001b[0m_handle_read\u001b[0m\u001b[0;34m(\u001b[0m\u001b[0mself\u001b[0m\u001b[0;34m)\u001b[0m\u001b[0;34m:\u001b[0m\u001b[0;34m\u001b[0m\u001b[0m\n",
        "\u001b[0;32m/Library/Python/2.7/site-packages/pika/adapters/blocking_connection.pyc\u001b[0m in \u001b[0;36m_on_connection_closed\u001b[0;34m(self, method_frame, from_adapter)\u001b[0m\n\u001b[1;32m    230\u001b[0m             \u001b[0mself\u001b[0m\u001b[0;34m.\u001b[0m\u001b[0m_adapter_disconnect\u001b[0m\u001b[0;34m(\u001b[0m\u001b[0;34m)\u001b[0m\u001b[0;34m\u001b[0m\u001b[0m\n\u001b[1;32m    231\u001b[0m         \u001b[0;32mfor\u001b[0m \u001b[0mchannel\u001b[0m \u001b[0;32min\u001b[0m \u001b[0mself\u001b[0m\u001b[0;34m.\u001b[0m\u001b[0m_channels\u001b[0m\u001b[0;34m:\u001b[0m\u001b[0;34m\u001b[0m\u001b[0m\n\u001b[0;32m--> 232\u001b[0;31m             \u001b[0mself\u001b[0m\u001b[0;34m.\u001b[0m\u001b[0m_channels\u001b[0m\u001b[0;34m[\u001b[0m\u001b[0mchannel\u001b[0m\u001b[0;34m]\u001b[0m\u001b[0;34m.\u001b[0m\u001b[0m_on_close\u001b[0m\u001b[0;34m(\u001b[0m\u001b[0mmethod_frame\u001b[0m\u001b[0;34m)\u001b[0m\u001b[0;34m\u001b[0m\u001b[0m\n\u001b[0m\u001b[1;32m    233\u001b[0m         \u001b[0mself\u001b[0m\u001b[0;34m.\u001b[0m\u001b[0m_remove_connection_callbacks\u001b[0m\u001b[0;34m(\u001b[0m\u001b[0;34m)\u001b[0m\u001b[0;34m\u001b[0m\u001b[0m\n\u001b[1;32m    234\u001b[0m         \u001b[0;32mif\u001b[0m \u001b[0mself\u001b[0m\u001b[0;34m.\u001b[0m\u001b[0mclosing\u001b[0m\u001b[0;34m[\u001b[0m\u001b[0;36m0\u001b[0m\u001b[0;34m]\u001b[0m \u001b[0;34m!=\u001b[0m \u001b[0;36m200\u001b[0m\u001b[0;34m:\u001b[0m\u001b[0;34m\u001b[0m\u001b[0m\n",
        "\u001b[0;32m/Library/Python/2.7/site-packages/pika/adapters/blocking_connection.pyc\u001b[0m in \u001b[0;36m_on_close\u001b[0;34m(self, method_frame)\u001b[0m\n\u001b[1;32m    815\u001b[0m     \u001b[0;32mdef\u001b[0m \u001b[0m_on_close\u001b[0m\u001b[0;34m(\u001b[0m\u001b[0mself\u001b[0m\u001b[0;34m,\u001b[0m \u001b[0mmethod_frame\u001b[0m\u001b[0;34m)\u001b[0m\u001b[0;34m:\u001b[0m\u001b[0;34m\u001b[0m\u001b[0m\n\u001b[1;32m    816\u001b[0m         \u001b[0mLOGGER\u001b[0m\u001b[0;34m.\u001b[0m\u001b[0mwarning\u001b[0m\u001b[0;34m(\u001b[0m\u001b[0;34m'Received Channel.Close, closing: %r'\u001b[0m\u001b[0;34m,\u001b[0m \u001b[0mmethod_frame\u001b[0m\u001b[0;34m)\u001b[0m\u001b[0;34m\u001b[0m\u001b[0m\n\u001b[0;32m--> 817\u001b[0;31m         \u001b[0mself\u001b[0m\u001b[0;34m.\u001b[0m\u001b[0m_send_method\u001b[0m\u001b[0;34m(\u001b[0m\u001b[0mspec\u001b[0m\u001b[0;34m.\u001b[0m\u001b[0mChannel\u001b[0m\u001b[0;34m.\u001b[0m\u001b[0mCloseOk\u001b[0m\u001b[0;34m(\u001b[0m\u001b[0;34m)\u001b[0m\u001b[0;34m,\u001b[0m \u001b[0mNone\u001b[0m\u001b[0;34m,\u001b[0m \u001b[0mFalse\u001b[0m\u001b[0;34m)\u001b[0m\u001b[0;34m\u001b[0m\u001b[0m\n\u001b[0m\u001b[1;32m    818\u001b[0m         \u001b[0mself\u001b[0m\u001b[0;34m.\u001b[0m\u001b[0m_set_state\u001b[0m\u001b[0;34m(\u001b[0m\u001b[0mself\u001b[0m\u001b[0;34m.\u001b[0m\u001b[0mCLOSED\u001b[0m\u001b[0;34m)\u001b[0m\u001b[0;34m\u001b[0m\u001b[0m\n\u001b[1;32m    819\u001b[0m         \u001b[0;32mraise\u001b[0m \u001b[0mexceptions\u001b[0m\u001b[0;34m.\u001b[0m\u001b[0mChannelClosed\u001b[0m\u001b[0;34m(\u001b[0m\u001b[0mself\u001b[0m\u001b[0;34m.\u001b[0m\u001b[0m_reply_code\u001b[0m\u001b[0;34m,\u001b[0m \u001b[0mself\u001b[0m\u001b[0;34m.\u001b[0m\u001b[0m_reply_text\u001b[0m\u001b[0;34m)\u001b[0m\u001b[0;34m\u001b[0m\u001b[0m\n",
        "\u001b[0;32m/Library/Python/2.7/site-packages/pika/adapters/blocking_connection.pyc\u001b[0m in \u001b[0;36m_send_method\u001b[0;34m(self, method_frame, content, wait)\u001b[0m\n\u001b[1;32m    918\u001b[0m         \u001b[0mself\u001b[0m\u001b[0;34m.\u001b[0m\u001b[0m_received_response\u001b[0m \u001b[0;34m=\u001b[0m \u001b[0mFalse\u001b[0m\u001b[0;34m\u001b[0m\u001b[0m\n\u001b[1;32m    919\u001b[0m         \u001b[0mLOGGER\u001b[0m\u001b[0;34m.\u001b[0m\u001b[0mdebug\u001b[0m\u001b[0;34m(\u001b[0m\u001b[0;34m'Connection: %r'\u001b[0m\u001b[0;34m,\u001b[0m \u001b[0mself\u001b[0m\u001b[0;34m.\u001b[0m\u001b[0mconnection\u001b[0m\u001b[0;34m)\u001b[0m\u001b[0;34m\u001b[0m\u001b[0m\n\u001b[0;32m--> 920\u001b[0;31m         \u001b[0mself\u001b[0m\u001b[0;34m.\u001b[0m\u001b[0mconnection\u001b[0m\u001b[0;34m.\u001b[0m\u001b[0msend_method\u001b[0m\u001b[0;34m(\u001b[0m\u001b[0mself\u001b[0m\u001b[0;34m.\u001b[0m\u001b[0mchannel_number\u001b[0m\u001b[0;34m,\u001b[0m \u001b[0mmethod_frame\u001b[0m\u001b[0;34m,\u001b[0m \u001b[0mcontent\u001b[0m\u001b[0;34m)\u001b[0m\u001b[0;34m\u001b[0m\u001b[0m\n\u001b[0m\u001b[1;32m    921\u001b[0m         \u001b[0;32mwhile\u001b[0m \u001b[0mself\u001b[0m\u001b[0;34m.\u001b[0m\u001b[0mconnection\u001b[0m\u001b[0;34m.\u001b[0m\u001b[0moutbound_buffer\u001b[0m\u001b[0;34m.\u001b[0m\u001b[0msize\u001b[0m \u001b[0;34m>\u001b[0m \u001b[0;36m0\u001b[0m\u001b[0;34m:\u001b[0m\u001b[0;34m\u001b[0m\u001b[0m\n\u001b[1;32m    922\u001b[0m             \u001b[0;32mtry\u001b[0m\u001b[0;34m:\u001b[0m\u001b[0;34m\u001b[0m\u001b[0m\n",
        "\u001b[0;32m/Library/Python/2.7/site-packages/pika/adapters/blocking_connection.pyc\u001b[0m in \u001b[0;36msend_method\u001b[0;34m(self, channel_number, method_frame, content)\u001b[0m\n\u001b[1;32m    118\u001b[0m \u001b[0;34m\u001b[0m\u001b[0m\n\u001b[1;32m    119\u001b[0m         \"\"\"\n\u001b[0;32m--> 120\u001b[0;31m         \u001b[0mself\u001b[0m\u001b[0;34m.\u001b[0m\u001b[0m_send_method\u001b[0m\u001b[0;34m(\u001b[0m\u001b[0mchannel_number\u001b[0m\u001b[0;34m,\u001b[0m \u001b[0mmethod_frame\u001b[0m\u001b[0;34m,\u001b[0m \u001b[0mcontent\u001b[0m\u001b[0;34m)\u001b[0m\u001b[0;34m\u001b[0m\u001b[0m\n\u001b[0m\u001b[1;32m    121\u001b[0m \u001b[0;34m\u001b[0m\u001b[0m\n\u001b[1;32m    122\u001b[0m     \u001b[0;32mdef\u001b[0m \u001b[0msleep\u001b[0m\u001b[0;34m(\u001b[0m\u001b[0mself\u001b[0m\u001b[0;34m,\u001b[0m \u001b[0mduration\u001b[0m\u001b[0;34m)\u001b[0m\u001b[0;34m:\u001b[0m\u001b[0;34m\u001b[0m\u001b[0m\n",
        "\u001b[0;32m/Library/Python/2.7/site-packages/pika/connection.pyc\u001b[0m in \u001b[0;36m_send_method\u001b[0;34m(self, channel_number, method_frame, content)\u001b[0m\n\u001b[1;32m   1329\u001b[0m \u001b[0;34m\u001b[0m\u001b[0m\n\u001b[1;32m   1330\u001b[0m         \"\"\"\n\u001b[0;32m-> 1331\u001b[0;31m         \u001b[0mself\u001b[0m\u001b[0;34m.\u001b[0m\u001b[0m_send_frame\u001b[0m\u001b[0;34m(\u001b[0m\u001b[0mframe\u001b[0m\u001b[0;34m.\u001b[0m\u001b[0mMethod\u001b[0m\u001b[0;34m(\u001b[0m\u001b[0mchannel_number\u001b[0m\u001b[0;34m,\u001b[0m \u001b[0mmethod_frame\u001b[0m\u001b[0;34m)\u001b[0m\u001b[0;34m)\u001b[0m\u001b[0;34m\u001b[0m\u001b[0m\n\u001b[0m\u001b[1;32m   1332\u001b[0m \u001b[0;34m\u001b[0m\u001b[0m\n\u001b[1;32m   1333\u001b[0m         \u001b[0;31m# If it's not a tuple of Header, str|unicode then return\u001b[0m\u001b[0;34m\u001b[0m\u001b[0;34m\u001b[0m\u001b[0m\n",
        "\u001b[0;32m/Library/Python/2.7/site-packages/pika/adapters/blocking_connection.pyc\u001b[0m in \u001b[0;36m_send_frame\u001b[0;34m(self, frame_value)\u001b[0m\n\u001b[1;32m    243\u001b[0m \u001b[0;34m\u001b[0m\u001b[0m\n\u001b[1;32m    244\u001b[0m         \"\"\"\n\u001b[0;32m--> 245\u001b[0;31m         \u001b[0msuper\u001b[0m\u001b[0;34m(\u001b[0m\u001b[0mBlockingConnection\u001b[0m\u001b[0;34m,\u001b[0m \u001b[0mself\u001b[0m\u001b[0;34m)\u001b[0m\u001b[0;34m.\u001b[0m\u001b[0m_send_frame\u001b[0m\u001b[0;34m(\u001b[0m\u001b[0mframe_value\u001b[0m\u001b[0;34m)\u001b[0m\u001b[0;34m\u001b[0m\u001b[0m\n\u001b[0m\u001b[1;32m    246\u001b[0m         \u001b[0mself\u001b[0m\u001b[0;34m.\u001b[0m\u001b[0m_frames_written_without_read\u001b[0m \u001b[0;34m+=\u001b[0m \u001b[0;36m1\u001b[0m\u001b[0;34m\u001b[0m\u001b[0m\n\u001b[1;32m    247\u001b[0m         \u001b[0;32mif\u001b[0m \u001b[0mself\u001b[0m\u001b[0;34m.\u001b[0m\u001b[0m_frames_written_without_read\u001b[0m \u001b[0;34m==\u001b[0m \u001b[0mself\u001b[0m\u001b[0;34m.\u001b[0m\u001b[0mWRITE_TO_READ_RATIO\u001b[0m\u001b[0;34m:\u001b[0m\u001b[0;34m\u001b[0m\u001b[0m\n",
        "\u001b[0;32m/Library/Python/2.7/site-packages/pika/connection.pyc\u001b[0m in \u001b[0;36m_send_frame\u001b[0;34m(self, frame_value)\u001b[0m\n\u001b[1;32m   1310\u001b[0m         \"\"\"\n\u001b[1;32m   1311\u001b[0m         \u001b[0;32mif\u001b[0m \u001b[0mself\u001b[0m\u001b[0;34m.\u001b[0m\u001b[0mis_closed\u001b[0m\u001b[0;34m:\u001b[0m\u001b[0;34m\u001b[0m\u001b[0m\n\u001b[0;32m-> 1312\u001b[0;31m             \u001b[0;32mraise\u001b[0m \u001b[0mexceptions\u001b[0m\u001b[0;34m.\u001b[0m\u001b[0mConnectionClosed\u001b[0m\u001b[0;34m\u001b[0m\u001b[0m\n\u001b[0m\u001b[1;32m   1313\u001b[0m         \u001b[0mLOGGER\u001b[0m\u001b[0;34m.\u001b[0m\u001b[0mdebug\u001b[0m\u001b[0;34m(\u001b[0m\u001b[0;34m'Frame: %r'\u001b[0m\u001b[0;34m,\u001b[0m \u001b[0mframe_value\u001b[0m\u001b[0;34m)\u001b[0m\u001b[0;34m\u001b[0m\u001b[0m\n\u001b[1;32m   1314\u001b[0m         \u001b[0mmarshaled_frame\u001b[0m \u001b[0;34m=\u001b[0m \u001b[0mframe_value\u001b[0m\u001b[0;34m.\u001b[0m\u001b[0mmarshal\u001b[0m\u001b[0;34m(\u001b[0m\u001b[0;34m)\u001b[0m\u001b[0;34m\u001b[0m\u001b[0m\n",
        "\u001b[0;31mConnectionClosed\u001b[0m: "
       ]
      }
     ],
     "prompt_number": 32
    },
    {
     "cell_type": "code",
     "collapsed": false,
     "input": [
      "import autonetkit.measure as measure\n",
      "remote_hosts = [nidb.node(\"r2\").tap.ip]\n",
      "command = 'vtysh -c \"show ip ro\"'\n",
      "measure.send(nidb, command, remote_hosts)"
     ],
     "language": "python",
     "metadata": {},
     "outputs": []
    },
    {
     "cell_type": "markdown",
     "metadata": {},
     "source": [
      "We can also process the returned data.\n",
      "For traceroutes we bind a process data function to map the returned IPs to the routers they represent.\n",
      "We then have a list of the routers along the path.\n",
      "\n",
      "But we can go one better: we can send this to the visualisation engine, just as we did for the offline analysis."
     ]
    },
    {
     "cell_type": "code",
     "collapsed": false,
     "input": [
      "remote_hosts = [nidb.node(\"r1\").tap.ip]\n",
      "\n",
      "dest_ip = nidb.node(\"r7\").interfaces[0].ipv4_address\n",
      "command = \"traceroute -n -a -U -w 0.5 %s\" % dest_ip\n",
      "measure.send(nidb, command, remote_hosts)"
     ],
     "language": "python",
     "metadata": {},
     "outputs": []
    },
    {
     "cell_type": "code",
     "collapsed": false,
     "input": [
      "dest_ip = nidb.node(\"r9\").interfaces[0].ipv4_address\n",
      "command = \"traceroute -n -a -U -w 0.5 %s\" % dest_ip\n",
      "measure.send(nidb, command, remote_hosts)"
     ],
     "language": "python",
     "metadata": {},
     "outputs": [
      {
       "output_type": "stream",
       "stream": "stderr",
       "text": [
        "\u001b[1;37mINFO\u001b[0m Trace from r1 to r9\n"
       ]
      },
      {
       "output_type": "stream",
       "stream": "stderr",
       "text": [
        "\u001b[1;37mINFO\u001b[0m:ANK:Trace from r1 to r9\n"
       ]
      },
      {
       "output_type": "stream",
       "stream": "stderr",
       "text": [
        "\u001b[1;37mINFO\u001b[0m 'traceroute -n -a -U -w 0.5 10.0.0.8\n",
        "traceroute to 10.0.0.8 (10.0.0.8), 64 hops max, 40 byte packets\n",
        " 1  10.0.0.2  2 ms !N\n",
        "r1:~# '\n"
       ]
      },
      {
       "output_type": "stream",
       "stream": "stderr",
       "text": [
        "\u001b[1;37mINFO\u001b[0m:ANK:'traceroute -n -a -U -w 0.5 10.0.0.8\n",
        "traceroute to 10.0.0.8 (10.0.0.8), 64 hops max, 40 byte packets\n",
        " 1  10.0.0.2  2 ms !N\n",
        "r1:~# '\n"
       ]
      },
      {
       "output_type": "stream",
       "stream": "stderr",
       "text": [
        "\u001b[1;37mINFO\u001b[0m [r1, r11]\n"
       ]
      },
      {
       "output_type": "stream",
       "stream": "stderr",
       "text": [
        "\u001b[1;37mINFO\u001b[0m:ANK:[r1, r11]\n"
       ]
      },
      {
       "output_type": "stream",
       "stream": "stderr",
       "text": [
        "\u001b[1;37mINFO\u001b[0m Partial trace, not sending to webserver: [r1, r11]\n"
       ]
      },
      {
       "output_type": "stream",
       "stream": "stderr",
       "text": [
        "\u001b[1;37mINFO\u001b[0m:ANK:Partial trace, not sending to webserver: [r1, r11]\n"
       ]
      },
      {
       "output_type": "pyout",
       "prompt_number": 39,
       "text": [
        "[[r1, r11]]"
       ]
      }
     ],
     "prompt_number": 39
    },
    {
     "cell_type": "code",
     "collapsed": false,
     "input": [
      "dest_ip = nidb.node(\"r4\").interfaces[0].ipv4_address\n",
      "command = \"traceroute -n -a -U -w 0.5 %s\" % dest_ip\n",
      "measure.send(nidb, command, remote_hosts)"
     ],
     "language": "python",
     "metadata": {},
     "outputs": [
      {
       "output_type": "stream",
       "stream": "stderr",
       "text": [
        "\u001b[1;37mINFO\u001b[0m Trace from r1 to r4\n"
       ]
      },
      {
       "output_type": "stream",
       "stream": "stderr",
       "text": [
        "\u001b[1;37mINFO\u001b[0m:ANK:Trace from r1 to r4\n"
       ]
      },
      {
       "output_type": "stream",
       "stream": "stderr",
       "text": [
        "\u001b[1;37mINFO\u001b[0m 'traceroute -n -a -U -w 0.5 10.0.0.17\n",
        "traceroute to 10.0.0.17 (10.0.0.17), 64 hops max, 40 byte packets\n",
        " 1  10.0.0.17  0 ms\n",
        "r1:~# '\n"
       ]
      },
      {
       "output_type": "stream",
       "stream": "stderr",
       "text": [
        "\u001b[1;37mINFO\u001b[0m:ANK:'traceroute -n -a -U -w 0.5 10.0.0.17\n",
        "traceroute to 10.0.0.17 (10.0.0.17), 64 hops max, 40 byte packets\n",
        " 1  10.0.0.17  0 ms\n",
        "r1:~# '\n"
       ]
      },
      {
       "output_type": "stream",
       "stream": "stderr",
       "text": [
        "\u001b[1;37mINFO\u001b[0m [r1, r4]\n"
       ]
      },
      {
       "output_type": "stream",
       "stream": "stderr",
       "text": [
        "\u001b[1;37mINFO\u001b[0m:ANK:[r1, r4]\n"
       ]
      },
      {
       "output_type": "pyout",
       "prompt_number": 40,
       "text": [
        "[[r1, r4]]"
       ]
      }
     ],
     "prompt_number": 40
    },
    {
     "cell_type": "code",
     "collapsed": false,
     "input": [
      "dest_ip = nidb.node(\"r11\").interfaces[2].ipv4_address\n",
      "command = \"traceroute -n -a -U -w 0.5 %s\" % dest_ip\n",
      "traceroute_result = measure.send(nidb, command, remote_hosts)"
     ],
     "language": "python",
     "metadata": {},
     "outputs": [
      {
       "output_type": "stream",
       "stream": "stderr",
       "text": [
        "\u001b[1;37mINFO\u001b[0m Trace from r1 to r11\n"
       ]
      },
      {
       "output_type": "stream",
       "stream": "stderr",
       "text": [
        "\u001b[1;37mINFO\u001b[0m:ANK:Trace from r1 to r11\n"
       ]
      },
      {
       "output_type": "stream",
       "stream": "stderr",
       "text": [
        "\u001b[1;37mINFO\u001b[0m 'traceroute -n -a -U -w 0.5 10.1.0.9\n",
        "traceroute to 10.1.0.9 (10.1.0.9), 64 hops max, 40 byte packets\n",
        " 1  10.1.128.5  0 ms\n",
        " 2  10.1.0.30  2 ms\n",
        " 3  10.1.0.9  0 ms\n",
        "r1:~# '\n"
       ]
      },
      {
       "output_type": "stream",
       "stream": "stderr",
       "text": [
        "\u001b[1;37mINFO\u001b[0m:ANK:'traceroute -n -a -U -w 0.5 10.1.0.9\n",
        "traceroute to 10.1.0.9 (10.1.0.9), 64 hops max, 40 byte packets\n",
        " 1  10.1.128.5  0 ms\n",
        " 2  10.1.0.30  2 ms\n",
        " 3  10.1.0.9  0 ms\n",
        "r1:~# '\n"
       ]
      },
      {
       "output_type": "stream",
       "stream": "stderr",
       "text": [
        "\u001b[1;37mINFO\u001b[0m [r1, r5, r6, r11]\n"
       ]
      },
      {
       "output_type": "stream",
       "stream": "stderr",
       "text": [
        "\u001b[1;37mINFO\u001b[0m:ANK:[r1, r5, r6, r11]\n"
       ]
      }
     ],
     "prompt_number": 43
    },
    {
     "cell_type": "markdown",
     "metadata": {},
     "source": [
      "Not what we expected! like 1-7 was costed up to 10 in the analysis.\n",
      "Recall we expected \n",
      "\n",
      "    ['1', '5', '6', '11']\n",
      "but we got\n",
      "\n",
      "    [1, 7, 10, 11]\n",
      "\n",
      "This is because we made the change after the network was deployed.\n",
      "Once option is to rebuild and restart the lab.\n",
      "A better way is to modify the existing network."
     ]
    },
    {
     "cell_type": "markdown",
     "metadata": {},
     "source": [
      "Let's confirm that:"
     ]
    },
    {
     "cell_type": "code",
     "collapsed": false,
     "input": [
      "path_trace = traceroute_result[0] # extract from nested list\n",
      "\n",
      "expected_path = nx.shortest_path(graph, \"r1\", \"r11\", weight = 'cost')\n",
      "\n",
      "combined = zip(path_trace, expected_path)\n",
      "print combined\n",
      "print all(a == b for a,b in combined)"
     ],
     "language": "python",
     "metadata": {},
     "outputs": [
      {
       "output_type": "stream",
       "stream": "stdout",
       "text": [
        "[(r1, 'r1'), (r5, 'r5'), (r6, 'r6'), (r11, 'r7')]\n",
        "False\n"
       ]
      }
     ],
     "prompt_number": 44
    },
    {
     "cell_type": "heading",
     "level": 3,
     "metadata": {},
     "source": [
      "Recompiling"
     ]
    },
    {
     "cell_type": "code",
     "collapsed": false,
     "input": [
      "nidb_b = console_script.create_nidb(anm)\n",
      "render_hostname = \"localhost\"\n",
      "\n",
      "nk_compiler = autonetkit.compiler.NetkitCompiler(nidb_b, anm, render_hostname)\n",
      "nk_compiler.compile()\n",
      "\n",
      "autonetkit.update_http(anm, nidb_b)"
     ],
     "language": "python",
     "metadata": {},
     "outputs": [
      {
       "output_type": "stream",
       "stream": "stderr",
       "text": [
        "\u001b[1;37mINFO\u001b[0m Compiling Netkit for localhost\n"
       ]
      },
      {
       "output_type": "stream",
       "stream": "stderr",
       "text": [
        "\u001b[1;37mINFO\u001b[0m:ANK:Compiling Netkit for localhost\n"
       ]
      }
     ],
     "prompt_number": 45
    },
    {
     "cell_type": "heading",
     "level": 3,
     "metadata": {},
     "source": [
      "Calculating Diffs"
     ]
    },
    {
     "cell_type": "code",
     "collapsed": false,
     "input": [
      "import autonetkit.diff\n",
      "diffs = autonetkit.diff.compare_nidb(nidb_a, nidb_b)\n",
      "diffs"
     ],
     "language": "python",
     "metadata": {},
     "outputs": [
      {
       "output_type": "pyout",
       "prompt_number": 46,
       "text": [
        "{'graph': {'timestamp': {1: '20130522_130749', 2: '20130522_131143'}},\n",
        " 'nodes': {'m': {'r1': {'_interfaces': {5: {'ospf_cost': {1: 1, 2: 10}}}},\n",
        "   'r11': {'_interfaces': {2: {'ospf_cost': {1: 1, 2: 10}}}},\n",
        "   'r6': {'_interfaces': {2: {'ospf_cost': {1: 1, 2: 10}}}},\n",
        "   'r7': {'_interfaces': {2: {'ospf_cost': {1: 1, 2: 10}}}}}}}"
       ]
      }
     ],
     "prompt_number": 46
    },
    {
     "cell_type": "markdown",
     "metadata": {},
     "source": [
      "As well as the timestamp, we can see the OSPF costs which have been changed."
     ]
    },
    {
     "cell_type": "heading",
     "level": 3,
     "metadata": {},
     "source": [
      "Pushing changes to emulated network"
     ]
    },
    {
     "cell_type": "markdown",
     "metadata": {},
     "source": [
      "Let's push these changes to the emulated network"
     ]
    },
    {
     "cell_type": "code",
     "collapsed": false,
     "input": [
      "import autonetkit.push_changes\n",
      "autonetkit.push_changes.apply_difference(nidb_a, diffs)"
     ],
     "language": "python",
     "metadata": {},
     "outputs": [
      {
       "output_type": "stream",
       "stream": "stdout",
       "text": [
        "'vtysh -c \"conf t\n",
        "> interface eth1\n",
        "> ip ospf cost 10 \"\n",
        "r6:~# '\n",
        "'vtysh -c \"show ip ospf interface eth1\"\n",
        "eth1 is up\n",
        "  ifindex 4, MTU 1500 bytes, BW 0 Kbit <UP,BROADCAST,RUNNING,MULTICAST>\n",
        "  Internet Address 10.1.0.10/30, Broadcast 10.1.0.11, Area 0.0.0.0\n",
        "  MTU mismatch detection:enabled\n",
        "  Router ID 10.0.0.3, Network Type BROADCAST, Cost: 10\n",
        "  Transmit Delay is 1 sec, State DR, Priority 1\n",
        "  Designated Router (ID) 10.0.0.3, Interface Address 10.1.0.10\n",
        "  Backup Designated Router (ID) 10.0.0.2, Interface Address 10.1.0.9\n",
        "  Multicast group memberships: OSPFAllRouters OSPFDesignatedRouters\n",
        "  Timer intervals configured, Hello 10s, Dead 40s, Wait 40s, Retransmit 5\n",
        "    Hello due in 9.483s\n",
        "  Neighbor Count is 1, Adjacent neighbor count is 1\n",
        "r6:~# '"
       ]
      },
      {
       "output_type": "stream",
       "stream": "stdout",
       "text": [
        "\n",
        "'vtysh -c \"conf t\n",
        "> interface eth1\n",
        "> ip ospf cost 10 \"\n",
        "r7:~# '"
       ]
      },
      {
       "output_type": "stream",
       "stream": "stdout",
       "text": [
        "\n",
        "'vtysh -c \"show ip ospf interface eth1\"\n",
        "eth1 is up\n",
        "  ifindex 4, MTU 1500 bytes, BW 0 Kbit <UP,BROADCAST,RUNNING,MULTICAST>\n",
        "  Internet Address 10.1.128.10/30, Broadcast 10.1.128.11, Area 0.0.0.0\n",
        "  MTU mismatch detection:enabled\n",
        "  Router ID 10.0.0.5, Network Type BROADCAST, Cost: 10\n",
        "  Transmit Delay is 1 sec, State Backup, Priority 1\n",
        "  Designated Router (ID) 10.0.0.6, Interface Address 10.1.128.9\n",
        "  Backup Designated Router (ID) 10.0.0.5, Interface Address 10.1.128.10\n",
        "  Multicast group memberships: OSPFAllRouters OSPFDesignatedRouters\n",
        "  Timer intervals configured, Hello 10s, Dead 40s, Wait 40s, Retransmit 5\n",
        "    Hello due in 9.374s\n",
        "  Neighbor Count is 1, Adjacent neighbor count is 1\n",
        "r7:~# '"
       ]
      },
      {
       "output_type": "stream",
       "stream": "stdout",
       "text": [
        "\n",
        "'vtysh -c \"conf t\n",
        "> interface eth4\n",
        "> ip ospf cost 10 \"\n",
        "r1:~# '"
       ]
      },
      {
       "output_type": "stream",
       "stream": "stdout",
       "text": [
        "\n",
        "'vtysh -c \"show ip ospf interface eth4\"\n",
        "eth4 is up\n",
        "  ifindex 7, MTU 1500 bytes, BW 0 Kbit <UP,BROADCAST,RUNNING,MULTICAST>\n",
        "  Internet Address 10.1.128.9/30, Broadcast 10.1.128.11, Area 0.0.0.0\n",
        "  MTU mismatch detection:enabled\n",
        "  Router ID 10.0.0.6, Network Type BROADCAST, Cost: 10\n",
        "  Transmit Delay is 1 sec, State DR, Priority 1\n",
        "  Designated Router (ID) 10.0.0.6, Interface Address 10.1.128.9\n",
        "  Backup Designated Router (ID) 10.0.0.5, Interface Address 10.1.128.10\n",
        "  Multicast group memberships: OSPFAllRouters OSPFDesignatedRouters\n",
        "  Timer intervals configured, Hello 10s, Dead 40s, Wait 40s, Retransmit 5\n",
        "    Hello due in 7.210s\n",
        "  Neighbor Count is 1, Adjacent neighbor count is 1\n",
        "r1:~# '"
       ]
      },
      {
       "output_type": "stream",
       "stream": "stdout",
       "text": [
        "\n",
        "'vtysh -c \"conf t\n",
        "> interface eth1\n",
        "> ip ospf cost 10 \"\n",
        "r11:~# '"
       ]
      },
      {
       "output_type": "stream",
       "stream": "stdout",
       "text": [
        "\n",
        "'vtysh -c \"show ip ospf interface eth1\"\n",
        "eth1 is up\n",
        "  ifindex 4, MTU 1500 bytes, BW 0 Kbit <UP,BROADCAST,RUNNING,MULTICAST>\n",
        "  Internet Address 10.1.0.9/30, Broadcast 10.1.0.11, Area 0.0.0.0\n",
        "  MTU mismatch detection:enabled\n",
        "  Router ID 10.0.0.2, Network Type BROADCAST, Cost: 10\n",
        "  Transmit Delay is 1 sec, State Backup, Priority 1\n",
        "  Designated Router (ID) 10.0.0.3, Interface Address 10.1.0.10\n",
        "  Backup Designated Router (ID) 10.0.0.2, Interface Address 10.1.0.9\n",
        "  Multicast group memberships: OSPFAllRouters OSPFDesignatedRouters\n",
        "  Timer intervals configured, Hello 10s, Dead 40s, Wait 40s, Retransmit 5\n",
        "    Hello due in 2.308s\n",
        "  Neighbor Count is 1, Adjacent neighbor count is 1\n",
        "r11:~# '"
       ]
      },
      {
       "output_type": "stream",
       "stream": "stderr",
       "text": [
        "\u001b[1;37mINFO\u001b[0m Differences applied\n"
       ]
      },
      {
       "output_type": "stream",
       "stream": "stderr",
       "text": [
        "\u001b[1;37mINFO\u001b[0m:ANK:Differences applied\n"
       ]
      },
      {
       "output_type": "stream",
       "stream": "stdout",
       "text": [
        "\n"
       ]
      }
     ],
     "prompt_number": 47
    },
    {
     "cell_type": "heading",
     "level": 3,
     "metadata": {},
     "source": [
      "Now let's try traceroute again..."
     ]
    },
    {
     "cell_type": "code",
     "collapsed": false,
     "input": [
      "remote_hosts = [nidb.node(\"r1\").tap.ip]\n",
      "#dest_ip = nidb.node(\"r11\").interfaces[1].ipv4_address\n",
      "dest_ip = anm['ipv4'].node(\"r11\").loopback\n",
      "\n",
      "command = \"traceroute -n -a -U -w 0.5 %s\" % dest_ip\n",
      "traceroute_result = measure.send(nidb, command, remote_hosts)\n",
      "print traceroute_result"
     ],
     "language": "python",
     "metadata": {},
     "outputs": [
      {
       "output_type": "stream",
       "stream": "stderr",
       "text": [
        "\u001b[1;37mINFO\u001b[0m Trace from r1 to r11\n"
       ]
      },
      {
       "output_type": "stream",
       "stream": "stderr",
       "text": [
        "\u001b[1;37mINFO\u001b[0m:ANK:Trace from r1 to r11\n"
       ]
      },
      {
       "output_type": "stream",
       "stream": "stderr",
       "text": [
        "\u001b[1;37mINFO\u001b[0m 'traceroute -n -a -U -w 0.5 10.0.0.2\n",
        "traceroute to 10.0.0.2 (10.0.0.2), 64 hops max, 40 byte packets\n",
        " 1  10.1.128.5  0 ms\n",
        " 2  10.1.0.30  1 ms\n",
        " 3  10.1.0.2  1 ms\n",
        " 4  10.1.0.22  3 ms\n",
        " 5  10.0.0.2  1 ms\n",
        "r1:~# '\n"
       ]
      },
      {
       "output_type": "stream",
       "stream": "stderr",
       "text": [
        "\u001b[1;37mINFO\u001b[0m:ANK:'traceroute -n -a -U -w 0.5 10.0.0.2\n",
        "traceroute to 10.0.0.2 (10.0.0.2), 64 hops max, 40 byte packets\n",
        " 1  10.1.128.5  0 ms\n",
        " 2  10.1.0.30  1 ms\n",
        " 3  10.1.0.2  1 ms\n",
        " 4  10.1.0.22  3 ms\n",
        " 5  10.0.0.2  1 ms\n",
        "r1:~# '\n"
       ]
      },
      {
       "output_type": "stream",
       "stream": "stderr",
       "text": [
        "\u001b[1;37mINFO\u001b[0m [r1, r5, r6, r7, r10, r11]\n"
       ]
      },
      {
       "output_type": "stream",
       "stream": "stderr",
       "text": [
        "\u001b[1;37mINFO\u001b[0m:ANK:[r1, r5, r6, r7, r10, r11]\n"
       ]
      },
      {
       "output_type": "stream",
       "stream": "stdout",
       "text": [
        "[[r1, r5, r6, r7, r10, r11]]\n"
       ]
      }
     ],
     "prompt_number": 48
    },
    {
     "cell_type": "code",
     "collapsed": false,
     "input": [
      "expected_path = nx.shortest_path(graph, \"r1\", \"r11\", weight = 'cost')\n",
      "print expected_path"
     ],
     "language": "python",
     "metadata": {},
     "outputs": [
      {
       "output_type": "stream",
       "stream": "stdout",
       "text": [
        "['r1', 'r5', 'r6', 'r7', 'r10', 'r11']\n"
       ]
      }
     ],
     "prompt_number": 49
    },
    {
     "cell_type": "markdown",
     "metadata": {},
     "source": [
      "This is what we expected! :)\n",
      "We can confirm this programatically:"
     ]
    },
    {
     "cell_type": "code",
     "collapsed": false,
     "input": [
      "path_trace = traceroute_result[0] # extract from nested list\n",
      "\n",
      "combined = zip(path_trace, expected_path)\n",
      "print all(a == b for a,b in combined)\n"
     ],
     "language": "python",
     "metadata": {},
     "outputs": [
      {
       "output_type": "stream",
       "stream": "stdout",
       "text": [
        "True\n"
       ]
      }
     ],
     "prompt_number": 50
    },
    {
     "cell_type": "heading",
     "level": 3,
     "metadata": {},
     "source": [
      "Viewing routing output (switch to g_ipv4)"
     ]
    },
    {
     "cell_type": "code",
     "collapsed": false,
     "input": [
      "import autonetkit.console_script as console_script\n",
      "source_node = nidb.node(\"r5\")\n",
      "print source_node.tap.ip\n",
      "console_script.collect_sh_ip_route(anm, nidb, source_node)"
     ],
     "language": "python",
     "metadata": {},
     "outputs": [
      {
       "output_type": "stream",
       "stream": "stderr",
       "text": [
        "\u001b[1;37mINFO\u001b[0m 172.16.0.7 vtysh -c \"show ip route\"\n"
       ]
      },
      {
       "output_type": "stream",
       "stream": "stderr",
       "text": [
        "\u001b[1;37mINFO\u001b[0m:ANK:172.16.0.7 vtysh -c \"show ip route\"\n"
       ]
      },
      {
       "output_type": "stream",
       "stream": "stderr",
       "text": [
        "\u001b[1;37mINFO\u001b[0m Verifying IGP routes\n"
       ]
      },
      {
       "output_type": "stream",
       "stream": "stderr",
       "text": [
        "\u001b[1;37mINFO\u001b[0m:ANK:Verifying IGP routes\n"
       ]
      },
      {
       "output_type": "stream",
       "stream": "stderr",
       "text": [
        "\u001b[1;37mINFO\u001b[0m Match: True, 10.1.0.0/30, optimal: r6, actual: r6\n"
       ]
      },
      {
       "output_type": "stream",
       "stream": "stderr",
       "text": [
        "\u001b[1;37mINFO\u001b[0m:ANK:Match: True, 10.1.0.0/30, optimal: r6, actual: r6\n"
       ]
      },
      {
       "output_type": "stream",
       "stream": "stderr",
       "text": [
        "\u001b[1;37mINFO\u001b[0m Match: True, 10.1.0.4/30, optimal: r6, actual: r6\n"
       ]
      },
      {
       "output_type": "stream",
       "stream": "stderr",
       "text": [
        "\u001b[1;37mINFO\u001b[0m:ANK:Match: True, 10.1.0.4/30, optimal: r6, actual: r6\n"
       ]
      },
      {
       "output_type": "stream",
       "stream": "stderr",
       "text": [
        "\u001b[1;37mINFO\u001b[0m Match: True, 10.1.0.8/30, optimal: r6, actual: r6\n"
       ]
      },
      {
       "output_type": "stream",
       "stream": "stderr",
       "text": [
        "\u001b[1;37mINFO\u001b[0m:ANK:Match: True, 10.1.0.8/30, optimal: r6, actual: r6\n"
       ]
      },
      {
       "output_type": "stream",
       "stream": "stderr",
       "text": [
        "\u001b[1;37mINFO\u001b[0m Match: True, 10.1.0.12/30, optimal: r6, actual: r6\n"
       ]
      },
      {
       "output_type": "stream",
       "stream": "stderr",
       "text": [
        "\u001b[1;37mINFO\u001b[0m:ANK:Match: True, 10.1.0.12/30, optimal: r6, actual: r6\n"
       ]
      },
      {
       "output_type": "stream",
       "stream": "stderr",
       "text": [
        "\u001b[1;37mINFO\u001b[0m Match: True, 10.1.0.16/30, optimal: r6, actual: r6\n"
       ]
      },
      {
       "output_type": "stream",
       "stream": "stderr",
       "text": [
        "\u001b[1;37mINFO\u001b[0m:ANK:Match: True, 10.1.0.16/30, optimal: r6, actual: r6\n"
       ]
      },
      {
       "output_type": "stream",
       "stream": "stderr",
       "text": [
        "\u001b[1;37mINFO\u001b[0m Match: True, 10.1.0.20/30, optimal: r6, actual: r6\n"
       ]
      },
      {
       "output_type": "stream",
       "stream": "stderr",
       "text": [
        "\u001b[1;37mINFO\u001b[0m:ANK:Match: True, 10.1.0.20/30, optimal: r6, actual: r6\n"
       ]
      },
      {
       "output_type": "stream",
       "stream": "stderr",
       "text": [
        "\u001b[1;37mINFO\u001b[0m Match: True, 10.1.128.8/30, optimal: r1, actual: r1\n"
       ]
      },
      {
       "output_type": "stream",
       "stream": "stderr",
       "text": [
        "\u001b[1;37mINFO\u001b[0m:ANK:Match: True, 10.1.128.8/30, optimal: r1, actual: r1\n"
       ]
      },
      {
       "output_type": "stream",
       "stream": "stderr",
       "text": [
        "\u001b[1;37mINFO\u001b[0m Match: True, 10.1.128.12/30, optimal: r1, actual: r1\n"
       ]
      },
      {
       "output_type": "stream",
       "stream": "stderr",
       "text": [
        "\u001b[1;37mINFO\u001b[0m:ANK:Match: True, 10.1.128.12/30, optimal: r1, actual: r1\n"
       ]
      },
      {
       "output_type": "stream",
       "stream": "stderr",
       "text": [
        "\u001b[1;37mINFO\u001b[0m 100.0% verification rate\n"
       ]
      },
      {
       "output_type": "stream",
       "stream": "stderr",
       "text": [
        "\u001b[1;37mINFO\u001b[0m:ANK:100.0% verification rate\n"
       ]
      },
      {
       "output_type": "stream",
       "stream": "stdout",
       "text": [
        "172.16.0.7\n"
       ]
      }
     ],
     "prompt_number": 54
    }
   ],
   "metadata": {}
  }
 ]
}