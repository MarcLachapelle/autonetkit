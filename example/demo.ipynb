{
 "metadata": {
  "name": "demo"
 },
 "nbformat": 3,
 "nbformat_minor": 0,
 "worksheets": [
  {
   "cells": [
    {
     "cell_type": "heading",
     "level": 3,
     "metadata": {},
     "source": [
      "Creating ANM from topology graph"
     ]
    },
    {
     "cell_type": "code",
     "collapsed": false,
     "input": [
      "import autonetkit\n",
      "import autonetkit.load.graphml as graphml\n",
      "\n",
      "anm =  autonetkit.ANM()\n",
      "input_graph = graphml.load_graphml(\"demo.graphml\")\n",
      "\n",
      "import autonetkit.build_network as build_network\n",
      "anm = build_network.initialise(input_graph)\n",
      "autonetkit.update_http(anm)"
     ],
     "language": "python",
     "metadata": {},
     "outputs": [],
     "prompt_number": 1
    },
    {
     "cell_type": "code",
     "collapsed": false,
     "input": [
      "g_test = anm.add_overlay(\"test\")\n",
      "g_in = anm['input']\n",
      "autonetkit.update_http(anm)"
     ],
     "language": "python",
     "metadata": {},
     "outputs": [],
     "prompt_number": 2
    },
    {
     "cell_type": "code",
     "collapsed": false,
     "input": [
      "g_test.add_nodes_from(g_in, retain = \"asn\")\n",
      "autonetkit.update_http(anm)"
     ],
     "language": "python",
     "metadata": {},
     "outputs": [],
     "prompt_number": 3
    },
    {
     "cell_type": "code",
     "collapsed": false,
     "input": [
      "ebgp_edges = (e for e in g_in.edges() if e.src.asn != e.dst.asn)\n",
      "g_test.add_edges_from(ebgp_edges, type = \"ebgp\")\n",
      "\n",
      "autonetkit.update_http(anm)"
     ],
     "language": "python",
     "metadata": {},
     "outputs": [],
     "prompt_number": 4
    },
    {
     "cell_type": "heading",
     "level": 3,
     "metadata": {},
     "source": [
      "Applying network design rules"
     ]
    },
    {
     "cell_type": "code",
     "collapsed": false,
     "input": [
      "anm = build_network.apply_design_rules(anm)\n",
      "autonetkit.update_http(anm)"
     ],
     "language": "python",
     "metadata": {},
     "outputs": [
      {
       "output_type": "stream",
       "stream": "stderr",
       "text": [
        "\u001b[1;37mINFO\u001b[0m Allocating v4 Infrastructure IPs\n"
       ]
      },
      {
       "output_type": "stream",
       "stream": "stderr",
       "text": [
        "\u001b[1;37mINFO\u001b[0m:ANK:Allocating v4 Infrastructure IPs\n"
       ]
      },
      {
       "output_type": "stream",
       "stream": "stderr",
       "text": [
        "\u001b[1;37mINFO\u001b[0m Allocating v4 Primary Host loopback IPs\n"
       ]
      },
      {
       "output_type": "stream",
       "stream": "stderr",
       "text": [
        "\u001b[1;37mINFO\u001b[0m:ANK:Allocating v4 Primary Host loopback IPs\n"
       ]
      },
      {
       "output_type": "stream",
       "stream": "stderr",
       "text": [
        "\u001b[1;37mINFO\u001b[0m Allocating v4 Secondary Host loopback IPs\n"
       ]
      },
      {
       "output_type": "stream",
       "stream": "stderr",
       "text": [
        "\u001b[1;37mINFO\u001b[0m:ANK:Allocating v4 Secondary Host loopback IPs\n"
       ]
      }
     ],
     "prompt_number": 5
    },
    {
     "cell_type": "heading",
     "level": 3,
     "metadata": {},
     "source": [
      "Modifying Network using API"
     ]
    },
    {
     "cell_type": "code",
     "collapsed": false,
     "input": [
      "import autonetkit.ank_messaging as msg\n",
      "msg.highlight([], [(1,8)], [])"
     ],
     "language": "python",
     "metadata": {},
     "outputs": [],
     "prompt_number": 6
    },
    {
     "cell_type": "markdown",
     "metadata": {},
     "source": [
      "Look at the OSPF overlay: set \"cost\" to be the edge attribute displayed"
     ]
    },
    {
     "cell_type": "code",
     "collapsed": false,
     "input": [
      "e1_8 = anm['ospf'].edge('1', '8')\n",
      "print \"before:\", e1_8.cost\n",
      "\n",
      "e1_8.cost = 10\n",
      "e1_8.apply_to_interfaces(\"cost\")\n",
      "print \"after:\", e1_8.cost\n",
      "\n",
      "autonetkit.update_http(anm)"
     ],
     "language": "python",
     "metadata": {},
     "outputs": [
      {
       "output_type": "stream",
       "stream": "stdout",
       "text": [
        "before: 1\n",
        "after: 10\n"
       ]
      }
     ],
     "prompt_number": 7
    },
    {
     "cell_type": "markdown",
     "metadata": {},
     "source": [
      "View the result on the OSPF overlay"
     ]
    },
    {
     "cell_type": "heading",
     "level": 3,
     "metadata": {},
     "source": [
      "Compiling ANM to NIDB"
     ]
    },
    {
     "cell_type": "code",
     "collapsed": false,
     "input": [
      "import autonetkit.console_script as console_script\n",
      "render_hostname = \"localhost\"\n",
      "\n",
      "nidb = console_script.create_nidb(anm)\n",
      "nidb_a = nidb # store for diffing\n",
      "nk_compiler = autonetkit.compiler.NetkitCompiler(nidb, anm, render_hostname)\n",
      "nk_compiler.compile()\n",
      "autonetkit.update_http(anm, nidb)"
     ],
     "language": "python",
     "metadata": {},
     "outputs": [
      {
       "output_type": "stream",
       "stream": "stderr",
       "text": [
        "\u001b[1;37mINFO\u001b[0m Compiling Netkit for localhost\n"
       ]
      },
      {
       "output_type": "stream",
       "stream": "stderr",
       "text": [
        "\u001b[1;37mINFO\u001b[0m:ANK:Compiling Netkit for localhost\n"
       ]
      }
     ],
     "prompt_number": 8
    },
    {
     "cell_type": "heading",
     "level": 3,
     "metadata": {},
     "source": [
      "Viewing NIDB Attributes"
     ]
    },
    {
     "cell_type": "code",
     "collapsed": false,
     "input": [
      "router = nidb.node(\"1\")\n",
      "router.dump()"
     ],
     "language": "python",
     "metadata": {},
     "outputs": [
      {
       "output_type": "stream",
       "stream": "stdout",
       "text": [
        "{'Network': None,\n",
        " '_interfaces': {0: {'description': 'Loopback',\n",
        "                     'id': 'lo0:1',\n",
        "                     'id_brief': 'lo0:1',\n",
        "                     'ipv4_address': IPAddress('10.0.0.1'),\n",
        "                     'ipv4_subnet': IPNetwork('10.0.0.1/32'),\n",
        "                     'type': 'loopback'},\n",
        "                 1: {'description': '1 to 3',\n",
        "                     'id': 'eth0',\n",
        "                     'id_brief': 'eth0',\n",
        "                     'ipv4_address': IPAddress('10.1.0.25'),\n",
        "                     'ipv4_cidr': IPNetwork('10.1.0.25/30'),\n",
        "                     'ipv4_subnet': IPNetwork('10.1.0.24/30'),\n",
        "                     'numeric_id': 0,\n",
        "                     'physical': True,\n",
        "                     'type': 'physical'},\n",
        "                 2: {'description': '1 to 4',\n",
        "                     'id': 'eth1',\n",
        "                     'id_brief': 'eth1',\n",
        "                     'ipv4_address': IPAddress('10.1.128.1'),\n",
        "                     'ipv4_cidr': IPNetwork('10.1.128.1/30'),\n",
        "                     'ipv4_subnet': IPNetwork('10.1.128.0/30'),\n",
        "                     'numeric_id': 1,\n",
        "                     'physical': True,\n",
        "                     'type': 'physical'},\n",
        "                 3: {'description': '1 to 5',\n",
        "                     'id': 'eth2',\n",
        "                     'id_brief': 'eth2',\n",
        "                     'ipv4_address': IPAddress('10.1.128.6'),\n",
        "                     'ipv4_cidr': IPNetwork('10.1.128.6/30'),\n",
        "                     'ipv4_subnet': IPNetwork('10.1.128.4/30'),\n",
        "                     'numeric_id': 2,\n",
        "                     'ospf_cost': 1,\n",
        "                     'physical': True,\n",
        "                     'type': 'physical'},\n",
        "                 4: {'description': '1 to 7',\n",
        "                     'id': 'eth3',\n",
        "                     'id_brief': 'eth3',\n",
        "                     'ipv4_address': IPAddress('10.1.0.29'),\n",
        "                     'ipv4_cidr': IPNetwork('10.1.0.29/30'),\n",
        "                     'ipv4_subnet': IPNetwork('10.1.0.28/30'),\n",
        "                     'numeric_id': 3,\n",
        "                     'ospf_cost': 1,\n",
        "                     'physical': True,\n",
        "                     'type': 'physical'},\n",
        "                 5: {'description': '1 to 8',\n",
        "                     'id': 'eth4',\n",
        "                     'id_brief': 'eth4',\n",
        "                     'ipv4_address': IPAddress('10.1.128.9'),\n",
        "                     'ipv4_cidr': IPNetwork('10.1.128.9/30'),\n",
        "                     'ipv4_subnet': IPNetwork('10.1.128.8/30'),\n",
        "                     'numeric_id': 4,\n",
        "                     'ospf_cost': 10,\n",
        "                     'physical': True,\n",
        "                     'type': 'physical'}},\n",
        " 'asn': 2,\n",
        " 'bgp': {'debug': True,\n",
        "         'ebgp_neighbors': [{'asn': 1,\n",
        "                             'dst_int_ip': IPAddress('10.1.0.26'),\n",
        "                             'local_int_ip': IPAddress('10.1.0.25'),\n",
        "                             'loopback': IPAddress('10.0.0.17'),\n",
        "                             'neighbor': '3',\n",
        "                             'update_source': None,\n",
        "                             'use_ipv4': True,\n",
        "                             'use_ipv6': False},\n",
        "                            {'asn': 1,\n",
        "                             'dst_int_ip': IPAddress('10.1.128.2'),\n",
        "                             'local_int_ip': IPAddress('10.1.128.1'),\n",
        "                             'loopback': IPAddress('10.0.0.19'),\n",
        "                             'neighbor': '4',\n",
        "                             'update_source': None,\n",
        "                             'use_ipv4': True,\n",
        "                             'use_ipv6': False}],\n",
        "         'ibgp_neighbors': [{'asn': 2,\n",
        "                             'loopback': IPAddress('10.0.0.8'),\n",
        "                             'neighbor': '11',\n",
        "                             'update_source': None,\n",
        "                             'use_ipv4': True,\n",
        "                             'use_ipv6': False},\n",
        "                            {'asn': 2,\n",
        "                             'loopback': IPAddress('10.0.0.7'),\n",
        "                             'neighbor': '10',\n",
        "                             'update_source': None,\n",
        "                             'use_ipv4': True,\n",
        "                             'use_ipv6': False},\n",
        "                            {'asn': 2,\n",
        "                             'loopback': IPAddress('10.0.0.2'),\n",
        "                             'neighbor': '5',\n",
        "                             'update_source': None,\n",
        "                             'use_ipv4': True,\n",
        "                             'use_ipv6': False},\n",
        "                            {'asn': 2,\n",
        "                             'loopback': IPAddress('10.0.0.3'),\n",
        "                             'neighbor': '7',\n",
        "                             'update_source': None,\n",
        "                             'use_ipv4': True,\n",
        "                             'use_ipv6': False},\n",
        "                            {'asn': 2,\n",
        "                             'loopback': IPAddress('10.0.0.4'),\n",
        "                             'neighbor': '6',\n",
        "                             'update_source': None,\n",
        "                             'use_ipv4': True,\n",
        "                             'use_ipv6': False},\n",
        "                            {'asn': 2,\n",
        "                             'loopback': IPAddress('10.0.0.5'),\n",
        "                             'neighbor': '9',\n",
        "                             'update_source': None,\n",
        "                             'use_ipv4': True,\n",
        "                             'use_ipv6': False},\n",
        "                            {'asn': 2,\n",
        "                             'loopback': IPAddress('10.0.0.6'),\n",
        "                             'neighbor': '8',\n",
        "                             'update_source': None,\n",
        "                             'use_ipv4': True,\n",
        "                             'use_ipv6': False}],\n",
        "         'ibgp_rr_clients': [],\n",
        "         'ibgp_rr_parents': [],\n",
        "         'ipv4_advertise_subnets': [IPNetwork('10.1.0.0/16')],\n",
        "         'ipv6_advertise_subnets': []},\n",
        " 'device_subtype': None,\n",
        " 'device_type': 'router',\n",
        " 'graphics': {'device_subtype': None,\n",
        "              'device_type': 'router',\n",
        "              'x': 542.6405010223389,\n",
        "              'y': 415.17582416534424},\n",
        " 'host': 'localhost',\n",
        " 'hostname': 'r1',\n",
        " 'input_label': '1',\n",
        " 'interfaces': [],\n",
        " 'ip': {'use_ipv4': True, 'use_ipv6': False},\n",
        " 'label': '1',\n",
        " 'loopback': IPAddress('10.0.0.1'),\n",
        " 'loopback_subnet': IPNetwork('10.0.0.1/32'),\n",
        " 'ospf': {'lo_interface': 'lo0:1',\n",
        "          'loopback_area': 0,\n",
        "          'ospf_links': [{'area': 0, 'network': IPNetwork('10.1.128.4/30')},\n",
        "                         {'area': 0, 'network': IPNetwork('10.1.0.28/30')},\n",
        "                         {'area': 0, 'network': IPNetwork('10.1.128.8/30')},\n",
        "                         {'area': 0, 'network': IPNetwork('10.1.0.24/30')},\n",
        "                         {'area': 0, 'network': IPNetwork('10.1.128.0/30')}],\n",
        "          'passive_interfaces': [{'id': 'eth0'}, {'id': 'eth1'}],\n",
        "          'process_id': 1},\n",
        " 'platform': 'netkit',\n",
        " 'render': {'base': 'templates/quagga',\n",
        "            'base_dst_folder': 'rendered/localhost/netkit/1',\n",
        "            'dst_file': '1.startup',\n",
        "            'dst_folder': 'rendered/localhost/netkit',\n",
        "            'template': 'templates/netkit_startup.mako'},\n",
        " 'ssh': {'use_key': True},\n",
        " 'tap': {'id': 'eth5', 'ip': IPAddress('172.16.0.6')},\n",
        " 'update': None,\n",
        " 'x': 274.0,\n",
        " 'y': 210.0,\n",
        " 'zebra': {'password': '1234', 'static_routes': []}}\n"
       ]
      }
     ],
     "prompt_number": 9
    },
    {
     "cell_type": "heading",
     "level": 3,
     "metadata": {},
     "source": [
      "Rendering NIDB to Configuration Files"
     ]
    },
    {
     "cell_type": "code",
     "collapsed": false,
     "input": [
      "import autonetkit.render\n",
      "autonetkit.render.render(nidb)"
     ],
     "language": "python",
     "metadata": {},
     "outputs": [
      {
       "output_type": "stream",
       "stream": "stderr",
       "text": [
        "\u001b[1;37mINFO\u001b[0m Rendering Network\n"
       ]
      },
      {
       "output_type": "stream",
       "stream": "stderr",
       "text": [
        "\u001b[1;37mINFO\u001b[0m:ANK:Rendering Network\n"
       ]
      }
     ],
     "prompt_number": 10
    },
    {
     "cell_type": "heading",
     "level": 3,
     "metadata": {},
     "source": [
      "Viewing Output Configurations"
     ]
    },
    {
     "cell_type": "code",
     "collapsed": false,
     "input": [
      "import os\n",
      "dst_folder = nidb.topology['localhost'].render_dst_folder\n",
      "for path, dirs, files in os.walk(dst_folder):\n",
      "  print path\n",
      "  for f in files:\n",
      "    print \"\\t\", f"
     ],
     "language": "python",
     "metadata": {},
     "outputs": [
      {
       "output_type": "stream",
       "stream": "stdout",
       "text": [
        "rendered/localhost/netkit\n",
        "\t.DS_Store\n",
        "\t1.startup\n",
        "\t10.startup\n",
        "\t11.startup\n",
        "\t12.startup\n",
        "\t13.startup\n",
        "\t14.startup\n",
        "\t2.startup\n",
        "\t3.startup\n",
        "\t4.startup\n",
        "\t5.startup\n",
        "\t6.startup\n",
        "\t7.startup\n",
        "\t8.startup\n",
        "\t9.startup\n",
        "\tlab.conf\n",
        "rendered/localhost/netkit/1\n",
        "rendered/localhost/netkit/1/etc\n",
        "\thostname\n",
        "\tshadow\n",
        "rendered/localhost/netkit/1/etc/ssh\n",
        "\tsshd_config\n",
        "rendered/localhost/netkit/1/etc/zebra\n",
        "\tbgpd.conf\n",
        "\tdaemons\n",
        "\tisisd.conf\n",
        "\tmotd.txt\n",
        "\tospfd.conf\n",
        "\tzebra.conf\n",
        "rendered/localhost/netkit/1/root\n",
        "rendered/localhost/netkit/1/root/.ssh\n",
        "\tauthorized_keys\n",
        "rendered/localhost/netkit/10\n",
        "rendered/localhost/netkit/10/etc\n",
        "\thostname\n",
        "\tshadow\n",
        "rendered/localhost/netkit/10/etc/ssh\n",
        "\tsshd_config\n",
        "rendered/localhost/netkit/10/etc/zebra\n",
        "\tbgpd.conf\n",
        "\tdaemons\n",
        "\tisisd.conf\n",
        "\tmotd.txt\n",
        "\tospfd.conf\n",
        "\tzebra.conf\n",
        "rendered/localhost/netkit/10/root\n",
        "rendered/localhost/netkit/10/root/.ssh\n",
        "\tauthorized_keys\n",
        "rendered/localhost/netkit/11\n",
        "rendered/localhost/netkit/11/etc\n",
        "\thostname\n",
        "\tshadow\n",
        "rendered/localhost/netkit/11/etc/ssh\n",
        "\tsshd_config\n",
        "rendered/localhost/netkit/11/etc/zebra\n",
        "\tbgpd.conf\n",
        "\tdaemons\n",
        "\tisisd.conf\n",
        "\tmotd.txt\n",
        "\tospfd.conf\n",
        "\tzebra.conf\n",
        "rendered/localhost/netkit/11/root\n",
        "rendered/localhost/netkit/11/root/.ssh\n",
        "\tauthorized_keys\n",
        "rendered/localhost/netkit/12\n",
        "rendered/localhost/netkit/12/etc\n",
        "\thostname\n",
        "\tshadow\n",
        "rendered/localhost/netkit/12/etc/ssh\n",
        "\tsshd_config\n",
        "rendered/localhost/netkit/12/etc/zebra\n",
        "\tbgpd.conf\n",
        "\tdaemons\n",
        "\tisisd.conf\n",
        "\tmotd.txt\n",
        "\tospfd.conf\n",
        "\tzebra.conf\n",
        "rendered/localhost/netkit/12/root\n",
        "rendered/localhost/netkit/12/root/.ssh\n",
        "\tauthorized_keys\n",
        "rendered/localhost/netkit/13\n",
        "rendered/localhost/netkit/13/etc\n",
        "\thostname\n",
        "\tshadow\n",
        "rendered/localhost/netkit/13/etc/ssh\n",
        "\tsshd_config\n",
        "rendered/localhost/netkit/13/etc/zebra\n",
        "\tbgpd.conf\n",
        "\tdaemons\n",
        "\tisisd.conf\n",
        "\tmotd.txt\n",
        "\tospfd.conf\n",
        "\tzebra.conf\n",
        "rendered/localhost/netkit/13/root\n",
        "rendered/localhost/netkit/13/root/.ssh\n",
        "\tauthorized_keys\n",
        "rendered/localhost/netkit/14\n",
        "rendered/localhost/netkit/14/etc\n",
        "\thostname\n",
        "\tshadow\n",
        "rendered/localhost/netkit/14/etc/ssh\n",
        "\tsshd_config\n",
        "rendered/localhost/netkit/14/etc/zebra\n",
        "\tbgpd.conf\n",
        "\tdaemons\n",
        "\tisisd.conf\n",
        "\tmotd.txt\n",
        "\tospfd.conf\n",
        "\tzebra.conf\n",
        "rendered/localhost/netkit/14/root\n",
        "rendered/localhost/netkit/14/root/.ssh\n",
        "\tauthorized_keys\n",
        "rendered/localhost/netkit/2\n",
        "rendered/localhost/netkit/2/etc\n",
        "\thostname\n",
        "\tshadow\n",
        "rendered/localhost/netkit/2/etc/ssh\n",
        "\tsshd_config\n",
        "rendered/localhost/netkit/2/etc/zebra\n",
        "\tbgpd.conf\n",
        "\tdaemons\n",
        "\tisisd.conf\n",
        "\tmotd.txt\n",
        "\tospfd.conf\n",
        "\tzebra.conf\n",
        "rendered/localhost/netkit/2/root\n",
        "rendered/localhost/netkit/2/root/.ssh\n",
        "\tauthorized_keys\n",
        "rendered/localhost/netkit/3\n",
        "rendered/localhost/netkit/3/etc\n",
        "\thostname\n",
        "\tshadow\n",
        "rendered/localhost/netkit/3/etc/ssh\n",
        "\tsshd_config\n",
        "rendered/localhost/netkit/3/etc/zebra\n",
        "\tbgpd.conf\n",
        "\tdaemons\n",
        "\tisisd.conf\n",
        "\tmotd.txt\n",
        "\tospfd.conf\n",
        "\tzebra.conf\n",
        "rendered/localhost/netkit/3/root\n",
        "rendered/localhost/netkit/3/root/.ssh\n",
        "\tauthorized_keys\n",
        "rendered/localhost/netkit/4\n",
        "rendered/localhost/netkit/4/etc\n",
        "\thostname\n",
        "\tshadow\n",
        "rendered/localhost/netkit/4/etc/ssh\n",
        "\tsshd_config\n",
        "rendered/localhost/netkit/4/etc/zebra\n",
        "\tbgpd.conf\n",
        "\tdaemons\n",
        "\tisisd.conf\n",
        "\tmotd.txt\n",
        "\tospfd.conf\n",
        "\tzebra.conf\n",
        "rendered/localhost/netkit/4/root\n",
        "rendered/localhost/netkit/4/root/.ssh\n",
        "\tauthorized_keys\n",
        "rendered/localhost/netkit/5\n",
        "rendered/localhost/netkit/5/etc\n",
        "\thostname\n",
        "\tshadow\n",
        "rendered/localhost/netkit/5/etc/ssh\n",
        "\tsshd_config\n",
        "rendered/localhost/netkit/5/etc/zebra\n",
        "\tbgpd.conf\n",
        "\tdaemons\n",
        "\tisisd.conf\n",
        "\tmotd.txt\n",
        "\tospfd.conf\n",
        "\tzebra.conf\n",
        "rendered/localhost/netkit/5/root\n",
        "rendered/localhost/netkit/5/root/.ssh\n",
        "\tauthorized_keys\n",
        "rendered/localhost/netkit/6\n",
        "rendered/localhost/netkit/6/etc\n",
        "\thostname\n",
        "\tshadow\n",
        "rendered/localhost/netkit/6/etc/ssh\n",
        "\tsshd_config\n",
        "rendered/localhost/netkit/6/etc/zebra\n",
        "\tbgpd.conf\n",
        "\tdaemons\n",
        "\tisisd.conf\n",
        "\tmotd.txt\n",
        "\tospfd.conf\n",
        "\tzebra.conf\n",
        "rendered/localhost/netkit/6/root\n",
        "rendered/localhost/netkit/6/root/.ssh\n",
        "\tauthorized_keys\n",
        "rendered/localhost/netkit/7\n",
        "rendered/localhost/netkit/7/etc\n",
        "\thostname\n",
        "\tshadow\n",
        "rendered/localhost/netkit/7/etc/ssh\n",
        "\tsshd_config\n",
        "rendered/localhost/netkit/7/etc/zebra\n",
        "\tbgpd.conf\n",
        "\tdaemons\n",
        "\tisisd.conf\n",
        "\tmotd.txt\n",
        "\tospfd.conf\n",
        "\tzebra.conf\n",
        "rendered/localhost/netkit/7/root\n",
        "rendered/localhost/netkit/7/root/.ssh\n",
        "\tauthorized_keys\n",
        "rendered/localhost/netkit/8\n",
        "rendered/localhost/netkit/8/etc\n",
        "\thostname\n",
        "\tshadow\n",
        "rendered/localhost/netkit/8/etc/ssh\n",
        "\tsshd_config\n",
        "rendered/localhost/netkit/8/etc/zebra\n",
        "\tbgpd.conf\n",
        "\tdaemons\n",
        "\tisisd.conf\n",
        "\tmotd.txt\n",
        "\tospfd.conf\n",
        "\tzebra.conf\n",
        "rendered/localhost/netkit/8/root\n",
        "rendered/localhost/netkit/8/root/.ssh\n",
        "\tauthorized_keys\n",
        "rendered/localhost/netkit/9\n",
        "rendered/localhost/netkit/9/etc\n",
        "\thostname\n",
        "\tshadow\n",
        "rendered/localhost/netkit/9/etc/ssh\n",
        "\tsshd_config\n",
        "rendered/localhost/netkit/9/etc/zebra\n",
        "\tbgpd.conf\n",
        "\tdaemons\n",
        "\tisisd.conf\n",
        "\tmotd.txt\n",
        "\tospfd.conf\n",
        "\tzebra.conf\n",
        "rendered/localhost/netkit/9/root\n",
        "rendered/localhost/netkit/9/root/.ssh\n",
        "\tauthorized_keys\n"
       ]
      }
     ],
     "prompt_number": 11
    },
    {
     "cell_type": "heading",
     "level": 3,
     "metadata": {},
     "source": [
      "Viewing Configuration Files: OSPF"
     ]
    },
    {
     "cell_type": "code",
     "collapsed": false,
     "input": [
      "router = nidb.routers().next() # choose a router\n",
      "router = nidb.node(\"1\")\n",
      "zebra_dir = os.path.join(router.render.base_dst_folder, \"etc\", \"zebra\")\n",
      "\n",
      "ospfd_conf = os.path.join(zebra_dir, \"ospfd.conf\")\n",
      "with open(ospfd_conf, \"r\") as fh:\n",
      "    print fh.read()"
     ],
     "language": "python",
     "metadata": {},
     "outputs": [
      {
       "output_type": "stream",
       "stream": "stdout",
       "text": [
        "hostname r1\n",
        "password 1234   \n",
        "banner motd file /etc/quagga/motd.txt\n",
        "!\n",
        "  interface eth2\n",
        "  #Link to 1 to 5\n",
        "  ip ospf cost 1\n",
        "  !\n",
        "  interface eth3\n",
        "  #Link to 1 to 7\n",
        "  ip ospf cost 1\n",
        "  !\n",
        "  interface eth4\n",
        "  #Link to 1 to 8\n",
        "  ip ospf cost 10\n",
        "  !\n",
        "!\n",
        "router ospf\n",
        "  network 10.1.128.4/30 area 0 \n",
        "  network 10.1.0.28/30 area 0 \n",
        "  network 10.1.128.8/30 area 0 \n",
        "  network 10.1.0.24/30 area 0 \n",
        "  network 10.1.128.0/30 area 0 \n",
        "  !\n",
        "  passive-interface eth0\n",
        "  passive-interface eth1\n",
        "  !\n",
        "  network 10.0.0.1/32 area 0\n",
        "!\n",
        "\n"
       ]
      }
     ],
     "prompt_number": 12
    },
    {
     "cell_type": "heading",
     "level": 3,
     "metadata": {},
     "source": [
      "Viewing Configuration Files: BGP"
     ]
    },
    {
     "cell_type": "code",
     "collapsed": false,
     "input": [
      "bgpd_conf = os.path.join(zebra_dir, \"bgpd.conf\")\n",
      "with open(bgpd_conf, \"r\") as fh:\n",
      "    print fh.read()"
     ],
     "language": "python",
     "metadata": {},
     "outputs": [
      {
       "output_type": "stream",
       "stream": "stdout",
       "text": [
        "!\n",
        "hostname r1\n",
        "password 1234              \n",
        "banner motd file /etc/quagga/motd.txt\n",
        "!enable password 1234\n",
        "!\n",
        "  router bgp 2   \n",
        "  bgp router-id 10.0.0.1\n",
        "  no synchronization\n",
        "  network 10.1.0.0/16\n",
        "! ibgp\n",
        "  ! ibgp peers\n",
        "  ! 11\n",
        "  neighbor 10.0.0.8 remote-as 2\n",
        "  neighbor 10.0.0.8 update-source 10.0.0.1                                                     \n",
        "  neighbor 10.0.0.8 send-community      \n",
        "  neighbor 10.0.0.8 next-hop-self\n",
        "  ! 10\n",
        "  neighbor 10.0.0.7 remote-as 2\n",
        "  neighbor 10.0.0.7 update-source 10.0.0.1                                                     \n",
        "  neighbor 10.0.0.7 send-community      \n",
        "  neighbor 10.0.0.7 next-hop-self\n",
        "  ! 5\n",
        "  neighbor 10.0.0.2 remote-as 2\n",
        "  neighbor 10.0.0.2 update-source 10.0.0.1                                                     \n",
        "  neighbor 10.0.0.2 send-community      \n",
        "  neighbor 10.0.0.2 next-hop-self\n",
        "  ! 7\n",
        "  neighbor 10.0.0.3 remote-as 2\n",
        "  neighbor 10.0.0.3 update-source 10.0.0.1                                                     \n",
        "  neighbor 10.0.0.3 send-community      \n",
        "  neighbor 10.0.0.3 next-hop-self\n",
        "  ! 6\n",
        "  neighbor 10.0.0.4 remote-as 2\n",
        "  neighbor 10.0.0.4 update-source 10.0.0.1                                                     \n",
        "  neighbor 10.0.0.4 send-community      \n",
        "  neighbor 10.0.0.4 next-hop-self\n",
        "  ! 9\n",
        "  neighbor 10.0.0.5 remote-as 2\n",
        "  neighbor 10.0.0.5 update-source 10.0.0.1                                                     \n",
        "  neighbor 10.0.0.5 send-community      \n",
        "  neighbor 10.0.0.5 next-hop-self\n",
        "  ! 8\n",
        "  neighbor 10.0.0.6 remote-as 2\n",
        "  neighbor 10.0.0.6 update-source 10.0.0.1                                                     \n",
        "  neighbor 10.0.0.6 send-community      \n",
        "  neighbor 10.0.0.6 next-hop-self\n",
        "! ebgp\n",
        "  ! 3 \n",
        "  neighbor 10.1.0.26 remote-as 1\n",
        "  neighbor 10.1.0.26 update-source 10.1.0.25                                                     \n",
        "  neighbor 10.1.0.26 send-community\n",
        "  ! 4 \n",
        "  neighbor 10.1.128.2 remote-as 1\n",
        "  neighbor 10.1.128.2 update-source 10.1.128.1                                                     \n",
        "  neighbor 10.1.128.2 send-community\n",
        "\n",
        "debug bgp\n",
        "debug bgp events\n",
        "debug bgp filters\n",
        "debug bgp fsm\n",
        "debug bgp keepalives\n",
        "debug bgp updates \n",
        "log file /var/log/zebra/bgpd.log\n",
        "\n"
       ]
      }
     ],
     "prompt_number": 13
    },
    {
     "cell_type": "heading",
     "level": 3,
     "metadata": {},
     "source": [
      "Deploying Netkit Lab"
     ]
    },
    {
     "cell_type": "code",
     "collapsed": false,
     "input": [
      "import autonetkit.deploy.netkit as nk_deploy\n",
      "username = \"sk2\"\n",
      "host = \"192.168.255.129\"\n",
      "dst_folder = nidb.topology['localhost'].render_dst_folder\n",
      "nk_deploy.deploy(host, username, dst_folder)"
     ],
     "language": "python",
     "metadata": {},
     "outputs": [
      {
       "output_type": "stream",
       "stream": "stderr",
       "text": [
        "\u001b[1;37mINFO\u001b[0m Packaging rendered/localhost/netkit\n"
       ]
      },
      {
       "output_type": "stream",
       "stream": "stderr",
       "text": [
        "\u001b[1;37mINFO\u001b[0m:ANK:Packaging rendered/localhost/netkit\n"
       ]
      },
      {
       "output_type": "stream",
       "stream": "stderr",
       "text": [
        "\u001b[1;37mINFO\u001b[0m Transferring Netkit lab\n"
       ]
      },
      {
       "output_type": "stream",
       "stream": "stderr",
       "text": [
        "\u001b[1;37mINFO\u001b[0m:ANK:Transferring Netkit lab\n"
       ]
      },
      {
       "output_type": "stream",
       "stream": "stderr",
       "text": [
        "\u001b[1;37mINFO\u001b[0m Connecting to 192.168.255.129 with sk2\n"
       ]
      },
      {
       "output_type": "stream",
       "stream": "stderr",
       "text": [
        "\u001b[1;37mINFO\u001b[0m:ANK:Connecting to 192.168.255.129 with sk2\n"
       ]
      },
      {
       "output_type": "stream",
       "stream": "stderr",
       "text": [
        "\u001b[1;37mINFO\u001b[0m Extracting and starting Netkit lab\n"
       ]
      },
      {
       "output_type": "stream",
       "stream": "stderr",
       "text": [
        "\u001b[1;37mINFO\u001b[0m:ANK:Extracting and starting Netkit lab\n"
       ]
      },
      {
       "output_type": "stream",
       "stream": "stderr",
       "text": [
        "\u001b[1;37mINFO\u001b[0m The lab contains VMs 1, 2, 3, 4, 5, 6, 7, 8, 9, 10, 11\n"
       ]
      },
      {
       "output_type": "stream",
       "stream": "stderr",
       "text": [
        "\u001b[1;37mINFO\u001b[0m:ANK:The lab contains VMs 1, 2, 3, 4, 5, 6, 7, 8, 9, 10, 11\n"
       ]
      },
      {
       "output_type": "stream",
       "stream": "stderr",
       "text": [
        "\u001b[1;37mINFO\u001b[0m Starting lab\n"
       ]
      },
      {
       "output_type": "stream",
       "stream": "stderr",
       "text": [
        "\u001b[1;37mINFO\u001b[0m:ANK:Starting lab\n"
       ]
      },
      {
       "output_type": "stream",
       "stream": "stderr",
       "text": [
        "\u001b[1;37mINFO\u001b[0m Starting 1\n"
       ]
      },
      {
       "output_type": "stream",
       "stream": "stderr",
       "text": [
        "\u001b[1;37mINFO\u001b[0m:ANK:Starting 1\n"
       ]
      },
      {
       "output_type": "stream",
       "stream": "stderr",
       "text": [
        "\u001b[1;37mINFO\u001b[0m Starting 3\n"
       ]
      },
      {
       "output_type": "stream",
       "stream": "stderr",
       "text": [
        "\u001b[1;37mINFO\u001b[0m:ANK:Starting 3\n"
       ]
      },
      {
       "output_type": "stream",
       "stream": "stderr",
       "text": [
        "\u001b[1;37mINFO\u001b[0m Starting 5\n"
       ]
      },
      {
       "output_type": "stream",
       "stream": "stderr",
       "text": [
        "\u001b[1;37mINFO\u001b[0m:ANK:Starting 5\n"
       ]
      },
      {
       "output_type": "stream",
       "stream": "stderr",
       "text": [
        "\u001b[1;37mINFO\u001b[0m Starting 2\n"
       ]
      },
      {
       "output_type": "stream",
       "stream": "stderr",
       "text": [
        "\u001b[1;37mINFO\u001b[0m:ANK:Starting 2\n"
       ]
      },
      {
       "output_type": "stream",
       "stream": "stderr",
       "text": [
        "\u001b[1;37mINFO\u001b[0m Starting 6\n"
       ]
      },
      {
       "output_type": "stream",
       "stream": "stderr",
       "text": [
        "\u001b[1;37mINFO\u001b[0m:ANK:Starting 6\n"
       ]
      },
      {
       "output_type": "stream",
       "stream": "stderr",
       "text": [
        "\u001b[1;37mINFO\u001b[0m Starting 7\n"
       ]
      },
      {
       "output_type": "stream",
       "stream": "stderr",
       "text": [
        "\u001b[1;37mINFO\u001b[0m:ANK:Starting 7\n"
       ]
      },
      {
       "output_type": "stream",
       "stream": "stderr",
       "text": [
        "\u001b[1;37mINFO\u001b[0m Starting 9\n"
       ]
      },
      {
       "output_type": "stream",
       "stream": "stderr",
       "text": [
        "\u001b[1;37mINFO\u001b[0m:ANK:Starting 9\n"
       ]
      },
      {
       "output_type": "stream",
       "stream": "stderr",
       "text": [
        "\u001b[1;37mINFO\u001b[0m Starting 8\n"
       ]
      },
      {
       "output_type": "stream",
       "stream": "stderr",
       "text": [
        "\u001b[1;37mINFO\u001b[0m:ANK:Starting 8\n"
       ]
      },
      {
       "output_type": "stream",
       "stream": "stderr",
       "text": [
        "\u001b[1;37mINFO\u001b[0m Starting 10\n"
       ]
      },
      {
       "output_type": "stream",
       "stream": "stderr",
       "text": [
        "\u001b[1;37mINFO\u001b[0m:ANK:Starting 10\n"
       ]
      },
      {
       "output_type": "stream",
       "stream": "stderr",
       "text": [
        "\u001b[1;37mINFO\u001b[0m Starting 11\n"
       ]
      },
      {
       "output_type": "stream",
       "stream": "stderr",
       "text": [
        "\u001b[1;37mINFO\u001b[0m:ANK:Starting 11\n"
       ]
      },
      {
       "output_type": "stream",
       "stream": "stderr",
       "text": [
        "\u001b[1;37mINFO\u001b[0m Lab started on 192.168.255.129\n"
       ]
      },
      {
       "output_type": "stream",
       "stream": "stderr",
       "text": [
        "\u001b[1;37mINFO\u001b[0m:ANK:Lab started on 192.168.255.129\n"
       ]
      }
     ],
     "prompt_number": 14
    },
    {
     "cell_type": "heading",
     "level": 3,
     "metadata": {},
     "source": [
      "Analysis"
     ]
    },
    {
     "cell_type": "code",
     "collapsed": false,
     "input": [
      "from autonetkit.ank_utils import unwrap_graph, unwrap_nodes\n",
      "import autonetkit.ank_messaging as msg\n",
      "import networkx as nx\n",
      "\n",
      "graph = unwrap_graph(anm['ospf'])\n",
      "\n",
      "path = nx.shortest_path(graph, \"1\", \"8\", weight = 'cost')\n",
      "print path\n",
      "msg.highlight([], [], [path])"
     ],
     "language": "python",
     "metadata": {},
     "outputs": [
      {
       "output_type": "stream",
       "stream": "stdout",
       "text": [
        "['1', '5', '6', '7', '9', '8']\n"
       ]
      }
     ],
     "prompt_number": 24
    },
    {
     "cell_type": "code",
     "collapsed": false,
     "input": [
      "path = nx.shortest_path(graph, \"1\", \"11\", weight = 'cost')\n",
      "print path\n",
      "msg.highlight([], [], [path])"
     ],
     "language": "python",
     "metadata": {},
     "outputs": [
      {
       "output_type": "stream",
       "stream": "stdout",
       "text": [
        "['1', '5', '6', '7', '10', '11']\n"
       ]
      }
     ],
     "prompt_number": 25
    },
    {
     "cell_type": "code",
     "collapsed": false,
     "input": [
      "edge = anm['ospf'].edge('1', '7')\n",
      "edge.cost = 10\n",
      "edge.apply_to_interfaces(\"cost\")\n",
      "autonetkit.update_http(anm)"
     ],
     "language": "python",
     "metadata": {},
     "outputs": [],
     "prompt_number": 26
    },
    {
     "cell_type": "code",
     "collapsed": false,
     "input": [
      "path = nx.shortest_path(graph, \"1\", \"11\", weight = 'cost')\n",
      "print path\n",
      "msg.highlight([], [], [path])"
     ],
     "language": "python",
     "metadata": {},
     "outputs": [
      {
       "output_type": "stream",
       "stream": "stdout",
       "text": [
        "['1', '5', '6', '7', '10', '11']\n"
       ]
      }
     ],
     "prompt_number": 27
    },
    {
     "cell_type": "markdown",
     "metadata": {},
     "source": [
      "Let's use the API to modify the cost of the link from 1->7"
     ]
    },
    {
     "cell_type": "code",
     "collapsed": false,
     "input": [
      "edge = anm['ospf'].edge('6', '11')\n",
      "edge.cost = 10\n",
      "edge.apply_to_interfaces(\"cost\")\n",
      "autonetkit.update_http(anm)"
     ],
     "language": "python",
     "metadata": {},
     "outputs": [],
     "prompt_number": 32
    },
    {
     "cell_type": "code",
     "collapsed": false,
     "input": [
      "path = nx.shortest_path(graph, \"1\", \"11\", weight = 'cost')\n",
      "print path\n",
      "msg.highlight([], [], [path])"
     ],
     "language": "python",
     "metadata": {},
     "outputs": [
      {
       "output_type": "stream",
       "stream": "stdout",
       "text": [
        "['1', '5', '6', '7', '10', '11']\n"
       ]
      }
     ],
     "prompt_number": 34
    },
    {
     "cell_type": "markdown",
     "metadata": {},
     "source": [
      "We can see that the path has now changed to avoid the expensive 1->7 link"
     ]
    },
    {
     "cell_type": "heading",
     "level": 3,
     "metadata": {},
     "source": [
      "Measuring Results"
     ]
    },
    {
     "cell_type": "markdown",
     "metadata": {},
     "source": [
      "We can also collect data from the running network"
     ]
    },
    {
     "cell_type": "code",
     "collapsed": false,
     "input": [
      "import autonetkit.measure as measure\n",
      "remote_hosts = [nidb.node(\"1\").tap.ip]\n",
      "command = 'vtysh -c \"show ip ro\"'\n",
      "measure.send(nidb, command, remote_hosts)"
     ],
     "language": "python",
     "metadata": {},
     "outputs": [
      {
       "output_type": "stream",
       "stream": "stdout",
       "text": [
        "No parser defined for command vtysh -c \"show ip ro\"\n",
        "Raw output:\n",
        "'vtysh -c \"show ip ro\"\n",
        "Codes: K - kernel route, C - connected, S - static, R - RIP, O - OSPF,\n",
        "       I - ISIS, B - BGP, > - selected route, * - FIB route\n",
        "\n",
        "B>* 10.0.0.0/16 [20/0] via 10.1.0.26, eth0, 00:06:51\n",
        "O   10.0.0.1/32 [110/10] is directly connected, lo, 00:06:54\n",
        "C>* 10.0.0.1/32 is directly connected, lo\n",
        "O>* 10.0.0.2/32 [110/11] via 10.1.128.5, eth2, 00:06:06\n",
        "O>* 10.0.0.3/32 [110/11] via 10.1.0.30, eth3, 00:05:58\n",
        "O>* 10.0.0.4/32 [110/12] via 10.1.0.30, eth3, 00:05:54\n",
        "  *                      via 10.1.128.5, eth2, 00:05:54\n",
        "O>* 10.0.0.5/32 [110/12] via 10.1.0.30, eth3, 00:05:54\n",
        "O>* 10.0.0.6/32 [110/13] via 10.1.0.30, eth3, 00:05:54\n",
        "O>* 10.0.0.7/32 [110/12] via 10.1.0.30, eth3, 00:05:54\n",
        "O>* 10.0.0.8/32 [110/13] via 10.1.0.30, eth3, 00:05:49\n",
        "  *                      via 10.1.128.5, eth2, 00:05:49\n",
        "O>* 10.1.0.0/30 [110/13] via 10.1.0.30, eth3, 00:05:54\n",
        "O>* 10.1.0.4/30 [110/2] via 10.1.128.5, eth2, 00:06:06\n",
        "O>* 10.1.0.8/30 [110/3] via 10.1.0.30, eth3, 00:05:54\n",
        "O>* 10.1.0.12/30 [110/3] via 10.1.0.30, eth3, 00:05:54\n",
        "  *                      via 10.1.128.5, eth2, 00:05:54\n",
        "O>* 10.1.0.16/30 [110/2] via 10.1.0.30, eth3, 00:05:58\n",
        "O>* 10.1.0.20/30 [110/3] via 10.1.0.30, eth3, 00:05:54\n",
        "O   10.1.0.24/30 [110/10] is directly connected, eth0, 00:06:54\n",
        "C>* 10.1.0.24/30 is directly connected, eth0\n",
        "O   10.1.0.28/30 [110/1] is directly connected, eth3, 00:06:54\n",
        "C>* 10.1.0.28/30 is directly connected, eth3\n",
        "O   10.1.128.0/30 [110/10] is directly connected, eth1, 00:06:54\n",
        "C>* 10.1.128.0/30 is directly connected, eth1\n",
        "O   10.1.128.4/30 [110/1] is directly connected, eth2, 00:06:54\n",
        "C>* 10.1.128.4/30 is directly connected, eth2\n",
        "O   10.1.128.8/30 [110/10] is directly connected, eth4, 00:06:54\n",
        "C>* 10.1.128.8/30 is directly connected, eth4\n",
        "O>* 10.1.128.12/30 [110/2] via 10.1.0.30, eth3, 00:05:58\n",
        "O>* 10.1.128.16/30 [110/2] via 10.1.0.30, eth3, 00:05:58\n",
        "C>* 127.0.0.0/8 is directly connected, lo\n",
        "C>* 172.16.0.0/16 is directly connected, eth5\n",
        "r1:~# '\n"
       ]
      },
      {
       "output_type": "pyout",
       "prompt_number": 35,
       "text": [
        "[]"
       ]
      }
     ],
     "prompt_number": 35
    },
    {
     "cell_type": "code",
     "collapsed": false,
     "input": [
      "import autonetkit.measure as measure\n",
      "remote_hosts = [nidb.node(\"2\").tap.ip]\n",
      "command = 'vtysh -c \"show ip ro\"'\n",
      "measure.send(nidb, command, remote_hosts)"
     ],
     "language": "python",
     "metadata": {},
     "outputs": [
      {
       "output_type": "stream",
       "stream": "stdout",
       "text": [
        "No parser defined for command vtysh -c \"show ip ro\"\n",
        "Raw output:\n",
        "'vtysh -c \"show ip ro\"\n",
        "Codes: K - kernel route, C - connected, S - static, R - RIP, O - OSPF,\n",
        "       I - ISIS, B - BGP, > - selected route, * - FIB route\n",
        "\n",
        "O   10.0.0.0/30 [110/1] is directly connected, eth1, 00:06:57\n",
        "C>* 10.0.0.0/30 is directly connected, eth1\n",
        "O>* 10.0.0.4/30 [110/2] via 10.0.0.2, eth1, 00:06:12\n",
        "O>* 10.0.0.17/32 [110/11] via 10.0.0.2, eth1, 00:06:12\n",
        "O   10.0.0.18/32 [110/10] is directly connected, lo, 00:06:57\n",
        "C>* 10.0.0.18/32 is directly connected, lo\n",
        "O>* 10.0.0.19/32 [110/12] via 10.0.0.2, eth1, 00:06:08\n",
        "B>* 10.1.0.0/16 [20/0] via 10.1.0.1, eth0, 00:06:41\n",
        "O   10.1.0.0/30 [110/10] is directly connected, eth0, 00:06:57\n",
        "C>* 10.1.0.0/30 is directly connected, eth0\n",
        "O>* 10.1.0.24/30 [110/11] via 10.0.0.2, eth1, 00:06:12\n",
        "O>* 10.1.128.0/30 [110/12] via 10.0.0.2, eth1, 00:06:08\n",
        "C>* 127.0.0.0/8 is directly connected, lo\n",
        "C>* 172.16.0.0/16 is directly connected, eth2\n",
        "r2:~# '\n"
       ]
      },
      {
       "output_type": "pyout",
       "prompt_number": 36,
       "text": [
        "[]"
       ]
      }
     ],
     "prompt_number": 36
    },
    {
     "cell_type": "markdown",
     "metadata": {},
     "source": [
      "We can also process the returned data.\n",
      "For traceroutes we bind a process data function to map the returned IPs to the routers they represent.\n",
      "We then have a list of the routers along the path.\n",
      "\n",
      "But we can go one better: we can send this to the visualisation engine, just as we did for the offline analysis."
     ]
    },
    {
     "cell_type": "code",
     "collapsed": false,
     "input": [
      "remote_hosts = [nidb.node(\"1\").tap.ip]\n",
      "\n",
      "dest_ip = nidb.node(\"7\").interfaces[0].ipv4_address\n",
      "command = \"traceroute -n -a -U -w 0.5 %s\" % dest_ip\n",
      "measure.send(nidb, command, remote_hosts)"
     ],
     "language": "python",
     "metadata": {},
     "outputs": [
      {
       "output_type": "stream",
       "stream": "stderr",
       "text": [
        "\u001b[1;37mINFO\u001b[0m Trace from 1 to 7\n"
       ]
      },
      {
       "output_type": "stream",
       "stream": "stderr",
       "text": [
        "\u001b[1;37mINFO\u001b[0m:ANK:Trace from 1 to 7\n"
       ]
      },
      {
       "output_type": "stream",
       "stream": "stderr",
       "text": [
        "\u001b[1;37mINFO\u001b[0m 'traceroute -n -a -U -w 0.5 10.0.0.3\n",
        "traceroute to 10.0.0.3 (10.0.0.3), 64 hops max, 40 byte packets\n",
        " 1  10.0.0.3  2 ms\n",
        "r1:~# '\n"
       ]
      },
      {
       "output_type": "stream",
       "stream": "stderr",
       "text": [
        "\u001b[1;37mINFO\u001b[0m:ANK:'traceroute -n -a -U -w 0.5 10.0.0.3\n",
        "traceroute to 10.0.0.3 (10.0.0.3), 64 hops max, 40 byte packets\n",
        " 1  10.0.0.3  2 ms\n",
        "r1:~# '\n"
       ]
      },
      {
       "output_type": "stream",
       "stream": "stderr",
       "text": [
        "\u001b[1;37mINFO\u001b[0m [1, 7]\n"
       ]
      },
      {
       "output_type": "stream",
       "stream": "stderr",
       "text": [
        "\u001b[1;37mINFO\u001b[0m:ANK:[1, 7]\n"
       ]
      },
      {
       "output_type": "pyout",
       "prompt_number": 37,
       "text": [
        "[[1, 7]]"
       ]
      }
     ],
     "prompt_number": 37
    },
    {
     "cell_type": "code",
     "collapsed": false,
     "input": [
      "dest_ip = nidb.node(\"9\").interfaces[0].ipv4_address\n",
      "command = \"traceroute -n -a -U -w 0.5 %s\" % dest_ip\n",
      "measure.send(nidb, command, remote_hosts)"
     ],
     "language": "python",
     "metadata": {},
     "outputs": [
      {
       "output_type": "stream",
       "stream": "stderr",
       "text": [
        "\u001b[1;37mINFO\u001b[0m Trace from 1 to 3\n"
       ]
      },
      {
       "output_type": "stream",
       "stream": "stderr",
       "text": [
        "\u001b[1;37mINFO\u001b[0m:ANK:Trace from 1 to 3\n"
       ]
      },
      {
       "output_type": "stream",
       "stream": "stderr",
       "text": [
        "\u001b[1;37mINFO\u001b[0m 'traceroute -n -a -U -w 0.5 10.0.0.5\n",
        "traceroute to 10.0.0.5 (10.0.0.5), 64 hops max, 40 byte packets\n",
        " 1  10.1.0.30  0 ms\n",
        " 2  10.0.0.5  1 ms\n",
        "r1:~# '\n"
       ]
      },
      {
       "output_type": "stream",
       "stream": "stderr",
       "text": [
        "\u001b[1;37mINFO\u001b[0m:ANK:'traceroute -n -a -U -w 0.5 10.0.0.5\n",
        "traceroute to 10.0.0.5 (10.0.0.5), 64 hops max, 40 byte packets\n",
        " 1  10.1.0.30  0 ms\n",
        " 2  10.0.0.5  1 ms\n",
        "r1:~# '\n"
       ]
      },
      {
       "output_type": "stream",
       "stream": "stderr",
       "text": [
        "\u001b[1;37mINFO\u001b[0m [1, 7, 3]\n"
       ]
      },
      {
       "output_type": "stream",
       "stream": "stderr",
       "text": [
        "\u001b[1;37mINFO\u001b[0m:ANK:[1, 7, 3]\n"
       ]
      },
      {
       "output_type": "pyout",
       "prompt_number": 38,
       "text": [
        "[[1, 7, 3]]"
       ]
      }
     ],
     "prompt_number": 38
    },
    {
     "cell_type": "code",
     "collapsed": false,
     "input": [
      "dest_ip = nidb.node(\"4\").interfaces[0].ipv4_address\n",
      "command = \"traceroute -n -a -U -w 0.5 %s\" % dest_ip\n",
      "measure.send(nidb, command, remote_hosts)"
     ],
     "language": "python",
     "metadata": {},
     "outputs": [
      {
       "output_type": "stream",
       "stream": "stderr",
       "text": [
        "\u001b[1;37mINFO\u001b[0m Trace from 1 to 4\n"
       ]
      },
      {
       "output_type": "stream",
       "stream": "stderr",
       "text": [
        "\u001b[1;37mINFO\u001b[0m:ANK:Trace from 1 to 4\n"
       ]
      },
      {
       "output_type": "stream",
       "stream": "stderr",
       "text": [
        "\u001b[1;37mINFO\u001b[0m 'traceroute -n -a -U -w 0.5 10.0.0.19\n",
        "traceroute to 10.0.0.19 (10.0.0.19), 64 hops max, 40 byte packets\n",
        " 1  10.1.0.26  1 ms\n",
        " 2  10.0.0.19  1 ms\n",
        "r1:~# '\n"
       ]
      },
      {
       "output_type": "stream",
       "stream": "stderr",
       "text": [
        "\u001b[1;37mINFO\u001b[0m:ANK:'traceroute -n -a -U -w 0.5 10.0.0.19\n",
        "traceroute to 10.0.0.19 (10.0.0.19), 64 hops max, 40 byte packets\n",
        " 1  10.1.0.26  1 ms\n",
        " 2  10.0.0.19  1 ms\n",
        "r1:~# '\n"
       ]
      },
      {
       "output_type": "stream",
       "stream": "stderr",
       "text": [
        "\u001b[1;37mINFO\u001b[0m [1, 3, 4]\n"
       ]
      },
      {
       "output_type": "stream",
       "stream": "stderr",
       "text": [
        "\u001b[1;37mINFO\u001b[0m:ANK:[1, 3, 4]\n"
       ]
      },
      {
       "output_type": "pyout",
       "prompt_number": 39,
       "text": [
        "[[1, 3, 4]]"
       ]
      }
     ],
     "prompt_number": 39
    },
    {
     "cell_type": "code",
     "collapsed": false,
     "input": [
      "dest_ip = nidb.node(\"11\").interfaces[2].ipv4_address\n",
      "command = \"traceroute -n -a -U -w 0.5 %s\" % dest_ip\n",
      "traceroute_result = measure.send(nidb, command, remote_hosts)"
     ],
     "language": "python",
     "metadata": {},
     "outputs": [
      {
       "output_type": "stream",
       "stream": "stderr",
       "text": [
        "\u001b[1;37mINFO\u001b[0m Trace from 1 to 11\n"
       ]
      },
      {
       "output_type": "stream",
       "stream": "stderr",
       "text": [
        "\u001b[1;37mINFO\u001b[0m:ANK:Trace from 1 to 11\n"
       ]
      },
      {
       "output_type": "stream",
       "stream": "stderr",
       "text": [
        "\u001b[1;37mINFO\u001b[0m 'traceroute -n -a -U -w 0.5 10.1.0.21\n",
        "traceroute to 10.1.0.21 (10.1.0.21), 64 hops max, 40 byte packets\n",
        " 1  10.1.0.30  2 ms\n",
        " 2  10.1.0.17  1 ms\n",
        " 3  10.1.0.21  2 ms\n",
        "r1:~# '\n"
       ]
      },
      {
       "output_type": "stream",
       "stream": "stderr",
       "text": [
        "\u001b[1;37mINFO\u001b[0m:ANK:'traceroute -n -a -U -w 0.5 10.1.0.21\n",
        "traceroute to 10.1.0.21 (10.1.0.21), 64 hops max, 40 byte packets\n",
        " 1  10.1.0.30  2 ms\n",
        " 2  10.1.0.17  1 ms\n",
        " 3  10.1.0.21  2 ms\n",
        "r1:~# '\n"
       ]
      },
      {
       "output_type": "stream",
       "stream": "stderr",
       "text": [
        "\u001b[1;37mINFO\u001b[0m [1, 7, 10, 11]\n"
       ]
      },
      {
       "output_type": "stream",
       "stream": "stderr",
       "text": [
        "\u001b[1;37mINFO\u001b[0m:ANK:[1, 7, 10, 11]\n"
       ]
      }
     ],
     "prompt_number": 40
    },
    {
     "cell_type": "markdown",
     "metadata": {},
     "source": [
      "Not what we expected! like 1-7 was costed up to 10 in the analysis.\n",
      "Recall we expected \n",
      "\n",
      "    ['1', '5', '6', '11']\n",
      "but we got\n",
      "\n",
      "    [1, 7, 10, 11]\n",
      "\n",
      "This is because we made the change after the network was deployed.\n",
      "Once option is to rebuild and restart the lab.\n",
      "A better way is to modify the existing network."
     ]
    },
    {
     "cell_type": "markdown",
     "metadata": {},
     "source": [
      "Let's confirm that:"
     ]
    },
    {
     "cell_type": "code",
     "collapsed": false,
     "input": [
      "path_trace = traceroute_result[0] # extract from nested list\n",
      "\n",
      "expected_path = nx.shortest_path(graph, \"1\", \"11\", weight = 'cost')\n",
      "\n",
      "combined = zip(path_trace, expected_path)\n",
      "print combined\n",
      "print all(a == b for a,b in combined)"
     ],
     "language": "python",
     "metadata": {},
     "outputs": [
      {
       "output_type": "stream",
       "stream": "stdout",
       "text": [
        "[(1, '1'), (7, '5'), (10, '6'), (11, '7')]\n",
        "False\n"
       ]
      }
     ],
     "prompt_number": 43
    },
    {
     "cell_type": "heading",
     "level": 3,
     "metadata": {},
     "source": [
      "Recompiling"
     ]
    },
    {
     "cell_type": "code",
     "collapsed": false,
     "input": [
      "nidb_b = console_script.create_nidb(anm)\n",
      "render_hostname = \"localhost\"\n",
      "\n",
      "nk_compiler = autonetkit.compiler.NetkitCompiler(nidb_b, anm, render_hostname)\n",
      "nk_compiler.compile()\n",
      "\n",
      "autonetkit.update_http(anm, nidb_b)"
     ],
     "language": "python",
     "metadata": {},
     "outputs": [
      {
       "output_type": "stream",
       "stream": "stderr",
       "text": [
        "\u001b[1;37mINFO\u001b[0m Compiling Netkit for localhost\n"
       ]
      },
      {
       "output_type": "stream",
       "stream": "stderr",
       "text": [
        "\u001b[1;37mINFO\u001b[0m:ANK:Compiling Netkit for localhost\n"
       ]
      }
     ],
     "prompt_number": 44
    },
    {
     "cell_type": "heading",
     "level": 3,
     "metadata": {},
     "source": [
      "Calculating Diffs"
     ]
    },
    {
     "cell_type": "code",
     "collapsed": false,
     "input": [
      "import autonetkit.diff\n",
      "diffs = autonetkit.diff.compare_nidb(nidb_a, nidb_b)\n",
      "diffs"
     ],
     "language": "python",
     "metadata": {},
     "outputs": [
      {
       "output_type": "pyout",
       "prompt_number": 45,
       "text": [
        "{'graph': {'timestamp': {1: '20130516_160936', 2: '20130516_161725'}},\n",
        " 'nodes': {'m': {'1': {'_interfaces': {4: {'ospf_cost': {1: 1, 2: 10}}}},\n",
        "   '11': {'_interfaces': {1: {'ospf_cost': {1: 1, 2: 10}}}},\n",
        "   '6': {'_interfaces': {1: {'ospf_cost': {1: 1, 2: 10}}}},\n",
        "   '7': {'_interfaces': {2: {'ospf_cost': {1: 1, 2: 10}}}}}}}"
       ]
      }
     ],
     "prompt_number": 45
    },
    {
     "cell_type": "markdown",
     "metadata": {},
     "source": [
      "As well as the timestamp, we can see the OSPF costs which have been changed."
     ]
    },
    {
     "cell_type": "heading",
     "level": 3,
     "metadata": {},
     "source": [
      "Pushing changes to emulated network"
     ]
    },
    {
     "cell_type": "markdown",
     "metadata": {},
     "source": [
      "Let's push these changes to the emulated network"
     ]
    },
    {
     "cell_type": "code",
     "collapsed": false,
     "input": [
      "import autonetkit.push_changes\n",
      "autonetkit.push_changes.apply_difference(nidb_a, diffs)"
     ],
     "language": "python",
     "metadata": {},
     "outputs": [
      {
       "output_type": "stream",
       "stream": "stdout",
       "text": [
        "'vtysh -c \"conf t\n",
        "> interface eth3\n",
        "> ip ospf cost 10 \"\n",
        "r1:~# '\n",
        "'vtysh -c \"show ip ospf interface eth3\"\n",
        "eth3 is up\n",
        "  ifindex 6, MTU 1500 bytes, BW 0 Kbit <UP,BROADCAST,RUNNING,MULTICAST>\n",
        "  Internet Address 10.1.0.29/30, Broadcast 10.1.0.31, Area 0.0.0.0\n",
        "  MTU mismatch detection:enabled\n",
        "  Router ID 10.0.0.1, Network Type BROADCAST, Cost: 10\n",
        "  Transmit Delay is 1 sec, State Backup, Priority 1\n",
        "  Designated Router (ID) 10.0.0.3, Interface Address 10.1.0.30\n",
        "  Backup Designated Router (ID) 10.0.0.1, Interface Address 10.1.0.29\n",
        "  Multicast group memberships: OSPFAllRouters OSPFDesignatedRouters\n",
        "  Timer intervals configured, Hello 10s, Dead 40s, Wait 40s, Retransmit 5\n",
        "    Hello due in 2.620s\n",
        "  Neighbor Count is 1, Adjacent neighbor count is 1\n",
        "r1:~# '"
       ]
      },
      {
       "output_type": "stream",
       "stream": "stdout",
       "text": [
        "\n",
        "'vtysh -c \"conf t\n",
        "> interface eth0\n",
        "> ip ospf cost 10 \"\n",
        "r11:~# '"
       ]
      },
      {
       "output_type": "stream",
       "stream": "stdout",
       "text": [
        "\n",
        "'vtysh -c \"show ip ospf interface eth0\"\n",
        "eth0 is up\n",
        "  ifindex 3, MTU 1500 bytes, BW 0 Kbit <UP,BROADCAST,RUNNING,MULTICAST>\n",
        "  Internet Address 10.1.0.13/30, Broadcast 10.1.0.15, Area 0.0.0.0\n",
        "  MTU mismatch detection:enabled\n",
        "  Router ID 10.0.0.8, Network Type BROADCAST, Cost: 10\n",
        "  Transmit Delay is 1 sec, State DR, Priority 1\n",
        "  Designated Router (ID) 10.0.0.8, Interface Address 10.1.0.13\n",
        "  Backup Designated Router (ID) 10.0.0.4, Interface Address 10.1.0.14\n",
        "  Multicast group memberships: OSPFAllRouters OSPFDesignatedRouters\n",
        "  Timer intervals configured, Hello 10s, Dead 40s, Wait 40s, Retransmit 5\n",
        "    Hello due in 8.346s\n",
        "  Neighbor Count is 1, Adjacent neighbor count is 1\n",
        "r11:~# '"
       ]
      },
      {
       "output_type": "stream",
       "stream": "stdout",
       "text": [
        "\n",
        "'vtysh -c \"conf t\n",
        "> interface eth1\n",
        "> ip ospf cost 10 \"\n",
        "r7:~# '"
       ]
      },
      {
       "output_type": "stream",
       "stream": "stdout",
       "text": [
        "\n",
        "'vtysh -c \"show ip ospf interface eth1\"\n",
        "eth1 is up\n",
        "  ifindex 4, MTU 1500 bytes, BW 0 Kbit <UP,BROADCAST,RUNNING,MULTICAST>\n",
        "  Internet Address 10.1.0.30/30, Broadcast 10.1.0.31, Area 0.0.0.0\n",
        "  MTU mismatch detection:enabled\n",
        "  Router ID 10.0.0.3, Network Type BROADCAST, Cost: 10\n",
        "  Transmit Delay is 1 sec, State DR, Priority 1\n",
        "  Designated Router (ID) 10.0.0.3, Interface Address 10.1.0.30\n",
        "  Backup Designated Router (ID) 10.0.0.1, Interface Address 10.1.0.29\n",
        "  Multicast group memberships: OSPFAllRouters OSPFDesignatedRouters\n",
        "  Timer intervals configured, Hello 10s, Dead 40s, Wait 40s, Retransmit 5\n",
        "    Hello due in 7.820s\n",
        "  Neighbor Count is 1, Adjacent neighbor count is 1\n",
        "r7:~# '"
       ]
      },
      {
       "output_type": "stream",
       "stream": "stdout",
       "text": [
        "\n",
        "'vtysh -c \"conf t\n",
        "> interface eth0\n",
        "> ip ospf cost 10 \"\n",
        "r6:~# '"
       ]
      },
      {
       "output_type": "stream",
       "stream": "stdout",
       "text": [
        "\n",
        "'vtysh -c \"show ip ospf interface eth0\"\n",
        "eth0 is up\n",
        "  ifindex 3, MTU 1500 bytes, BW 0 Kbit <UP,BROADCAST,RUNNING,MULTICAST>\n",
        "  Internet Address 10.1.0.14/30, Broadcast 10.1.0.15, Area 0.0.0.0\n",
        "  MTU mismatch detection:enabled\n",
        "  Router ID 10.0.0.4, Network Type BROADCAST, Cost: 10\n",
        "  Transmit Delay is 1 sec, State Backup, Priority 1\n",
        "  Designated Router (ID) 10.0.0.8, Interface Address 10.1.0.13\n",
        "  Backup Designated Router (ID) 10.0.0.4, Interface Address 10.1.0.14\n",
        "  Multicast group memberships: OSPFAllRouters OSPFDesignatedRouters\n",
        "  Timer intervals configured, Hello 10s, Dead 40s, Wait 40s, Retransmit 5\n",
        "    Hello due in 3.540s\n",
        "  Neighbor Count is 1, Adjacent neighbor count is 1\n",
        "r6:~# '"
       ]
      },
      {
       "output_type": "stream",
       "stream": "stdout",
       "text": [
        "\n"
       ]
      }
     ],
     "prompt_number": 46
    },
    {
     "cell_type": "heading",
     "level": 3,
     "metadata": {},
     "source": [
      "Now let's try traceroute again..."
     ]
    },
    {
     "cell_type": "code",
     "collapsed": false,
     "input": [
      "dest_ip = nidb.node(\"11\").interfaces[2].ipv4_address\n",
      "command = \"traceroute -n -a -U -w 0.5 %s\" % dest_ip\n",
      "traceroute_result = measure.send(nidb, command, remote_hosts)\n",
      "print traceroute_result"
     ],
     "language": "python",
     "metadata": {},
     "outputs": [
      {
       "output_type": "stream",
       "stream": "stderr",
       "text": [
        "\u001b[1;37mINFO\u001b[0m Trace from 1 to 11\n"
       ]
      },
      {
       "output_type": "stream",
       "stream": "stderr",
       "text": [
        "\u001b[1;37mINFO\u001b[0m:ANK:Trace from 1 to 11\n"
       ]
      },
      {
       "output_type": "stream",
       "stream": "stderr",
       "text": [
        "\u001b[1;37mINFO\u001b[0m 'traceroute -n -a -U -w 0.5 10.1.0.21\n",
        "traceroute to 10.1.0.21 (10.1.0.21), 64 hops max, 40 byte packets\n",
        " 1  10.1.128.5  1 ms\n",
        " 2  10.1.0.6  1 ms\n",
        " 3  10.1.128.18  1 ms\n",
        " 4  10.1.0.17  1 ms\n",
        " 5  10.1.0.21  1 ms\n",
        "r1:~# '\n"
       ]
      },
      {
       "output_type": "stream",
       "stream": "stderr",
       "text": [
        "\u001b[1;37mINFO\u001b[0m:ANK:'traceroute -n -a -U -w 0.5 10.1.0.21\n",
        "traceroute to 10.1.0.21 (10.1.0.21), 64 hops max, 40 byte packets\n",
        " 1  10.1.128.5  1 ms\n",
        " 2  10.1.0.6  1 ms\n",
        " 3  10.1.128.18  1 ms\n",
        " 4  10.1.0.17  1 ms\n",
        " 5  10.1.0.21  1 ms\n",
        "r1:~# '\n"
       ]
      },
      {
       "output_type": "stream",
       "stream": "stderr",
       "text": [
        "\u001b[1;37mINFO\u001b[0m [1, 5, 6, 7, 10, 11]\n"
       ]
      },
      {
       "output_type": "stream",
       "stream": "stderr",
       "text": [
        "\u001b[1;37mINFO\u001b[0m:ANK:[1, 5, 6, 7, 10, 11]\n"
       ]
      },
      {
       "output_type": "stream",
       "stream": "stdout",
       "text": [
        "[[1, 5, 6, 7, 10, 11]]\n"
       ]
      }
     ],
     "prompt_number": 47
    },
    {
     "cell_type": "code",
     "collapsed": false,
     "input": [
      "expected_path = nx.shortest_path(graph, \"1\", \"11\", weight = 'cost')\n",
      "print expected_path"
     ],
     "language": "python",
     "metadata": {},
     "outputs": [
      {
       "output_type": "stream",
       "stream": "stdout",
       "text": [
        "['1', '5', '6', '7', '10', '11']\n"
       ]
      }
     ],
     "prompt_number": 48
    },
    {
     "cell_type": "markdown",
     "metadata": {},
     "source": [
      "This is what we expected! :)\n",
      "We can confirm this programatically:"
     ]
    },
    {
     "cell_type": "code",
     "collapsed": false,
     "input": [
      "path_trace = traceroute_result[0] # extract from nested list\n",
      "\n",
      "combined = zip(path_trace, expected_path)\n",
      "print all(a == b for a,b in combined)\n"
     ],
     "language": "python",
     "metadata": {},
     "outputs": [
      {
       "output_type": "stream",
       "stream": "stdout",
       "text": [
        "True\n"
       ]
      }
     ],
     "prompt_number": 49
    }
   ],
   "metadata": {}
  }
 ]
}