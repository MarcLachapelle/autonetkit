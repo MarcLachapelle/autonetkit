{
 "metadata": {
  "name": "demo"
 },
 "nbformat": 3,
 "nbformat_minor": 0,
 "worksheets": [
  {
   "cells": [
    {
     "cell_type": "heading",
     "level": 3,
     "metadata": {},
     "source": [
      "Creating ANM from topology graph"
     ]
    },
    {
     "cell_type": "code",
     "collapsed": false,
     "input": [
      "import autonetkit\n",
      "import autonetkit.load.graphml as graphml\n",
      "\n",
      "anm =  autonetkit.ANM()\n",
      "input_graph = graphml.load_graphml(\"demo.graphml\")\n",
      "\n",
      "import autonetkit.build_network as build_network\n",
      "anm = build_network.initialise(input_graph)\n",
      "autonetkit.update_http(anm)"
     ],
     "language": "python",
     "metadata": {},
     "outputs": []
    },
    {
     "cell_type": "code",
     "collapsed": false,
     "input": [
      "g_test = anm.add_overlay(\"test\")\n",
      "g_in = anm['input']\n",
      "autonetkit.update_http(anm)"
     ],
     "language": "python",
     "metadata": {},
     "outputs": []
    },
    {
     "cell_type": "code",
     "collapsed": false,
     "input": [
      "g_test.add_nodes_from(g_in, retain = \"asn\")\n",
      "autonetkit.update_http(anm)"
     ],
     "language": "python",
     "metadata": {},
     "outputs": []
    },
    {
     "cell_type": "code",
     "collapsed": false,
     "input": [
      "ebgp_edges = (e for e in g_in.edges() if e.src.asn != e.dst.asn)\n",
      "g_test.add_edges_from(ebgp_edges, type = \"ebgp\")\n",
      "\n",
      "autonetkit.update_http(anm)"
     ],
     "language": "python",
     "metadata": {},
     "outputs": []
    },
    {
     "cell_type": "heading",
     "level": 3,
     "metadata": {},
     "source": [
      "Applying network design rules"
     ]
    },
    {
     "cell_type": "code",
     "collapsed": false,
     "input": [
      "anm = build_network.apply_design_rules(anm)\n",
      "autonetkit.update_http(anm)"
     ],
     "language": "python",
     "metadata": {},
     "outputs": []
    },
    {
     "cell_type": "heading",
     "level": 3,
     "metadata": {},
     "source": [
      "Modifying Network using API"
     ]
    },
    {
     "cell_type": "code",
     "collapsed": false,
     "input": [
      "import autonetkit.ank_messaging as msg\n",
      "msg.highlight([], [e1_8], [])"
     ],
     "language": "python",
     "metadata": {},
     "outputs": []
    },
    {
     "cell_type": "code",
     "collapsed": false,
     "input": [
      "e1_8 = anm['ospf'].edge('1', '8')\n",
      "print \"before:\", e1_8.cost\n",
      "\n",
      "e1_8.cost = 10\n",
      "e1_8.apply_to_interfaces(\"cost\")\n",
      "print \"after:\", e1_8.cost\n",
      "\n",
      "autonetkit.update_http(anm)"
     ],
     "language": "python",
     "metadata": {},
     "outputs": []
    },
    {
     "cell_type": "heading",
     "level": 3,
     "metadata": {},
     "source": [
      "Compiling ANM to NIDB"
     ]
    },
    {
     "cell_type": "code",
     "collapsed": false,
     "input": [
      "import autonetkit.console_script as console_script\n",
      "render_hostname = \"localhost\"\n",
      "\n",
      "nidb = console_script.create_nidb(anm)\n",
      "nk_compiler = autonetkit.compiler.NetkitCompiler(nidb, anm, render_hostname)\n",
      "nk_compiler.compile()\n",
      "autonetkit.update_http(anm, nidb)"
     ],
     "language": "python",
     "metadata": {},
     "outputs": []
    },
    {
     "cell_type": "heading",
     "level": 3,
     "metadata": {},
     "source": [
      "Viewing NIDB Attributes"
     ]
    },
    {
     "cell_type": "code",
     "collapsed": false,
     "input": [
      "router = nidb.node(\"1\")\n",
      "router.dump()"
     ],
     "language": "python",
     "metadata": {},
     "outputs": [
      {
       "output_type": "stream",
       "stream": "stdout",
       "text": [
        "{'Network': None,\n",
        " '_interfaces': {0: {'description': 'Loopback',\n",
        "                     'id': 'lo0:1',\n",
        "                     'id_brief': 'lo0:1',\n",
        "                     'ipv4_address': IPAddress('10.0.0.11'),\n",
        "                     'ipv4_subnet': IPNetwork('10.0.0.11/32'),\n",
        "                     'type': 'loopback'},\n",
        "                 1: {'description': '1 to 3',\n",
        "                     'id': 'eth0',\n",
        "                     'id_brief': 'eth0',\n",
        "                     'ipv4_address': IPAddress('10.1.0.17'),\n",
        "                     'ipv4_cidr': IPNetwork('10.1.0.17/30'),\n",
        "                     'ipv4_subnet': IPNetwork('10.1.0.16/30'),\n",
        "                     'numeric_id': 0,\n",
        "                     'physical': True,\n",
        "                     'type': 'physical'},\n",
        "                 2: {'description': '1 to 4',\n",
        "                     'id': 'eth1',\n",
        "                     'id_brief': 'eth1',\n",
        "                     'ipv4_address': IPAddress('10.1.128.1'),\n",
        "                     'ipv4_cidr': IPNetwork('10.1.128.1/30'),\n",
        "                     'ipv4_subnet': IPNetwork('10.1.128.0/30'),\n",
        "                     'numeric_id': 1,\n",
        "                     'physical': True,\n",
        "                     'type': 'physical'},\n",
        "                 3: {'description': '1 to 5',\n",
        "                     'id': 'eth2',\n",
        "                     'id_brief': 'eth2',\n",
        "                     'ipv4_address': IPAddress('10.1.128.5'),\n",
        "                     'ipv4_cidr': IPNetwork('10.1.128.5/30'),\n",
        "                     'ipv4_subnet': IPNetwork('10.1.128.4/30'),\n",
        "                     'numeric_id': 2,\n",
        "                     'ospf_cost': 1,\n",
        "                     'physical': True,\n",
        "                     'type': 'physical'},\n",
        "                 4: {'description': '1 to 8',\n",
        "                     'id': 'eth3',\n",
        "                     'id_brief': 'eth3',\n",
        "                     'ipv4_address': IPAddress('10.1.0.1'),\n",
        "                     'ipv4_cidr': IPNetwork('10.1.0.1/30'),\n",
        "                     'ipv4_subnet': IPNetwork('10.1.0.0/30'),\n",
        "                     'numeric_id': 3,\n",
        "                     'ospf_cost': 10,\n",
        "                     'physical': True,\n",
        "                     'type': 'physical'}},\n",
        " 'asn': 2,\n",
        " 'bgp': {'debug': True,\n",
        "         'ebgp_neighbors': [{'asn': 1,\n",
        "                             'dst_int_ip': IPAddress('10.1.0.18'),\n",
        "                             'local_int_ip': IPAddress('10.1.0.17'),\n",
        "                             'loopback': IPAddress('10.0.0.1'),\n",
        "                             'neighbor': '3',\n",
        "                             'update_source': None,\n",
        "                             'use_ipv4': True,\n",
        "                             'use_ipv6': False},\n",
        "                            {'asn': 1,\n",
        "                             'dst_int_ip': IPAddress('10.1.128.2'),\n",
        "                             'local_int_ip': IPAddress('10.1.128.1'),\n",
        "                             'loopback': IPAddress('10.0.0.3'),\n",
        "                             'neighbor': '4',\n",
        "                             'update_source': None,\n",
        "                             'use_ipv4': True,\n",
        "                             'use_ipv6': False}],\n",
        "         'ibgp_neighbors': [{'asn': 2,\n",
        "                             'loopback': IPAddress('10.0.0.9'),\n",
        "                             'neighbor': '9',\n",
        "                             'update_source': None,\n",
        "                             'use_ipv4': True,\n",
        "                             'use_ipv6': False},\n",
        "                            {'asn': 2,\n",
        "                             'loopback': IPAddress('10.0.0.14'),\n",
        "                             'neighbor': '8',\n",
        "                             'update_source': None,\n",
        "                             'use_ipv4': True,\n",
        "                             'use_ipv6': False},\n",
        "                            {'asn': 2,\n",
        "                             'loopback': IPAddress('10.0.0.12'),\n",
        "                             'neighbor': '5',\n",
        "                             'update_source': None,\n",
        "                             'use_ipv4': True,\n",
        "                             'use_ipv6': False},\n",
        "                            {'asn': 2,\n",
        "                             'loopback': IPAddress('10.0.0.10'),\n",
        "                             'neighbor': '7',\n",
        "                             'update_source': None,\n",
        "                             'use_ipv4': True,\n",
        "                             'use_ipv6': False},\n",
        "                            {'asn': 2,\n",
        "                             'loopback': IPAddress('10.0.0.13'),\n",
        "                             'neighbor': '6',\n",
        "                             'update_source': None,\n",
        "                             'use_ipv4': True,\n",
        "                             'use_ipv6': False}],\n",
        "         'ibgp_rr_clients': [],\n",
        "         'ibgp_rr_parents': [],\n",
        "         'ipv4_advertise_subnets': [IPNetwork('10.1.0.0/16')],\n",
        "         'ipv6_advertise_subnets': []},\n",
        " 'device_subtype': None,\n",
        " 'device_type': 'router',\n",
        " 'graphics': {'device_subtype': None,\n",
        "              'device_type': 'router',\n",
        "              'x': 542.6405010223389,\n",
        "              'y': 415.17582416534424},\n",
        " 'host': 'localhost',\n",
        " 'hostname': 'r1',\n",
        " 'input_label': '1',\n",
        " 'interfaces': [],\n",
        " 'ip': {'use_ipv4': True, 'use_ipv6': False},\n",
        " 'label': '1',\n",
        " 'loopback': IPAddress('10.0.0.11'),\n",
        " 'loopback_subnet': IPNetwork('10.0.0.11/32'),\n",
        " 'ospf': {'lo_interface': 'lo0:1',\n",
        "          'loopback_area': 0,\n",
        "          'ospf_links': [{'area': 0, 'network': IPNetwork('10.1.128.4/30')},\n",
        "                         {'area': 0, 'network': IPNetwork('10.1.0.0/30')},\n",
        "                         {'area': 0, 'network': IPNetwork('10.1.0.16/30')},\n",
        "                         {'area': 0, 'network': IPNetwork('10.1.128.0/30')}],\n",
        "          'passive_interfaces': [{'id': 'eth0'}, {'id': 'eth1'}],\n",
        "          'process_id': 1},\n",
        " 'platform': 'netkit',\n",
        " 'render': {'base': 'templates/quagga',\n",
        "            'base_dst_folder': 'rendered/localhost/netkit/1',\n",
        "            'dst_file': '1.startup',\n",
        "            'dst_folder': 'rendered/localhost/netkit',\n",
        "            'template': 'templates/netkit_startup.mako'},\n",
        " 'ssh': {'use_key': True},\n",
        " 'tap': {'id': 'eth4', 'ip': IPAddress('172.16.0.6')},\n",
        " 'update': None,\n",
        " 'x': 154.0,\n",
        " 'y': 210.0,\n",
        " 'zebra': {'password': '1234', 'static_routes': []}}\n"
       ]
      }
     ],
     "prompt_number": 98
    },
    {
     "cell_type": "heading",
     "level": 3,
     "metadata": {},
     "source": [
      "Rendering NIDB to Configuration Files"
     ]
    },
    {
     "cell_type": "code",
     "collapsed": false,
     "input": [
      "import autonetkit.render\n",
      "autonetkit.render.render(nidb)"
     ],
     "language": "python",
     "metadata": {},
     "outputs": []
    },
    {
     "cell_type": "heading",
     "level": 3,
     "metadata": {},
     "source": [
      "Viewing Output Configurations"
     ]
    },
    {
     "cell_type": "code",
     "collapsed": false,
     "input": [
      "import os\n",
      "dst_folder = nidb.topology['localhost'].render_dst_folder\n",
      "for path, dirs, files in os.walk(dst_folder):\n",
      "  print path\n",
      "  for f in files:\n",
      "    print \"\\t\", f"
     ],
     "language": "python",
     "metadata": {},
     "outputs": [
      {
       "output_type": "stream",
       "stream": "stdout",
       "text": [
        "rendered/localhost/netkit\n",
        "\t.DS_Store\n",
        "\t1.startup\n",
        "\t10.startup\n",
        "\t11.startup\n",
        "\t12.startup\n",
        "\t13.startup\n",
        "\t14.startup\n",
        "\t2.startup\n",
        "\t3.startup\n",
        "\t4.startup\n",
        "\t5.startup\n",
        "\t6.startup\n",
        "\t7.startup\n",
        "\t8.startup\n",
        "\t9.startup\n",
        "\tlab.conf\n",
        "rendered/localhost/netkit/1\n",
        "rendered/localhost/netkit/1/etc\n",
        "\thostname\n",
        "\tshadow\n",
        "rendered/localhost/netkit/1/etc/ssh\n",
        "\tsshd_config\n",
        "rendered/localhost/netkit/1/etc/zebra\n",
        "\tbgpd.conf\n",
        "\tdaemons\n",
        "\tisisd.conf\n",
        "\tmotd.txt\n",
        "\tospfd.conf\n",
        "\tzebra.conf\n",
        "rendered/localhost/netkit/1/root\n",
        "rendered/localhost/netkit/1/root/.ssh\n",
        "\tauthorized_keys\n",
        "rendered/localhost/netkit/10\n",
        "rendered/localhost/netkit/10/etc\n",
        "\thostname\n",
        "\tshadow\n",
        "rendered/localhost/netkit/10/etc/ssh\n",
        "\tsshd_config\n",
        "rendered/localhost/netkit/10/etc/zebra\n",
        "\tbgpd.conf\n",
        "\tdaemons\n",
        "\tisisd.conf\n",
        "\tmotd.txt\n",
        "\tospfd.conf\n",
        "\tzebra.conf\n",
        "rendered/localhost/netkit/10/root\n",
        "rendered/localhost/netkit/10/root/.ssh\n",
        "\tauthorized_keys\n",
        "rendered/localhost/netkit/11\n",
        "rendered/localhost/netkit/11/etc\n",
        "\thostname\n",
        "\tshadow\n",
        "rendered/localhost/netkit/11/etc/ssh\n",
        "\tsshd_config\n",
        "rendered/localhost/netkit/11/etc/zebra\n",
        "\tbgpd.conf\n",
        "\tdaemons\n",
        "\tisisd.conf\n",
        "\tmotd.txt\n",
        "\tospfd.conf\n",
        "\tzebra.conf\n",
        "rendered/localhost/netkit/11/root\n",
        "rendered/localhost/netkit/11/root/.ssh\n",
        "\tauthorized_keys\n",
        "rendered/localhost/netkit/12\n",
        "rendered/localhost/netkit/12/etc\n",
        "\thostname\n",
        "\tshadow\n",
        "rendered/localhost/netkit/12/etc/ssh\n",
        "\tsshd_config\n",
        "rendered/localhost/netkit/12/etc/zebra\n",
        "\tbgpd.conf\n",
        "\tdaemons\n",
        "\tisisd.conf\n",
        "\tmotd.txt\n",
        "\tospfd.conf\n",
        "\tzebra.conf\n",
        "rendered/localhost/netkit/12/root\n",
        "rendered/localhost/netkit/12/root/.ssh\n",
        "\tauthorized_keys\n",
        "rendered/localhost/netkit/13\n",
        "rendered/localhost/netkit/13/etc\n",
        "\thostname\n",
        "\tshadow\n",
        "rendered/localhost/netkit/13/etc/ssh\n",
        "\tsshd_config\n",
        "rendered/localhost/netkit/13/etc/zebra\n",
        "\tbgpd.conf\n",
        "\tdaemons\n",
        "\tisisd.conf\n",
        "\tmotd.txt\n",
        "\tospfd.conf\n",
        "\tzebra.conf\n",
        "rendered/localhost/netkit/13/root\n",
        "rendered/localhost/netkit/13/root/.ssh\n",
        "\tauthorized_keys\n",
        "rendered/localhost/netkit/14\n",
        "rendered/localhost/netkit/14/etc\n",
        "\thostname\n",
        "\tshadow\n",
        "rendered/localhost/netkit/14/etc/ssh\n",
        "\tsshd_config\n",
        "rendered/localhost/netkit/14/etc/zebra\n",
        "\tbgpd.conf\n",
        "\tdaemons\n",
        "\tisisd.conf\n",
        "\tmotd.txt\n",
        "\tospfd.conf\n",
        "\tzebra.conf\n",
        "rendered/localhost/netkit/14/root\n",
        "rendered/localhost/netkit/14/root/.ssh\n",
        "\tauthorized_keys\n",
        "rendered/localhost/netkit/2\n",
        "rendered/localhost/netkit/2/etc\n",
        "\thostname\n",
        "\tshadow\n",
        "rendered/localhost/netkit/2/etc/ssh\n",
        "\tsshd_config\n",
        "rendered/localhost/netkit/2/etc/zebra\n",
        "\tbgpd.conf\n",
        "\tdaemons\n",
        "\tisisd.conf\n",
        "\tmotd.txt\n",
        "\tospfd.conf\n",
        "\tzebra.conf\n",
        "rendered/localhost/netkit/2/root\n",
        "rendered/localhost/netkit/2/root/.ssh\n",
        "\tauthorized_keys\n",
        "rendered/localhost/netkit/3\n",
        "rendered/localhost/netkit/3/etc\n",
        "\thostname\n",
        "\tshadow\n",
        "rendered/localhost/netkit/3/etc/ssh\n",
        "\tsshd_config\n",
        "rendered/localhost/netkit/3/etc/zebra\n",
        "\tbgpd.conf\n",
        "\tdaemons\n",
        "\tisisd.conf\n",
        "\tmotd.txt\n",
        "\tospfd.conf\n",
        "\tzebra.conf\n",
        "rendered/localhost/netkit/3/root\n",
        "rendered/localhost/netkit/3/root/.ssh\n",
        "\tauthorized_keys\n",
        "rendered/localhost/netkit/4\n",
        "rendered/localhost/netkit/4/etc\n",
        "\thostname\n",
        "\tshadow\n",
        "rendered/localhost/netkit/4/etc/ssh\n",
        "\tsshd_config\n",
        "rendered/localhost/netkit/4/etc/zebra\n",
        "\tbgpd.conf\n",
        "\tdaemons\n",
        "\tisisd.conf\n",
        "\tmotd.txt\n",
        "\tospfd.conf\n",
        "\tzebra.conf\n",
        "rendered/localhost/netkit/4/root\n",
        "rendered/localhost/netkit/4/root/.ssh\n",
        "\tauthorized_keys\n",
        "rendered/localhost/netkit/5\n",
        "rendered/localhost/netkit/5/etc\n",
        "\thostname\n",
        "\tshadow\n",
        "rendered/localhost/netkit/5/etc/ssh\n",
        "\tsshd_config\n",
        "rendered/localhost/netkit/5/etc/zebra\n",
        "\tbgpd.conf\n",
        "\tdaemons\n",
        "\tisisd.conf\n",
        "\tmotd.txt\n",
        "\tospfd.conf\n",
        "\tzebra.conf\n",
        "rendered/localhost/netkit/5/root\n",
        "rendered/localhost/netkit/5/root/.ssh\n",
        "\tauthorized_keys\n",
        "rendered/localhost/netkit/6\n",
        "rendered/localhost/netkit/6/etc\n",
        "\thostname\n",
        "\tshadow\n",
        "rendered/localhost/netkit/6/etc/ssh\n",
        "\tsshd_config\n",
        "rendered/localhost/netkit/6/etc/zebra\n",
        "\tbgpd.conf\n",
        "\tdaemons\n",
        "\tisisd.conf\n",
        "\tmotd.txt\n",
        "\tospfd.conf\n",
        "\tzebra.conf\n",
        "rendered/localhost/netkit/6/root\n",
        "rendered/localhost/netkit/6/root/.ssh\n",
        "\tauthorized_keys\n",
        "rendered/localhost/netkit/7\n",
        "rendered/localhost/netkit/7/etc\n",
        "\thostname\n",
        "\tshadow\n",
        "rendered/localhost/netkit/7/etc/ssh\n",
        "\tsshd_config\n",
        "rendered/localhost/netkit/7/etc/zebra\n",
        "\tbgpd.conf\n",
        "\tdaemons\n",
        "\tisisd.conf\n",
        "\tmotd.txt\n",
        "\tospfd.conf\n",
        "\tzebra.conf\n",
        "rendered/localhost/netkit/7/root\n",
        "rendered/localhost/netkit/7/root/.ssh\n",
        "\tauthorized_keys\n",
        "rendered/localhost/netkit/8\n",
        "rendered/localhost/netkit/8/etc\n",
        "\thostname\n",
        "\tshadow\n",
        "rendered/localhost/netkit/8/etc/ssh\n",
        "\tsshd_config\n",
        "rendered/localhost/netkit/8/etc/zebra\n",
        "\tbgpd.conf\n",
        "\tdaemons\n",
        "\tisisd.conf\n",
        "\tmotd.txt\n",
        "\tospfd.conf\n",
        "\tzebra.conf\n",
        "rendered/localhost/netkit/8/root\n",
        "rendered/localhost/netkit/8/root/.ssh\n",
        "\tauthorized_keys\n",
        "rendered/localhost/netkit/9\n",
        "rendered/localhost/netkit/9/etc\n",
        "\thostname\n",
        "\tshadow\n",
        "rendered/localhost/netkit/9/etc/ssh\n",
        "\tsshd_config\n",
        "rendered/localhost/netkit/9/etc/zebra\n",
        "\tbgpd.conf\n",
        "\tdaemons\n",
        "\tisisd.conf\n",
        "\tmotd.txt\n",
        "\tospfd.conf\n",
        "\tzebra.conf\n",
        "rendered/localhost/netkit/9/root\n",
        "rendered/localhost/netkit/9/root/.ssh\n",
        "\tauthorized_keys\n"
       ]
      }
     ],
     "prompt_number": 97
    },
    {
     "cell_type": "heading",
     "level": 3,
     "metadata": {},
     "source": [
      "Viewing Configuration Files: OSPF"
     ]
    },
    {
     "cell_type": "code",
     "collapsed": false,
     "input": [
      "router = nidb.routers().next() # choose a router\n",
      "router = nidb.node(\"1\")\n",
      "zebra_dir = os.path.join(router.render.base_dst_folder, \"etc\", \"zebra\")\n",
      "\n",
      "ospfd_conf = os.path.join(zebra_dir, \"ospfd.conf\")\n",
      "with open(ospfd_conf, \"r\") as fh:\n",
      "    print fh.read()"
     ],
     "language": "python",
     "metadata": {},
     "outputs": []
    },
    {
     "cell_type": "heading",
     "level": 3,
     "metadata": {},
     "source": [
      "Viewing Configuration Files: BGP"
     ]
    },
    {
     "cell_type": "code",
     "collapsed": false,
     "input": [
      "bgpd_conf = os.path.join(zebra_dir, \"bgpd.conf\")\n",
      "with open(bgpd_conf, \"r\") as fh:\n",
      "    print fh.read()"
     ],
     "language": "python",
     "metadata": {},
     "outputs": [
      {
       "output_type": "stream",
       "stream": "stdout",
       "text": [
        "!\n",
        "hostname r1\n",
        "password 1234              \n",
        "banner motd file /etc/quagga/motd.txt\n",
        "!enable password 1234\n",
        "!\n",
        "  router bgp 2   \n",
        "  bgp router-id 10.0.0.11\n",
        "  no synchronization\n",
        "  network 10.1.0.0/16\n",
        "! ibgp\n",
        "  ! ibgp peers\n",
        "  ! 9\n",
        "  neighbor 10.0.0.9 remote-as 2\n",
        "  neighbor 10.0.0.9 update-source 10.0.0.11                                                     \n",
        "  neighbor 10.0.0.9 send-community      \n",
        "  neighbor 10.0.0.9 next-hop-self\n",
        "  ! 8\n",
        "  neighbor 10.0.0.14 remote-as 2\n",
        "  neighbor 10.0.0.14 update-source 10.0.0.11                                                     \n",
        "  neighbor 10.0.0.14 send-community      \n",
        "  neighbor 10.0.0.14 next-hop-self\n",
        "  ! 5\n",
        "  neighbor 10.0.0.12 remote-as 2\n",
        "  neighbor 10.0.0.12 update-source 10.0.0.11                                                     \n",
        "  neighbor 10.0.0.12 send-community      \n",
        "  neighbor 10.0.0.12 next-hop-self\n",
        "  ! 7\n",
        "  neighbor 10.0.0.10 remote-as 2\n",
        "  neighbor 10.0.0.10 update-source 10.0.0.11                                                     \n",
        "  neighbor 10.0.0.10 send-community      \n",
        "  neighbor 10.0.0.10 next-hop-self\n",
        "  ! 6\n",
        "  neighbor 10.0.0.13 remote-as 2\n",
        "  neighbor 10.0.0.13 update-source 10.0.0.11                                                     \n",
        "  neighbor 10.0.0.13 send-community      \n",
        "  neighbor 10.0.0.13 next-hop-self\n",
        "! ebgp\n",
        "  ! 3 \n",
        "  neighbor 10.1.0.18 remote-as 1\n",
        "  neighbor 10.1.0.18 update-source 10.1.0.17                                                     \n",
        "  neighbor 10.1.0.18 send-community\n",
        "  ! 4 \n",
        "  neighbor 10.1.128.2 remote-as 1\n",
        "  neighbor 10.1.128.2 update-source 10.1.128.1                                                     \n",
        "  neighbor 10.1.128.2 send-community\n",
        "\n",
        "debug bgp\n",
        "debug bgp events\n",
        "debug bgp filters\n",
        "debug bgp fsm\n",
        "debug bgp keepalives\n",
        "debug bgp updates \n",
        "log file /var/log/zebra/bgpd.log\n",
        "\n"
       ]
      }
     ],
     "prompt_number": 96
    },
    {
     "cell_type": "heading",
     "level": 3,
     "metadata": {},
     "source": [
      "Deploying Netkit Lab"
     ]
    },
    {
     "cell_type": "code",
     "collapsed": false,
     "input": [
      "import autonetkit.deploy.netkit as nk_deploy\n",
      "username = \"sk2\"\n",
      "host = \"192.168.255.129\"\n",
      "dst_folder = nidb.topology['localhost'].render_dst_folder\n",
      "nk_deploy.deploy(host, username, dst_folder)"
     ],
     "language": "python",
     "metadata": {},
     "outputs": [
      {
       "output_type": "stream",
       "stream": "stderr",
       "text": [
        "\u001b[1;37mINFO\u001b[0m Packaging rendered/localhost/netkit\n"
       ]
      },
      {
       "output_type": "stream",
       "stream": "stderr",
       "text": [
        "\u001b[1;37mINFO\u001b[0m:ANK:Packaging rendered/localhost/netkit\n"
       ]
      },
      {
       "output_type": "stream",
       "stream": "stderr",
       "text": [
        "\u001b[1;37mINFO\u001b[0m Transferring Netkit lab\n"
       ]
      },
      {
       "output_type": "stream",
       "stream": "stderr",
       "text": [
        "\u001b[1;37mINFO\u001b[0m:ANK:Transferring Netkit lab\n"
       ]
      },
      {
       "output_type": "stream",
       "stream": "stderr",
       "text": [
        "\u001b[1;37mINFO\u001b[0m Connecting to 192.168.255.129 with sk2\n"
       ]
      },
      {
       "output_type": "stream",
       "stream": "stderr",
       "text": [
        "\u001b[1;37mINFO\u001b[0m:ANK:Connecting to 192.168.255.129 with sk2\n"
       ]
      },
      {
       "output_type": "stream",
       "stream": "stderr",
       "text": [
        "\u001b[1;37mINFO\u001b[0m Extracting and starting Netkit lab\n"
       ]
      },
      {
       "output_type": "stream",
       "stream": "stderr",
       "text": [
        "\u001b[1;37mINFO\u001b[0m:ANK:Extracting and starting Netkit lab\n"
       ]
      },
      {
       "output_type": "stream",
       "stream": "stderr",
       "text": [
        "\u001b[1;37mINFO\u001b[0m Starting lab\n"
       ]
      },
      {
       "output_type": "stream",
       "stream": "stderr",
       "text": [
        "\u001b[1;37mINFO\u001b[0m:ANK:Starting lab\n"
       ]
      },
      {
       "output_type": "stream",
       "stream": "stderr",
       "text": [
        "\u001b[1;37mINFO\u001b[0m Starting \"5\"...\u001b[0m\n"
       ]
      },
      {
       "output_type": "stream",
       "stream": "stderr",
       "text": [
        "\u001b[1;37mINFO\u001b[0m:ANK:Starting \"5\"...\u001b[0m\n"
       ]
      },
      {
       "output_type": "stream",
       "stream": "stderr",
       "text": [
        "\u001b[1;37mINFO\u001b[0m Starting \"1\"...\u001b[0m\n"
       ]
      },
      {
       "output_type": "stream",
       "stream": "stderr",
       "text": [
        "\u001b[1;37mINFO\u001b[0m:ANK:Starting \"1\"...\u001b[0m\n"
       ]
      },
      {
       "output_type": "stream",
       "stream": "stderr",
       "text": [
        "\u001b[1;37mINFO\u001b[0m Starting \"2\"...\u001b[0m\n"
       ]
      },
      {
       "output_type": "stream",
       "stream": "stderr",
       "text": [
        "\u001b[1;37mINFO\u001b[0m:ANK:Starting \"2\"...\u001b[0m\n"
       ]
      },
      {
       "output_type": "stream",
       "stream": "stderr",
       "text": [
        "\u001b[1;37mINFO\u001b[0m Starting \"4\"...\u001b[0m\n"
       ]
      },
      {
       "output_type": "stream",
       "stream": "stderr",
       "text": [
        "\u001b[1;37mINFO\u001b[0m:ANK:Starting \"4\"...\u001b[0m\n"
       ]
      },
      {
       "output_type": "stream",
       "stream": "stderr",
       "text": [
        "\u001b[1;37mINFO\u001b[0m Starting \"3\"...\u001b[0m\n"
       ]
      },
      {
       "output_type": "stream",
       "stream": "stderr",
       "text": [
        "\u001b[1;37mINFO\u001b[0m:ANK:Starting \"3\"...\u001b[0m\n"
       ]
      },
      {
       "output_type": "stream",
       "stream": "stderr",
       "text": [
        "\u001b[1;37mINFO\u001b[0m Starting \"6\"...\u001b[0m\n"
       ]
      },
      {
       "output_type": "stream",
       "stream": "stderr",
       "text": [
        "\u001b[1;37mINFO\u001b[0m:ANK:Starting \"6\"...\u001b[0m\n"
       ]
      },
      {
       "output_type": "stream",
       "stream": "stderr",
       "text": [
        "\u001b[1;37mINFO\u001b[0m Starting \"7\"...\u001b[0m\n"
       ]
      },
      {
       "output_type": "stream",
       "stream": "stderr",
       "text": [
        "\u001b[1;37mINFO\u001b[0m:ANK:Starting \"7\"...\u001b[0m\n"
       ]
      },
      {
       "output_type": "stream",
       "stream": "stderr",
       "text": [
        "\u001b[1;37mINFO\u001b[0m Starting \"8\"...\u001b[0m\n"
       ]
      },
      {
       "output_type": "stream",
       "stream": "stderr",
       "text": [
        "\u001b[1;37mINFO\u001b[0m:ANK:Starting \"8\"...\u001b[0m\n"
       ]
      },
      {
       "output_type": "stream",
       "stream": "stderr",
       "text": [
        "\u001b[1;37mINFO\u001b[0m Starting \"9\"...\u001b[0m\n"
       ]
      },
      {
       "output_type": "stream",
       "stream": "stderr",
       "text": [
        "\u001b[1;37mINFO\u001b[0m:ANK:Starting \"9\"...\u001b[0m\n"
       ]
      },
      {
       "output_type": "stream",
       "stream": "stderr",
       "text": [
        "\u001b[1;37mINFO\u001b[0m Lab started on 192.168.255.129\n"
       ]
      },
      {
       "output_type": "stream",
       "stream": "stderr",
       "text": [
        "\u001b[1;37mINFO\u001b[0m:ANK:Lab started on 192.168.255.129\n"
       ]
      }
     ],
     "prompt_number": 105
    },
    {
     "cell_type": "heading",
     "level": 3,
     "metadata": {},
     "source": [
      "Analysis"
     ]
    },
    {
     "cell_type": "code",
     "collapsed": false,
     "input": [
      "from autonetkit.ank_utils import unwrap_graph, unwrap_nodes\n",
      "import autonetkit.ank_messaging as msg\n",
      "import networkx as nx\n",
      "\n",
      "graph = unwrap_graph(anm['ospf'])\n",
      "\n",
      "path = nx.shortest_path(graph, \"1\", \"8\", weight = 'cost')\n",
      "print path\n",
      "msg.highlight([], [], [path])"
     ],
     "language": "python",
     "metadata": {},
     "outputs": [
      {
       "output_type": "stream",
       "stream": "stdout",
       "text": [
        "['1', '8']\n"
       ]
      }
     ],
     "prompt_number": 99
    },
    {
     "cell_type": "code",
     "collapsed": false,
     "input": [
      "path = nx.shortest_path(graph, \"1\", \"11\", weight = 'cost')\n",
      "print path\n",
      "msg.highlight([], [], [path])"
     ],
     "language": "python",
     "metadata": {},
     "outputs": [
      {
       "output_type": "stream",
       "stream": "stdout",
       "text": [
        "['1', '5', '6', '7', '10', '11']\n"
       ]
      }
     ],
     "prompt_number": 102
    },
    {
     "cell_type": "code",
     "collapsed": false,
     "input": [
      "edge = anm['ospf'].edge('1', '7')\n",
      "edge.cost = 10\n",
      "edge.apply_to_interfaces(\"cost\")\n",
      "autonetkit.update_http(anm)"
     ],
     "language": "python",
     "metadata": {},
     "outputs": [],
     "prompt_number": 91
    },
    {
     "cell_type": "code",
     "collapsed": false,
     "input": [
      "\n",
      "\n",
      "path = nx.shortest_path(graph, \"1\", \"11\", weight = 'cost')\n",
      "print path\n",
      "msg.highlight([], [], [path])\n"
     ],
     "language": "python",
     "metadata": {},
     "outputs": [
      {
       "output_type": "stream",
       "stream": "stdout",
       "text": [
        "['1', '5', '6', '7', '10', '11']\n"
       ]
      }
     ],
     "prompt_number": 92
    },
    {
     "cell_type": "code",
     "collapsed": false,
     "input": [
      "edge = anm['ospf'].edge('6', '11')\n",
      "edge.cost = 10\n",
      "edge.apply_to_interfaces(\"cost\")\n",
      "autonetkit.update_http(anm)"
     ],
     "language": "python",
     "metadata": {},
     "outputs": [],
     "prompt_number": 93
    },
    {
     "cell_type": "code",
     "collapsed": false,
     "input": [
      "path = nx.shortest_path(graph, \"1\", \"11\", weight = 'cost')\n",
      "print path\n",
      "msg.highlight([], [], [path])"
     ],
     "language": "python",
     "metadata": {},
     "outputs": [
      {
       "output_type": "stream",
       "stream": "stdout",
       "text": [
        "['1', '5', '6', '7', '10', '11']\n"
       ]
      }
     ],
     "prompt_number": 95
    },
    {
     "cell_type": "heading",
     "level": 3,
     "metadata": {},
     "source": [
      "Measuring Results"
     ]
    },
    {
     "cell_type": "code",
     "collapsed": false,
     "input": [
      "import autonetkit.measure as measure\n",
      "remote_hosts = [nidb.node(\"1\").tap.ip]\n",
      "command = 'vtysh -c \"show ip ro\"'\n",
      "measure.send(nidb, command, remote_hosts)"
     ],
     "language": "python",
     "metadata": {},
     "outputs": []
    },
    {
     "cell_type": "code",
     "collapsed": false,
     "input": [
      "import autonetkit.measure as measure\n",
      "remote_hosts = [nidb.node(\"2\").tap.ip]\n",
      "command = 'vtysh -c \"show ip ro\"'\n",
      "measure.send(nidb, command, remote_hosts)"
     ],
     "language": "python",
     "metadata": {},
     "outputs": []
    },
    {
     "cell_type": "code",
     "collapsed": false,
     "input": [
      "remote_hosts = [nidb.node(\"1\").tap.ip]\n",
      "\n",
      "dest_ip = nidb.node(\"7\").interfaces[0].ipv4_address\n",
      "command = \"traceroute -n -a -U -w 0.5 %s\" % dest_ip\n",
      "measure.send(nidb, command, remote_hosts)"
     ],
     "language": "python",
     "metadata": {},
     "outputs": []
    },
    {
     "cell_type": "code",
     "collapsed": false,
     "input": [
      "dest_ip = nidb.node(\"9\").interfaces[0].ipv4_address\n",
      "command = \"traceroute -n -a -U -w 0.5 %s\" % dest_ip\n",
      "measure.send(nidb, command, remote_hosts)"
     ],
     "language": "python",
     "metadata": {},
     "outputs": []
    },
    {
     "cell_type": "code",
     "collapsed": false,
     "input": [
      "dest_ip = nidb.node(\"4\").interfaces[0].ipv4_address\n",
      "command = \"traceroute -n -a -U -w 0.5 %s\" % dest_ip\n",
      "measure.send(nidb, command, remote_hosts)"
     ],
     "language": "python",
     "metadata": {},
     "outputs": []
    },
    {
     "cell_type": "code",
     "collapsed": false,
     "input": [
      "dest_ip = nidb.node(\"8\").interfaces[2].ipv4_address\n",
      "command = \"traceroute -n -a -U -w 0.5 %s\" % dest_ip\n",
      "measure.send(nidb, command, remote_hosts)"
     ],
     "language": "python",
     "metadata": {},
     "outputs": []
    }
   ],
   "metadata": {}
  }
 ]
}