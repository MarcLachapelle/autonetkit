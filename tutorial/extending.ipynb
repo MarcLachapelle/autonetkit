{
 "metadata": {
  "name": ""
 },
 "nbformat": 3,
 "nbformat_minor": 0,
 "worksheets": [
  {
   "cells": [
    {
     "cell_type": "heading",
     "level": 1,
     "metadata": {},
     "source": [
      "AutoNetkit API tutorial"
     ]
    },
    {
     "cell_type": "markdown",
     "metadata": {},
     "source": [
      "Written for AutoNetkit 0.8"
     ]
    },
    {
     "cell_type": "markdown",
     "metadata": {},
     "source": [
      "Create Network"
     ]
    },
    {
     "cell_type": "code",
     "collapsed": false,
     "input": [
      "import autonetkit\n",
      "anm = autonetkit.ANM()"
     ],
     "language": "python",
     "metadata": {},
     "outputs": [],
     "prompt_number": 1
    },
    {
     "cell_type": "code",
     "collapsed": false,
     "input": [
      "g_in = anm.add_overlay(\"input\")\n",
      "nodes = ['r1', 'r2', 'r3', 'r4', 'r5']\n",
      "\n",
      "g_in.add_nodes_from(nodes)\n",
      "g_in.update(device_type = \"router\", asn=1)\n",
      "g_in.update(\"r5\", asn = 2)"
     ],
     "language": "python",
     "metadata": {},
     "outputs": [],
     "prompt_number": 2
    },
    {
     "cell_type": "code",
     "collapsed": false,
     "input": [
      "positions = {'r1': (10, 79),\n",
      " 'r2': (226, 25),\n",
      " 'r3': (172, 295),\n",
      " 'r4': (334, 187),\n",
      " 'r5': (496, 349)}\n",
      "\n",
      "for n in g_in:\n",
      "    n.x, n.y = positions[n]\n",
      "\n",
      "autonetkit.update_http(anm)"
     ],
     "language": "python",
     "metadata": {},
     "outputs": [],
     "prompt_number": 3
    },
    {
     "cell_type": "code",
     "collapsed": false,
     "input": [
      "edges = [(\"r1\", \"r2\"), (\"r2\", \"r4\"), (\"r1\", \"r3\"), \n",
      "         (\"r3\", \"r4\"), (\"r3\", \"r5\"), (\"r4\", \"r5\")]\n",
      "g_in.add_edges_from(edges)\n",
      "g_in.allocate_interfaces()"
     ],
     "language": "python",
     "metadata": {},
     "outputs": [
      {
       "output_type": "stream",
       "stream": "stderr",
       "text": [
        "INFO Automatically assigning input interfaces\n"
       ]
      },
      {
       "output_type": "stream",
       "stream": "stderr",
       "text": [
        "INFO:ANK:Automatically assigning input interfaces\n"
       ]
      }
     ],
     "prompt_number": 4
    },
    {
     "cell_type": "code",
     "collapsed": false,
     "input": [
      "autonetkit.update_http(anm)"
     ],
     "language": "python",
     "metadata": {},
     "outputs": [],
     "prompt_number": 5
    },
    {
     "cell_type": "code",
     "collapsed": false,
     "input": [
      "g_phy = anm['phy']\n",
      "g_phy.add_nodes_from(g_in, retain=[\"asn\", \"device_type\", \"x\", \"y\"])\n",
      "g_phy.update(use_ipv4 = True, host = \"localhost\", platform = \"netkit\", syntax = \"quagga\")\n",
      "\n",
      "g_phy.add_edges_from(g_in.edges())\n",
      "autonetkit.update_http(anm)"
     ],
     "language": "python",
     "metadata": {},
     "outputs": [],
     "prompt_number": 6
    },
    {
     "cell_type": "code",
     "collapsed": false,
     "input": [
      "g_ospf = anm.add_overlay(\"ospf\")\n",
      "g_ospf.add_nodes_from(g_in.routers())\n",
      "g_ospf.add_edges_from(e for e in g_in.edges()\n",
      "                      if e.src.asn == e.dst.asn)\n",
      "autonetkit.update_http(anm)                      "
     ],
     "language": "python",
     "metadata": {},
     "outputs": [],
     "prompt_number": 7
    },
    {
     "cell_type": "code",
     "collapsed": false,
     "input": [
      "g_ebgp = anm.add_overlay(\"ebgp_v4\", directed = True)\n",
      "g_ebgp.add_nodes_from(g_in.routers())\n",
      "edges = [e for e in g_in.edges()\n",
      "         if e.src.asn != e.dst.asn]\n",
      "# Add in both directions\n",
      "g_ebgp.add_edges_from(edges, bidirectional = True)\n",
      "autonetkit.update_http(anm)              "
     ],
     "language": "python",
     "metadata": {},
     "outputs": [],
     "prompt_number": 8
    },
    {
     "cell_type": "code",
     "collapsed": false,
     "input": [
      "g_ibgp = anm.add_overlay(\"ibgp_v4\", directed = True)\n",
      "g_ibgp.add_nodes_from(g_in.routers())\n",
      "edges = [(s,t) for s in g_ibgp for t in g_ibgp\n",
      "         # belong to same ASN, but not self-loops\n",
      "         if s != t and s.asn == t.asn]\n",
      "\n",
      "# Add in both directions\n",
      "g_ibgp.add_edges_from(edges, bidirectional = True)\n",
      "autonetkit.update_http(anm)"
     ],
     "language": "python",
     "metadata": {},
     "outputs": [],
     "prompt_number": 9
    },
    {
     "cell_type": "code",
     "collapsed": false,
     "input": [
      "import autonetkit.ank as ank_utils\n",
      "g_ipv4 = anm.add_overlay(\"ipv4\")\n",
      "g_ipv4.add_nodes_from(g_in)\n",
      "g_ipv4.add_edges_from(g_in.edges())\n",
      "\n",
      "# Split the point-to-point edges to add a collision domain\n",
      "edges_to_split = [edge for edge in g_ipv4.edges()\n",
      "                  if edge.attr_both('is_l3device')]\n",
      "for edge in edges_to_split:\n",
      "    edge.split = True  # mark as split for use in building nidb\n",
      "    \n",
      "split_created_nodes = list(ank_utils.split(g_ipv4, edges_to_split,\n",
      "    retain=['split'], id_prepend='cd'))\n",
      "\n",
      "for node in split_created_nodes:\n",
      "    # Set the co-ordinates using 'x', 'y' of g_in\n",
      "    # based on neighbors in g_ipv4\n",
      "    node.x = ank_utils.neigh_average(g_ipv4, node, 'x', g_in)\n",
      "    node.y = ank_utils.neigh_average(g_ipv4, node, 'y', g_in)\n",
      "    # Set most frequent of asn property in g_phy\n",
      "    # ASN is used to allocate IPs\n",
      "    node.asn = ank_utils.neigh_most_frequent(g_ipv4, node,\n",
      "                                             'asn', g_phy)\n",
      "    node.collision_domain = True\n",
      "    \n",
      "# Now use allocation plugin\n",
      "import autonetkit.plugins.ipv4 as ipv4\n",
      "ipv4.allocate_infra(g_ipv4)\n",
      "ipv4.allocate_loopbacks(g_ipv4)\n",
      "\n",
      "autonetkit.update_http(anm)"
     ],
     "language": "python",
     "metadata": {},
     "outputs": [
      {
       "output_type": "stream",
       "stream": "stderr",
       "text": [
        "INFO Allocating v4 Infrastructure IPs\n"
       ]
      },
      {
       "output_type": "stream",
       "stream": "stderr",
       "text": [
        "INFO:ANK:Allocating v4 Infrastructure IPs\n"
       ]
      },
      {
       "output_type": "stream",
       "stream": "stderr",
       "text": [
        "INFO Allocating v4 Primary Host loopback IPs\n"
       ]
      },
      {
       "output_type": "stream",
       "stream": "stderr",
       "text": [
        "INFO:ANK:Allocating v4 Primary Host loopback IPs\n"
       ]
      }
     ],
     "prompt_number": 10
    },
    {
     "cell_type": "code",
     "collapsed": false,
     "input": [
      "# Now construct NIDB\n",
      "nidb = autonetkit.NIDB()\n",
      "# NIDB is separate to the ANM -> copy over more properties\n",
      "retain = ['label', 'host', 'platform', 'x', 'y', 'asn', 'device_type']\n",
      "nidb.add_nodes_from(g_phy, retain=retain)\n",
      "\n",
      "# Usually have a base g_ip which has structure\n",
      "# allocate to g_ipv4, g_ipv6\n",
      "nidb.add_nodes_from(g_phy, retain=retain)\n",
      "retain.append(\"subnet\") # also copy across subnet\n",
      "nidb.add_nodes_from(g_ipv4.nodes(\"collision_domain\"), retain=retain)\n",
      "nidb.add_edges_from(g_ipv4.edges())\n",
      "\n",
      "# Also need to copy across the collision domains\n",
      "\n",
      "autonetkit.update_http(anm, nidb)"
     ],
     "language": "python",
     "metadata": {},
     "outputs": [],
     "prompt_number": 11
    },
    {
     "cell_type": "code",
     "collapsed": false,
     "input": [
      "import autonetkit.compilers.platform.netkit as pl_netkit\n",
      "host = \"localhost\"\n",
      "\n",
      "platform_compiler = pl_netkit.NetkitCompiler(nidb, anm, host)\n",
      "platform_compiler.compile() "
     ],
     "language": "python",
     "metadata": {},
     "outputs": [
      {
       "output_type": "stream",
       "stream": "stderr",
       "text": [
        "INFO Compiling Netkit for localhost\n"
       ]
      },
      {
       "output_type": "stream",
       "stream": "stderr",
       "text": [
        "INFO:ANK:Compiling Netkit for localhost\n"
       ]
      }
     ],
     "prompt_number": 12
    },
    {
     "cell_type": "code",
     "collapsed": false,
     "input": [
      "import autonetkit.render\n",
      "autonetkit.render.render(nidb)"
     ],
     "language": "python",
     "metadata": {},
     "outputs": [
      {
       "output_type": "stream",
       "stream": "stderr",
       "text": [
        "INFO Rendering Network\n"
       ]
      },
      {
       "output_type": "stream",
       "stream": "stderr",
       "text": [
        "INFO:ANK:Rendering Network\n"
       ]
      }
     ],
     "prompt_number": 13
    },
    {
     "cell_type": "markdown",
     "metadata": {},
     "source": [
      "The output files are put \n",
      "\n",
      "    into rendered/localhost/netkit\n",
      "    \n",
      "For instance:\n",
      "    \n",
      "    \u251c\u2500\u2500 lab.conf\n",
      "    \u251c\u2500\u2500 r1\n",
      "    \u2502\u00a0\u00a0 \u251c\u2500\u2500 etc\n",
      "    \u2502\u00a0\u00a0 \u2502\u00a0\u00a0 \u251c\u2500\u2500 hostname\n",
      "    \u2502\u00a0\u00a0 \u2502\u00a0\u00a0 \u251c\u2500\u2500 shadow\n",
      "    \u2502\u00a0\u00a0 \u2502\u00a0\u00a0 \u251c\u2500\u2500 ssh\n",
      "    \u2502\u00a0\u00a0 \u2502\u00a0\u00a0 \u2502\u00a0\u00a0 \u2514\u2500\u2500 sshd_config\n",
      "    \u2502\u00a0\u00a0 \u2502\u00a0\u00a0 \u2514\u2500\u2500 zebra\n",
      "    \u2502\u00a0\u00a0 \u2502\u00a0\u00a0     \u251c\u2500\u2500 bgpd.conf\n",
      "    \u2502\u00a0\u00a0 \u2502\u00a0\u00a0     \u251c\u2500\u2500 daemons\n",
      "    \u2502\u00a0\u00a0 \u2502\u00a0\u00a0     \u251c\u2500\u2500 isisd.conf\n",
      "    \u2502\u00a0\u00a0 \u2502\u00a0\u00a0     \u251c\u2500\u2500 motd.txt\n",
      "    \u2502\u00a0\u00a0 \u2502\u00a0\u00a0     \u251c\u2500\u2500 ospfd.conf\n",
      "    \u2502\u00a0\u00a0 \u2502\u00a0\u00a0     \u2514\u2500\u2500 zebra.conf\n",
      "    \u2502\u00a0\u00a0 \u2514\u2500\u2500 root\n",
      "    \u251c\u2500\u2500 r1.startup\n",
      "    \u251c\u2500\u2500 r2\n",
      "    \u2502\u00a0\u00a0 \u251c\u2500\u2500 etc\n",
      "    \u2502\u00a0\u00a0 \u2502\u00a0\u00a0 \u251c\u2500\u2500 hostname\n",
      "    \u2502\u00a0\u00a0 \u2502\u00a0\u00a0 \u251c\u2500\u2500 shadow\n",
      "    \u2502\u00a0\u00a0 \u2502\u00a0\u00a0 \u251c\u2500\u2500 ssh\n",
      "    \u2502\u00a0\u00a0 \u2502\u00a0\u00a0 \u2502\u00a0\u00a0 \u2514\u2500\u2500 sshd_config\n",
      "    \u2502\u00a0\u00a0 \u2502\u00a0\u00a0 \u2514\u2500\u2500 zebra\n",
      "    \u2502\u00a0\u00a0 \u2502\u00a0\u00a0     \u251c\u2500\u2500 bgpd.conf\n",
      "    \u2502\u00a0\u00a0 \u2502\u00a0\u00a0     \u251c\u2500\u2500 daemons\n",
      "    \u2502\u00a0\u00a0 \u2502\u00a0\u00a0     \u251c\u2500\u2500 isisd.conf\n",
      "    \u2502\u00a0\u00a0 \u2502\u00a0\u00a0     \u251c\u2500\u2500 motd.txt\n",
      "    \u2502\u00a0\u00a0 \u2502\u00a0\u00a0     \u251c\u2500\u2500 ospfd.conf\n",
      "    \u2502\u00a0\u00a0 \u2502\u00a0\u00a0     \u2514\u2500\u2500 zebra.conf\n",
      "    \u2502\u00a0\u00a0 \u2514\u2500\u2500 root\n",
      "    \u251c\u2500\u2500 r2.startup\n"
     ]
    },
    {
     "cell_type": "markdown",
     "metadata": {},
     "source": [
      "Can also write our own compiler and templates:"
     ]
    },
    {
     "cell_type": "code",
     "collapsed": false,
     "input": [
      "# AutoNetkit renderer expects filenames for templates\n",
      "# uses the Mako template format\n",
      "router_template_str = \"\"\"Router rendered on ${date} by ${version_banner}\n",
      "% for interface in node.interfaces:\n",
      "interface ${interface.id}\n",
      "    description ${interface.description}\n",
      "    ip address ${interface.ipv4_address} netmask ${interface.ipv4_netmask}\n",
      "% endfor\n",
      "!\n",
      "router ospf ${node.ospf.process_id}\n",
      "    % for link in node.ospf.ospf_links:\n",
      "    network ${link.network.cidr} area ${link.area}\n",
      "    % endfor\n",
      "!\n",
      "router bgp ${node.asn}\n",
      "% for neigh in node.bgp.ibgp_neighbors:\n",
      "  ! ${neigh.neighbor}\n",
      "  neighbor ${neigh.loopback} remote-as ${neigh.asn}\n",
      "  neighbor ${neigh.loopback} update-source ${node.loopback_zero.ipv4_address}\n",
      "  neighbor ${neigh.loopback} next-hop-self\n",
      "% endfor\n",
      "!\n",
      "% for neigh in node.bgp.ebgp_neighbors:\n",
      "  ! ${neigh.neighbor}\n",
      "  neighbor ${neigh.dst_int_ip} remote-as ${neigh.asn}\n",
      "  neighbor ${neigh.dst_int_ip} update-source ${neigh.local_int_ip}\n",
      "% endfor\n",
      "!    \n",
      "\"\"\"\n",
      "\n",
      "router_template = \"router.mako\"\n",
      "with open(router_template, \"w\") as fh:\n",
      "    fh.write(router_template_str)"
     ],
     "language": "python",
     "metadata": {},
     "outputs": [],
     "prompt_number": 14
    },
    {
     "cell_type": "code",
     "collapsed": false,
     "input": [
      "from autonetkit.compilers.device import router_base\n",
      "from autonetkit.nidb import config_stanza\n",
      "class simple_router_compiler(router_base.RouterCompiler):\n",
      "    lo_interface = 'lo:1'\n",
      "    \n",
      "    def compile(self, node):\n",
      "        self.interfaces(node)\n",
      "        self.ospf(node)\n",
      "        self.bgp(node)\n",
      "\n",
      "    def interfaces(self, node):\n",
      "        # Append attributes to the interface, rather than add a stanza\n",
      "        ipv4_node = self.anm['ipv4'].node(node)\n",
      "        if node.is_l3device:\n",
      "            node.loopback_zero.id = self.lo_interface\n",
      "            node.loopback_zero.description = 'Loopback'\n",
      "            node.loopback_zero.ipv4_address = ipv4_node.loopback\n",
      "            node.loopback_zero.ipv4_netmask = \"255.255.255.255\" \n",
      "        #interface_list.append(stanza)\n",
      "\n",
      "        for interface in node.physical_interfaces:\n",
      "            ipv4_int = ipv4_node.interface(interface)\n",
      "            interface.ipv4_address = ipv4_int.ip_address\n",
      "            interface.ipv4_netmask = ipv4_int.subnet.netmask\n",
      "                                                                    \n",
      "    def ospf(self, node):\n",
      "        node.add_stanza(\"ospf\", process_id = 1)\n",
      "        ospf_links = []\n",
      "        for interface in node.physical_interfaces:\n",
      "            ipv4_int = self.anm['ipv4'].interface(interface)\n",
      "            ospf_links.append(config_stanza(network=ipv4_int.subnet,\n",
      "                                            area=0))\n",
      "        node.ospf.ospf_links = ospf_links\n",
      "    \n",
      "    def bgp(self, node):\n",
      "        node.add_stanza(\"bgp\")\n",
      "        g_ebgp = self.anm[\"ebgp_v4\"]\n",
      "        ebgp_neighbors = []\n",
      "        ibgp_neighbors = []\n",
      "        for session in g_ebgp.edges(node):\n",
      "            neighbor = session.dst # remote node\n",
      "            stanza = config_stanza(neighbor = neighbor,\n",
      "                                   asn = neighbor.asn)\n",
      "            # Can obtain the dst int, as created bgp session\n",
      "            # from physical links\n",
      "            stanza.local_int_ip = session.src_int['ipv4'].ip_address\n",
      "            stanza.dst_int_ip = session.dst_int['ipv4'].ip_address\n",
      "            ebgp_neighbors.append(stanza)\n",
      "            \n",
      "        for session in g_ibgp.edges(node):\n",
      "            neighbor = session.dst # remote node\n",
      "            stanza = config_stanza(neighbor = neighbor,\n",
      "                                   asn = neighbor.asn)\n",
      "            stanza.loopback = neighbor['ipv4'].loopback\n",
      "            ibgp_neighbors.append(stanza)\n",
      "            \n",
      "        node.bgp.ebgp_neighbors = ebgp_neighbors\n",
      "        node.bgp.ibgp_neighbors = ibgp_neighbors"
     ],
     "language": "python",
     "metadata": {},
     "outputs": [],
     "prompt_number": 15
    },
    {
     "cell_type": "code",
     "collapsed": false,
     "input": [
      "\n",
      "topology_template_str = \"\"\"Topology rendered on ${date} by ${version_banner}\n",
      "% for host in topology.hosts:\n",
      "host: ${host}\n",
      "% endfor\n",
      "\"\"\"\n",
      "\n",
      "topology_template = \"topology.mako\"\n",
      "with open(topology_template, \"w\") as fh:\n",
      "    fh.write(topology_template_str)"
     ],
     "language": "python",
     "metadata": {},
     "outputs": [],
     "prompt_number": 16
    },
    {
     "cell_type": "code",
     "collapsed": false,
     "input": [
      "from autonetkit.compilers.platform import platform_base\n",
      "import netaddr\n",
      "from autonetkit.nidb import config_stanza\n",
      "\n",
      "class simple_platform_compiler(platform_base.PlatformCompiler):\n",
      "    def compile(self):        \n",
      "        rtr_comp = simple_router_compiler(self.nidb, self.anm)\n",
      "        \n",
      "        for node in nidb.routers(host=host):\n",
      "            for index, interface in enumerate(node.physical_interfaces):\n",
      "                interface.id = \"eth%s\" % index\n",
      "            \n",
      "            # specify router template\n",
      "            node.render.template = router_template\n",
      "            node.render.dst_folder = \"rendered\"\n",
      "            node.render.dst_file = \"%s.conf\" % node\n",
      "            # and compile\n",
      "            rtr_comp.compile(node)            \n",
      "                \n",
      "        # and the topology\n",
      "        lab_topology = self.nidb.topology[self.host]\n",
      "        # template settings for the renderer\n",
      "        lab_topology.render_template = topology_template\n",
      "        lab_topology.render_dst_folder = \"rendered\"\n",
      "        lab_topology.render_dst_file = \"lab.conf\"\n",
      "        \n",
      "        lab_topology.hosts = []\n",
      "        for node in nidb.routers(host=host):\n",
      "            lab_topology.hosts.append(node)\n",
      "            \n",
      "        # Can also deduce links (by condensing the CDs)"
     ],
     "language": "python",
     "metadata": {},
     "outputs": [],
     "prompt_number": 17
    },
    {
     "cell_type": "code",
     "collapsed": false,
     "input": [
      "# rebuild the NIDB clean\n",
      "nidb = autonetkit.NIDB()\n",
      "# NIDB is separate to the ANM -> copy over more properties\n",
      "retain = ['label', 'host', 'platform', 'x', 'y', 'asn', 'device_type']\n",
      "nidb.add_nodes_from(g_phy, retain=retain)\n",
      "\n",
      "# Usually have a base g_ip which has structure\n",
      "# allocate to g_ipv4, g_ipv6\n",
      "nidb.add_nodes_from(g_phy, retain=retain)\n",
      "retain.append(\"subnet\") # also copy across subnet\n",
      "nidb.add_nodes_from(g_ipv4.nodes(\"collision_domain\"), retain=retain)\n",
      "nidb.add_edges_from(g_ipv4.edges())"
     ],
     "language": "python",
     "metadata": {},
     "outputs": [],
     "prompt_number": 18
    },
    {
     "cell_type": "code",
     "collapsed": false,
     "input": [
      "sim_plat = simple_platform_compiler(nidb, anm, \"localhost\")\n",
      "sim_plat.compile()\n",
      "autonetkit.update_http(anm, nidb)"
     ],
     "language": "python",
     "metadata": {},
     "outputs": [],
     "prompt_number": 19
    },
    {
     "cell_type": "code",
     "collapsed": false,
     "input": [
      "import autonetkit.render\n",
      "autonetkit.render.render(nidb)"
     ],
     "language": "python",
     "metadata": {},
     "outputs": [
      {
       "output_type": "stream",
       "stream": "stderr",
       "text": [
        "INFO Rendering Network\n"
       ]
      },
      {
       "output_type": "stream",
       "stream": "stderr",
       "text": [
        "INFO:ANK:Rendering Network\n"
       ]
      }
     ],
     "prompt_number": 20
    },
    {
     "cell_type": "code",
     "collapsed": false,
     "input": [
      "with open(\"rendered/lab.conf\") as fh:\n",
      "    print fh.read()"
     ],
     "language": "python",
     "metadata": {},
     "outputs": [
      {
       "output_type": "stream",
       "stream": "stdout",
       "text": [
        "Topology rendered on 2014-01-13 11:26 by autonetkit_0.8.2\n",
        "host: r4\n",
        "host: r5\n",
        "host: r1\n",
        "host: r2\n",
        "host: r3\n",
        "\n"
       ]
      }
     ],
     "prompt_number": 21
    },
    {
     "cell_type": "code",
     "collapsed": false,
     "input": [
      "with open(\"rendered/r1.conf\") as fh:\n",
      "    print fh.read()"
     ],
     "language": "python",
     "metadata": {},
     "outputs": [
      {
       "output_type": "stream",
       "stream": "stdout",
       "text": [
        "Router rendered on 2014-01-13 11:26 by autonetkit_0.8.2\n",
        "interface lo:1\n",
        "    description Loopback\n",
        "    ip address 192.168.0.1 netmask 255.255.255.255\n",
        "interface eth0\n",
        "    description r1 to r2\n",
        "    ip address 10.0.0.1 netmask 255.255.255.252\n",
        "interface eth1\n",
        "    description r1 to r3\n",
        "    ip address 10.0.0.5 netmask 255.255.255.252\n",
        "!\n",
        "router ospf 1\n",
        "    network 10.0.0.0/30 area 0\n",
        "    network 10.0.0.4/30 area 0\n",
        "!\n",
        "router bgp 1\n",
        "  ! r4\n",
        "  neighbor 192.168.0.4 remote-as 1\n",
        "  neighbor 192.168.0.4 update-source 192.168.0.1\n",
        "  neighbor 192.168.0.4 next-hop-self\n",
        "  ! r2\n",
        "  neighbor 192.168.0.2 remote-as 1\n",
        "  neighbor 192.168.0.2 update-source 192.168.0.1\n",
        "  neighbor 192.168.0.2 next-hop-self\n",
        "  ! r3\n",
        "  neighbor 192.168.0.3 remote-as 1\n",
        "  neighbor 192.168.0.3 update-source 192.168.0.1\n",
        "  neighbor 192.168.0.3 next-hop-self\n",
        "!\n",
        "!    \n",
        "\n"
       ]
      }
     ],
     "prompt_number": 22
    },
    {
     "cell_type": "code",
     "collapsed": false,
     "input": [
      "with open(\"rendered/r5.conf\") as fh:\n",
      "    print fh.read()"
     ],
     "language": "python",
     "metadata": {},
     "outputs": [
      {
       "output_type": "stream",
       "stream": "stdout",
       "text": [
        "Router rendered on 2014-01-13 11:26 by autonetkit_0.8.2\n",
        "interface lo:1\n",
        "    description Loopback\n",
        "    ip address 192.168.0.9 netmask 255.255.255.255\n",
        "interface eth0\n",
        "    description r5 to r4\n",
        "    ip address 10.0.128.2 netmask 255.255.255.252\n",
        "interface eth1\n",
        "    description r5 to r3\n",
        "    ip address 10.1.0.2 netmask 255.255.0.0\n",
        "!\n",
        "router ospf 1\n",
        "    network 10.0.128.0/30 area 0\n",
        "    network 10.1.0.0/16 area 0\n",
        "!\n",
        "router bgp 2\n",
        "!\n",
        "  ! r4\n",
        "  neighbor 10.0.128.1 remote-as 1\n",
        "  neighbor 10.0.128.1 update-source 10.0.128.2\n",
        "  ! r3\n",
        "  neighbor 10.1.0.1 remote-as 1\n",
        "  neighbor 10.1.0.1 update-source 10.1.0.2\n",
        "!    \n",
        "\n"
       ]
      }
     ],
     "prompt_number": 23
    }
   ],
   "metadata": {}
  }
 ]
}